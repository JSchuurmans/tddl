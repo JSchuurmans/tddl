{
 "cells": [
  {
   "cell_type": "code",
   "execution_count": null,
   "metadata": {},
   "outputs": [],
   "source": [
    "import os\n",
    "\n",
    "def select_hardware(\n",
    "    cuda: str = None,\n",
    "    cpu: str = None,\n",
    ") -> None:\n",
    "    os.environ['CUDA_DEVICE_ORDER'] = 'PCI_BUS_ID'\n",
    "\n",
    "    if cuda is not None:\n",
    "        os.environ['CUDA_VISIBLE_DEVICES'] = cuda\n",
    "\n",
    "    if cpu is not None:\n",
    "        os.environ[\"MKL_NUM_THREADS\"] = cpu\n",
    "        os.environ[\"NUMEXPR_NUM_THREADS\"] = cpu\n",
    "        os.environ[\"OMP_NUM_THREADS\"] = cpu\n",
    "\n",
    "select_hardware(cpu=\"4\", cuda=\"2\")"
   ]
  },
  {
   "cell_type": "code",
   "execution_count": null,
   "metadata": {},
   "outputs": [],
   "source": [
    "import timm\n",
    "\n",
    "model_name='efficientnet_b2'\n",
    "checkpoint_path=''\n",
    "pretrained=True\n",
    "\n",
    "model = timm.create_model(\n",
    "    model_name,\n",
    "    num_classes=1000,\n",
    "    in_chans=3,\n",
    "    pretrained=pretrained,\n",
    "    checkpoint_path=checkpoint_path)"
   ]
  },
  {
   "cell_type": "code",
   "execution_count": null,
   "metadata": {},
   "outputs": [],
   "source": [
    "model"
   ]
  },
  {
   "cell_type": "code",
   "execution_count": null,
   "metadata": {},
   "outputs": [],
   "source": [
    "from tddl.factorizations import number_layers\n",
    "from tddl.factorizations import factorize_network\n",
    "\n",
    "numbered_layers = number_layers(model)"
   ]
  },
  {
   "cell_type": "code",
   "execution_count": null,
   "metadata": {},
   "outputs": [],
   "source": [
    "numbered_layers"
   ]
  },
  {
   "cell_type": "code",
   "execution_count": null,
   "metadata": {},
   "outputs": [],
   "source": [
    "model.blocks"
   ]
  },
  {
   "cell_type": "code",
   "execution_count": null,
   "metadata": {},
   "outputs": [],
   "source": [
    "import copy\n",
    "\n",
    "fact_model = copy.deepcopy(model)\n",
    "\n",
    "# layers = ['conv_dw']\n",
    "layers = [6, 18, 34, 48, 62, 77, 91, 105, 120, 134, 148, 162, 177, 191, 205, 219, 234, 248, 262, 276, 290, 305, 319]\n",
    "\n",
    "\n",
    "error = factorize_network(\n",
    "    fact_model,\n",
    "    layers=layers,\n",
    "    factorization='tucker',\n",
    "    rank=0.5,\n",
    "    return_error=True,\n",
    "    verbose=True,\n",
    ")"
   ]
  },
  {
   "cell_type": "code",
   "execution_count": null,
   "metadata": {},
   "outputs": [],
   "source": [
    "import torch\n",
    "\n",
    "type(torch.nn.modules.Conv2d(3,512,1))"
   ]
  },
  {
   "cell_type": "code",
   "execution_count": null,
   "metadata": {},
   "outputs": [],
   "source": [
    "error"
   ]
  },
  {
   "cell_type": "code",
   "execution_count": null,
   "metadata": {},
   "outputs": [],
   "source": [
    "from tddl.factorizations import list_errors\n",
    "\n",
    "\n",
    "list_of_errors = list_errors(error, layers=layers)"
   ]
  },
  {
   "cell_type": "code",
   "execution_count": null,
   "metadata": {},
   "outputs": [],
   "source": [
    "relative_errors = [i[1] for i in list_of_errors]"
   ]
  },
  {
   "cell_type": "code",
   "execution_count": null,
   "metadata": {},
   "outputs": [],
   "source": [
    "list_of_errors[0][1]"
   ]
  },
  {
   "cell_type": "code",
   "execution_count": null,
   "metadata": {},
   "outputs": [],
   "source": [
    "relative_errors"
   ]
  },
  {
   "cell_type": "code",
   "execution_count": null,
   "metadata": {},
   "outputs": [],
   "source": [
    "import torchvision\n",
    "\n",
    "imagenet_data = torchvision.datasets.ImageNet(\"/scratch/jetzeschuurman/imagenet/\")"
   ]
  },
  {
   "cell_type": "code",
   "execution_count": null,
   "metadata": {},
   "outputs": [],
   "source": [
    "model"
   ]
  },
  {
   "cell_type": "code",
   "execution_count": null,
   "metadata": {},
   "outputs": [],
   "source": []
  }
 ],
 "metadata": {
  "interpreter": {
   "hash": "14b97e3ff14cce85d2e5a7de99399acd6df7ba7f149749a5f5b0cd5f58c2aa72"
  },
  "kernelspec": {
   "display_name": "Python 3.6.9 64-bit ('venv': venv)",
   "language": "python",
   "name": "python3"
  },
  "language_info": {
   "codemirror_mode": {
    "name": "ipython",
    "version": 3
   },
   "file_extension": ".py",
   "mimetype": "text/x-python",
   "name": "python",
   "nbconvert_exporter": "python",
   "pygments_lexer": "ipython3",
   "version": "3.8.10"
  },
  "orig_nbformat": 4
 },
 "nbformat": 4,
 "nbformat_minor": 2
}
