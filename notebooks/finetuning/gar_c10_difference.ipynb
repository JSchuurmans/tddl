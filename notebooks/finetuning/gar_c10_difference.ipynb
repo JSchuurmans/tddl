{
 "cells": [
  {
   "cell_type": "code",
   "execution_count": 1,
   "metadata": {},
   "outputs": [],
   "source": [
    "%load_ext autoreload\n",
    "%autoreload 2"
   ]
  },
  {
   "cell_type": "code",
   "execution_count": 2,
   "metadata": {},
   "outputs": [],
   "source": [
    "import json\n",
    "from pathlib import Path\n",
    "import pandas as pd\n",
    "import numpy as np\n",
    "\n",
    "import seaborn as sns\n",
    "sns.set_theme(style=\"darkgrid\")\n",
    "\n",
    "logdir = Path(\"/bigdata/cifar10/logs/garipov/decomposed/\")"
   ]
  },
  {
   "cell_type": "code",
   "execution_count": 3,
   "metadata": {},
   "outputs": [
    {
     "data": {
      "text/plain": [
       "{'baseline_path': '/bigdata/cifar10/logs/garipov/baselines/1647358615/gar_18_dNone_128_sgd_l0.1_g0.1_w0.0_sTrue/cnn_best.pth',\n",
       " 'batch': 128,\n",
       " 'data_dir': '/bigdata/cifar10',\n",
       " 'data_workers': 8,\n",
       " 'dataset': 'cifar10',\n",
       " 'decompose_weights': True,\n",
       " 'epochs': 10,\n",
       " 'factorization': 'tucker',\n",
       " 'gamma': 0,\n",
       " 'hexsha': '6d9984789338f9cedaf622c602df6aab52f24e83',\n",
       " 'layers': [6],\n",
       " 'logdir': '/bigdata/cifar10/logs/garipov/decomposed',\n",
       " 'lr': 0.0001,\n",
       " 'model_name': 'gar',\n",
       " 'momentum': 0.9,\n",
       " 'optimizer': 'sgd',\n",
       " 'rank': '0.9',\n",
       " 'seed': 1647855291,\n",
       " 't': 1647855291,\n",
       " 'weight_decay': 0}"
      ]
     },
     "execution_count": 3,
     "metadata": {},
     "output_type": "execute_result"
    }
   ],
   "source": [
    "import yaml\n",
    "from yaml import Loader\n",
    "\n",
    "logdir_i = logdir / \"1647855291\"\n",
    "\n",
    "with open(logdir_i / 'config.yml') as yaml_file:\n",
    "    config_i = yaml.load(yaml_file, Loader=Loader)\n",
    "config_i"
   ]
  },
  {
   "cell_type": "code",
   "execution_count": 5,
   "metadata": {},
   "outputs": [],
   "source": [
    "import torch\n",
    "\n",
    "baseline_path = Path('/bigdata/cifar10/logs/garipov/baselines/1647358615/gar_18_dNone_128_sgd_l0.1_g0.1_w0.0_sTrue')\n",
    "baseline_model = torch.load(baseline_path / \"cnn_best.pth\")\n",
    "with open(baseline_path/'results.json') as json_file:\n",
    "    baseline_result = json.load(json_file)\n",
    "baseline_result"
   ]
  },
  {
   "cell_type": "code",
   "execution_count": 5,
   "metadata": {},
   "outputs": [
    {
     "data": {
      "text/plain": [
       "GaripovNet(\n",
       "  (conv1): Conv2d(3, 64, kernel_size=(3, 3), stride=(1, 1), padding=(1, 1))\n",
       "  (conv1_bn): BatchNorm2d(64, eps=1e-05, momentum=0.1, affine=True, track_running_stats=True)\n",
       "  (conv2): Conv2d(64, 64, kernel_size=(3, 3), stride=(1, 1), padding=(1, 1))\n",
       "  (conv2_bn): BatchNorm2d(64, eps=1e-05, momentum=0.1, affine=True, track_running_stats=True)\n",
       "  (conv3): Conv2d(64, 128, kernel_size=(3, 3), stride=(1, 1), padding=(1, 1))\n",
       "  (conv3_bn): BatchNorm2d(128, eps=1e-05, momentum=0.1, affine=True, track_running_stats=True)\n",
       "  (conv4): Conv2d(128, 128, kernel_size=(3, 3), stride=(1, 1), padding=(1, 1))\n",
       "  (conv4_bn): BatchNorm2d(128, eps=1e-05, momentum=0.1, affine=True, track_running_stats=True)\n",
       "  (conv5): Conv2d(128, 128, kernel_size=(3, 3), stride=(1, 1), padding=(1, 1))\n",
       "  (conv5_bn): BatchNorm2d(128, eps=1e-05, momentum=0.1, affine=True, track_running_stats=True)\n",
       "  (conv6): Conv2d(128, 128, kernel_size=(3, 3), stride=(1, 1), padding=(1, 1))\n",
       "  (fc1): Linear(in_features=128, out_features=10, bias=True)\n",
       ")"
      ]
     },
     "execution_count": 5,
     "metadata": {},
     "output_type": "execute_result"
    }
   ],
   "source": [
    "baseline_model"
   ]
  },
  {
   "cell_type": "code",
   "execution_count": 6,
   "metadata": {},
   "outputs": [],
   "source": [
    "from tddl.post_processing.path_utils import logdir_to_paths\n",
    "\n",
    "paths = logdir_to_paths(logdir)"
   ]
  },
  {
   "cell_type": "code",
   "execution_count": 7,
   "metadata": {},
   "outputs": [],
   "source": [
    "import os\n",
    "from pandas import DataFrame\n",
    "\n",
    "from tddl.post_processing.path_utils import logdir_to_df\n",
    "\n",
    "df = logdir_to_df(logdir)\n"
   ]
  },
  {
   "cell_type": "code",
   "execution_count": 8,
   "metadata": {},
   "outputs": [],
   "source": [
    "g = df.groupby(['factorization','rank','layer']).first()\n",
    "df2 = g.reset_index()"
   ]
  },
  {
   "cell_type": "code",
   "execution_count": 9,
   "metadata": {},
   "outputs": [],
   "source": [
    "df_select = df2[\n",
    "    (df2['factorization'] == 'tucker') &\n",
    "    (df2['rank'] == 0.5)\n",
    "]"
   ]
  },
  {
   "cell_type": "code",
   "execution_count": 10,
   "metadata": {},
   "outputs": [
    {
     "data": {
      "text/plain": [
       "60     2.0\n",
       "61     4.0\n",
       "62     6.0\n",
       "63     8.0\n",
       "64    10.0\n",
       "Name: layer, dtype: float64"
      ]
     },
     "execution_count": 10,
     "metadata": {},
     "output_type": "execute_result"
    }
   ],
   "source": [
    "df_select['layer']"
   ]
  },
  {
   "cell_type": "code",
   "execution_count": 11,
   "metadata": {},
   "outputs": [],
   "source": [
    "gar_layers = [0,2,4,6,8,10,11]"
   ]
  },
  {
   "cell_type": "code",
   "execution_count": 47,
   "metadata": {},
   "outputs": [
    {
     "name": "stdout",
     "output_type": "stream",
     "text": [
      "contracted tensor of type: <class 'tltorch.factorized_tensors.factorized_tensors.TuckerTensor'>\n",
      "contracted tensor of type: <class 'tltorch.factorized_tensors.factorized_tensors.TuckerTensor'>\n",
      "contracted tensor of type: <class 'tltorch.factorized_tensors.factorized_tensors.TuckerTensor'>\n",
      "contracted tensor of type: <class 'tltorch.factorized_tensors.factorized_tensors.TuckerTensor'>\n",
      "contracted tensor of type: <class 'tltorch.factorized_tensors.factorized_tensors.TuckerTensor'>\n"
     ]
    }
   ],
   "source": [
    "from tddl.factorizations import get_weights\n",
    "from tddl.post_processing.differences import weight_difference\n",
    "from tddl.plotting.kde import kde_diff\n",
    "from tddl.plotting.bar import bar_diff\n",
    "\n",
    "dfs = []\n",
    "df_diffs = []\n",
    "for index, row in df_select.iterrows():\n",
    "    # print(index, row)\n",
    "\n",
    "    weights_fact = get_weights(torch.load(row['model_fact']), gar_layers)\n",
    "    weights_best = get_weights(torch.load(row['model_best']), gar_layers)\n",
    "    weights_final = get_weights(torch.load(row['model_final']), gar_layers)\n",
    "\n",
    "    layer = int(row['layer'])\n",
    "\n",
    "    df = weight_difference(weights_fact, weights_final, gar_layers, layer)\n",
    "    df_diff = df.explode(column='diff',ignore_index=True)\n",
    "\n",
    "    dfs.append(df)\n",
    "    df_diffs.append( df.explode(column='diff',ignore_index=True) )"
   ]
  },
  {
   "cell_type": "code",
   "execution_count": 17,
   "metadata": {},
   "outputs": [],
   "source": [
    "logdir_model = logdir_i / \"gar-lr-[6]-tucker-0.9-dTrue-iNone_bn_128_sgd_l0.0001_g0.0_sTrue\" \n",
    "\n",
    "model_best = torch.load(logdir_model / \"fact_model_best.pth\")\n",
    "model_final = torch.load(logdir_model / \"fact_model_final.pth\")\n",
    "model_fact = torch.load(logdir_model / \"model_after_fact.pth\")"
   ]
  },
  {
   "cell_type": "code",
   "execution_count": 26,
   "metadata": {},
   "outputs": [
    {
     "data": {
      "text/plain": [
       "tensor([[[[ 0.1253,  0.0089, -0.0435],\n",
       "          [ 0.0376, -0.0912, -0.0849],\n",
       "          [ 0.0376,  0.0070,  0.0922]],\n",
       "\n",
       "         [[-0.0506, -0.0985, -0.1663],\n",
       "          [-0.0899, -0.1560, -0.1895],\n",
       "          [-0.0374, -0.0198, -0.0537]],\n",
       "\n",
       "         [[-0.0905, -0.3086, -0.2165],\n",
       "          [ 0.0851,  0.1019,  0.2302],\n",
       "          [ 0.3291,  0.1687,  0.1528]],\n",
       "\n",
       "         ...,\n",
       "\n",
       "         [[ 0.0721, -0.0049, -0.2600],\n",
       "          [-0.0457, -0.1225, -0.0891],\n",
       "          [-0.0118, -0.1567,  0.0395]],\n",
       "\n",
       "         [[-0.0113,  0.0742, -0.0031],\n",
       "          [-0.0103,  0.0284, -0.0369],\n",
       "          [ 0.0504,  0.1370,  0.1435]],\n",
       "\n",
       "         [[-0.0065, -0.0231, -0.0752],\n",
       "          [ 0.0046, -0.1841, -0.2740],\n",
       "          [ 0.0473, -0.2208, -0.1723]]],\n",
       "\n",
       "\n",
       "        [[[ 0.0538, -0.0669, -0.0031],\n",
       "          [ 0.0795, -0.0067, -0.0253],\n",
       "          [ 0.0086, -0.0495, -0.1624]],\n",
       "\n",
       "         [[-0.0637, -0.0798, -0.0346],\n",
       "          [-0.0609, -0.1058, -0.1177],\n",
       "          [ 0.0470, -0.1186, -0.1462]],\n",
       "\n",
       "         [[ 0.0469, -0.1538, -0.1630],\n",
       "          [ 0.0813, -0.0944, -0.0662],\n",
       "          [-0.0421, -0.1334,  0.0584]],\n",
       "\n",
       "         ...,\n",
       "\n",
       "         [[-0.1282, -0.1315, -0.1639],\n",
       "          [-0.1768, -0.1922, -0.1937],\n",
       "          [ 0.0066, -0.0255, -0.0467]],\n",
       "\n",
       "         [[ 0.0495,  0.0553,  0.0767],\n",
       "          [-0.0513, -0.0537, -0.0512],\n",
       "          [-0.0574, -0.0737, -0.1338]],\n",
       "\n",
       "         [[-0.0613, -0.0491,  0.0643],\n",
       "          [ 0.0415, -0.1194, -0.0345],\n",
       "          [-0.0155, -0.1507, -0.1921]]],\n",
       "\n",
       "\n",
       "        [[[-0.0819, -0.0260,  0.0162],\n",
       "          [-0.1953,  0.2102,  0.2161],\n",
       "          [-0.0999,  0.1816,  0.1777]],\n",
       "\n",
       "         [[-0.0368, -0.0726, -0.1601],\n",
       "          [-0.1318, -0.1618,  0.0251],\n",
       "          [ 0.0403,  0.0254,  0.2265]],\n",
       "\n",
       "         [[-0.0702, -0.0840, -0.0524],\n",
       "          [ 0.0231,  0.0122, -0.0942],\n",
       "          [ 0.1549,  0.0349,  0.0165]],\n",
       "\n",
       "         ...,\n",
       "\n",
       "         [[ 0.1052,  0.0849, -0.1019],\n",
       "          [-0.2093, -0.0423,  0.1999],\n",
       "          [-0.2985,  0.0857,  0.2823]],\n",
       "\n",
       "         [[-0.0003,  0.0454, -0.0461],\n",
       "          [-0.1059,  0.1341,  0.2346],\n",
       "          [-0.0822,  0.0422,  0.1417]],\n",
       "\n",
       "         [[ 0.0461,  0.0660,  0.1128],\n",
       "          [-0.0527,  0.0135,  0.0117],\n",
       "          [-0.1109, -0.0639,  0.1735]]],\n",
       "\n",
       "\n",
       "        ...,\n",
       "\n",
       "\n",
       "        [[[ 0.0705,  0.1662,  0.2306],\n",
       "          [ 0.0020,  0.0218,  0.2617],\n",
       "          [-0.0078,  0.1560,  0.1618]],\n",
       "\n",
       "         [[-0.0455,  0.0132, -0.0153],\n",
       "          [-0.0590,  0.0505, -0.0510],\n",
       "          [-0.2271, -0.0956, -0.1326]],\n",
       "\n",
       "         [[ 0.0848,  0.0038, -0.1980],\n",
       "          [ 0.2133,  0.1677,  0.0013],\n",
       "          [ 0.1751,  0.2399, -0.0165]],\n",
       "\n",
       "         ...,\n",
       "\n",
       "         [[ 0.0459,  0.1904,  0.0584],\n",
       "          [ 0.0985,  0.1569,  0.0990],\n",
       "          [-0.0650, -0.2283, -0.2205]],\n",
       "\n",
       "         [[-0.0270, -0.0641,  0.0220],\n",
       "          [-0.0322,  0.0529,  0.0057],\n",
       "          [ 0.1142,  0.1817,  0.1353]],\n",
       "\n",
       "         [[-0.0484,  0.0618,  0.0830],\n",
       "          [ 0.0532,  0.2594,  0.1118],\n",
       "          [-0.0406,  0.2898,  0.1305]]],\n",
       "\n",
       "\n",
       "        [[[-0.0254, -0.0126,  0.1300],\n",
       "          [-0.0440,  0.0137,  0.1986],\n",
       "          [-0.0906, -0.1030,  0.2327]],\n",
       "\n",
       "         [[ 0.0545,  0.1164, -0.0487],\n",
       "          [ 0.0619,  0.0869, -0.1266],\n",
       "          [-0.0920, -0.1503, -0.2344]],\n",
       "\n",
       "         [[ 0.0293,  0.0284,  0.0298],\n",
       "          [ 0.0877, -0.0311, -0.1732],\n",
       "          [-0.0421,  0.0077, -0.0563]],\n",
       "\n",
       "         ...,\n",
       "\n",
       "         [[-0.2529, -0.0293,  0.0372],\n",
       "          [-0.1673, -0.0553,  0.0248],\n",
       "          [-0.0019,  0.0208, -0.0433]],\n",
       "\n",
       "         [[-0.1152, -0.0730, -0.0070],\n",
       "          [-0.1310, -0.1844,  0.0049],\n",
       "          [-0.1436, -0.0620,  0.1046]],\n",
       "\n",
       "         [[ 0.1007,  0.1003,  0.0257],\n",
       "          [-0.0290,  0.0255,  0.0239],\n",
       "          [-0.1571, -0.0567,  0.1211]]],\n",
       "\n",
       "\n",
       "        [[[ 0.0785, -0.0540, -0.0969],\n",
       "          [ 0.0394, -0.0138, -0.0615],\n",
       "          [-0.1034, -0.0868, -0.0167]],\n",
       "\n",
       "         [[-0.0241,  0.0250, -0.0155],\n",
       "          [ 0.0365, -0.0064, -0.0455],\n",
       "          [ 0.0258, -0.0881, -0.0670]],\n",
       "\n",
       "         [[-0.0830, -0.0547, -0.0043],\n",
       "          [-0.0719, -0.0023,  0.0451],\n",
       "          [-0.0037, -0.0783, -0.0706]],\n",
       "\n",
       "         ...,\n",
       "\n",
       "         [[ 0.1599,  0.2281,  0.0665],\n",
       "          [ 0.2250,  0.0999,  0.0738],\n",
       "          [ 0.1404,  0.0529,  0.0224]],\n",
       "\n",
       "         [[-0.0243, -0.0799, -0.0033],\n",
       "          [ 0.1650,  0.1030,  0.1335],\n",
       "          [ 0.0628,  0.1974,  0.2333]],\n",
       "\n",
       "         [[ 0.1467,  0.2293,  0.0693],\n",
       "          [-0.0239,  0.0649,  0.0272],\n",
       "          [ 0.0226, -0.0486, -0.0192]]]], device='cuda:0',\n",
       "       grad_fn=<PermuteBackward>)"
      ]
     },
     "execution_count": 26,
     "metadata": {},
     "output_type": "execute_result"
    }
   ],
   "source": [
    "fact_layer = model_fact.conv4\n",
    "fact_weight = fact_layer.weight\n",
    "fact_weight.to_tensor()"
   ]
  },
  {
   "cell_type": "code",
   "execution_count": 9,
   "metadata": {},
   "outputs": [
    {
     "data": {
      "text/plain": [
       "{'conv1': (0,\n",
       "  Conv2d(3, 64, kernel_size=(3, 3), stride=(1, 1), padding=(1, 1))),\n",
       " 'conv1_bn': (1,\n",
       "  BatchNorm2d(64, eps=1e-05, momentum=0.1, affine=True, track_running_stats=True)),\n",
       " 'conv2': (2,\n",
       "  Conv2d(64, 64, kernel_size=(3, 3), stride=(1, 1), padding=(1, 1))),\n",
       " 'conv2_bn': (3,\n",
       "  BatchNorm2d(64, eps=1e-05, momentum=0.1, affine=True, track_running_stats=True)),\n",
       " 'conv3': (4,\n",
       "  Conv2d(64, 128, kernel_size=(3, 3), stride=(1, 1), padding=(1, 1))),\n",
       " 'conv3_bn': (5,\n",
       "  BatchNorm2d(128, eps=1e-05, momentum=0.1, affine=True, track_running_stats=True)),\n",
       " 'conv4': (6,\n",
       "  Conv2d(128, 128, kernel_size=(3, 3), stride=(1, 1), padding=(1, 1))),\n",
       " 'conv4_bn': (7,\n",
       "  BatchNorm2d(128, eps=1e-05, momentum=0.1, affine=True, track_running_stats=True)),\n",
       " 'conv5': (8,\n",
       "  Conv2d(128, 128, kernel_size=(3, 3), stride=(1, 1), padding=(1, 1))),\n",
       " 'conv5_bn': (9,\n",
       "  BatchNorm2d(128, eps=1e-05, momentum=0.1, affine=True, track_running_stats=True)),\n",
       " 'conv6': (10,\n",
       "  Conv2d(128, 128, kernel_size=(3, 3), stride=(1, 1), padding=(1, 1))),\n",
       " 'fc1': (11, Linear(in_features=128, out_features=10, bias=True))}"
      ]
     },
     "execution_count": 9,
     "metadata": {},
     "output_type": "execute_result"
    }
   ],
   "source": [
    "from tddl.factorizations import number_layers, listify_numbered_layers\n",
    "\n",
    "numbered_layers = number_layers(baseline_model)\n",
    "numbered_layers"
   ]
  },
  {
   "cell_type": "code",
   "execution_count": 10,
   "metadata": {},
   "outputs": [],
   "source": [
    "# loop over layers to get list with the weights\n",
    "\n",
    "from tddl.factorizations import number_layers, listify_numbered_layers\n",
    "\n",
    "gar_layers = [0,2,4,6,8,10,11]\n",
    "\n",
    "def get_weights(model, layer_nrs=[0,6,9,12,15,19,22,25,28,31,35,38,41,44,47,51,54,57,60,63,66]):\n",
    "    numbered_layers = number_layers(model)\n",
    "    listed_layers = listify_numbered_layers(numbered_layers=numbered_layers, layer_nrs=layer_nrs)\n",
    "    return {nr:layer.weight for name,nr,layer in listed_layers}\n",
    "\n",
    "weights_fact = get_weights(model_fact, [0,2,4,6,8,10,11])\n",
    "weights_best = get_weights(model_best, [0,2,4,6,8,10,11])\n",
    "weights_final = get_weights(model_final, [0,2,4,6,8,10,11])"
   ]
  },
  {
   "cell_type": "code",
   "execution_count": 40,
   "metadata": {},
   "outputs": [],
   "source": [
    "from tensorly import tensor_to_vec\n",
    "from numpy.linalg import norm\n",
    "from pandas import DataFrame\n",
    "\n",
    "\n",
    "def weight_difference(weights_a, weights_b, layer_nrs, fact_nr):\n",
    "\n",
    "    df = DataFrame(columns=['layer_nr', 'fact_nr', 'norm_2', 'norm_1', 'diff','relative_norm_2','relative_norm_1'])\n",
    "    for nr in layer_nrs:\n",
    "        with torch.no_grad():\n",
    "            diff = (tensor_to_vec(weights_a[nr])-tensor_to_vec(weights_b[nr])).cpu().numpy()\n",
    "        \n",
    "            # norm on difference\n",
    "            norm_2 = norm(diff)\n",
    "            norm_1 = norm(diff, ord=1)\n",
    "\n",
    "            relative_norm_2 = norm_2 / norm(tensor_to_vec(weights_a[nr]).cpu().numpy())\n",
    "            relative_norm_1 = norm_1 / norm(tensor_to_vec(weights_a[nr]).cpu().numpy(), ord=1)\n",
    "\n",
    "        df = df.append({\n",
    "            'layer_nr':nr,\n",
    "            'fact_nr':fact_nr,\n",
    "            'norm_2':norm_2,\n",
    "            'norm_1':norm_1,\n",
    "            'diff': diff,\n",
    "            'relative_norm_2': relative_norm_2,\n",
    "            'relative_norm_1': relative_norm_1,\n",
    "        }, ignore_index=True)\n",
    "\n",
    "    return df\n",
    "\n",
    "df = weight_difference(weights_fact, weights_best, gar_layers, config_i['layers'][0])\n",
    "df_diff = df.explode(column='diff',ignore_index=True)"
   ]
  },
  {
   "cell_type": "code",
   "execution_count": 12,
   "metadata": {},
   "outputs": [
    {
     "data": {
      "text/html": [
       "<div>\n",
       "<style scoped>\n",
       "    .dataframe tbody tr th:only-of-type {\n",
       "        vertical-align: middle;\n",
       "    }\n",
       "\n",
       "    .dataframe tbody tr th {\n",
       "        vertical-align: top;\n",
       "    }\n",
       "\n",
       "    .dataframe thead th {\n",
       "        text-align: right;\n",
       "    }\n",
       "</style>\n",
       "<table border=\"1\" class=\"dataframe\">\n",
       "  <thead>\n",
       "    <tr style=\"text-align: right;\">\n",
       "      <th></th>\n",
       "      <th>layer_nr</th>\n",
       "      <th>fact_nr</th>\n",
       "      <th>norm_2</th>\n",
       "      <th>norm_1</th>\n",
       "      <th>diff</th>\n",
       "      <th>relative_norm_2</th>\n",
       "      <th>relative_norm_1</th>\n",
       "    </tr>\n",
       "  </thead>\n",
       "  <tbody>\n",
       "    <tr>\n",
       "      <th>0</th>\n",
       "      <td>0</td>\n",
       "      <td>6</td>\n",
       "      <td>0.014664</td>\n",
       "      <td>0.443604</td>\n",
       "      <td>[-0.00057964027, -0.00058341026, -0.0006125867...</td>\n",
       "      <td>0.000683</td>\n",
       "      <td>0.000655</td>\n",
       "    </tr>\n",
       "    <tr>\n",
       "      <th>1</th>\n",
       "      <td>2</td>\n",
       "      <td>6</td>\n",
       "      <td>0.008366</td>\n",
       "      <td>1.209392</td>\n",
       "      <td>[5.0139613e-05, 3.7692487e-05, 5.8159232e-05, ...</td>\n",
       "      <td>0.000313</td>\n",
       "      <td>0.000318</td>\n",
       "    </tr>\n",
       "    <tr>\n",
       "      <th>2</th>\n",
       "      <td>4</td>\n",
       "      <td>6</td>\n",
       "      <td>0.012519</td>\n",
       "      <td>2.644784</td>\n",
       "      <td>[1.963973e-05, -3.0368567e-05, -2.2828579e-05,...</td>\n",
       "      <td>0.000348</td>\n",
       "      <td>0.000348</td>\n",
       "    </tr>\n",
       "    <tr>\n",
       "      <th>3</th>\n",
       "      <td>6</td>\n",
       "      <td>6</td>\n",
       "      <td>0.501981</td>\n",
       "      <td>148.838974</td>\n",
       "      <td>[0.000493519, -0.0008897679, -0.000252828, 0.0...</td>\n",
       "      <td>0.011930</td>\n",
       "      <td>0.011751</td>\n",
       "    </tr>\n",
       "    <tr>\n",
       "      <th>4</th>\n",
       "      <td>8</td>\n",
       "      <td>6</td>\n",
       "      <td>0.016249</td>\n",
       "      <td>4.655599</td>\n",
       "      <td>[-2.0503998e-05, -3.8698316e-05, -2.9802322e-0...</td>\n",
       "      <td>0.000366</td>\n",
       "      <td>0.000354</td>\n",
       "    </tr>\n",
       "    <tr>\n",
       "      <th>5</th>\n",
       "      <td>10</td>\n",
       "      <td>6</td>\n",
       "      <td>0.009834</td>\n",
       "      <td>2.770458</td>\n",
       "      <td>[3.952533e-06, -3.6302954e-06, -6.765302e-06, ...</td>\n",
       "      <td>0.000444</td>\n",
       "      <td>0.000478</td>\n",
       "    </tr>\n",
       "    <tr>\n",
       "      <th>6</th>\n",
       "      <td>11</td>\n",
       "      <td>6</td>\n",
       "      <td>0.006179</td>\n",
       "      <td>0.162606</td>\n",
       "      <td>[4.6133995e-05, -0.00024333596, -1.0214746e-05...</td>\n",
       "      <td>0.000655</td>\n",
       "      <td>0.000601</td>\n",
       "    </tr>\n",
       "  </tbody>\n",
       "</table>\n",
       "</div>"
      ],
      "text/plain": [
       "  layer_nr fact_nr    norm_2      norm_1  \\\n",
       "0        0       6  0.014664    0.443604   \n",
       "1        2       6  0.008366    1.209392   \n",
       "2        4       6  0.012519    2.644784   \n",
       "3        6       6  0.501981  148.838974   \n",
       "4        8       6  0.016249    4.655599   \n",
       "5       10       6  0.009834    2.770458   \n",
       "6       11       6  0.006179    0.162606   \n",
       "\n",
       "                                                diff  relative_norm_2  \\\n",
       "0  [-0.00057964027, -0.00058341026, -0.0006125867...         0.000683   \n",
       "1  [5.0139613e-05, 3.7692487e-05, 5.8159232e-05, ...         0.000313   \n",
       "2  [1.963973e-05, -3.0368567e-05, -2.2828579e-05,...         0.000348   \n",
       "3  [0.000493519, -0.0008897679, -0.000252828, 0.0...         0.011930   \n",
       "4  [-2.0503998e-05, -3.8698316e-05, -2.9802322e-0...         0.000366   \n",
       "5  [3.952533e-06, -3.6302954e-06, -6.765302e-06, ...         0.000444   \n",
       "6  [4.6133995e-05, -0.00024333596, -1.0214746e-05...         0.000655   \n",
       "\n",
       "   relative_norm_1  \n",
       "0         0.000655  \n",
       "1         0.000318  \n",
       "2         0.000348  \n",
       "3         0.011751  \n",
       "4         0.000354  \n",
       "5         0.000478  \n",
       "6         0.000601  "
      ]
     },
     "execution_count": 12,
     "metadata": {},
     "output_type": "execute_result"
    }
   ],
   "source": [
    "df"
   ]
  },
  {
   "cell_type": "code",
   "execution_count": 19,
   "metadata": {},
   "outputs": [
    {
     "name": "stderr",
     "output_type": "stream",
     "text": [
      "/home/jetzeschuurman/gitProjects/phd/tddl/venv/lib/python3.8/site-packages/seaborn/axisgrid.py:88: UserWarning: Tight layout not applied. tight_layout cannot make axes height small enough to accommodate all axes decorations\n",
      "  self._figure.tight_layout(*args, **kwargs)\n",
      "/home/jetzeschuurman/gitProjects/phd/tddl/venv/lib/python3.8/site-packages/seaborn/axisgrid.py:88: UserWarning: Tight layout not applied. tight_layout cannot make axes height small enough to accommodate all axes decorations\n",
      "  self._figure.tight_layout(*args, **kwargs)\n"
     ]
    },
    {
     "data": {
      "text/plain": [
       "<seaborn.axisgrid.FacetGrid at 0x7f80e8cf5730>"
      ]
     },
     "execution_count": 19,
     "metadata": {},
     "output_type": "execute_result"
    },
    {
     "data": {
      "image/png": "[encoded data removed]",
      "text/plain": [
       "<Figure size 540x252 with 7 Axes>"
      ]
     },
     "metadata": {},
     "output_type": "display_data"
    }
   ],
   "source": [
    "import numpy as np\n",
    "import pandas as pd\n",
    "import seaborn as sns\n",
    "import matplotlib.pyplot as plt\n",
    "sns.set_theme(style=\"white\", rc={\"axes.facecolor\": (0, 0, 0, 0)})\n",
    "\n",
    "# Create the data\n",
    "# rs = np.random.RandomState(1979)\n",
    "# x = rs.randn(500)\n",
    "# g = np.tile(list(\"ABCDEFGHIJ\"), 50)\n",
    "# df = pd.DataFrame(dict(x=x, g=g))\n",
    "# m = df.g.map(ord)\n",
    "# df[\"x\"] += m\n",
    "\n",
    "# Initialize the FacetGrid object\n",
    "pal = sns.cubehelix_palette(10, rot=-.25, light=.7)\n",
    "g = sns.FacetGrid(df_diff, row=\"layer_nr\", hue=\"layer_nr\", aspect=15, height=.5, palette=pal)\n",
    "\n",
    "# Draw the densities in a few steps\n",
    "g.map(sns.kdeplot, \"diff\",\n",
    "      bw_adjust=.5, clip_on=False,\n",
    "      fill=True, alpha=1, linewidth=1.5)\n",
    "g.map(sns.kdeplot, \"diff\", clip_on=False, color=\"w\", lw=2, bw_adjust=.5)\n",
    "\n",
    "# passing color=None to refline() uses the hue mapping\n",
    "# g.refline(y=0, linewidth=2, linestyle=\"-\", color=None, clip_on=False)\n",
    "\n",
    "\n",
    "# Define and use a simple function to label the plot in axes coordinates\n",
    "def label(x, color, label):\n",
    "    ax = plt.gca()\n",
    "    ax.text(0, .2, label, fontweight=\"bold\", color=color,\n",
    "            ha=\"left\", va=\"center\", transform=ax.transAxes)\n",
    "\n",
    "\n",
    "g.map(label, \"diff\")\n",
    "\n",
    "# Set the subplots to overlap\n",
    "g.figure.subplots_adjust(hspace=-.25)\n",
    "\n",
    "# Remove axes details that don't play well with overlap\n",
    "g.set_titles(\"\")\n",
    "g.set(yticks=[], ylabel=\"\")\n",
    "g.despine(bottom=True, left=True)"
   ]
  },
  {
   "cell_type": "code",
   "execution_count": 22,
   "metadata": {},
   "outputs": [
    {
     "data": {
      "image/png": "[encoded data removed]",
      "text/plain": [
       "<Figure size 432x288 with 1 Axes>"
      ]
     },
     "metadata": {},
     "output_type": "display_data"
    }
   ],
   "source": [
    "fig = sns.barplot(data=df, x=\"layer_nr\", y=\"relative_norm_1\")\n",
    "fig.get_figure().savefig('../../plots/gar_c10_difference_relnorm1.pdf')"
   ]
  },
  {
   "cell_type": "code",
   "execution_count": 23,
   "metadata": {},
   "outputs": [
    {
     "data": {
      "image/png": "[encoded data removed]",
      "text/plain": [
       "<Figure size 432x288 with 1 Axes>"
      ]
     },
     "metadata": {},
     "output_type": "display_data"
    }
   ],
   "source": [
    "fig = sns.barplot(data=df, x=\"layer_nr\", y=\"norm_1\")\n",
    "fig.get_figure().savefig('../../plots/gar_c10_difference_norm1.pdf')"
   ]
  },
  {
   "cell_type": "code",
   "execution_count": 17,
   "metadata": {},
   "outputs": [
    {
     "data": {
      "text/html": [
       "<div>\n",
       "<style scoped>\n",
       "    .dataframe tbody tr th:only-of-type {\n",
       "        vertical-align: middle;\n",
       "    }\n",
       "\n",
       "    .dataframe tbody tr th {\n",
       "        vertical-align: top;\n",
       "    }\n",
       "\n",
       "    .dataframe thead th {\n",
       "        text-align: right;\n",
       "    }\n",
       "</style>\n",
       "<table border=\"1\" class=\"dataframe\">\n",
       "  <thead>\n",
       "    <tr style=\"text-align: right;\">\n",
       "      <th></th>\n",
       "      <th>layer_nr</th>\n",
       "      <th>fact_nr</th>\n",
       "      <th>norm_2</th>\n",
       "      <th>norm_1</th>\n",
       "      <th>diff</th>\n",
       "      <th>relative_norm_2</th>\n",
       "      <th>relative_norm_1</th>\n",
       "    </tr>\n",
       "  </thead>\n",
       "  <tbody>\n",
       "    <tr>\n",
       "      <th>0</th>\n",
       "      <td>0</td>\n",
       "      <td>6</td>\n",
       "      <td>0.014664</td>\n",
       "      <td>0.443604</td>\n",
       "      <td>[-0.00057964027, -0.00058341026, -0.0006125867...</td>\n",
       "      <td>0.000683</td>\n",
       "      <td>0.000655</td>\n",
       "    </tr>\n",
       "    <tr>\n",
       "      <th>1</th>\n",
       "      <td>2</td>\n",
       "      <td>6</td>\n",
       "      <td>0.008366</td>\n",
       "      <td>1.209392</td>\n",
       "      <td>[5.0139613e-05, 3.7692487e-05, 5.8159232e-05, ...</td>\n",
       "      <td>0.000313</td>\n",
       "      <td>0.000318</td>\n",
       "    </tr>\n",
       "    <tr>\n",
       "      <th>2</th>\n",
       "      <td>4</td>\n",
       "      <td>6</td>\n",
       "      <td>0.012519</td>\n",
       "      <td>2.644784</td>\n",
       "      <td>[1.963973e-05, -3.0368567e-05, -2.2828579e-05,...</td>\n",
       "      <td>0.000348</td>\n",
       "      <td>0.000348</td>\n",
       "    </tr>\n",
       "    <tr>\n",
       "      <th>3</th>\n",
       "      <td>6</td>\n",
       "      <td>6</td>\n",
       "      <td>0.501981</td>\n",
       "      <td>148.838974</td>\n",
       "      <td>[0.000493519, -0.0008897679, -0.000252828, 0.0...</td>\n",
       "      <td>0.011930</td>\n",
       "      <td>0.011751</td>\n",
       "    </tr>\n",
       "    <tr>\n",
       "      <th>4</th>\n",
       "      <td>8</td>\n",
       "      <td>6</td>\n",
       "      <td>0.016249</td>\n",
       "      <td>4.655599</td>\n",
       "      <td>[-2.0503998e-05, -3.8698316e-05, -2.9802322e-0...</td>\n",
       "      <td>0.000366</td>\n",
       "      <td>0.000354</td>\n",
       "    </tr>\n",
       "    <tr>\n",
       "      <th>5</th>\n",
       "      <td>10</td>\n",
       "      <td>6</td>\n",
       "      <td>0.009834</td>\n",
       "      <td>2.770458</td>\n",
       "      <td>[3.952533e-06, -3.6302954e-06, -6.765302e-06, ...</td>\n",
       "      <td>0.000444</td>\n",
       "      <td>0.000478</td>\n",
       "    </tr>\n",
       "    <tr>\n",
       "      <th>6</th>\n",
       "      <td>11</td>\n",
       "      <td>6</td>\n",
       "      <td>0.006179</td>\n",
       "      <td>0.162606</td>\n",
       "      <td>[4.6133995e-05, -0.00024333596, -1.0214746e-05...</td>\n",
       "      <td>0.000655</td>\n",
       "      <td>0.000601</td>\n",
       "    </tr>\n",
       "  </tbody>\n",
       "</table>\n",
       "</div>"
      ],
      "text/plain": [
       "  layer_nr fact_nr    norm_2      norm_1  \\\n",
       "0        0       6  0.014664    0.443604   \n",
       "1        2       6  0.008366    1.209392   \n",
       "2        4       6  0.012519    2.644784   \n",
       "3        6       6  0.501981  148.838974   \n",
       "4        8       6  0.016249    4.655599   \n",
       "5       10       6  0.009834    2.770458   \n",
       "6       11       6  0.006179    0.162606   \n",
       "\n",
       "                                                diff  relative_norm_2  \\\n",
       "0  [-0.00057964027, -0.00058341026, -0.0006125867...         0.000683   \n",
       "1  [5.0139613e-05, 3.7692487e-05, 5.8159232e-05, ...         0.000313   \n",
       "2  [1.963973e-05, -3.0368567e-05, -2.2828579e-05,...         0.000348   \n",
       "3  [0.000493519, -0.0008897679, -0.000252828, 0.0...         0.011930   \n",
       "4  [-2.0503998e-05, -3.8698316e-05, -2.9802322e-0...         0.000366   \n",
       "5  [3.952533e-06, -3.6302954e-06, -6.765302e-06, ...         0.000444   \n",
       "6  [4.6133995e-05, -0.00024333596, -1.0214746e-05...         0.000655   \n",
       "\n",
       "   relative_norm_1  \n",
       "0         0.000655  \n",
       "1         0.000318  \n",
       "2         0.000348  \n",
       "3         0.011751  \n",
       "4         0.000354  \n",
       "5         0.000478  \n",
       "6         0.000601  "
      ]
     },
     "execution_count": 17,
     "metadata": {},
     "output_type": "execute_result"
    }
   ],
   "source": [
    "df"
   ]
  },
  {
   "cell_type": "code",
   "execution_count": 48,
   "metadata": {},
   "outputs": [],
   "source": [
    "df_ = pd.concat(dfs)\n",
    "df_['log_rel_norm_1'] = np.log(df_[\"relative_norm_1\"])\n",
    "\n",
    "df_pivot = df_.pivot(\"fact_nr\", \"layer_nr\", \"relative_norm_1\")\n",
    "df_pivot_log = df_.pivot(\"fact_nr\", \"layer_nr\", \"log_rel_norm_1\")"
   ]
  },
  {
   "cell_type": "code",
   "execution_count": 49,
   "metadata": {},
   "outputs": [
    {
     "data": {
      "image/png": "[encoded data removed]",
      "text/plain": [
       "<Figure size 432x288 with 2 Axes>"
      ]
     },
     "metadata": {},
     "output_type": "display_data"
    }
   ],
   "source": [
    "f = sns.heatmap(df_pivot)"
   ]
  },
  {
   "cell_type": "code",
   "execution_count": 51,
   "metadata": {},
   "outputs": [
    {
     "data": {
      "image/png": "[encoded data removed]",
      "text/plain": [
       "<Figure size 432x288 with 2 Axes>"
      ]
     },
     "metadata": {},
     "output_type": "display_data"
    }
   ],
   "source": [
    "f = sns.heatmap(df_pivot_log)\n",
    "f.get_figure().savefig('../../plots/gar_c10_difference_heat_contr_log_rel_norm1_final.pdf')"
   ]
  },
  {
   "cell_type": "code",
   "execution_count": null,
   "metadata": {},
   "outputs": [],
   "source": []
  }
 ],
 "metadata": {
  "kernelspec": {
   "display_name": "Python 3.8.10 ('venv': venv)",
   "language": "python",
   "name": "python3"
  },
  "language_info": {
   "codemirror_mode": {
    "name": "ipython",
    "version": 3
   },
   "file_extension": ".py",
   "mimetype": "text/x-python",
   "name": "python",
   "nbconvert_exporter": "python",
   "pygments_lexer": "ipython3",
   "version": "3.8.10"
  },
  "orig_nbformat": 4,
  "vscode": {
   "interpreter": {
    "hash": "56ddcafc5f4a65ffc1eba06f4696d06fbf43c848b7a2cf81f3fe8a9e81fc5ea1"
   }
  }
 },
 "nbformat": 4,
 "nbformat_minor": 2
}
