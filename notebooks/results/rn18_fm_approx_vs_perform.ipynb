{
 "cells": [
  {
   "cell_type": "code",
   "execution_count": 16,
   "metadata": {},
   "outputs": [],
   "source": [
    "import json\n",
    "from pathlib import Path\n",
    "import pandas as pd\n",
    "import torch\n",
    "\n",
    "logdir = Path(\"/bigdata/f_mnist/logs\")"
   ]
  },
  {
   "cell_type": "code",
   "execution_count": 5,
   "metadata": {},
   "outputs": [
    {
     "name": "stdout",
     "output_type": "stream",
     "text": [
      "1644230576  1644343636\t1644346298  1644358234\t1644363403  1644366580\n",
      "1644249133  1644343667\t1644346465  1644358431\t1644363711  1644366894\n",
      "1644249825  1644344605\t1644349240  1644358701\t1644364027  1644367220\n",
      "1644249888  1644345111\t1644349391  1644359042\t1644364337  1644367547\n",
      "1644257980  1644345301\t1644349648  1644359375\t1644364658  1644367919\n",
      "1644263149  1644345427\t1644349982  1644359719\t1644364968  parn\n",
      "1644265976  1644345566\t1644350783  1644360247\t1644365307  rn18\n",
      "1644266962  1644345692\t1644357227  1644360821\t1644365620\n",
      "1644266986  1644345943\t1644357535  1644362054\t1644365931\n",
      "1644343615  1644346075\t1644357882  1644363090\t1644366242\n"
     ]
    }
   ],
   "source": [
    "!ls {logdir}"
   ]
  },
  {
   "cell_type": "code",
   "execution_count": 9,
   "metadata": {},
   "outputs": [
    {
     "name": "stdout",
     "output_type": "stream",
     "text": [
      "ls: cannot access '/bigdata/f_mnist/logs/1644254510': No such file or directory\n"
     ]
    }
   ],
   "source": [
    "!ls {logdir}/1644254510"
   ]
  },
  {
   "cell_type": "code",
   "execution_count": 17,
   "metadata": {},
   "outputs": [],
   "source": [
    "# baseline\n",
    "\n",
    "baseline_path = Path(\"/bigdata/f_mnist/logs/1644265976/rn18/rn18_18_dNone_256_sgd_l0.001_g0.1_sTrue/\")\n",
    "baseline_model = torch.load(baseline_path / \"cnn_best.pth\")"
   ]
  },
  {
   "cell_type": "code",
   "execution_count": 12,
   "metadata": {},
   "outputs": [],
   "source": [
    "# cp\n",
    "\n",
    "td_28_cp_10 = \"1644360247/rn18-lr-[28]-cp-0.1-dTrue-iNone_bn_256_sgd_l1e-05_g0_sTrue/\"\n",
    "td_28_cp_25 = \"1644359719/rn18-lr-[28]-cp-0.25-dTrue-iNone_bn_256_sgd_l1e-05_g0_sTrue/\"\n",
    "td_28_cp_50 =  \"1644358701/rn18-lr-[28]-cp-0.5-dTrue-iNone_bn_256_sgd_l1e-05_g0_sTrue/\"\n",
    "td_28_cp_75 = \"1644359042/rn18-lr-[28]-cp-0.75-dTrue-iNone_bn_256_sgd_l1e-05_g0_sTrue/\"\n",
    "td_28_cp_90 = \"1644359375/rn18-lr-[28]-cp-0.9-dTrue-iNone_bn_256_sgd_l1e-05_g0_sTrue/\"\n",
    "\n",
    "td_15_cp_50 = \"1644363090/rn18-lr-[15]-cp-0.5-dTrue-iNone_bn_256_sgd_l1e-05_g0_sTrue/\"\n",
    "td_19_cp_50 = \"1644363711/rn18-lr-[19]-cp-0.5-dTrue-iNone_bn_256_sgd_l1e-05_g0_sTrue/\"\n",
    "# td_28_cp_50_2 = \"1644364337/rn18-lr-[28]-cp-0.5-dTrue-iNone_bn_256_sgd_l1e-05_g0_sTrue/\"\n",
    "td_38_cp_50 = \"1644364968/rn18-lr-[38]-cp-0.5-dTrue-iNone_bn_256_sgd_l1e-05_g0_sTrue/\"\n",
    "td_41_cp_50 = \"1644365620/rn18-lr-[41]-cp-0.5-dTrue-iNone_bn_256_sgd_l1e-05_g0_sTrue/\"\n",
    "td_44_cp_50 = \"1644366242/rn18-lr-[44]-cp-0.5-dTrue-iNone_bn_256_sgd_l1e-05_g0_sTrue/\"\n",
    "td_60_cp_50 = \"1644397019/rn18-lr-[60]-cp-0.5-dTrue-iNone_bn_256_sgd_l1e-05_g0_sTrue/\"\n",
    "td_63_cp_50 = \"1644367547/rn18-lr-[63]-cp-0.5-dTrue-iNone_bn_256_sgd_l1e-05_g0_sTrue/\""
   ]
  },
  {
   "cell_type": "code",
   "execution_count": 13,
   "metadata": {},
   "outputs": [],
   "source": [
    "# tucker\n",
    "td_28_tucker_10 = \"1644357882/rn18-lr-[28]-tucker-0.1-dTrue-iNone_bn_256_sgd_l1e-05_g0_sTrue/\"\n",
    "td_28_tucker_25 = \"1644357535/rn18-lr-[28]-tucker-0.25-dTrue-iNone_bn_256_sgd_l1e-05_g0_sTrue/\"\n",
    "td_28_tucker_50 = \"1644349982/rn18-lr-[28]-tucker-0.5-dTrue-iNone_bn_256_sgd_l1e-05_g0_sTrue/\"\n",
    "td_28_tucker_75 = \"1644350783/rn18-lr-[28]-tucker-0.75-dTrue-iNone_bn_256_sgd_l1e-05_g0_sTrue/\"\n",
    "td_28_tucker_90 = \"1644357227/rn18-lr-[28]-tucker-0.9-dTrue-iNone_bn_256_sgd_l1e-05_g0_sTrue/\"\n",
    "\n",
    "td_15_tucker_50 = \"1644363403/rn18-lr-[15]-tucker-0.5-dTrue-iNone_bn_256_sgd_l1e-05_g0_sTrue/\"\n",
    "td_19_tucker_50 = \"1644364027/rn18-lr-[19]-tucker-0.5-dTrue-iNone_bn_256_sgd_l1e-05_g0_sTrue/\"\n",
    "# 1644364658/rn18-lr-[28]-tucker-0.5-dTrue-iNone_bn_256_sgd_l1e-05_g0_sTrue/\n",
    "td_38_tucker_50 = \"1644365307/rn18-lr-[38]-tucker-0.5-dTrue-iNone_bn_256_sgd_l1e-05_g0_sTrue/\"\n",
    "td_41_tucker_50 = \"1644365931/rn18-lr-[41]-tucker-0.5-dTrue-iNone_bn_256_sgd_l1e-05_g0_sTrue/\"\n",
    "td_44_tucker_50 = \"1644366580/rn18-lr-[44]-tucker-0.5-dTrue-iNone_bn_256_sgd_l1e-05_g0_sTrue/\"\n",
    "td_60_tucker_50 = \"1644366894/rn18-lr-[60]-tucker-0.5-dTrue-iNone_bn_256_sgd_l1e-05_g0_sTrue/\"\n",
    "# 1644367220/rn18-lr-[60]-tucker-0.5-dTrue-iNone_bn_256_sgd_l1e-05_g0_sTrue/\n",
    "td_63_tucker_50 = \"1644367919/rn18-lr-[63]-tucker-0.5-dTrue-iNone_bn_256_sgd_l1e-05_g0_sTrue/\" "
   ]
  },
  {
   "cell_type": "code",
   "execution_count": null,
   "metadata": {},
   "outputs": [],
   "source": [
    "# different accuracies before fine_tuning\n",
    "# likely due to the random init used for CP\n",
    "\n",
    "# 1644358701/rn18-lr-[28]-cp-0.5-dTrue-iNone_bn_256_sgd_l1e-05_g0_sTrue/\n",
    "# 1644364337/rn18-lr-[28]-cp-0.5-dTrue-iNone_bn_256_sgd_l1e-05_g0_sTrue/"
   ]
  },
  {
   "cell_type": "code",
   "execution_count": 10,
   "metadata": {},
   "outputs": [],
   "source": [
    "def paths_to_results(paths):\n",
    "    \"\"\"Returns a pandas DataFrame with results\"\"\"\n",
    "    results = []\n",
    "    for path in paths:\n",
    "        with open(logdir/path/'results.json') as json_file:\n",
    "            result = json.load(json_file)\n",
    "        results.append(result)\n",
    "    \n",
    "    keys = set()\n",
    "    for result in results:\n",
    "        keys = keys.union( set(result.keys()) )\n",
    "    \n",
    "    blank = {k:[] for k in keys}\n",
    "    \n",
    "    df = pd.DataFrame(blank) #.append(results[1], ignore_index=True)\n",
    "\n",
    "    for result in results:\n",
    "        df = df.append(result, ignore_index=True)\n",
    "        \n",
    "    df['compression'] = df['n_param_fact']/df['n_param'][0]\n",
    "    df.compression[0] = 1.0\n",
    "    \n",
    "    \n",
    "    return df"
   ]
  },
  {
   "cell_type": "code",
   "execution_count": 34,
   "metadata": {},
   "outputs": [],
   "source": [
    "# varying rank\n",
    "\n",
    "cp_28 = [\n",
    "    td_28_cp_10,\n",
    "    td_28_cp_25,\n",
    "    td_28_cp_50,\n",
    "    td_28_cp_75,\n",
    "    td_28_cp_90,\n",
    "]\n",
    "\n",
    "cp_layers = [\n",
    "    td_15_cp_50,\n",
    "    td_19_cp_50,\n",
    "    # td_28_cp_50_2 = \"1644364337/rn18-lr-[28]-cp-0.5-dTrue-iNone_bn_256_sgd_l1e-05_g0_sTrue/\"\n",
    "    td_38_cp_50,\n",
    "    td_41_cp_50,\n",
    "    td_44_cp_50,\n",
    "    td_60_cp_50,\n",
    "    td_63_cp_50,\n",
    "]\n",
    "\n",
    "tucker_28 = [\n",
    "    td_28_tucker_10,\n",
    "    td_28_tucker_25,\n",
    "    td_28_tucker_50,\n",
    "    td_28_tucker_75,\n",
    "    td_28_tucker_90,\n",
    "]\n",
    "\n",
    "tucker_layers = [\n",
    "    td_15_tucker_50,\n",
    "    td_19_tucker_50,\n",
    "    # 1644364658/rn18-lr-[28]-tucker-0.5-dTrue-iNone_bn_256_sgd_l1e-05_g0_sTrue/\n",
    "    td_38_tucker_50,\n",
    "    td_41_tucker_50,\n",
    "    td_44_tucker_50,\n",
    "    td_60_tucker_50,\n",
    "    # 1644367220/rn18-lr-[60]-tucker-0.5-dTrue-iNone_bn_256_sgd_l1e-05_g0_sTrue/\n",
    "    td_63_tucker_50,\n",
    "]\n",
    "\n",
    "\n",
    "# paths = [logdir/p for p in (cp+tucker)]"
   ]
  },
  {
   "cell_type": "code",
   "execution_count": 21,
   "metadata": {},
   "outputs": [],
   "source": [
    "import torch\n",
    "import tensorly as tl\n",
    "tl.set_backend('pytorch')\n",
    "from tddl.factorizations import number_layers\n",
    "from tddl.factorizations import listify_numbered_layers\n",
    "\n",
    "def relative_error(pre_weight, dec_weight):\n",
    "    with torch.no_grad():\n",
    "        return tl.norm(pre_weight-dec_weight)/tl.norm(pre_weight)\n",
    "\n",
    "def process_factorized_network(model, fact_model, layer_nrs, first_layer_nr=0):\n",
    "\n",
    "    pretrained_numbered_layers = number_layers(model)\n",
    "    pretrained_layers = listify_numbered_layers(\n",
    "        pretrained_numbered_layers, \n",
    "        layer_nrs=layer_nrs\n",
    "    )\n",
    "\n",
    "    decomposed_numbered_layers_resnet18 = number_layers(fact_model)\n",
    "    decomposed_conv_layers_resnet18 = listify_numbered_layers(\n",
    "        decomposed_numbered_layers_resnet18, \n",
    "        layer_nrs=layer_nrs\n",
    "    )\n",
    "\n",
    "    errors_conv_resnet18 = {\n",
    "        'name': [],\n",
    "        'nr': [],\n",
    "        'error': [],\n",
    "    }\n",
    "\n",
    "    for pre, dec in zip(pretrained_layers, decomposed_conv_layers_resnet18):\n",
    "        \n",
    "        if pre[0] != dec[0]:\n",
    "            print(f'breaking: {pre[0]} != {dec[0]}')\n",
    "            break\n",
    "        if pre[1] != dec[1]:\n",
    "            print(f'breaking: {pre[1]} != {dec[1]}')\n",
    "            break\n",
    "        \n",
    "        name = pre[0]\n",
    "        print(name)\n",
    "        nr = pre[1]\n",
    "        print(nr)\n",
    "\n",
    "        pre_weight = pre[2].weight\n",
    "        dec_weight = dec[2].weight.to_tensor()\n",
    "\n",
    "        error = relative_error(pre_weight, dec_weight)\n",
    "        \n",
    "        errors_conv_resnet18['name'].append(name)\n",
    "        errors_conv_resnet18['nr'].append(nr)\n",
    "        errors_conv_resnet18['error'].append(float(error))\n",
    "\n",
    "    df_errors = pd.DataFrame(data=errors_conv_resnet18)\n",
    "    if first_layer_nr is not None:\n",
    "        df_errors.name.iloc[first_layer_nr] = 'in'\n",
    "    df_errors.set_index('nr', inplace=True)\n",
    "    grouped_errors = df_errors.groupby(by='name')\n",
    "    grouped_errors['error'].plot(legend=True, style=\".-\", ylabel='Relative Error', xlabel='Layer Number')"
   ]
  },
  {
   "cell_type": "code",
   "execution_count": 44,
   "metadata": {},
   "outputs": [
    {
     "data": {
      "text/plain": [
       "['1644360247/rn18-lr-[28]-cp-0.1-dTrue-iNone_bn_256_sgd_l1e-05_g0_sTrue/',\n",
       " '1644359719/rn18-lr-[28]-cp-0.25-dTrue-iNone_bn_256_sgd_l1e-05_g0_sTrue/',\n",
       " '1644358701/rn18-lr-[28]-cp-0.5-dTrue-iNone_bn_256_sgd_l1e-05_g0_sTrue/',\n",
       " '1644359042/rn18-lr-[28]-cp-0.75-dTrue-iNone_bn_256_sgd_l1e-05_g0_sTrue/',\n",
       " '1644359375/rn18-lr-[28]-cp-0.9-dTrue-iNone_bn_256_sgd_l1e-05_g0_sTrue/',\n",
       " '1644363090/rn18-lr-[15]-cp-0.5-dTrue-iNone_bn_256_sgd_l1e-05_g0_sTrue/',\n",
       " '1644363711/rn18-lr-[19]-cp-0.5-dTrue-iNone_bn_256_sgd_l1e-05_g0_sTrue/',\n",
       " '1644364968/rn18-lr-[38]-cp-0.5-dTrue-iNone_bn_256_sgd_l1e-05_g0_sTrue/',\n",
       " '1644365620/rn18-lr-[41]-cp-0.5-dTrue-iNone_bn_256_sgd_l1e-05_g0_sTrue/',\n",
       " '1644366242/rn18-lr-[44]-cp-0.5-dTrue-iNone_bn_256_sgd_l1e-05_g0_sTrue/',\n",
       " '1644397019/rn18-lr-[60]-cp-0.5-dTrue-iNone_bn_256_sgd_l1e-05_g0_sTrue/',\n",
       " '1644367547/rn18-lr-[63]-cp-0.5-dTrue-iNone_bn_256_sgd_l1e-05_g0_sTrue/',\n",
       " '1644357882/rn18-lr-[28]-tucker-0.1-dTrue-iNone_bn_256_sgd_l1e-05_g0_sTrue/',\n",
       " '1644357535/rn18-lr-[28]-tucker-0.25-dTrue-iNone_bn_256_sgd_l1e-05_g0_sTrue/',\n",
       " '1644349982/rn18-lr-[28]-tucker-0.5-dTrue-iNone_bn_256_sgd_l1e-05_g0_sTrue/',\n",
       " '1644350783/rn18-lr-[28]-tucker-0.75-dTrue-iNone_bn_256_sgd_l1e-05_g0_sTrue/',\n",
       " '1644357227/rn18-lr-[28]-tucker-0.9-dTrue-iNone_bn_256_sgd_l1e-05_g0_sTrue/',\n",
       " '1644363403/rn18-lr-[15]-tucker-0.5-dTrue-iNone_bn_256_sgd_l1e-05_g0_sTrue/',\n",
       " '1644364027/rn18-lr-[19]-tucker-0.5-dTrue-iNone_bn_256_sgd_l1e-05_g0_sTrue/',\n",
       " '1644365307/rn18-lr-[38]-tucker-0.5-dTrue-iNone_bn_256_sgd_l1e-05_g0_sTrue/',\n",
       " '1644365931/rn18-lr-[41]-tucker-0.5-dTrue-iNone_bn_256_sgd_l1e-05_g0_sTrue/',\n",
       " '1644366580/rn18-lr-[44]-tucker-0.5-dTrue-iNone_bn_256_sgd_l1e-05_g0_sTrue/',\n",
       " '1644366894/rn18-lr-[60]-tucker-0.5-dTrue-iNone_bn_256_sgd_l1e-05_g0_sTrue/',\n",
       " '1644367919/rn18-lr-[63]-tucker-0.5-dTrue-iNone_bn_256_sgd_l1e-05_g0_sTrue/']"
      ]
     },
     "execution_count": 44,
     "metadata": {},
     "output_type": "execute_result"
    }
   ],
   "source": [
    "paths = cp_28 + cp_layers + tucker_28 + tucker_layers\n",
    "paths"
   ]
  },
  {
   "cell_type": "code",
   "execution_count": 51,
   "metadata": {},
   "outputs": [
    {
     "name": "stdout",
     "output_type": "stream",
     "text": [
      "conv1\n",
      "28\n",
      "tensor(0.8082, device='cuda:0')\n",
      "conv1\n",
      "28\n",
      "tensor(0.6219, device='cuda:0')\n",
      "conv1\n",
      "28\n",
      "tensor(0.4063, device='cuda:0')\n",
      "conv1\n",
      "28\n",
      "tensor(0.2367, device='cuda:0')\n",
      "conv1\n",
      "28\n",
      "tensor(0.1557, device='cuda:0')\n",
      "conv2\n",
      "15\n",
      "tensor(0.3426, device='cuda:0')\n",
      "conv1\n",
      "19\n",
      "tensor(0.3182, device='cuda:0')\n",
      "conv2\n",
      "38\n",
      "tensor(0.3454, device='cuda:0')\n",
      "0\n",
      "41\n",
      "tensor(0.5198, device='cuda:0')\n",
      "conv1\n",
      "44\n",
      "tensor(0.3348, device='cuda:0')\n",
      "conv1\n",
      "60\n",
      "tensor(0.2297, device='cuda:0')\n",
      "conv2\n",
      "63\n",
      "tensor(0.2194, device='cuda:0')\n",
      "conv1\n",
      "28\n",
      "tensor(0.8282, device='cuda:0')\n",
      "conv1\n",
      "28\n",
      "tensor(0.6971, device='cuda:0')\n",
      "conv1\n",
      "28\n",
      "tensor(0.5374, device='cuda:0')\n",
      "conv1\n",
      "28\n",
      "tensor(0.3914, device='cuda:0')\n",
      "conv1\n",
      "28\n",
      "tensor(0.3112, device='cuda:0')\n",
      "conv2\n",
      "15\n",
      "tensor(0.4984, device='cuda:0')\n",
      "conv1\n",
      "19\n",
      "tensor(0.4735, device='cuda:0')\n",
      "conv2\n",
      "38\n",
      "tensor(0.4353, device='cuda:0')\n",
      "0\n",
      "41\n",
      "tensor(0.6687, device='cuda:0')\n",
      "conv1\n",
      "44\n",
      "tensor(0.4258, device='cuda:0')\n",
      "conv1\n",
      "60\n",
      "tensor(0.2669, device='cuda:0')\n",
      "conv2\n",
      "63\n",
      "tensor(0.2420, device='cuda:0')\n"
     ]
    }
   ],
   "source": [
    "# calc approximation error\n",
    "# store in approx_error.json, next to results.json\n",
    "import yaml\n",
    "\n",
    "for path in paths:\n",
    "    timestamp = Path(path).parent\n",
    "    config_path = logdir / timestamp / \"config.yml\"\n",
    "    config_data = yaml.load(config_path.read_text(), Loader=yaml.Loader)\n",
    "    layers = config_data['layers']\n",
    "    factorization = config_data['factorization']\n",
    "    rank = config_data['rank']\n",
    "\n",
    "    fact_model = torch.load(logdir / path / 'model_after_fact.pth')\n",
    "\n",
    "    pretrained_numbered_layers = number_layers(baseline_model)\n",
    "    pretrained_layers = listify_numbered_layers(\n",
    "        pretrained_numbered_layers,\n",
    "        layer_nrs=layers,\n",
    "    )\n",
    "\n",
    "    decomposed_numbered_layers = number_layers(fact_model)\n",
    "    decomposed_conv_layers = listify_numbered_layers(\n",
    "        decomposed_numbered_layers, \n",
    "        layer_nrs=layers,\n",
    "    )\n",
    "\n",
    "    with open(logdir / path / 'results.json') as json_file:\n",
    "        result = json.load(json_file)\n",
    "\n",
    "    with open(logdir / path / 'results_before_training.json') as json_file:\n",
    "        result_before_training = json.load(json_file)\n",
    "\n",
    "    errors_conv = {\n",
    "            'name': [],\n",
    "            'nr': [],\n",
    "            'error': [],\n",
    "            'layers': layers,\n",
    "            'factorization': factorization,\n",
    "            'rank': rank,\n",
    "            'valid_acc': result['best_valid_acc'],\n",
    "            'valid_acc_before_ft': result_before_training['valid_acc']\n",
    "        }\n",
    "\n",
    "    for pre, dec in zip(pretrained_layers, decomposed_conv_layers):\n",
    "        \n",
    "        if pre[0] != dec[0]:\n",
    "            print(f'breaking: {pre[0]} != {dec[0]}')\n",
    "            break\n",
    "        if pre[1] != dec[1]:\n",
    "            print(f'breaking: {pre[1]} != {dec[1]}')\n",
    "            break\n",
    "        \n",
    "        name = pre[0]\n",
    "        # print(name)\n",
    "        nr = pre[1]\n",
    "        # print(nr)\n",
    "\n",
    "        pre_weight = pre[2].weight\n",
    "        dec_weight = dec[2].weight.to_tensor()\n",
    "\n",
    "        error = relative_error(pre_weight, dec_weight)\n",
    "        # print(error)\n",
    "        \n",
    "        errors_conv['name'].append(name)\n",
    "        errors_conv['nr'].append(nr)\n",
    "        errors_conv['error'].append(float(error))\n",
    "\n",
    "    errors_path = logdir / path / 'results_approximation_error.json'\n",
    "    with open(errors_path, 'w') as f:\n",
    "        json.dump(errors_conv, f)"
   ]
  },
  {
   "cell_type": "code",
   "execution_count": 43,
   "metadata": {},
   "outputs": [
    {
     "data": {
      "text/plain": [
       "PosixPath('/bigdata/f_mnist/logs/1644358701')"
      ]
     },
     "execution_count": 43,
     "metadata": {},
     "output_type": "execute_result"
    }
   ],
   "source": [
    "path = paths[2]\n",
    "logdir / Path(path).parent"
   ]
  },
  {
   "cell_type": "code",
   "execution_count": 49,
   "metadata": {},
   "outputs": [
    {
     "data": {
      "text/plain": [
       "PosixPath('1644358701/rn18-lr-[28]-cp-0.5-dTrue-iNone_bn_256_sgd_l1e-05_g0_sTrue')"
      ]
     },
     "execution_count": 49,
     "metadata": {},
     "output_type": "execute_result"
    }
   ],
   "source": [
    "Path(td_28_cp_50)"
   ]
  },
  {
   "cell_type": "code",
   "execution_count": 31,
   "metadata": {},
   "outputs": [
    {
     "data": {
      "text/plain": [
       "PosixPath('1644363090')"
      ]
     },
     "execution_count": 31,
     "metadata": {},
     "output_type": "execute_result"
    }
   ],
   "source": [
    "Path(td_15_cp_50).parents[0]"
   ]
  },
  {
   "cell_type": "code",
   "execution_count": 32,
   "metadata": {},
   "outputs": [
    {
     "data": {
      "text/plain": [
       "PosixPath('1644363090')"
      ]
     },
     "execution_count": 32,
     "metadata": {},
     "output_type": "execute_result"
    }
   ],
   "source": [
    "Path(td_15_cp_50).parent"
   ]
  },
  {
   "cell_type": "code",
   "execution_count": 66,
   "metadata": {},
   "outputs": [
    {
     "name": "stdout",
     "output_type": "stream",
     "text": [
      "{'name': ['conv1'], 'nr': [28], 'error': [0.8082082271575928], 'layers': [28], 'factorization': 'cp', 'rank': 0.1, 'valid_acc': 0.9449, 'valid_acc_before_ft': 0.9244}\n",
      "{'name': ['conv1'], 'nr': [28], 'error': [0.6218817830085754], 'layers': [28], 'factorization': 'cp', 'rank': 0.25, 'valid_acc': 0.9486, 'valid_acc_before_ft': 0.9448}\n",
      "{'name': ['conv1'], 'nr': [28], 'error': [0.40634721517562866], 'layers': [28], 'factorization': 'cp', 'rank': 0.5, 'valid_acc': 0.9496, 'valid_acc_before_ft': 0.9486}\n",
      "{'name': ['conv1'], 'nr': [28], 'error': [0.2366812378168106], 'layers': [28], 'factorization': 'cp', 'rank': 0.75, 'valid_acc': 0.9487, 'valid_acc_before_ft': 0.9491}\n",
      "{'name': ['conv1'], 'nr': [28], 'error': [0.15567991137504578], 'layers': [28], 'factorization': 'cp', 'rank': 0.9, 'valid_acc': 0.9489, 'valid_acc_before_ft': 0.9487}\n",
      "{'name': ['conv1'], 'nr': [28], 'error': [0.8281782269477844], 'layers': [28], 'factorization': 'tucker', 'rank': 0.1, 'valid_acc': 0.9438, 'valid_acc_before_ft': 0.9231}\n",
      "{'name': ['conv1'], 'nr': [28], 'error': [0.6971173286437988], 'layers': [28], 'factorization': 'tucker', 'rank': 0.25, 'valid_acc': 0.9469, 'valid_acc_before_ft': 0.943}\n",
      "{'name': ['conv1'], 'nr': [28], 'error': [0.5374232530593872], 'layers': [28], 'factorization': 'tucker', 'rank': 0.5, 'valid_acc': 0.9485, 'valid_acc_before_ft': 0.9463}\n",
      "{'name': ['conv1'], 'nr': [28], 'error': [0.3914100229740143], 'layers': [28], 'factorization': 'tucker', 'rank': 0.75, 'valid_acc': 0.9491, 'valid_acc_before_ft': 0.948}\n",
      "{'name': ['conv1'], 'nr': [28], 'error': [0.31122326850891113], 'layers': [28], 'factorization': 'tucker', 'rank': 0.9, 'valid_acc': 0.9492, 'valid_acc_before_ft': 0.9495}\n"
     ]
    }
   ],
   "source": [
    "results = []\n",
    "for path in cp_28+tucker_28:\n",
    "    with open(logdir / path / 'results_approximation_error.json') as json_file:\n",
    "        result = json.load(json_file)\n",
    "    print(result)\n",
    "    for k,v in result.items():\n",
    "        result[k] = v[0] if type(v) == list else v\n",
    "    results.append(result)"
   ]
  },
  {
   "cell_type": "code",
   "execution_count": 88,
   "metadata": {},
   "outputs": [
    {
     "data": {
      "text/plain": [
       "factorization\n",
       "cp        AxesSubplot(0.125,0.125;0.775x0.755)\n",
       "tucker    AxesSubplot(0.125,0.125;0.775x0.755)\n",
       "Name: error, dtype: object"
      ]
     },
     "execution_count": 88,
     "metadata": {},
     "output_type": "execute_result"
    },
    {
     "data": {
      "image/png": "[encoded data removed]",
      "text/plain": [
       "<Figure size 432x288 with 1 Axes>"
      ]
     },
     "metadata": {
      "needs_background": "light"
     },
     "output_type": "display_data"
    }
   ],
   "source": [
    "df = pd.DataFrame(results)\n",
    "df.set_index('rank', inplace=True)\n",
    "grouped_df = df.groupby('factorization')\n",
    "grouped_df['error'].plot(legend=True, style=\".-\", ylabel='relative approximation error', xlabel='relative rank')"
   ]
  },
  {
   "cell_type": "code",
   "execution_count": 94,
   "metadata": {},
   "outputs": [],
   "source": [
    "# df = pd.DataFrame(results)\n",
    "# df.set_index('error', inplace=True)\n",
    "# grouped_df = df.groupby('factorization')\n",
    "# grouped_df['rank'].plot(legend=True, style=\".-\", ylabel='relative rank', xlabel='relative approximation error')"
   ]
  },
  {
   "cell_type": "code",
   "execution_count": 92,
   "metadata": {},
   "outputs": [
    {
     "data": {
      "text/plain": [
       "factorization\n",
       "cp        AxesSubplot(0.125,0.125;0.775x0.755)\n",
       "tucker    AxesSubplot(0.125,0.125;0.775x0.755)\n",
       "Name: valid_acc, dtype: object"
      ]
     },
     "execution_count": 92,
     "metadata": {},
     "output_type": "execute_result"
    },
    {
     "data": {
      "image/png": "[encoded data removed]",
      "text/plain": [
       "<Figure size 432x288 with 1 Axes>"
      ]
     },
     "metadata": {
      "needs_background": "light"
     },
     "output_type": "display_data"
    }
   ],
   "source": [
    "df = pd.DataFrame(results)\n",
    "df.set_index('error', inplace=True)\n",
    "grouped_df = df.groupby('factorization')\n",
    "grouped_df['valid_acc'].plot(legend=True, style=\".-\", ylabel='validation accuracy after fine-tuning', xlabel='relative approximation error')"
   ]
  },
  {
   "cell_type": "code",
   "execution_count": 91,
   "metadata": {},
   "outputs": [
    {
     "data": {
      "text/plain": [
       "factorization\n",
       "cp        AxesSubplot(0.125,0.125;0.775x0.755)\n",
       "tucker    AxesSubplot(0.125,0.125;0.775x0.755)\n",
       "Name: valid_acc_before_ft, dtype: object"
      ]
     },
     "execution_count": 91,
     "metadata": {},
     "output_type": "execute_result"
    },
    {
     "data": {
      "image/png": "[encoded data removed]",
      "text/plain": [
       "<Figure size 432x288 with 1 Axes>"
      ]
     },
     "metadata": {
      "needs_background": "light"
     },
     "output_type": "display_data"
    }
   ],
   "source": [
    "df = pd.DataFrame(results)\n",
    "df.set_index('error', inplace=True)\n",
    "grouped_df = df.groupby('factorization')\n",
    "grouped_df['valid_acc_before_ft'].plot(legend=True, style=\".-\", ylabel='validation accuracy before fine-tuning', xlabel='relative approximation error')"
   ]
  },
  {
   "cell_type": "code",
   "execution_count": 95,
   "metadata": {},
   "outputs": [
    {
     "name": "stdout",
     "output_type": "stream",
     "text": [
      "{'name': ['conv2'], 'nr': [15], 'error': [0.3425811231136322], 'layers': [15], 'factorization': 'cp', 'rank': 0.5, 'valid_acc': 0.9491, 'valid_acc_before_ft': 0.9493}\n",
      "{'name': ['conv1'], 'nr': [19], 'error': [0.3181688189506531], 'layers': [19], 'factorization': 'cp', 'rank': 0.5, 'valid_acc': 0.949, 'valid_acc_before_ft': 0.9485}\n",
      "{'name': ['conv2'], 'nr': [38], 'error': [0.3454382121562958], 'layers': [38], 'factorization': 'cp', 'rank': 0.5, 'valid_acc': 0.9494, 'valid_acc_before_ft': 0.9489}\n",
      "{'name': ['0'], 'nr': [41], 'error': [0.5198185443878174], 'layers': [41], 'factorization': 'cp', 'rank': 0.5, 'valid_acc': 0.9487, 'valid_acc_before_ft': 0.9481}\n",
      "{'name': ['conv1'], 'nr': [44], 'error': [0.33476805686950684], 'layers': [44], 'factorization': 'cp', 'rank': 0.5, 'valid_acc': 0.9492, 'valid_acc_before_ft': 0.9491}\n",
      "{'name': ['conv1'], 'nr': [60], 'error': [0.22971166670322418], 'layers': [60], 'factorization': 'cp', 'rank': 0.5, 'valid_acc': 0.949, 'valid_acc_before_ft': 0.9491}\n",
      "{'name': ['conv2'], 'nr': [63], 'error': [0.21937045454978943], 'layers': [63], 'factorization': 'cp', 'rank': 0.5, 'valid_acc': 0.9493, 'valid_acc_before_ft': 0.9491}\n",
      "{'name': ['conv2'], 'nr': [15], 'error': [0.4983953535556793], 'layers': [15], 'factorization': 'tucker', 'rank': 0.5, 'valid_acc': 0.9492, 'valid_acc_before_ft': 0.9485}\n",
      "{'name': ['conv1'], 'nr': [19], 'error': [0.47350770235061646], 'layers': [19], 'factorization': 'tucker', 'rank': 0.5, 'valid_acc': 0.9481, 'valid_acc_before_ft': 0.9481}\n",
      "{'name': ['conv2'], 'nr': [38], 'error': [0.435302197933197], 'layers': [38], 'factorization': 'tucker', 'rank': 0.5, 'valid_acc': 0.9486, 'valid_acc_before_ft': 0.9485}\n",
      "{'name': ['0'], 'nr': [41], 'error': [0.668729841709137], 'layers': [41], 'factorization': 'tucker', 'rank': 0.5, 'valid_acc': 0.9488, 'valid_acc_before_ft': 0.9472}\n",
      "{'name': ['conv1'], 'nr': [44], 'error': [0.4257897436618805], 'layers': [44], 'factorization': 'tucker', 'rank': 0.5, 'valid_acc': 0.9492, 'valid_acc_before_ft': 0.949}\n",
      "{'name': ['conv1'], 'nr': [60], 'error': [0.2668592035770416], 'layers': [60], 'factorization': 'tucker', 'rank': 0.5, 'valid_acc': 0.9494, 'valid_acc_before_ft': 0.9491}\n",
      "{'name': ['conv2'], 'nr': [63], 'error': [0.24195951223373413], 'layers': [63], 'factorization': 'tucker', 'rank': 0.5, 'valid_acc': 0.9494, 'valid_acc_before_ft': 0.9491}\n"
     ]
    }
   ],
   "source": [
    "results_layers = []\n",
    "for path in cp_layers + tucker_layers:\n",
    "    with open(logdir / path / 'results_approximation_error.json') as json_file:\n",
    "        result = json.load(json_file)\n",
    "    print(result)\n",
    "    for k,v in result.items():\n",
    "        result[k] = v[0] if type(v) == list else v\n",
    "    results_layers.append(result)"
   ]
  },
  {
   "cell_type": "code",
   "execution_count": 98,
   "metadata": {},
   "outputs": [
    {
     "data": {
      "text/plain": [
       "factorization\n",
       "cp        AxesSubplot(0.125,0.125;0.775x0.755)\n",
       "tucker    AxesSubplot(0.125,0.125;0.775x0.755)\n",
       "Name: error, dtype: object"
      ]
     },
     "execution_count": 98,
     "metadata": {},
     "output_type": "execute_result"
    },
    {
     "data": {
      "image/png": "[encoded data removed]",
      "text/plain": [
       "<Figure size 432x288 with 1 Axes>"
      ]
     },
     "metadata": {
      "needs_background": "light"
     },
     "output_type": "display_data"
    }
   ],
   "source": [
    "df_layers = pd.DataFrame(results_layers)\n",
    "df_layers.set_index('layers', inplace=True)\n",
    "grouped_df = df_layers.groupby('factorization')\n",
    "grouped_df['error'].plot(legend=True, style=\".-\", ylabel='relative approximation error')"
   ]
  },
  {
   "cell_type": "code",
   "execution_count": 107,
   "metadata": {},
   "outputs": [
    {
     "data": {
      "text/plain": [
       "factorization\n",
       "cp        AxesSubplot(0.125,0.125;0.775x0.755)\n",
       "tucker    AxesSubplot(0.125,0.125;0.775x0.755)\n",
       "Name: valid_acc, dtype: object"
      ]
     },
     "execution_count": 107,
     "metadata": {},
     "output_type": "execute_result"
    },
    {
     "data": {
      "image/png": "[encoded data removed]",
      "text/plain": [
       "<Figure size 432x288 with 1 Axes>"
      ]
     },
     "metadata": {
      "needs_background": "light"
     },
     "output_type": "display_data"
    }
   ],
   "source": [
    "# df_layers = pd.DataFrame(results_layers)\n",
    "# df_layers.set_index('layers', inplace=True)\n",
    "# grouped_df = df_layers.groupby('factorization')\n",
    "# grouped_df['error'].plot(legend=True, style=\".-\", ylabel='relative approximation error')\n",
    "\n",
    "df_layers = pd.DataFrame(results_layers)\n",
    "df_layers.set_index('error', inplace=True)\n",
    "grouped_df = df_layers.groupby('factorization')\n",
    "grouped_df['valid_acc'].plot(legend=True, style=\".-\", ylabel='validation accuracy after fine-tuning', xlabel='relative approximation error')"
   ]
  },
  {
   "cell_type": "code",
   "execution_count": 108,
   "metadata": {},
   "outputs": [
    {
     "data": {
      "text/plain": [
       "factorization\n",
       "cp        AxesSubplot(0.125,0.125;0.775x0.755)\n",
       "tucker    AxesSubplot(0.125,0.125;0.775x0.755)\n",
       "Name: valid_acc_before_ft, dtype: object"
      ]
     },
     "execution_count": 108,
     "metadata": {},
     "output_type": "execute_result"
    },
    {
     "data": {
      "image/png": "[encoded data removed]",
      "text/plain": [
       "<Figure size 432x288 with 1 Axes>"
      ]
     },
     "metadata": {
      "needs_background": "light"
     },
     "output_type": "display_data"
    }
   ],
   "source": [
    "df_layers = pd.DataFrame(results_layers)\n",
    "df_layers.set_index('error', inplace=True)\n",
    "grouped_df = df_layers.groupby('factorization')\n",
    "grouped_df['valid_acc_before_ft'].plot(legend=True, style=\".-\", ylabel='validation accuracy before fine-tuning', xlabel='relative approximation error')"
   ]
  },
  {
   "cell_type": "code",
   "execution_count": null,
   "metadata": {},
   "outputs": [],
   "source": []
  }
 ],
 "metadata": {
  "interpreter": {
   "hash": "56ddcafc5f4a65ffc1eba06f4696d06fbf43c848b7a2cf81f3fe8a9e81fc5ea1"
  },
  "kernelspec": {
   "display_name": "Python 3.6.9 64-bit ('venv': venv)",
   "language": "python",
   "name": "python3"
  },
  "language_info": {
   "codemirror_mode": {
    "name": "ipython",
    "version": 3
   },
   "file_extension": ".py",
   "mimetype": "text/x-python",
   "name": "python",
   "nbconvert_exporter": "python",
   "pygments_lexer": "ipython3",
   "version": "3.8.10"
  },
  "orig_nbformat": 4
 },
 "nbformat": 4,
 "nbformat_minor": 2
}
