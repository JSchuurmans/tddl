{
 "cells": [
  {
   "cell_type": "code",
   "execution_count": 1,
   "metadata": {},
   "outputs": [
    {
     "name": "stderr",
     "output_type": "stream",
     "text": [
      "/home/jetzeschuurman/gitProjects/phd/tddl/venv/lib/python3.6/site-packages/tensorly/backend/pytorch_backend.py:200: UserWarning: You are using an old version of PyTorch (1.7.1+cu101). We recommend upgrading to a newest one, e.g. >1.8.0.\n",
      "  warnings.warn(f'You are using an old version of PyTorch ({torch.__version__}). '\n"
     ]
    }
   ],
   "source": [
    "import os\n",
    "\n",
    "import torch\n",
    "import torch.optim as optim\n",
    "\n",
    "from tddl.models.resnet import PA_ResNet18\n",
    "from tddl.models.resnet_lr import low_rank_resnet18"
   ]
  },
  {
   "cell_type": "code",
   "execution_count": 2,
   "metadata": {},
   "outputs": [],
   "source": [
    "cuda = \"7\"\n",
    "os.environ['CUDA_DEVICE_ORDER'] = 'PCI_BUS_ID'\n",
    "os.environ['CUDA_VISIBLE_DEVICES'] = cuda\n",
    "\n",
    "cpu = \"8\"\n",
    "os.environ[\"MKL_NUM_THREADS\"] = cpu\n",
    "os.environ[\"NUMEXPR_NUM_THREADS\"] = cpu\n",
    "os.environ[\"OMP_NUM_THREADS\"] = cpu"
   ]
  },
  {
   "cell_type": "code",
   "execution_count": null,
   "metadata": {},
   "outputs": [],
   "source": [
    "!pwd"
   ]
  },
  {
   "cell_type": "code",
   "execution_count": 3,
   "metadata": {},
   "outputs": [],
   "source": [
    "save_path = \"/home/jetzeschuurman/gitProjects/phd/tddl/notebooks/tmp\""
   ]
  },
  {
   "cell_type": "code",
   "execution_count": 12,
   "metadata": {},
   "outputs": [
    {
     "data": {
      "text/plain": [
       "<All keys matched successfully>"
      ]
     },
     "execution_count": 12,
     "metadata": {},
     "output_type": "execute_result"
    }
   ],
   "source": [
    "pretrained = \"/local/jetzeschuurman/f_mnist/logs/parn_18_d0.5_256_sgd_l0.1_g0.1_sTrue/1633280228/cnn_best\"\n",
    "\n",
    "# load pretrained model\n",
    "pretrained_model = torch.load(pretrained)\n",
    "pretrained_optimizer = optim.SGD(\n",
    "    pretrained_model.parameters(), \n",
    "    lr=1e-2, momentum=0.9, weight_decay=1e-4,\n",
    ")\n",
    "\n",
    "# safe model\n",
    "model_name = \"pretrained_model.pth\"\n",
    "torch.save(pretrained_model, os.path.join(save_path, model_name))\n",
    "\n",
    "# safe state dict\n",
    "checkpoint_name = \"pretrained_checkpoint\"\n",
    "torch.save(\n",
    "    (pretrained_model.state_dict(), pretrained_optimizer.state_dict()),\n",
    "    os.path.join(save_path, checkpoint_name),\n",
    ")\n",
    "\n",
    "# load state dict\n",
    "pretrained_model_state, pretrained_optimizer_state = torch.load(\n",
    "    os.path.join(save_path, \"pretrained_checkpoint\")\n",
    ")\n",
    "pretrained_model_from_state = PA_ResNet18(\n",
    "    num_classes = 10,\n",
    "    nc=1,\n",
    ")\n",
    "pretrained_model_from_state.load_state_dict(pretrained_model_state)"
   ]
  },
  {
   "cell_type": "code",
   "execution_count": 4,
   "metadata": {},
   "outputs": [],
   "source": [
    "factorized = \"/local/jetzeschuurman/f_mnist/logs/parn-td-(1, 2, 3, 4, 5, 6, 7, 8, 9, 10, 11, 12, 13, 14, 15, 16)-tucker-0.5-dTrue-iFalse_bn_256_sgd_l0.01_g0.1_sTrue/1633342529/fact_model_best\"\n",
    "\n",
    "# load factorized model\n",
    "factorized_model = torch.load(factorized)\n",
    "factorized_optimizer = optim.SGD(\n",
    "    factorized_model.parameters(), \n",
    "    lr=1e-2, momentum=0.9, weight_decay=1e-4,\n",
    ")"
   ]
  },
  {
   "cell_type": "code",
   "execution_count": null,
   "metadata": {},
   "outputs": [],
   "source": [
    "\n",
    "# safe factorized model\n",
    "model_name = \"factorized_model.pth\"\n",
    "torch.save(factorized_model, os.path.join(save_path, model_name))\n",
    "\n",
    "# safe factorized checkpoint\n",
    "fact_checkpoint_name = \"factorized_checkpoint\"\n",
    "torch.save(\n",
    "    (factorized_model.state_dict(), factorized_optimizer.state_dict()),\n",
    "    os.path.join(save_path, fact_checkpoint_name),\n",
    ")\n",
    "\n",
    "# load state dict\n",
    "fact_model_state, fact_optimizer_state = torch.load(\n",
    "    os.path.join(save_path, \"factorized_checkpoint\")\n",
    ")\n",
    "# prep model to load statedict in\n",
    "layers = [1, 2, 3, 4, 5, 6, 7, 8, 9, 10, 11, 12, 13, 14, 15, 16]\n",
    "rank = 0.5\n",
    "factorization = 'tucker'\n",
    "decompose_weights=False\n",
    "fact_model_from_state = low_rank_resnet18(\n",
    "    layers, \n",
    "    rank=rank, \n",
    "    decompose_weights=False,\n",
    "    factorization='tucker',\n",
    "    init=None,\n",
    "    pretrained_model=None,\n",
    ")\n",
    "fact_model_from_state.load_state_dict(fact_model_state)"
   ]
  },
  {
   "cell_type": "code",
   "execution_count": 14,
   "metadata": {},
   "outputs": [
    {
     "data": {
      "text/plain": [
       "<All keys matched successfully>"
      ]
     },
     "execution_count": 14,
     "metadata": {},
     "output_type": "execute_result"
    }
   ],
   "source": [
    "factorized_model.load_state_dict(fact_model_state)"
   ]
  },
  {
   "cell_type": "code",
   "execution_count": 5,
   "metadata": {},
   "outputs": [],
   "source": [
    "import numpy as np"
   ]
  },
  {
   "cell_type": "code",
   "execution_count": 7,
   "metadata": {},
   "outputs": [
    {
     "data": {
      "text/plain": [
       "True"
      ]
     },
     "execution_count": 7,
     "metadata": {},
     "output_type": "execute_result"
    }
   ],
   "source": [
    "np.isnan(np.nan)"
   ]
  },
  {
   "cell_type": "code",
   "execution_count": null,
   "metadata": {},
   "outputs": [],
   "source": []
  }
 ],
 "metadata": {
  "interpreter": {
   "hash": "56ddcafc5f4a65ffc1eba06f4696d06fbf43c848b7a2cf81f3fe8a9e81fc5ea1"
  },
  "kernelspec": {
   "display_name": "Python 3.6.9 64-bit ('venv': venv)",
   "language": "python",
   "name": "python3"
  },
  "language_info": {
   "codemirror_mode": {
    "name": "ipython",
    "version": 3
   },
   "file_extension": ".py",
   "mimetype": "text/x-python",
   "name": "python",
   "nbconvert_exporter": "python",
   "pygments_lexer": "ipython3",
   "version": "3.6.9"
  },
  "orig_nbformat": 4
 },
 "nbformat": 4,
 "nbformat_minor": 2
}
