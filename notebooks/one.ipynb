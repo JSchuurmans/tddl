{
 "cells": [
  {
   "cell_type": "code",
   "execution_count": 1,
   "metadata": {},
   "outputs": [],
   "source": [
    "import torch\n",
    "import torch.optim as optim\n",
    "import tensorly as tl\n",
    "from tddl.models.vgg import ModifiedVGG16Model\n",
    "from tddl.trainer import Trainer\n",
    "from torch.utils.tensorboard import SummaryWriter"
   ]
  },
  {
   "cell_type": "code",
   "execution_count": 2,
   "metadata": {},
   "outputs": [
    {
     "name": "stderr",
     "output_type": "stream",
     "text": [
      "  0%|          | 0/10 [00:00<?, ?it/s]"
     ]
    },
    {
     "name": "stdout",
     "output_type": "stream",
     "text": [
      "Epoch:  0\n"
     ]
    },
    {
     "name": "stderr",
     "output_type": "stream",
     "text": [
      "100%|██████████| 782/782 [02:13<00:00,  5.87it/s, loss=0.00452]\n",
      "100%|██████████| 782/782 [00:43<00:00, 17.99it/s, acc=0.988]\n",
      " 10%|█         | 1/10 [02:56<26:29, 176.66s/it]"
     ]
    },
    {
     "name": "stdout",
     "output_type": "stream",
     "text": [
      "Accuracy : 0.98768\n",
      "Average prediction time 0.05058127687410321 782\n",
      "Epoch:  1\n"
     ]
    },
    {
     "name": "stderr",
     "output_type": "stream",
     "text": [
      "100%|██████████| 782/782 [02:12<00:00,  5.90it/s, loss=0.00133]\n",
      "100%|██████████| 782/782 [00:43<00:00, 18.08it/s, acc=0.987]\n",
      " 20%|██        | 2/10 [05:52<23:28, 176.11s/it]"
     ]
    },
    {
     "name": "stdout",
     "output_type": "stream",
     "text": [
      "Accuracy : 0.9868\n",
      "Average prediction time 0.05061081943609525 782\n",
      "Epoch:  2\n"
     ]
    },
    {
     "name": "stderr",
     "output_type": "stream",
     "text": [
      "100%|██████████| 782/782 [02:13<00:00,  5.87it/s, loss=0.000232]\n",
      "100%|██████████| 782/782 [00:43<00:00, 18.03it/s, acc=0.986]\n",
      " 30%|███       | 3/10 [08:48<20:34, 176.31s/it]"
     ]
    },
    {
     "name": "stdout",
     "output_type": "stream",
     "text": [
      "Accuracy : 0.98564\n",
      "Average prediction time 0.0506155917711575 782\n",
      "Epoch:  3\n"
     ]
    },
    {
     "name": "stderr",
     "output_type": "stream",
     "text": [
      "100%|██████████| 782/782 [02:13<00:00,  5.88it/s, loss=0.218]\n",
      "100%|██████████| 782/782 [00:43<00:00, 17.97it/s, acc=0.989]\n",
      " 40%|████      | 4/10 [11:45<17:38, 176.43s/it]"
     ]
    },
    {
     "name": "stdout",
     "output_type": "stream",
     "text": [
      "Accuracy : 0.98896\n",
      "Average prediction time 0.05061072278815462 782\n",
      "Epoch:  4\n"
     ]
    },
    {
     "name": "stderr",
     "output_type": "stream",
     "text": [
      "100%|██████████| 782/782 [02:13<00:00,  5.88it/s, loss=0.00737]\n",
      "100%|██████████| 782/782 [00:42<00:00, 18.20it/s, acc=0.989]\n",
      " 50%|█████     | 5/10 [14:41<14:41, 176.28s/it]"
     ]
    },
    {
     "name": "stdout",
     "output_type": "stream",
     "text": [
      "Accuracy : 0.98936\n",
      "Average prediction time 0.050598644539523306 782\n",
      "Epoch:  5\n"
     ]
    },
    {
     "name": "stderr",
     "output_type": "stream",
     "text": [
      "100%|██████████| 782/782 [02:13<00:00,  5.88it/s, loss=0.0675]\n",
      "100%|██████████| 782/782 [00:43<00:00, 18.00it/s, acc=0.989]\n",
      " 60%|██████    | 6/10 [17:38<11:45, 176.38s/it]"
     ]
    },
    {
     "name": "stdout",
     "output_type": "stream",
     "text": [
      "Accuracy : 0.98876\n",
      "Average prediction time 0.05060705382500768 782\n",
      "Epoch:  6\n"
     ]
    },
    {
     "name": "stderr",
     "output_type": "stream",
     "text": [
      "100%|██████████| 782/782 [02:13<00:00,  5.87it/s, loss=0.00183]\n",
      "100%|██████████| 782/782 [00:43<00:00, 18.06it/s, acc=0.99]\n",
      " 70%|███████   | 7/10 [20:34<08:49, 176.41s/it]"
     ]
    },
    {
     "name": "stdout",
     "output_type": "stream",
     "text": [
      "Accuracy : 0.99024\n",
      "Average prediction time 0.05060109305564705 782\n",
      "Epoch:  7\n"
     ]
    },
    {
     "name": "stderr",
     "output_type": "stream",
     "text": [
      "100%|██████████| 782/782 [02:13<00:00,  5.88it/s, loss=0.292]\n",
      "100%|██████████| 782/782 [00:43<00:00, 18.18it/s, acc=0.99]\n",
      " 80%|████████  | 8/10 [23:30<05:52, 176.29s/it]"
     ]
    },
    {
     "name": "stdout",
     "output_type": "stream",
     "text": [
      "Accuracy : 0.99024\n",
      "Average prediction time 0.05059036391470438 782\n",
      "Epoch:  8\n"
     ]
    },
    {
     "name": "stderr",
     "output_type": "stream",
     "text": [
      "100%|██████████| 782/782 [02:13<00:00,  5.88it/s, loss=0.501]\n",
      "100%|██████████| 782/782 [00:43<00:00, 18.01it/s, acc=0.988]\n",
      " 90%|█████████ | 9/10 [26:27<02:56, 176.35s/it]"
     ]
    },
    {
     "name": "stdout",
     "output_type": "stream",
     "text": [
      "Accuracy : 0.98752\n",
      "Average prediction time 0.05064538799588333 782\n",
      "Epoch:  9\n"
     ]
    },
    {
     "name": "stderr",
     "output_type": "stream",
     "text": [
      "100%|██████████| 782/782 [02:13<00:00,  5.88it/s, loss=0.00778]\n",
      "100%|██████████| 782/782 [00:43<00:00, 18.13it/s, acc=0.991]\n",
      "100%|██████████| 10/10 [29:23<00:00, 176.33s/it]\n"
     ]
    },
    {
     "name": "stdout",
     "output_type": "stream",
     "text": [
      "Accuracy : 0.99064\n",
      "Average prediction time 0.050592115163193334 782\n",
      "Finished fine tuning.\n"
     ]
    }
   ],
   "source": [
    "train_path = \"/bigdata/dogs-vs-cats/train/\"\n",
    "test_path = \"/bigdata/dogs-vs-cats/\"\n",
    "\n",
    "\n",
    "model = ModifiedVGG16Model().cuda()\n",
    "optimizer = optim.SGD(model.classifier.parameters(), lr=0.0001, momentum=0.99)\n",
    "trainer = Trainer(train_path, train_path, model, optimizer)\n",
    "\n",
    "trainer.train(epoches = 10)\n",
    "torch.save(model, \"model\")"
   ]
  },
  {
   "cell_type": "code",
   "execution_count": 2,
   "metadata": {},
   "outputs": [
    {
     "name": "stderr",
     "output_type": "stream",
     "text": [
      "  0%|          | 0/1 [00:00<?, ?it/s]"
     ]
    },
    {
     "name": "stdout",
     "output_type": "stream",
     "text": [
      "Epoch:  0\n"
     ]
    },
    {
     "name": "stderr",
     "output_type": "stream",
     "text": [
      "100%|██████████| 782/782 [02:13<00:00,  5.86it/s, loss=0.0156]\n",
      "100%|██████████| 782/782 [00:42<00:00, 18.25it/s]\n",
      "100%|██████████| 1/1 [02:56<00:00, 176.39s/it]\n"
     ]
    }
   ],
   "source": [
    "MODEL_NAME = \"model2\"\n",
    "\n",
    "train_path = \"/bigdata/dogs-vs-cats/train/\"\n",
    "test_path = \"/bigdata/dogs-vs-cats/\"\n",
    "writer = SummaryWriter(log_dir=\"/home/jetzeschuurman/gitProjects/phd/tddl/runs\")\n",
    "\n",
    "model = ModifiedVGG16Model().cuda()\n",
    "optimizer = optim.SGD(model.classifier.parameters(), lr=0.0001, momentum=0.99)\n",
    "trainer = Trainer(train_path, train_path, model, optimizer, writer)\n",
    "\n",
    "trainer.train(epoches = 1)\n",
    "torch.save(model, \"../artifacts/\" + MODEL_NAME)\n",
    "\n",
    "writer.close()"
   ]
  },
  {
   "cell_type": "code",
   "execution_count": null,
   "metadata": {},
   "outputs": [],
   "source": [
    "from torch.utils.tensorboard import SummaryWriter\n",
    "import numpy as np\n",
    "\n",
    "writer = SummaryWriter()\n",
    "\n",
    "for n_iter in range(100):\n",
    "    writer.add_scalar('Loss/train', np.random.random(), n_iter)\n",
    "    writer.add_scalar('Loss/test', np.random.random(), n_iter)\n",
    "    writer.add_scalar('Accuracy/train', np.random.random(), n_iter)\n",
    "    writer.add_scalar('Accuracy/test', np.random.random(), n_iter)"
   ]
  },
  {
   "cell_type": "code",
   "execution_count": 1,
   "metadata": {},
   "outputs": [],
   "source": [
    "%load_ext tensorboard"
   ]
  },
  {
   "cell_type": "code",
   "execution_count": 6,
   "metadata": {},
   "outputs": [
    {
     "data": {
      "text/html": [
       "\n",
       "      <iframe id=\"tensorboard-frame-a1997cdd5f1d7ac2\" width=\"100%\" height=\"800\" frameborder=\"0\">\n",
       "      </iframe>\n",
       "      <script>\n",
       "        (function() {\n",
       "          const frame = document.getElementById(\"tensorboard-frame-a1997cdd5f1d7ac2\");\n",
       "          const url = new URL(\"/\", window.location);\n",
       "          const port = 6009;\n",
       "          if (port) {\n",
       "            url.port = port;\n",
       "          }\n",
       "          frame.src = url;\n",
       "        })();\n",
       "      </script>\n",
       "    "
      ],
      "text/plain": [
       "<IPython.core.display.HTML object>"
      ]
     },
     "metadata": {},
     "output_type": "display_data"
    }
   ],
   "source": [
    "%tensorboard --logdir /home/jetzeschuurman/gitProjects/phd/tddl/notebooks/runs/"
   ]
  },
  {
   "cell_type": "code",
   "execution_count": 5,
   "metadata": {},
   "outputs": [
    {
     "name": "stdout",
     "output_type": "stream",
     "text": [
      "Known TensorBoard instances:\n",
      "  - port 6060: logdir /home/jetzeschuurman/gitProjects/phd/tddl/runs (started 3:42:19 ago; pid 121378)\n",
      "  - port 6008: logdir /home/jetzeschuurman/gitProjects/phd/tddl/notebooks/runs (started 0:01:08 ago; pid 128004)\n",
      "  - port 6007: logdir runs (started 0:02:58 ago; pid 127743)\n"
     ]
    }
   ],
   "source": [
    "from tensorboard import notebook\n",
    "notebook.list()"
   ]
  },
  {
   "cell_type": "code",
   "execution_count": null,
   "metadata": {},
   "outputs": [],
   "source": []
  }
 ],
 "metadata": {
  "interpreter": {
   "hash": "410f5a2154215048c5c4a50456f2ab7ff5c84b265e9461f7a7c2c07eed30bc24"
  },
  "kernelspec": {
   "display_name": "Python 3",
   "language": "python",
   "name": "python3"
  },
  "language_info": {
   "codemirror_mode": {
    "name": "ipython",
    "version": 3
   },
   "file_extension": ".py",
   "mimetype": "text/x-python",
   "name": "python",
   "nbconvert_exporter": "python",
   "pygments_lexer": "ipython3",
   "version": "3.8.5"
  },
  "metadata": {
   "interpreter": {
    "hash": "410f5a2154215048c5c4a50456f2ab7ff5c84b265e9461f7a7c2c07eed30bc24"
   }
  }
 },
 "nbformat": 4,
 "nbformat_minor": 4
}