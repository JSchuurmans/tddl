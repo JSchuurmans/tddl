{
 "cells": [
  {
   "cell_type": "code",
   "execution_count": 1,
   "metadata": {},
   "outputs": [],
   "source": [
    "import yaml\n",
    "from pathlib import Path\n",
    "\n",
    "config_dir = Path(\"/home/jetzeschuurman/gitProjects/phd/tddl/configs/\")"
   ]
  },
  {
   "cell_type": "code",
   "execution_count": 4,
   "metadata": {},
   "outputs": [],
   "source": [
    "training_types = [\"decompose\", \"factorize\"]\n",
    "# layer_groups = [[5, 7, 11, 13, 18, 20, 25, 27, 32, 34, 39, 41, 46, 48, 53, 55]]\n",
    "factorizations = ['tucker', 'cp', 'tt']\n",
    "ranks = [.1, .25, .5, .75, .9]\n",
    "\n",
    "for training_type in training_types:\n",
    "    for factorization in factorizations:\n",
    "        for rank in ranks:\n",
    "            \n",
    "            filename = training_type+\".yml\"\n",
    "            yaml_path = config_dir/ filename\n",
    "            config_data = yaml.load(yaml_path.read_text(), Loader=yaml.Loader)\n",
    "\n",
    "            config_data['factorization'] = factorization\n",
    "            config_data['rank'] = rank\n",
    "\n",
    "            output_fname = f'{training_type[:3]}-{factorization}-r{rank}.yml'\n",
    "            output_path = config_dir / training_type / output_fname\n",
    "            with open(output_path, 'w', encoding='utf8') as outfile:\n",
    "                yaml.dump(config_data, outfile, default_flow_style=False, allow_unicode=True)"
   ]
  },
  {
   "cell_type": "code",
   "execution_count": null,
   "metadata": {},
   "outputs": [],
   "source": []
  }
 ],
 "metadata": {
  "interpreter": {
   "hash": "56ddcafc5f4a65ffc1eba06f4696d06fbf43c848b7a2cf81f3fe8a9e81fc5ea1"
  },
  "kernelspec": {
   "display_name": "Python 3.6.9 64-bit ('venv': venv)",
   "language": "python",
   "name": "python3"
  },
  "language_info": {
   "codemirror_mode": {
    "name": "ipython",
    "version": 3
   },
   "file_extension": ".py",
   "mimetype": "text/x-python",
   "name": "python",
   "nbconvert_exporter": "python",
   "pygments_lexer": "ipython3",
   "version": "3.6.9"
  },
  "orig_nbformat": 4
 },
 "nbformat": 4,
 "nbformat_minor": 2
}
