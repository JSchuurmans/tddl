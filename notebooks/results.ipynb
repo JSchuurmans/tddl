{
 "cells": [
  {
   "cell_type": "code",
   "execution_count": null,
   "source": [
    "runs = {\n",
    "    1625154185: \"original\",\n",
    "    39: \"conv_19_tucker_false\",\n",
    "\n",
    "    32: \"conv_19_tucker_feat_false\",\n",
    "    22: \"conv_19_tucker_feat_clas_false\",\n",
    "    37: \"conv_19_tucker_feat_clas_false\",\n",
    "    99: \"conv_19_tucker_feat_false\",\n",
    "    \n",
    "    53: \"conv_19_tucker_none_false\",\n",
    "\n",
    "    57: \"conv_19_cp_r0.75_l0.01_feat_clas_true\"\n",
    "    78: \"conv_19_cp_r0.5_l0.01_feat_clas_true\"\n",
    "    702: \"conv_19_cp_r0.75_l0.001_feat_clas_true\"\n",
    "\n",
    "    51: \"conv_19_tucker_r0.75_l0.001_feat\"\n",
    "}"
   ],
   "outputs": [],
   "metadata": {}
  }
 ],
 "metadata": {
  "orig_nbformat": 4,
  "language_info": {
   "name": "python"
  }
 },
 "nbformat": 4,
 "nbformat_minor": 2
}