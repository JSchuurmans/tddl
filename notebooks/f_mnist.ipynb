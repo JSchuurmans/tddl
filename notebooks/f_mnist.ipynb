{
 "cells": [
  {
   "cell_type": "code",
   "execution_count": 4,
   "metadata": {},
   "outputs": [],
   "source": [
    "import torch\n",
    "import torchvision\n",
    "from torchvision import datasets\n",
    "from torchvision.transforms import transforms\n",
    "from torchsummary import summary\n",
    "from tddl.data.sets import DatasetFromSubset\n",
    "from tddl.models.wrn import WideResNet\n",
    "\n",
    "# model = torch.hub.load('pytorch/vision:v0.10.0', 'wide_resnet50_2', pretrained=True)\n"
   ]
  },
  {
   "cell_type": "code",
   "execution_count": 19,
   "metadata": {},
   "outputs": [],
   "source": [
    "transform = transforms.Compose([\n",
    "    transforms.ToTensor(),\n",
    "    transforms.Normalize((0.1307,), (0.3081,))\n",
    "])\n",
    "\n",
    "transform_train = transforms.Compose([\n",
    "    transforms.RandomCrop(28, padding=4),\n",
    "    transforms.RandomHorizontalFlip(),\n",
    "    transforms.ToTensor(),\n",
    "    transforms.Normalize((0.1307,), (0.3081,)),\n",
    "])\n",
    "\n",
    "transform_test = transforms.Compose([\n",
    "    transforms.ToTensor(),\n",
    "    transforms.Normalize((0.1307,), (0.3081,)),\n",
    "])"
   ]
  },
  {
   "cell_type": "code",
   "execution_count": 20,
   "metadata": {
    "pycharm": {
     "name": "#%%\n"
    }
   },
   "outputs": [],
   "source": [
    "dataset = datasets.FashionMNIST('/bigdata/f_mnist', train=True, download=True)"
   ]
  },
  {
   "cell_type": "code",
   "execution_count": 21,
   "metadata": {
    "pycharm": {
     "name": "#%%\n"
    }
   },
   "outputs": [],
   "source": [
    "train_dataset, valid_dataset = torch.utils.data.random_split(dataset, (50000, 10000), generator=torch.Generator().manual_seed(42))\n",
    "\n",
    "train_dataset = DatasetFromSubset(\n",
    "    train_dataset, transform=transform_train,\n",
    ")\n",
    "\n",
    "valid_dataset = DatasetFromSubset(\n",
    "    train_dataset, transform=transform_test,\n",
    ")"
   ]
  },
  {
   "cell_type": "code",
   "execution_count": 24,
   "metadata": {},
   "outputs": [],
   "source": [
    "batch_size = 12"
   ]
  },
  {
   "cell_type": "code",
   "execution_count": 25,
   "metadata": {
    "pycharm": {
     "name": "#%%\n"
    }
   },
   "outputs": [],
   "source": [
    "\n",
    "\n",
    "train_loader = torch.utils.data.DataLoader(train_dataset, batch_size=batch_size)\n",
    "valid_loader = torch.utils.data.DataLoader(valid_dataset, batch_size=batch_size)"
   ]
  },
  {
   "cell_type": "code",
   "execution_count": 26,
   "metadata": {
    "pycharm": {
     "name": "#%%\n"
    }
   },
   "outputs": [],
   "source": [
    "\n",
    "from PIL import Image\n",
    "from pathlib import Path\n",
    "import matplotlib.pyplot as plt\n",
    "import numpy as np\n",
    "\n",
    "import torch\n",
    "import torchvision.transforms as T\n",
    "\n",
    "\n",
    "plt.rcParams[\"savefig.bbox\"] = 'tight'\n",
    "# if you change the seed, make sure that the randomly-applied transforms\n",
    "# properly show that the image can be both transformed and *not* transformed!\n",
    "torch.manual_seed(0)\n",
    "\n",
    "\n",
    "def plot(imgs, with_orig=True, row_title=None, **imshow_kwargs):\n",
    "    if not isinstance(imgs[0], list):\n",
    "        # Make a 2d grid even if there's just 1 row\n",
    "        imgs = [imgs]\n",
    "\n",
    "    num_rows = len(imgs)\n",
    "    num_cols = len(imgs[0]) + with_orig\n",
    "    fig, axs = plt.subplots(nrows=num_rows, ncols=num_cols, squeeze=False)\n",
    "    for row_idx, row in enumerate(imgs):\n",
    "        row = [orig_img] + row if with_orig else row\n",
    "        for col_idx, img in enumerate(row):\n",
    "            ax = axs[row_idx, col_idx]\n",
    "            ax.imshow(np.asarray(img), **imshow_kwargs)\n",
    "            ax.set(xticklabels=[], yticklabels=[], xticks=[], yticks=[])\n",
    "\n",
    "    if with_orig:\n",
    "        axs[0, 0].set(title='Original image')\n",
    "        axs[0, 0].title.set_size(8)\n",
    "    if row_title is not None:\n",
    "        for row_idx in range(num_rows):\n",
    "            axs[row_idx, 0].set(ylabel=row_title[row_idx])\n",
    "\n",
    "    plt.tight_layout()"
   ]
  },
  {
   "cell_type": "code",
   "execution_count": 73,
   "metadata": {
    "pycharm": {
     "name": "#%%\n"
    }
   },
   "outputs": [],
   "source": [
    "dataiter = iter(train_loader)\n",
    "dataiter_valid = iter(valid_loader)"
   ]
  },
  {
   "cell_type": "code",
   "execution_count": 66,
   "metadata": {
    "pycharm": {
     "name": "#%%\n"
    }
   },
   "outputs": [],
   "source": [
    "images, labels = dataiter.next()"
   ]
  },
  {
   "cell_type": "code",
   "execution_count": 37,
   "metadata": {
    "pycharm": {
     "name": "#%%\n"
    }
   },
   "outputs": [],
   "source": [
    "img_grid = torchvision.utils.make_grid(images)"
   ]
  },
  {
   "cell_type": "code",
   "execution_count": 68,
   "metadata": {
    "pycharm": {
     "name": "#%%\n"
    }
   },
   "outputs": [],
   "source": [
    "\n",
    "def matplotlib_imshow(img, one_channel=False):\n",
    "    if one_channel:\n",
    "        img = img.mean(dim=0)\n",
    "    img = img * 0.3081 + 0.1307     # unnormalize\n",
    "    if type(img) == torch.Tensor:\n",
    "        npimg = img.numpy()\n",
    "    else:\n",
    "        npimg = img\n",
    "    if one_channel:\n",
    "        plt.imshow(npimg, cmap=\"Greys\")\n",
    "    else:\n",
    "        plt.imshow(np.transpose(npimg, (1, 2, 0)))"
   ]
  },
  {
   "cell_type": "code",
   "execution_count": 72,
   "metadata": {
    "pycharm": {
     "name": "#%%\n"
    }
   },
   "outputs": [
    {
     "data": {
      "image/png": "[encoded data removed]",
      "text/plain": [
       "<Figure size 432x288 with 1 Axes>"
      ]
     },
     "metadata": {
      "needs_background": "light"
     },
     "output_type": "display_data"
    }
   ],
   "source": [
    "images, labels = dataiter.next()\n",
    "img_grid = torchvision.utils.make_grid(images)\n",
    "matplotlib_imshow(img_grid, one_channel=True)"
   ]
  },
  {
   "cell_type": "code",
   "execution_count": 6,
   "metadata": {
    "pycharm": {
     "name": "#%%\n"
    }
   },
   "outputs": [],
   "source": [
    "model = WideResNet(\n",
    "    depth=28,\n",
    "    num_classes=10,\n",
    "    widen_factor=10,\n",
    "    dropRate=0.0\n",
    ").cuda()"
   ]
  },
  {
   "cell_type": "code",
   "execution_count": 7,
   "metadata": {},
   "outputs": [
    {
     "name": "stdout",
     "output_type": "stream",
     "text": [
      "----------------------------------------------------------------\n",
      "        Layer (type)               Output Shape         Param #\n",
      "================================================================\n",
      "            Conv2d-1           [-1, 16, 28, 28]             144\n",
      "       BatchNorm2d-2           [-1, 16, 28, 28]              32\n",
      "              ReLU-3           [-1, 16, 28, 28]               0\n",
      "            Conv2d-4          [-1, 160, 28, 28]          23,040\n",
      "       BatchNorm2d-5          [-1, 160, 28, 28]             320\n",
      "              ReLU-6          [-1, 160, 28, 28]               0\n",
      "            Conv2d-7          [-1, 160, 28, 28]         230,400\n",
      "            Conv2d-8          [-1, 160, 28, 28]           2,560\n",
      "        BasicBlock-9          [-1, 160, 28, 28]               0\n",
      "      BatchNorm2d-10          [-1, 160, 28, 28]             320\n",
      "             ReLU-11          [-1, 160, 28, 28]               0\n",
      "           Conv2d-12          [-1, 160, 28, 28]         230,400\n",
      "      BatchNorm2d-13          [-1, 160, 28, 28]             320\n",
      "             ReLU-14          [-1, 160, 28, 28]               0\n",
      "           Conv2d-15          [-1, 160, 28, 28]         230,400\n",
      "       BasicBlock-16          [-1, 160, 28, 28]               0\n",
      "      BatchNorm2d-17          [-1, 160, 28, 28]             320\n",
      "             ReLU-18          [-1, 160, 28, 28]               0\n",
      "           Conv2d-19          [-1, 160, 28, 28]         230,400\n",
      "      BatchNorm2d-20          [-1, 160, 28, 28]             320\n",
      "             ReLU-21          [-1, 160, 28, 28]               0\n",
      "           Conv2d-22          [-1, 160, 28, 28]         230,400\n",
      "       BasicBlock-23          [-1, 160, 28, 28]               0\n",
      "      BatchNorm2d-24          [-1, 160, 28, 28]             320\n",
      "             ReLU-25          [-1, 160, 28, 28]               0\n",
      "           Conv2d-26          [-1, 160, 28, 28]         230,400\n",
      "      BatchNorm2d-27          [-1, 160, 28, 28]             320\n",
      "             ReLU-28          [-1, 160, 28, 28]               0\n",
      "           Conv2d-29          [-1, 160, 28, 28]         230,400\n",
      "       BasicBlock-30          [-1, 160, 28, 28]               0\n",
      "     NetworkBlock-31          [-1, 160, 28, 28]               0\n",
      "      BatchNorm2d-32          [-1, 160, 28, 28]             320\n",
      "             ReLU-33          [-1, 160, 28, 28]               0\n",
      "           Conv2d-34          [-1, 320, 14, 14]         460,800\n",
      "      BatchNorm2d-35          [-1, 320, 14, 14]             640\n",
      "             ReLU-36          [-1, 320, 14, 14]               0\n",
      "           Conv2d-37          [-1, 320, 14, 14]         921,600\n",
      "           Conv2d-38          [-1, 320, 14, 14]          51,200\n",
      "       BasicBlock-39          [-1, 320, 14, 14]               0\n",
      "      BatchNorm2d-40          [-1, 320, 14, 14]             640\n",
      "             ReLU-41          [-1, 320, 14, 14]               0\n",
      "           Conv2d-42          [-1, 320, 14, 14]         921,600\n",
      "      BatchNorm2d-43          [-1, 320, 14, 14]             640\n",
      "             ReLU-44          [-1, 320, 14, 14]               0\n",
      "           Conv2d-45          [-1, 320, 14, 14]         921,600\n",
      "       BasicBlock-46          [-1, 320, 14, 14]               0\n",
      "      BatchNorm2d-47          [-1, 320, 14, 14]             640\n",
      "             ReLU-48          [-1, 320, 14, 14]               0\n",
      "           Conv2d-49          [-1, 320, 14, 14]         921,600\n",
      "      BatchNorm2d-50          [-1, 320, 14, 14]             640\n",
      "             ReLU-51          [-1, 320, 14, 14]               0\n",
      "           Conv2d-52          [-1, 320, 14, 14]         921,600\n",
      "       BasicBlock-53          [-1, 320, 14, 14]               0\n",
      "      BatchNorm2d-54          [-1, 320, 14, 14]             640\n",
      "             ReLU-55          [-1, 320, 14, 14]               0\n",
      "           Conv2d-56          [-1, 320, 14, 14]         921,600\n",
      "      BatchNorm2d-57          [-1, 320, 14, 14]             640\n",
      "             ReLU-58          [-1, 320, 14, 14]               0\n",
      "           Conv2d-59          [-1, 320, 14, 14]         921,600\n",
      "       BasicBlock-60          [-1, 320, 14, 14]               0\n",
      "     NetworkBlock-61          [-1, 320, 14, 14]               0\n",
      "      BatchNorm2d-62          [-1, 320, 14, 14]             640\n",
      "             ReLU-63          [-1, 320, 14, 14]               0\n",
      "           Conv2d-64            [-1, 640, 7, 7]       1,843,200\n",
      "      BatchNorm2d-65            [-1, 640, 7, 7]           1,280\n",
      "             ReLU-66            [-1, 640, 7, 7]               0\n",
      "           Conv2d-67            [-1, 640, 7, 7]       3,686,400\n",
      "           Conv2d-68            [-1, 640, 7, 7]         204,800\n",
      "       BasicBlock-69            [-1, 640, 7, 7]               0\n",
      "      BatchNorm2d-70            [-1, 640, 7, 7]           1,280\n",
      "             ReLU-71            [-1, 640, 7, 7]               0\n",
      "           Conv2d-72            [-1, 640, 7, 7]       3,686,400\n",
      "      BatchNorm2d-73            [-1, 640, 7, 7]           1,280\n",
      "             ReLU-74            [-1, 640, 7, 7]               0\n",
      "           Conv2d-75            [-1, 640, 7, 7]       3,686,400\n",
      "       BasicBlock-76            [-1, 640, 7, 7]               0\n",
      "      BatchNorm2d-77            [-1, 640, 7, 7]           1,280\n",
      "             ReLU-78            [-1, 640, 7, 7]               0\n",
      "           Conv2d-79            [-1, 640, 7, 7]       3,686,400\n",
      "      BatchNorm2d-80            [-1, 640, 7, 7]           1,280\n",
      "             ReLU-81            [-1, 640, 7, 7]               0\n",
      "           Conv2d-82            [-1, 640, 7, 7]       3,686,400\n",
      "       BasicBlock-83            [-1, 640, 7, 7]               0\n",
      "      BatchNorm2d-84            [-1, 640, 7, 7]           1,280\n",
      "             ReLU-85            [-1, 640, 7, 7]               0\n",
      "           Conv2d-86            [-1, 640, 7, 7]       3,686,400\n",
      "      BatchNorm2d-87            [-1, 640, 7, 7]           1,280\n",
      "             ReLU-88            [-1, 640, 7, 7]               0\n",
      "           Conv2d-89            [-1, 640, 7, 7]       3,686,400\n",
      "       BasicBlock-90            [-1, 640, 7, 7]               0\n",
      "     NetworkBlock-91            [-1, 640, 7, 7]               0\n",
      "      BatchNorm2d-92            [-1, 640, 7, 7]           1,280\n",
      "             ReLU-93            [-1, 640, 7, 7]               0\n",
      "           Linear-94                   [-1, 10]           6,410\n",
      "================================================================\n",
      "Total params: 36,478,906\n",
      "Trainable params: 36,478,906\n",
      "Non-trainable params: 0\n",
      "----------------------------------------------------------------\n",
      "Input size (MB): 0.00\n",
      "Forward/backward pass size (MB): 50.53\n",
      "Params size (MB): 139.16\n",
      "Estimated Total Size (MB): 189.69\n",
      "----------------------------------------------------------------\n"
     ]
    }
   ],
   "source": [
    "summary(model, (1,28,28))"
   ]
  },
  {
   "cell_type": "code",
   "execution_count": null,
   "outputs": [],
   "source": [],
   "metadata": {
    "collapsed": false,
    "pycharm": {
     "name": "#%%\n"
    }
   }
  }
 ],
 "metadata": {
  "interpreter": {
   "hash": "410f5a2154215048c5c4a50456f2ab7ff5c84b265e9461f7a7c2c07eed30bc24"
  },
  "kernelspec": {
   "display_name": "Python 3",
   "language": "python",
   "name": "python3"
  },
  "language_info": {
   "codemirror_mode": {
    "name": "ipython",
    "version": 3
   },
   "file_extension": ".py",
   "mimetype": "text/x-python",
   "name": "python",
   "nbconvert_exporter": "python",
   "pygments_lexer": "ipython3",
   "version": "3.8.10"
  }
 },
 "nbformat": 4,
 "nbformat_minor": 2
}