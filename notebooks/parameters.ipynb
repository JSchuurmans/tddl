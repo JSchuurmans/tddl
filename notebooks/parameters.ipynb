{
 "cells": [
  {
   "cell_type": "code",
   "execution_count": 39,
   "source": [
    "import torch\n",
    "import torchvision\n",
    "from torchsummary import summary\n",
    "import numpy as np"
   ],
   "outputs": [],
   "metadata": {}
  },
  {
   "cell_type": "code",
   "execution_count": 3,
   "source": [
    "model = torch.load(\"/home/jetzeschuurman/gitProjects/phd/tddl/artifacts/f_mnist/parn_18_d0.5_256_sgd_l0.1_g0.1/1629473591/cnn_best\")"
   ],
   "outputs": [],
   "metadata": {}
  },
  {
   "cell_type": "code",
   "execution_count": 6,
   "source": [
    "summary(model, (1,28,28))"
   ],
   "outputs": [
    {
     "output_type": "stream",
     "name": "stdout",
     "text": [
      "----------------------------------------------------------------\n",
      "        Layer (type)               Output Shape         Param #\n",
      "================================================================\n",
      "            Conv2d-1           [-1, 64, 28, 28]             576\n",
      "       BatchNorm2d-2           [-1, 64, 28, 28]             128\n",
      "       BatchNorm2d-3           [-1, 64, 28, 28]             128\n",
      "            Conv2d-4           [-1, 64, 28, 28]          36,864\n",
      "       BatchNorm2d-5           [-1, 64, 28, 28]             128\n",
      "            Conv2d-6           [-1, 64, 28, 28]          36,864\n",
      "       PreActBlock-7           [-1, 64, 28, 28]               0\n",
      "       BatchNorm2d-8           [-1, 64, 28, 28]             128\n",
      "            Conv2d-9           [-1, 64, 28, 28]          36,864\n",
      "      BatchNorm2d-10           [-1, 64, 28, 28]             128\n",
      "           Conv2d-11           [-1, 64, 28, 28]          36,864\n",
      "      PreActBlock-12           [-1, 64, 28, 28]               0\n",
      "      BatchNorm2d-13           [-1, 64, 28, 28]             128\n",
      "           Conv2d-14          [-1, 128, 14, 14]           8,192\n",
      "           Conv2d-15          [-1, 128, 14, 14]          73,728\n",
      "      BatchNorm2d-16          [-1, 128, 14, 14]             256\n",
      "           Conv2d-17          [-1, 128, 14, 14]         147,456\n",
      "      PreActBlock-18          [-1, 128, 14, 14]               0\n",
      "      BatchNorm2d-19          [-1, 128, 14, 14]             256\n",
      "           Conv2d-20          [-1, 128, 14, 14]         147,456\n",
      "      BatchNorm2d-21          [-1, 128, 14, 14]             256\n",
      "           Conv2d-22          [-1, 128, 14, 14]         147,456\n",
      "      PreActBlock-23          [-1, 128, 14, 14]               0\n",
      "      BatchNorm2d-24          [-1, 128, 14, 14]             256\n",
      "           Conv2d-25            [-1, 256, 7, 7]          32,768\n",
      "           Conv2d-26            [-1, 256, 7, 7]         294,912\n",
      "      BatchNorm2d-27            [-1, 256, 7, 7]             512\n",
      "           Conv2d-28            [-1, 256, 7, 7]         589,824\n",
      "      PreActBlock-29            [-1, 256, 7, 7]               0\n",
      "      BatchNorm2d-30            [-1, 256, 7, 7]             512\n",
      "           Conv2d-31            [-1, 256, 7, 7]         589,824\n",
      "      BatchNorm2d-32            [-1, 256, 7, 7]             512\n",
      "           Conv2d-33            [-1, 256, 7, 7]         589,824\n",
      "      PreActBlock-34            [-1, 256, 7, 7]               0\n",
      "      BatchNorm2d-35            [-1, 256, 7, 7]             512\n",
      "           Conv2d-36            [-1, 512, 4, 4]         131,072\n",
      "           Conv2d-37            [-1, 512, 4, 4]       1,179,648\n",
      "      BatchNorm2d-38            [-1, 512, 4, 4]           1,024\n",
      "           Conv2d-39            [-1, 512, 4, 4]       2,359,296\n",
      "      PreActBlock-40            [-1, 512, 4, 4]               0\n",
      "      BatchNorm2d-41            [-1, 512, 4, 4]           1,024\n",
      "           Conv2d-42            [-1, 512, 4, 4]       2,359,296\n",
      "      BatchNorm2d-43            [-1, 512, 4, 4]           1,024\n",
      "           Conv2d-44            [-1, 512, 4, 4]       2,359,296\n",
      "      PreActBlock-45            [-1, 512, 4, 4]               0\n",
      "           Linear-46                   [-1, 10]           5,130\n",
      "================================================================\n",
      "Total params: 11,170,122\n",
      "Trainable params: 11,170,122\n",
      "Non-trainable params: 0\n",
      "----------------------------------------------------------------\n",
      "Input size (MB): 0.00\n",
      "Forward/backward pass size (MB): 8.76\n",
      "Params size (MB): 42.61\n",
      "Estimated Total Size (MB): 51.37\n",
      "----------------------------------------------------------------\n"
     ]
    }
   ],
   "metadata": {}
  },
  {
   "cell_type": "code",
   "execution_count": 7,
   "source": [
    "fact_model = torch.load(\"/home/jetzeschuurman/gitProjects/phd/tddl/artifacts/f_mnist/parn-lr-(1, 2, 3, 4, 5, 6, 7, 8, 9, 10, 11, 12, 13, 14, 15, 16)-tucker-0.1-dFalse-i0.02_bn_32_sgd_l0.01_g0.1/1629539378/fact_model_best\")"
   ],
   "outputs": [],
   "metadata": {}
  },
  {
   "cell_type": "code",
   "execution_count": 40,
   "source": [
    "# summary(fact_model, (1,28,28))"
   ],
   "outputs": [],
   "metadata": {}
  },
  {
   "cell_type": "code",
   "execution_count": 34,
   "source": [],
   "outputs": [],
   "metadata": {}
  },
  {
   "cell_type": "code",
   "execution_count": 49,
   "source": [
    "def count_param(model_name=\"parn-lr-(13, 14, 15, 16)-tucker-0.1-dFalse-i0.02_bn_128_sgd_l0.01_g0.1/1629503533\"):\n",
    "    fact_model = torch.load(f\"/home/jetzeschuurman/gitProjects/phd/tddl/artifacts/f_mnist/{model_name}/fact_model_best\")\n",
    "    n = 0\n",
    "    for name, tensor in fact_model.named_parameters():\n",
    "        n_param = np.prod(tensor.shape)\n",
    "        # print(name, n_param)\n",
    "        n += n_param\n",
    "    del fact_model\n",
    "    print(n)"
   ],
   "outputs": [],
   "metadata": {}
  },
  {
   "cell_type": "code",
   "execution_count": 50,
   "source": [
    "model_name=\"parn-lr-(13, 14, 15, 16)-tucker-0.1-dFalse-i0.02_bn_128_sgd_l0.01_g0.1/1629503533\"\n",
    "count_param(model_name=model_name)"
   ],
   "outputs": [
    {
     "output_type": "stream",
     "name": "stdout",
     "text": [
      "3715180\n"
     ]
    }
   ],
   "metadata": {}
  },
  {
   "cell_type": "code",
   "execution_count": 51,
   "source": [
    "model_name=\"parn-td-(13, 14, 15, 16)-tucker-0.1-dTrue-iFalse_bn_128_sgd_l0.001_g0.0/1629519246\"\n",
    "count_param(model_name=model_name)"
   ],
   "outputs": [
    {
     "output_type": "stream",
     "name": "stdout",
     "text": [
      "3715180\n"
     ]
    }
   ],
   "metadata": {}
  },
  {
   "cell_type": "code",
   "execution_count": 52,
   "source": [
    "model_name=\"parn-lr-(13, 14, 15, 16)-tucker-0.25-dFalse-i0.02_bn_128_sgd_l0.01_g0.1/1629503547\"\n",
    "count_param(model_name=model_name)"
   ],
   "outputs": [
    {
     "output_type": "stream",
     "name": "stdout",
     "text": [
      "5268670\n"
     ]
    }
   ],
   "metadata": {}
  },
  {
   "cell_type": "code",
   "execution_count": 53,
   "source": [
    "model_name=\"parn-td-(13, 14, 15, 16)-tucker-0.25-dTrue-iFalse_bn_128_sgd_l0.001_g0.0/1629519236\"\n",
    "count_param(model_name=model_name)"
   ],
   "outputs": [
    {
     "output_type": "stream",
     "name": "stdout",
     "text": [
      "5268670\n"
     ]
    }
   ],
   "metadata": {}
  },
  {
   "cell_type": "code",
   "execution_count": 54,
   "source": [
    "model_name=\"parn-lr-(13, 14, 15, 16)-tucker-0.5-dFalse-i0.02_bn_128_sgd_l0.01_g0.1/1629503563\"\n",
    "count_param(model_name=model_name)"
   ],
   "outputs": [
    {
     "output_type": "stream",
     "name": "stdout",
     "text": [
      "6437518\n"
     ]
    }
   ],
   "metadata": {}
  },
  {
   "cell_type": "code",
   "execution_count": 55,
   "source": [
    "model_name=\"parn-td-(13, 14, 15, 16)-tucker-0.5-dTrue-iFalse_bn_128_sgd_l0.001_g0.0/1629519205\"\n",
    "count_param(model_name=model_name)"
   ],
   "outputs": [
    {
     "output_type": "stream",
     "name": "stdout",
     "text": [
      "6437518\n"
     ]
    }
   ],
   "metadata": {}
  },
  {
   "cell_type": "code",
   "execution_count": null,
   "source": [],
   "outputs": [],
   "metadata": {}
  },
  {
   "cell_type": "code",
   "execution_count": 55,
   "source": [
    "model_name=\"parn-lr-(1, 2, 3, 4, 5, 6, 7, 8, 9, 10, 11, 12, 13, 14, 15, 16)-tucker-0.9-dFalse-i0.02_bn_128_sgd_l0.01_g0.1/1629719398\"\n",
    "count_param(model_name=model_name)"
   ],
   "outputs": [
    {
     "output_type": "stream",
     "name": "stdout",
     "text": [
      "6437518\n"
     ]
    }
   ],
   "metadata": {}
  },
  {
   "cell_type": "code",
   "execution_count": 55,
   "source": [
    "model_name=\"parn-lr-(1, 2, 3, 4, 5, 6, 7, 8, 9, 10, 11, 12, 13, 14, 15, 16)-tucker-0.75-dFalse-i0.02_bn_128_sgd_l0.01_g0.1/1629719454\"\n",
    "count_param(model_name=model_name)"
   ],
   "outputs": [
    {
     "output_type": "stream",
     "name": "stdout",
     "text": [
      "6437518\n"
     ]
    }
   ],
   "metadata": {}
  },
  {
   "cell_type": "code",
   "execution_count": 55,
   "source": [
    "model_name=\"parn-lr-(1, 2, 3, 4, 5, 6, 7, 8, 9, 10, 11, 12, 13, 14, 15, 16)-tucker-0.5-dFalse-i0.02_bn_128_sgd_l0.01_g0.1/1629719536\"\n",
    "count_param(model_name=model_name)"
   ],
   "outputs": [
    {
     "output_type": "stream",
     "name": "stdout",
     "text": [
      "6437518\n"
     ]
    }
   ],
   "metadata": {}
  },
  {
   "cell_type": "code",
   "execution_count": 55,
   "source": [
    "model_name=\"parn-td-(1, 2, 3, 4, 5, 6, 7, 8, 9, 10, 11, 12, 13, 14, 15, 16)-tucker-0.25-dTrue-iFalse_bn_128_sgd_l0.001_g0.1/1629751879\"\n",
    "count_param(model_name=model_name)"
   ],
   "outputs": [
    {
     "output_type": "stream",
     "name": "stdout",
     "text": [
      "6437518\n"
     ]
    }
   ],
   "metadata": {}
  },
  {
   "cell_type": "code",
   "execution_count": 56,
   "source": [
    "model_name=\"parn-td-(1, 2, 3, 4, 5, 6, 7, 8, 9, 10, 11, 12, 13, 14, 15, 16)-tucker-0.1-dTrue-iFalse_bn_128_sgd_l0.001_g0.1/1629751826\"\n",
    "count_param(model_name=model_name)"
   ],
   "outputs": [
    {
     "output_type": "stream",
     "name": "stdout",
     "text": [
      "1252578\n"
     ]
    }
   ],
   "metadata": {}
  },
  {
   "cell_type": "code",
   "execution_count": null,
   "source": [],
   "outputs": [],
   "metadata": {}
  }
 ],
 "metadata": {
  "orig_nbformat": 4,
  "language_info": {
   "name": "python",
   "version": "3.8.10",
   "mimetype": "text/x-python",
   "codemirror_mode": {
    "name": "ipython",
    "version": 3
   },
   "pygments_lexer": "ipython3",
   "nbconvert_exporter": "python",
   "file_extension": ".py"
  },
  "kernelspec": {
   "name": "python3",
   "display_name": "Python 3.8.10 64-bit ('venv': venv)"
  },
  "interpreter": {
   "hash": "410f5a2154215048c5c4a50456f2ab7ff5c84b265e9461f7a7c2c07eed30bc24"
  }
 },
 "nbformat": 4,
 "nbformat_minor": 2
}