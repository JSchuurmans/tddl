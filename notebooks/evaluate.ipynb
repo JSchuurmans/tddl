{
 "cells": [
  {
   "cell_type": "code",
   "execution_count": 1,
   "metadata": {},
   "outputs": [],
   "source": [
    "%load_ext autoreload\n",
    "%autoreload 2"
   ]
  },
  {
   "cell_type": "code",
   "execution_count": 2,
   "metadata": {},
   "outputs": [],
   "source": [
    "import json\n",
    "from pathlib import Path\n",
    "import pandas as pd\n",
    "import numpy as np\n",
    "import os\n",
    "from datetime import datetime\n",
    "from os.path import isdir"
   ]
  },
  {
   "cell_type": "code",
   "execution_count": 3,
   "metadata": {},
   "outputs": [],
   "source": [
    "from tddl.post_processing.path_utils import logdir_to_paths\n",
    "\n",
    "logdir = Path(\"/bigdata/cifar10/logs/decomposed\")\n",
    "folders = os.listdir(logdir)\n",
    "paths = logdir_to_paths(logdir)\n",
    "\n",
    "print(len(paths))"
   ]
  },
  {
   "cell_type": "code",
   "execution_count": 20,
   "metadata": {},
   "outputs": [],
   "source": [
    "import torch\n",
    "from tddl.data.loaders import fetch_loaders\n",
    "from tddl.trainer import Trainer\n",
    "from tqdm import tqdm\n",
    "\n",
    "\n",
    "def add_test_before_ft(paths, dataset = 'cifar10', data_dir = \"/bigdata/cifar10\", batch = 512, data_workers = 8,\n",
    "    optimizer = None, writer = None, scheduler = None, save = None, tuning = None,):\n",
    "    \n",
    "    train_loader, valid_loader, test_loader = fetch_loaders(\n",
    "        dataset=dataset,\n",
    "        path=data_dir,\n",
    "        batch_size=batch,\n",
    "        data_workers=data_workers,\n",
    "        valid_size=5000,\n",
    "    )\n",
    "    \n",
    "    for path in tqdm(paths):\n",
    "        if path.joinpath('test_before_training.json').is_file():\n",
    "            with open(path.joinpath('results_before_training.json')) as f:\n",
    "                results_before_training = json.load(f)\n",
    "\n",
    "            with open(path.joinpath('results_approximation_error.json')) as f:\n",
    "                results_approximation_error = json.load(f)\n",
    "\n",
    "            with open(path.joinpath('test_before_training.json')) as f:\n",
    "                test_before_training = json.load(f)\n",
    "\n",
    "            # test_before_training = {\"test_acc\": 0.9137, \"test_loss\": 0.0013673128426074982}\n",
    "            results_before_training.update(test_before_training)\n",
    "            results_approximation_error['test_acc_before_ft'] = test_before_training['test_acc']\n",
    "\n",
    "            # with open(path.joinpath('results_before_training.json'), 'w') as f:\n",
    "            #     json.dump(results_before_training, f)\n",
    "            with open(path.joinpath('results_approximation_error.json'), 'w') as f:\n",
    "                json.dump(results_approximation_error, f)\n",
    "\n",
    "            continue\n",
    "\n",
    "        print(path)\n",
    "        # load decomposed model \n",
    "        model_path = path / \"model_after_fact.pth\"\n",
    "\n",
    "        model = torch.load(model_path)\n",
    "\n",
    "        # load trainer\n",
    "        trainer = Trainer(\n",
    "            train_loader, valid_loader, test_loader,\n",
    "            model, optimizer, writer, \n",
    "            scheduler=scheduler, save=save, tuning=tuning)\n",
    "\n",
    "        # test \n",
    "        test_acc, test_loss = trainer.test(loader=\"test\")\n",
    "\n",
    "        # write results\n",
    "        with open(path.joinpath('results_before_training.json')) as f:\n",
    "            results_before_training = json.load(f)\n",
    "        # with open(path.joinpath('results_before_training.json'), 'w') as f:\n",
    "        #     results_before_training = json.load(f)\n",
    "\n",
    "        test_before_training = {\n",
    "                \"test_acc\": test_acc,\n",
    "                \"test_loss\": test_loss,\n",
    "            }\n",
    "\n",
    "        results_before_training.update(test_before_training)\n",
    "\n",
    "        with open(path.joinpath('results_before_training.json'), 'w') as f:\n",
    "            json.dump(results_before_training, f)\n",
    "\n",
    "\n",
    "\n",
    "        with open(path.joinpath('results_approximation_error.json')) as f:\n",
    "            results_approximation_error = json.load(f)\n",
    "        \n",
    "        results_approximation_error['test_acc_before_ft'] = test_before_training['test_acc']\n",
    "\n",
    "        with open(path.joinpath('results_approximation_error.json'), 'w') as f:\n",
    "            json.dump(results_approximation_error, f)\n",
    "\n",
    "        # with open(path.joinpath('test_before_training.json'), 'w') as f:\n",
    "        #     json.dump(test_before_training, f)\n",
    "        # append to \"results_before_training.json\""
   ]
  },
  {
   "cell_type": "code",
   "execution_count": 19,
   "metadata": {},
   "outputs": [
    {
     "name": "stdout",
     "output_type": "stream",
     "text": [
      "250\n",
      "Files already downloaded and verified\n",
      "Files already downloaded and verified\n",
      "Files already downloaded and verified\n",
      "Files already downloaded and verified\n"
     ]
    },
    {
     "name": "stderr",
     "output_type": "stream",
     "text": [
      "  0%|          | 0/250 [00:00<?, ?it/s]"
     ]
    },
    {
     "name": "stdout",
     "output_type": "stream",
     "text": [
      "/bigdata/cifar10/logs/garipov/decomposed/1647854386/gar-lr-[2]-tucker-0.9-dTrue-iNone_bn_128_sgd_l0.0001_g0.0_sTrue\n"
     ]
    },
    {
     "name": "stderr",
     "output_type": "stream",
     "text": [
      "100%|██████████| 20/20 [00:00<00:00, 31.70it/s]\n",
      "  0%|          | 1/250 [00:00<03:05,  1.34it/s]"
     ]
    },
    {
     "name": "stdout",
     "output_type": "stream",
     "text": [
      "/bigdata/cifar10/logs/garipov/decomposed/1647856653/gar-lr-[2]-tucker-0.9-dTrue-iNone_bn_128_sgd_l0.0001_g0.0_sTrue\n"
     ]
    },
    {
     "name": "stderr",
     "output_type": "stream",
     "text": [
      "100%|██████████| 20/20 [00:00<00:00, 33.59it/s]\n",
      "  1%|          | 2/250 [00:01<02:57,  1.40it/s]"
     ]
    },
    {
     "name": "stdout",
     "output_type": "stream",
     "text": [
      "/bigdata/cifar10/logs/garipov/decomposed/1647780784/gar-lr-[4]-cp-0.75-dTrue-iNone_bn_128_sgd_l0.0001_g0.0_sTrue\n"
     ]
    },
    {
     "name": "stderr",
     "output_type": "stream",
     "text": [
      "100%|██████████| 20/20 [00:00<00:00, 31.91it/s]\n",
      "  1%|          | 3/250 [00:02<02:54,  1.41it/s]"
     ]
    },
    {
     "name": "stdout",
     "output_type": "stream",
     "text": [
      "/bigdata/cifar10/logs/garipov/decomposed/1647775280/gar-lr-[2]-cp-0.75-dTrue-iNone_bn_128_sgd_l0.0001_g0.0_sTrue\n"
     ]
    },
    {
     "name": "stderr",
     "output_type": "stream",
     "text": [
      "100%|██████████| 20/20 [00:00<00:00, 31.09it/s]\n",
      "  2%|▏         | 4/250 [00:02<02:54,  1.41it/s]"
     ]
    },
    {
     "name": "stdout",
     "output_type": "stream",
     "text": [
      "/bigdata/cifar10/logs/garipov/decomposed/1647857378/gar-lr-[6]-tucker-0.5-dTrue-iNone_bn_128_sgd_l0.0001_g0.0_sTrue\n"
     ]
    },
    {
     "name": "stderr",
     "output_type": "stream",
     "text": [
      "100%|██████████| 20/20 [00:00<00:00, 30.93it/s]\n",
      "  2%|▏         | 5/250 [00:03<02:53,  1.41it/s]"
     ]
    },
    {
     "name": "stdout",
     "output_type": "stream",
     "text": [
      "/bigdata/cifar10/logs/garipov/decomposed/1647777486/gar-lr-[2]-cp-0.1-dTrue-iNone_bn_128_sgd_l0.0001_g0.0_sTrue\n"
     ]
    },
    {
     "name": "stderr",
     "output_type": "stream",
     "text": [
      "100%|██████████| 20/20 [00:00<00:00, 31.98it/s]\n",
      "  2%|▏         | 6/250 [00:04<02:54,  1.39it/s]"
     ]
    },
    {
     "name": "stdout",
     "output_type": "stream",
     "text": [
      "/bigdata/cifar10/logs/garipov/decomposed/1647781287/gar-lr-[6]-cp-0.75-dTrue-iNone_bn_128_sgd_l0.0001_g0.0_sTrue\n"
     ]
    },
    {
     "name": "stderr",
     "output_type": "stream",
     "text": [
      "100%|██████████| 20/20 [00:00<00:00, 29.36it/s]\n",
      "  3%|▎         | 7/250 [00:05<03:00,  1.35it/s]"
     ]
    },
    {
     "name": "stdout",
     "output_type": "stream",
     "text": [
      "/bigdata/cifar10/logs/garipov/decomposed/1647774192/gar-lr-[8]-cp-0.5-dTrue-iNone_bn_128_sgd_l0.0001_g0.0_sTrue\n"
     ]
    },
    {
     "name": "stderr",
     "output_type": "stream",
     "text": [
      "100%|██████████| 20/20 [00:00<00:00, 33.53it/s]\n",
      "  3%|▎         | 8/250 [00:05<02:53,  1.40it/s]"
     ]
    },
    {
     "name": "stdout",
     "output_type": "stream",
     "text": [
      "/bigdata/cifar10/logs/garipov/decomposed/1647778869/gar-lr-[6]-cp-0.9-dTrue-iNone_bn_128_sgd_l0.0001_g0.0_sTrue\n"
     ]
    },
    {
     "name": "stderr",
     "output_type": "stream",
     "text": [
      "100%|██████████| 20/20 [00:00<00:00, 32.28it/s]\n",
      "  4%|▎         | 9/250 [00:06<02:49,  1.42it/s]"
     ]
    },
    {
     "name": "stdout",
     "output_type": "stream",
     "text": [
      "/bigdata/cifar10/logs/garipov/decomposed/1647775755/gar-lr-[4]-cp-0.75-dTrue-iNone_bn_128_sgd_l0.0001_g0.0_sTrue\n"
     ]
    },
    {
     "name": "stderr",
     "output_type": "stream",
     "text": [
      "100%|██████████| 20/20 [00:00<00:00, 32.38it/s]\n",
      "  4%|▍         | 10/250 [00:07<02:46,  1.44it/s]"
     ]
    },
    {
     "name": "stdout",
     "output_type": "stream",
     "text": [
      "/bigdata/cifar10/logs/garipov/decomposed/1647857651/gar-lr-[8]-tucker-0.1-dTrue-iNone_bn_128_sgd_l0.0001_g0.0_sTrue\n"
     ]
    },
    {
     "name": "stderr",
     "output_type": "stream",
     "text": [
      "100%|██████████| 20/20 [00:00<00:00, 31.05it/s]\n",
      "  4%|▍         | 11/250 [00:07<02:46,  1.43it/s]"
     ]
    },
    {
     "name": "stdout",
     "output_type": "stream",
     "text": [
      "/bigdata/cifar10/logs/garipov/decomposed/1647775377/gar-lr-[2]-cp-0.9-dTrue-iNone_bn_128_sgd_l0.0001_g0.0_sTrue\n"
     ]
    },
    {
     "name": "stderr",
     "output_type": "stream",
     "text": [
      "100%|██████████| 20/20 [00:00<00:00, 28.62it/s]\n",
      "  5%|▍         | 12/250 [00:08<02:52,  1.38it/s]"
     ]
    },
    {
     "name": "stdout",
     "output_type": "stream",
     "text": [
      "/bigdata/cifar10/logs/garipov/decomposed/1647779790/gar-lr-[10]-cp-0.75-dTrue-iNone_bn_128_sgd_l0.0001_g0.0_sTrue\n"
     ]
    },
    {
     "name": "stderr",
     "output_type": "stream",
     "text": [
      "100%|██████████| 20/20 [00:00<00:00, 32.57it/s]\n",
      "  5%|▌         | 13/250 [00:09<02:48,  1.41it/s]"
     ]
    },
    {
     "name": "stdout",
     "output_type": "stream",
     "text": [
      "/bigdata/cifar10/logs/garipov/decomposed/1647856291/gar-lr-[2]-tucker-0.1-dTrue-iNone_bn_128_sgd_l0.0001_g0.0_sTrue\n"
     ]
    },
    {
     "name": "stderr",
     "output_type": "stream",
     "text": [
      "100%|██████████| 20/20 [00:00<00:00, 31.11it/s]\n",
      "  6%|▌         | 14/250 [00:09<02:46,  1.42it/s]"
     ]
    },
    {
     "name": "stdout",
     "output_type": "stream",
     "text": [
      "/bigdata/cifar10/logs/garipov/decomposed/1647860740/gar-lr-[10]-tucker-0.9-dTrue-iNone_bn_128_sgd_l0.0001_g0.0_sTrue\n"
     ]
    },
    {
     "name": "stderr",
     "output_type": "stream",
     "text": [
      "100%|██████████| 20/20 [00:00<00:00, 31.14it/s]\n",
      "  6%|▌         | 15/250 [00:10<02:51,  1.37it/s]"
     ]
    },
    {
     "name": "stdout",
     "output_type": "stream",
     "text": [
      "/bigdata/cifar10/logs/garipov/decomposed/1647861917/gar-lr-[6]-tucker-0.5-dTrue-iNone_bn_128_sgd_l0.0001_g0.0_sTrue\n"
     ]
    },
    {
     "name": "stderr",
     "output_type": "stream",
     "text": [
      "100%|██████████| 20/20 [00:00<00:00, 31.76it/s]\n",
      "  6%|▋         | 16/250 [00:11<02:49,  1.38it/s]"
     ]
    },
    {
     "name": "stdout",
     "output_type": "stream",
     "text": [
      "/bigdata/cifar10/logs/garipov/decomposed/1647782726/gar-lr-[2]-cp-0.5-dTrue-iNone_bn_128_sgd_l0.0001_g0.0_sTrue\n"
     ]
    },
    {
     "name": "stderr",
     "output_type": "stream",
     "text": [
      "100%|██████████| 20/20 [00:00<00:00, 32.60it/s]\n",
      "  7%|▋         | 17/250 [00:12<02:46,  1.40it/s]"
     ]
    },
    {
     "name": "stdout",
     "output_type": "stream",
     "text": [
      "/bigdata/cifar10/logs/garipov/decomposed/1647781183/gar-lr-[6]-cp-0.5-dTrue-iNone_bn_128_sgd_l0.0001_g0.0_sTrue\n"
     ]
    },
    {
     "name": "stderr",
     "output_type": "stream",
     "text": [
      "100%|██████████| 20/20 [00:00<00:00, 32.33it/s]\n",
      "  7%|▋         | 18/250 [00:12<02:44,  1.41it/s]"
     ]
    },
    {
     "name": "stdout",
     "output_type": "stream",
     "text": [
      "/bigdata/cifar10/logs/garipov/decomposed/1647781802/gar-lr-[8]-cp-0.75-dTrue-iNone_bn_128_sgd_l0.0001_g0.0_sTrue\n"
     ]
    },
    {
     "name": "stderr",
     "output_type": "stream",
     "text": [
      "100%|██████████| 20/20 [00:00<00:00, 29.49it/s]\n",
      "  8%|▊         | 19/250 [00:13<02:47,  1.38it/s]"
     ]
    },
    {
     "name": "stdout",
     "output_type": "stream",
     "text": [
      "/bigdata/cifar10/logs/garipov/decomposed/1647863283/gar-lr-[2]-tucker-0.5-dTrue-iNone_bn_128_sgd_l0.0001_g0.0_sTrue\n"
     ]
    },
    {
     "name": "stderr",
     "output_type": "stream",
     "text": [
      "100%|██████████| 20/20 [00:00<00:00, 31.02it/s]\n",
      "  8%|▊         | 20/250 [00:14<02:47,  1.37it/s]"
     ]
    },
    {
     "name": "stdout",
     "output_type": "stream",
     "text": [
      "/bigdata/cifar10/logs/garipov/decomposed/1647778361/gar-lr-[4]-cp-0.9-dTrue-iNone_bn_128_sgd_l0.0001_g0.0_sTrue\n"
     ]
    },
    {
     "name": "stderr",
     "output_type": "stream",
     "text": [
      "100%|██████████| 20/20 [00:00<00:00, 31.30it/s]\n",
      "  8%|▊         | 21/250 [00:15<02:46,  1.38it/s]"
     ]
    },
    {
     "name": "stdout",
     "output_type": "stream",
     "text": [
      "/bigdata/cifar10/logs/garipov/decomposed/1647859832/gar-lr-[6]-tucker-0.9-dTrue-iNone_bn_128_sgd_l0.0001_g0.0_sTrue\n"
     ]
    },
    {
     "name": "stderr",
     "output_type": "stream",
     "text": [
      "100%|██████████| 20/20 [00:00<00:00, 31.46it/s]\n",
      "  9%|▉         | 22/250 [00:15<02:46,  1.37it/s]"
     ]
    },
    {
     "name": "stdout",
     "output_type": "stream",
     "text": [
      "/bigdata/cifar10/logs/garipov/decomposed/1647783026/gar-lr-[4]-cp-0.1-dTrue-iNone_bn_128_sgd_l0.0001_g0.0_sTrue\n"
     ]
    },
    {
     "name": "stderr",
     "output_type": "stream",
     "text": [
      "100%|██████████| 20/20 [00:00<00:00, 32.78it/s]\n",
      "  9%|▉         | 23/250 [00:16<02:45,  1.37it/s]"
     ]
    },
    {
     "name": "stdout",
     "output_type": "stream",
     "text": [
      "/bigdata/cifar10/logs/garipov/decomposed/1647865013/gar-lr-[10]-tucker-0.25-dTrue-iNone_bn_128_sgd_l0.0001_g0.0_sTrue\n"
     ]
    },
    {
     "name": "stderr",
     "output_type": "stream",
     "text": [
      "100%|██████████| 20/20 [00:00<00:00, 31.93it/s]\n",
      " 10%|▉         | 24/250 [00:17<02:43,  1.39it/s]"
     ]
    },
    {
     "name": "stdout",
     "output_type": "stream",
     "text": [
      "/bigdata/cifar10/logs/garipov/decomposed/1647862099/gar-lr-[6]-tucker-0.9-dTrue-iNone_bn_128_sgd_l0.0001_g0.0_sTrue\n"
     ]
    },
    {
     "name": "stderr",
     "output_type": "stream",
     "text": [
      "100%|██████████| 20/20 [00:00<00:00, 32.29it/s]\n",
      " 10%|█         | 25/250 [00:17<02:41,  1.39it/s]"
     ]
    },
    {
     "name": "stdout",
     "output_type": "stream",
     "text": [
      "/bigdata/cifar10/logs/garipov/decomposed/1647863374/gar-lr-[2]-tucker-0.75-dTrue-iNone_bn_128_sgd_l0.0001_g0.0_sTrue\n"
     ]
    },
    {
     "name": "stderr",
     "output_type": "stream",
     "text": [
      "100%|██████████| 20/20 [00:00<00:00, 31.77it/s]\n",
      " 10%|█         | 26/250 [00:18<02:39,  1.40it/s]"
     ]
    },
    {
     "name": "stdout",
     "output_type": "stream",
     "text": [
      "/bigdata/cifar10/logs/garipov/decomposed/1647855564/gar-lr-[8]-tucker-0.5-dTrue-iNone_bn_128_sgd_l0.0001_g0.0_sTrue\n"
     ]
    },
    {
     "name": "stderr",
     "output_type": "stream",
     "text": [
      "100%|██████████| 20/20 [00:00<00:00, 32.01it/s]\n",
      " 11%|█         | 27/250 [00:19<02:36,  1.42it/s]"
     ]
    },
    {
     "name": "stdout",
     "output_type": "stream",
     "text": [
      "/bigdata/cifar10/logs/garipov/decomposed/1647779075/gar-lr-[8]-cp-0.25-dTrue-iNone_bn_128_sgd_l0.0001_g0.0_sTrue\n"
     ]
    },
    {
     "name": "stderr",
     "output_type": "stream",
     "text": [
      "100%|██████████| 20/20 [00:00<00:00, 31.18it/s]\n",
      " 11%|█         | 28/250 [00:20<02:35,  1.42it/s]"
     ]
    },
    {
     "name": "stdout",
     "output_type": "stream",
     "text": [
      "/bigdata/cifar10/logs/garipov/decomposed/1647861102/gar-lr-[2]-tucker-0.75-dTrue-iNone_bn_128_sgd_l0.0001_g0.0_sTrue\n"
     ]
    },
    {
     "name": "stderr",
     "output_type": "stream",
     "text": [
      "100%|██████████| 20/20 [00:00<00:00, 30.26it/s]\n",
      " 12%|█▏        | 29/250 [00:20<02:41,  1.37it/s]"
     ]
    },
    {
     "name": "stdout",
     "output_type": "stream",
     "text": [
      "/bigdata/cifar10/logs/garipov/decomposed/1647863918/gar-lr-[4]-tucker-0.9-dTrue-iNone_bn_128_sgd_l0.0001_g0.0_sTrue\n"
     ]
    },
    {
     "name": "stderr",
     "output_type": "stream",
     "text": [
      "100%|██████████| 20/20 [00:00<00:00, 31.62it/s]\n",
      " 12%|█▏        | 30/250 [00:21<02:40,  1.37it/s]"
     ]
    },
    {
     "name": "stdout",
     "output_type": "stream",
     "text": [
      "/bigdata/cifar10/logs/garipov/decomposed/1647865104/gar-lr-[10]-tucker-0.5-dTrue-iNone_bn_128_sgd_l0.0001_g0.0_sTrue\n"
     ]
    },
    {
     "name": "stderr",
     "output_type": "stream",
     "text": [
      "100%|██████████| 20/20 [00:00<00:00, 30.60it/s]\n",
      " 12%|█▏        | 31/250 [00:22<02:39,  1.37it/s]"
     ]
    },
    {
     "name": "stdout",
     "output_type": "stream",
     "text": [
      "/bigdata/cifar10/logs/garipov/decomposed/1647776971/gar-lr-[10]-cp-0.1-dTrue-iNone_bn_128_sgd_l0.0001_g0.0_sTrue\n"
     ]
    },
    {
     "name": "stderr",
     "output_type": "stream",
     "text": [
      "100%|██████████| 20/20 [00:00<00:00, 31.52it/s]\n",
      " 13%|█▎        | 32/250 [00:22<02:34,  1.41it/s]"
     ]
    },
    {
     "name": "stdout",
     "output_type": "stream",
     "text": [
      "/bigdata/cifar10/logs/garipov/decomposed/1647772755/gar-lr-[2]-cp-0.5-dTrue-iNone_bn_128_sgd_l0.0001_g0.0_sTrue\n"
     ]
    },
    {
     "name": "stderr",
     "output_type": "stream",
     "text": [
      "100%|██████████| 20/20 [00:00<00:00, 31.12it/s]\n",
      " 13%|█▎        | 33/250 [00:23<02:34,  1.40it/s]"
     ]
    },
    {
     "name": "stdout",
     "output_type": "stream",
     "text": [
      "/bigdata/cifar10/logs/garipov/decomposed/1647775959/gar-lr-[6]-cp-0.1-dTrue-iNone_bn_128_sgd_l0.0001_g0.0_sTrue\n"
     ]
    },
    {
     "name": "stderr",
     "output_type": "stream",
     "text": [
      "100%|██████████| 20/20 [00:00<00:00, 32.08it/s]\n",
      " 14%|█▎        | 34/250 [00:24<02:33,  1.41it/s]"
     ]
    },
    {
     "name": "stdout",
     "output_type": "stream",
     "text": [
      "/bigdata/cifar10/logs/garipov/decomposed/1647778064/gar-lr-[4]-cp-0.25-dTrue-iNone_bn_128_sgd_l0.0001_g0.0_sTrue\n"
     ]
    },
    {
     "name": "stderr",
     "output_type": "stream",
     "text": [
      "100%|██████████| 20/20 [00:00<00:00, 31.00it/s]\n",
      " 14%|█▍        | 35/250 [00:25<02:35,  1.38it/s]"
     ]
    },
    {
     "name": "stdout",
     "output_type": "stream",
     "text": [
      "/bigdata/cifar10/logs/garipov/decomposed/1647784847/gar-lr-[10]-cp-0.75-dTrue-iNone_bn_128_sgd_l0.0001_g0.0_sTrue\n"
     ]
    },
    {
     "name": "stderr",
     "output_type": "stream",
     "text": [
      "100%|██████████| 20/20 [00:00<00:00, 30.78it/s]\n",
      " 14%|█▍        | 36/250 [00:25<02:36,  1.37it/s]"
     ]
    },
    {
     "name": "stdout",
     "output_type": "stream",
     "text": [
      "/bigdata/cifar10/logs/garipov/decomposed/1647780497/gar-lr-[4]-cp-0.1-dTrue-iNone_bn_128_sgd_l0.0001_g0.0_sTrue\n"
     ]
    },
    {
     "name": "stderr",
     "output_type": "stream",
     "text": [
      "100%|██████████| 20/20 [00:00<00:00, 30.32it/s]\n",
      " 15%|█▍        | 37/250 [00:26<02:36,  1.36it/s]"
     ]
    },
    {
     "name": "stdout",
     "output_type": "stream",
     "text": [
      "/bigdata/cifar10/logs/garipov/decomposed/1647783925/gar-lr-[6]-cp-0.9-dTrue-iNone_bn_128_sgd_l0.0001_g0.0_sTrue\n"
     ]
    },
    {
     "name": "stderr",
     "output_type": "stream",
     "text": [
      "100%|██████████| 20/20 [00:00<00:00, 32.42it/s]\n",
      " 15%|█▌        | 38/250 [00:27<02:32,  1.39it/s]"
     ]
    },
    {
     "name": "stdout",
     "output_type": "stream",
     "text": [
      "/bigdata/cifar10/logs/garipov/decomposed/1647776050/gar-lr-[6]-cp-0.25-dTrue-iNone_bn_128_sgd_l0.0001_g0.0_sTrue\n"
     ]
    },
    {
     "name": "stderr",
     "output_type": "stream",
     "text": [
      "100%|██████████| 20/20 [00:00<00:00, 32.25it/s]\n",
      " 16%|█▌        | 39/250 [00:27<02:27,  1.43it/s]"
     ]
    },
    {
     "name": "stdout",
     "output_type": "stream",
     "text": [
      "/bigdata/cifar10/logs/garipov/decomposed/1647854838/gar-lr-[4]-tucker-0.9-dTrue-iNone_bn_128_sgd_l0.0001_g0.0_sTrue\n"
     ]
    },
    {
     "name": "stderr",
     "output_type": "stream",
     "text": [
      "100%|██████████| 20/20 [00:00<00:00, 30.24it/s]\n",
      " 16%|█▌        | 40/250 [00:28<02:30,  1.40it/s]"
     ]
    },
    {
     "name": "stdout",
     "output_type": "stream",
     "text": [
      "/bigdata/cifar10/logs/garipov/decomposed/1647780198/gar-lr-[2]-cp-0.5-dTrue-iNone_bn_128_sgd_l0.0001_g0.0_sTrue\n"
     ]
    },
    {
     "name": "stderr",
     "output_type": "stream",
     "text": [
      "100%|██████████| 20/20 [00:00<00:00, 31.76it/s]\n",
      " 16%|█▋        | 41/250 [00:29<02:28,  1.40it/s]"
     ]
    },
    {
     "name": "stdout",
     "output_type": "stream",
     "text": [
      "/bigdata/cifar10/logs/garipov/decomposed/1647776246/gar-lr-[6]-cp-0.75-dTrue-iNone_bn_128_sgd_l0.0001_g0.0_sTrue\n"
     ]
    },
    {
     "name": "stderr",
     "output_type": "stream",
     "text": [
      "100%|██████████| 20/20 [00:00<00:00, 31.50it/s]\n",
      " 17%|█▋        | 42/250 [00:30<02:28,  1.40it/s]"
     ]
    },
    {
     "name": "stdout",
     "output_type": "stream",
     "text": [
      "/bigdata/cifar10/logs/garipov/decomposed/1647854206/gar-lr-[2]-tucker-0.5-dTrue-iNone_bn_128_sgd_l0.0001_g0.0_sTrue\n"
     ]
    },
    {
     "name": "stderr",
     "output_type": "stream",
     "text": [
      "100%|██████████| 20/20 [00:00<00:00, 30.77it/s]\n",
      " 17%|█▋        | 43/250 [00:30<02:30,  1.38it/s]"
     ]
    },
    {
     "name": "stdout",
     "output_type": "stream",
     "text": [
      "/bigdata/cifar10/logs/garipov/decomposed/1647780992/gar-lr-[6]-cp-0.1-dTrue-iNone_bn_128_sgd_l0.0001_g0.0_sTrue\n"
     ]
    },
    {
     "name": "stderr",
     "output_type": "stream",
     "text": [
      "100%|██████████| 20/20 [00:00<00:00, 30.73it/s]\n",
      " 18%|█▊        | 44/250 [00:31<02:29,  1.38it/s]"
     ]
    },
    {
     "name": "stdout",
     "output_type": "stream",
     "text": [
      "/bigdata/cifar10/logs/garipov/decomposed/1647779589/gar-lr-[10]-cp-0.25-dTrue-iNone_bn_128_sgd_l0.0001_g0.0_sTrue\n"
     ]
    },
    {
     "name": "stderr",
     "output_type": "stream",
     "text": [
      "100%|██████████| 20/20 [00:00<00:00, 33.18it/s]\n",
      " 18%|█▊        | 45/250 [00:32<02:25,  1.41it/s]"
     ]
    },
    {
     "name": "stdout",
     "output_type": "stream",
     "text": [
      "/bigdata/cifar10/logs/garipov/decomposed/1647854657/gar-lr-[4]-tucker-0.5-dTrue-iNone_bn_128_sgd_l0.0001_g0.0_sTrue\n"
     ]
    },
    {
     "name": "stderr",
     "output_type": "stream",
     "text": [
      "100%|██████████| 20/20 [00:00<00:00, 30.86it/s]\n",
      " 18%|█▊        | 46/250 [00:32<02:24,  1.41it/s]"
     ]
    },
    {
     "name": "stdout",
     "output_type": "stream",
     "text": [
      "/bigdata/cifar10/logs/garipov/decomposed/1647779275/gar-lr-[8]-cp-0.75-dTrue-iNone_bn_128_sgd_l0.0001_g0.0_sTrue\n"
     ]
    },
    {
     "name": "stderr",
     "output_type": "stream",
     "text": [
      "100%|██████████| 20/20 [00:00<00:00, 29.58it/s]\n",
      " 19%|█▉        | 47/250 [00:33<02:27,  1.38it/s]"
     ]
    },
    {
     "name": "stdout",
     "output_type": "stream",
     "text": [
      "/bigdata/cifar10/logs/garipov/decomposed/1647780395/gar-lr-[2]-cp-0.9-dTrue-iNone_bn_128_sgd_l0.0001_g0.0_sTrue\n"
     ]
    },
    {
     "name": "stderr",
     "output_type": "stream",
     "text": [
      "100%|██████████| 20/20 [00:00<00:00, 32.19it/s]\n",
      " 19%|█▉        | 48/250 [00:34<02:24,  1.39it/s]"
     ]
    },
    {
     "name": "stdout",
     "output_type": "stream",
     "text": [
      "/bigdata/cifar10/logs/garipov/decomposed/1647858833/gar-lr-[2]-tucker-0.75-dTrue-iNone_bn_128_sgd_l0.0001_g0.0_sTrue\n"
     ]
    },
    {
     "name": "stderr",
     "output_type": "stream",
     "text": [
      "100%|██████████| 20/20 [00:00<00:00, 31.59it/s]\n",
      " 20%|█▉        | 49/250 [00:35<02:23,  1.40it/s]"
     ]
    },
    {
     "name": "stdout",
     "output_type": "stream",
     "text": [
      "/bigdata/cifar10/logs/garipov/decomposed/1647854566/gar-lr-[4]-tucker-0.25-dTrue-iNone_bn_128_sgd_l0.0001_g0.0_sTrue\n"
     ]
    },
    {
     "name": "stderr",
     "output_type": "stream",
     "text": [
      "100%|██████████| 20/20 [00:00<00:00, 31.72it/s]\n",
      " 20%|██        | 50/250 [00:35<02:27,  1.36it/s]"
     ]
    },
    {
     "name": "stdout",
     "output_type": "stream",
     "text": [
      "/bigdata/cifar10/logs/garipov/decomposed/1647860468/gar-lr-[10]-tucker-0.25-dTrue-iNone_bn_128_sgd_l0.0001_g0.0_sTrue\n"
     ]
    },
    {
     "name": "stderr",
     "output_type": "stream",
     "text": [
      "100%|██████████| 20/20 [00:00<00:00, 31.46it/s]\n",
      " 20%|██        | 51/250 [00:36<02:27,  1.35it/s]"
     ]
    },
    {
     "name": "stdout",
     "output_type": "stream",
     "text": [
      "/bigdata/cifar10/logs/garipov/decomposed/1647777672/gar-lr-[2]-cp-0.5-dTrue-iNone_bn_128_sgd_l0.0001_g0.0_sTrue\n"
     ]
    },
    {
     "name": "stderr",
     "output_type": "stream",
     "text": [
      "100%|██████████| 20/20 [00:00<00:00, 30.99it/s]\n",
      " 21%|██        | 52/250 [00:37<02:25,  1.37it/s]"
     ]
    },
    {
     "name": "stdout",
     "output_type": "stream",
     "text": [
      "/bigdata/cifar10/logs/garipov/decomposed/1647772666/gar-lr-[2]-cp-0.25-dTrue-iNone_bn_128_sgd_l0.0001_g0.0_sTrue\n"
     ]
    },
    {
     "name": "stderr",
     "output_type": "stream",
     "text": [
      "100%|██████████| 20/20 [00:00<00:00, 32.37it/s]\n",
      " 21%|██        | 53/250 [00:38<02:22,  1.38it/s]"
     ]
    },
    {
     "name": "stdout",
     "output_type": "stream",
     "text": [
      "/bigdata/cifar10/logs/garipov/decomposed/1647854296/gar-lr-[2]-tucker-0.75-dTrue-iNone_bn_128_sgd_l0.0001_g0.0_sTrue\n"
     ]
    },
    {
     "name": "stderr",
     "output_type": "stream",
     "text": [
      "100%|██████████| 20/20 [00:00<00:00, 31.56it/s]\n",
      " 22%|██▏       | 54/250 [00:38<02:20,  1.40it/s]"
     ]
    },
    {
     "name": "stdout",
     "output_type": "stream",
     "text": [
      "/bigdata/cifar10/logs/garipov/decomposed/1647861736/gar-lr-[6]-tucker-0.1-dTrue-iNone_bn_128_sgd_l0.0001_g0.0_sTrue\n"
     ]
    },
    {
     "name": "stderr",
     "output_type": "stream",
     "text": [
      "100%|██████████| 20/20 [00:00<00:00, 31.32it/s]\n",
      " 22%|██▏       | 55/250 [00:39<02:18,  1.40it/s]"
     ]
    },
    {
     "name": "stdout",
     "output_type": "stream",
     "text": [
      "/bigdata/cifar10/logs/garipov/decomposed/1647783119/gar-lr-[4]-cp-0.25-dTrue-iNone_bn_128_sgd_l0.0001_g0.0_sTrue\n"
     ]
    },
    {
     "name": "stderr",
     "output_type": "stream",
     "text": [
      "100%|██████████| 20/20 [00:00<00:00, 32.57it/s]\n",
      " 22%|██▏       | 56/250 [00:40<02:16,  1.43it/s]"
     ]
    },
    {
     "name": "stdout",
     "output_type": "stream",
     "text": [
      "/bigdata/cifar10/logs/garipov/decomposed/1647772848/gar-lr-[2]-cp-0.75-dTrue-iNone_bn_128_sgd_l0.0001_g0.0_sTrue\n"
     ]
    },
    {
     "name": "stderr",
     "output_type": "stream",
     "text": [
      "100%|██████████| 20/20 [00:00<00:00, 34.28it/s]\n",
      " 23%|██▎       | 57/250 [00:40<02:12,  1.46it/s]"
     ]
    },
    {
     "name": "stdout",
     "output_type": "stream",
     "text": [
      "/bigdata/cifar10/logs/garipov/decomposed/1647864464/gar-lr-[8]-tucker-0.1-dTrue-iNone_bn_128_sgd_l0.0001_g0.0_sTrue\n"
     ]
    },
    {
     "name": "stderr",
     "output_type": "stream",
     "text": [
      "100%|██████████| 20/20 [00:00<00:00, 30.56it/s]\n",
      " 23%|██▎       | 58/250 [00:41<02:16,  1.40it/s]"
     ]
    },
    {
     "name": "stdout",
     "output_type": "stream",
     "text": [
      "/bigdata/cifar10/logs/garipov/decomposed/1647862464/gar-lr-[8]-tucker-0.75-dTrue-iNone_bn_128_sgd_l0.0001_g0.0_sTrue\n"
     ]
    },
    {
     "name": "stderr",
     "output_type": "stream",
     "text": [
      "100%|██████████| 20/20 [00:00<00:00, 30.65it/s]\n",
      " 24%|██▎       | 59/250 [00:42<02:31,  1.26it/s]"
     ]
    },
    {
     "name": "stdout",
     "output_type": "stream",
     "text": [
      "/bigdata/cifar10/logs/garipov/decomposed/1647863555/gar-lr-[4]-tucker-0.1-dTrue-iNone_bn_128_sgd_l0.0001_g0.0_sTrue\n"
     ]
    },
    {
     "name": "stderr",
     "output_type": "stream",
     "text": [
      "100%|██████████| 20/20 [00:00<00:00, 32.35it/s]\n",
      " 24%|██▍       | 60/250 [00:43<02:23,  1.32it/s]"
     ]
    },
    {
     "name": "stdout",
     "output_type": "stream",
     "text": [
      "/bigdata/cifar10/logs/garipov/decomposed/1647864008/gar-lr-[6]-tucker-0.1-dTrue-iNone_bn_128_sgd_l0.0001_g0.0_sTrue\n"
     ]
    },
    {
     "name": "stderr",
     "output_type": "stream",
     "text": [
      "100%|██████████| 20/20 [00:00<00:00, 30.66it/s]\n",
      " 24%|██▍       | 61/250 [00:43<02:20,  1.35it/s]"
     ]
    },
    {
     "name": "stdout",
     "output_type": "stream",
     "text": [
      "/bigdata/cifar10/logs/garipov/decomposed/1647773604/gar-lr-[6]-cp-0.25-dTrue-iNone_bn_128_sgd_l0.0001_g0.0_sTrue\n"
     ]
    },
    {
     "name": "stderr",
     "output_type": "stream",
     "text": [
      "100%|██████████| 20/20 [00:00<00:00, 31.24it/s]\n",
      " 25%|██▍       | 62/250 [00:44<02:17,  1.37it/s]"
     ]
    },
    {
     "name": "stdout",
     "output_type": "stream",
     "text": [
      "/bigdata/cifar10/logs/garipov/decomposed/1647778981/gar-lr-[8]-cp-0.1-dTrue-iNone_bn_128_sgd_l0.0001_g0.0_sTrue\n"
     ]
    },
    {
     "name": "stderr",
     "output_type": "stream",
     "text": [
      "100%|██████████| 20/20 [00:00<00:00, 30.24it/s]\n",
      " 25%|██▌       | 63/250 [00:45<02:15,  1.38it/s]"
     ]
    },
    {
     "name": "stdout",
     "output_type": "stream",
     "text": [
      "/bigdata/cifar10/logs/garipov/decomposed/1647858198/gar-lr-[10]-tucker-0.25-dTrue-iNone_bn_128_sgd_l0.0001_g0.0_sTrue\n"
     ]
    },
    {
     "name": "stderr",
     "output_type": "stream",
     "text": [
      "100%|██████████| 20/20 [00:00<00:00, 32.01it/s]\n",
      " 26%|██▌       | 64/250 [00:46<02:12,  1.40it/s]"
     ]
    },
    {
     "name": "stdout",
     "output_type": "stream",
     "text": [
      "/bigdata/cifar10/logs/garipov/decomposed/1647773128/gar-lr-[4]-cp-0.25-dTrue-iNone_bn_128_sgd_l0.0001_g0.0_sTrue\n"
     ]
    },
    {
     "name": "stderr",
     "output_type": "stream",
     "text": [
      "100%|██████████| 20/20 [00:00<00:00, 32.45it/s]\n",
      " 26%|██▌       | 65/250 [00:46<02:11,  1.40it/s]"
     ]
    },
    {
     "name": "stdout",
     "output_type": "stream",
     "text": [
      "/bigdata/cifar10/logs/garipov/decomposed/1647773900/gar-lr-[6]-cp-0.9-dTrue-iNone_bn_128_sgd_l0.0001_g0.0_sTrue\n"
     ]
    },
    {
     "name": "stderr",
     "output_type": "stream",
     "text": [
      "100%|██████████| 20/20 [00:00<00:00, 32.91it/s]\n",
      " 26%|██▋       | 66/250 [00:47<02:10,  1.41it/s]"
     ]
    },
    {
     "name": "stdout",
     "output_type": "stream",
     "text": [
      "/bigdata/cifar10/logs/garipov/decomposed/1647773314/gar-lr-[4]-cp-0.75-dTrue-iNone_bn_128_sgd_l0.0001_g0.0_sTrue\n"
     ]
    },
    {
     "name": "stderr",
     "output_type": "stream",
     "text": [
      "100%|██████████| 20/20 [00:00<00:00, 31.74it/s]\n",
      " 27%|██▋       | 67/250 [00:48<02:08,  1.42it/s]"
     ]
    },
    {
     "name": "stdout",
     "output_type": "stream",
     "text": [
      "/bigdata/cifar10/logs/garipov/decomposed/1647859559/gar-lr-[6]-tucker-0.25-dTrue-iNone_bn_128_sgd_l0.0001_g0.0_sTrue\n"
     ]
    },
    {
     "name": "stderr",
     "output_type": "stream",
     "text": [
      "100%|██████████| 20/20 [00:00<00:00, 31.15it/s]\n",
      " 27%|██▋       | 68/250 [00:48<02:08,  1.41it/s]"
     ]
    },
    {
     "name": "stdout",
     "output_type": "stream",
     "text": [
      "/bigdata/cifar10/logs/garipov/decomposed/1647777162/gar-lr-[10]-cp-0.5-dTrue-iNone_bn_128_sgd_l0.0001_g0.0_sTrue\n"
     ]
    },
    {
     "name": "stderr",
     "output_type": "stream",
     "text": [
      "100%|██████████| 20/20 [00:00<00:00, 29.58it/s]\n",
      " 28%|██▊       | 69/250 [00:49<02:10,  1.39it/s]"
     ]
    },
    {
     "name": "stdout",
     "output_type": "stream",
     "text": [
      "/bigdata/cifar10/logs/garipov/decomposed/1647861826/gar-lr-[6]-tucker-0.25-dTrue-iNone_bn_128_sgd_l0.0001_g0.0_sTrue\n"
     ]
    },
    {
     "name": "stderr",
     "output_type": "stream",
     "text": [
      "100%|██████████| 20/20 [00:00<00:00, 32.17it/s]\n",
      " 28%|██▊       | 70/250 [00:50<02:09,  1.39it/s]"
     ]
    },
    {
     "name": "stdout",
     "output_type": "stream",
     "text": [
      "/bigdata/cifar10/logs/garipov/decomposed/1647863737/gar-lr-[4]-tucker-0.5-dTrue-iNone_bn_128_sgd_l0.0001_g0.0_sTrue\n"
     ]
    },
    {
     "name": "stderr",
     "output_type": "stream",
     "text": [
      "100%|██████████| 20/20 [00:00<00:00, 32.11it/s]\n",
      " 28%|██▊       | 71/250 [00:51<02:08,  1.39it/s]"
     ]
    },
    {
     "name": "stdout",
     "output_type": "stream",
     "text": [
      "/bigdata/cifar10/logs/garipov/decomposed/1647780011/gar-lr-[2]-cp-0.1-dTrue-iNone_bn_128_sgd_l0.0001_g0.0_sTrue\n"
     ]
    },
    {
     "name": "stderr",
     "output_type": "stream",
     "text": [
      "100%|██████████| 20/20 [00:00<00:00, 29.82it/s]\n",
      " 29%|██▉       | 72/250 [00:51<02:12,  1.35it/s]"
     ]
    },
    {
     "name": "stdout",
     "output_type": "stream",
     "text": [
      "/bigdata/cifar10/logs/garipov/decomposed/1647858288/gar-lr-[10]-tucker-0.5-dTrue-iNone_bn_128_sgd_l0.0001_g0.0_sTrue\n"
     ]
    },
    {
     "name": "stderr",
     "output_type": "stream",
     "text": [
      "100%|██████████| 20/20 [00:00<00:00, 30.81it/s]\n",
      " 29%|██▉       | 73/250 [00:52<02:11,  1.35it/s]"
     ]
    },
    {
     "name": "stdout",
     "output_type": "stream",
     "text": [
      "/bigdata/cifar10/logs/garipov/decomposed/1647859650/gar-lr-[6]-tucker-0.5-dTrue-iNone_bn_128_sgd_l0.0001_g0.0_sTrue\n"
     ]
    },
    {
     "name": "stderr",
     "output_type": "stream",
     "text": [
      "100%|██████████| 20/20 [00:00<00:00, 30.70it/s]\n",
      " 30%|██▉       | 74/250 [00:53<02:10,  1.34it/s]"
     ]
    },
    {
     "name": "stdout",
     "output_type": "stream",
     "text": [
      "/bigdata/cifar10/logs/garipov/decomposed/1647865196/gar-lr-[10]-tucker-0.75-dTrue-iNone_bn_128_sgd_l0.0001_g0.0_sTrue\n"
     ]
    },
    {
     "name": "stderr",
     "output_type": "stream",
     "text": [
      "100%|██████████| 20/20 [00:00<00:00, 30.61it/s]\n",
      " 30%|███       | 75/250 [00:54<02:09,  1.35it/s]"
     ]
    },
    {
     "name": "stdout",
     "output_type": "stream",
     "text": [
      "/bigdata/cifar10/logs/garipov/decomposed/1647782215/gar-lr-[10]-cp-0.5-dTrue-iNone_bn_128_sgd_l0.0001_g0.0_sTrue\n"
     ]
    },
    {
     "name": "stderr",
     "output_type": "stream",
     "text": [
      "100%|██████████| 20/20 [00:00<00:00, 31.21it/s]\n",
      " 30%|███       | 76/250 [00:54<02:08,  1.35it/s]"
     ]
    },
    {
     "name": "stdout",
     "output_type": "stream",
     "text": [
      "/bigdata/cifar10/logs/garipov/decomposed/1647864099/gar-lr-[6]-tucker-0.25-dTrue-iNone_bn_128_sgd_l0.0001_g0.0_sTrue\n"
     ]
    },
    {
     "name": "stderr",
     "output_type": "stream",
     "text": [
      "100%|██████████| 20/20 [00:00<00:00, 32.74it/s]\n",
      " 31%|███       | 77/250 [00:55<02:03,  1.40it/s]"
     ]
    },
    {
     "name": "stdout",
     "output_type": "stream",
     "text": [
      "/bigdata/cifar10/logs/garipov/decomposed/1647863192/gar-lr-[2]-tucker-0.25-dTrue-iNone_bn_128_sgd_l0.0001_g0.0_sTrue\n"
     ]
    },
    {
     "name": "stderr",
     "output_type": "stream",
     "text": [
      "100%|██████████| 20/20 [00:00<00:00, 31.90it/s]\n",
      " 31%|███       | 78/250 [00:56<02:00,  1.42it/s]"
     ]
    },
    {
     "name": "stdout",
     "output_type": "stream",
     "text": [
      "/bigdata/cifar10/logs/garipov/decomposed/1647855382/gar-lr-[8]-tucker-0.1-dTrue-iNone_bn_128_sgd_l0.0001_g0.0_sTrue\n"
     ]
    },
    {
     "name": "stderr",
     "output_type": "stream",
     "text": [
      "100%|██████████| 20/20 [00:00<00:00, 30.38it/s]\n",
      " 32%|███▏      | 79/250 [00:56<02:02,  1.39it/s]"
     ]
    },
    {
     "name": "stdout",
     "output_type": "stream",
     "text": [
      "/bigdata/cifar10/logs/garipov/decomposed/1647857105/gar-lr-[4]-tucker-0.9-dTrue-iNone_bn_128_sgd_l0.0001_g0.0_sTrue\n"
     ]
    },
    {
     "name": "stderr",
     "output_type": "stream",
     "text": [
      "100%|██████████| 20/20 [00:00<00:00, 31.97it/s]\n",
      " 32%|███▏      | 80/250 [00:57<02:02,  1.39it/s]"
     ]
    },
    {
     "name": "stdout",
     "output_type": "stream",
     "text": [
      "/bigdata/cifar10/logs/garipov/decomposed/1647774691/gar-lr-[10]-cp-0.5-dTrue-iNone_bn_128_sgd_l0.0001_g0.0_sTrue\n"
     ]
    },
    {
     "name": "stderr",
     "output_type": "stream",
     "text": [
      "100%|██████████| 20/20 [00:00<00:00, 30.01it/s]\n",
      " 32%|███▏      | 81/250 [00:58<02:01,  1.39it/s]"
     ]
    },
    {
     "name": "stdout",
     "output_type": "stream",
     "text": [
      "/bigdata/cifar10/logs/garipov/decomposed/1647774008/gar-lr-[8]-cp-0.1-dTrue-iNone_bn_128_sgd_l0.0001_g0.0_sTrue\n"
     ]
    },
    {
     "name": "stderr",
     "output_type": "stream",
     "text": [
      "100%|██████████| 20/20 [00:00<00:00, 33.17it/s]\n",
      " 33%|███▎      | 82/250 [00:59<01:56,  1.44it/s]"
     ]
    },
    {
     "name": "stdout",
     "output_type": "stream",
     "text": [
      "/bigdata/cifar10/logs/garipov/decomposed/1647857833/gar-lr-[8]-tucker-0.5-dTrue-iNone_bn_128_sgd_l0.0001_g0.0_sTrue\n"
     ]
    },
    {
     "name": "stderr",
     "output_type": "stream",
     "text": [
      "100%|██████████| 20/20 [00:00<00:00, 31.68it/s]\n",
      " 33%|███▎      | 83/250 [00:59<01:56,  1.43it/s]"
     ]
    },
    {
     "name": "stdout",
     "output_type": "stream",
     "text": [
      "/bigdata/cifar10/logs/garipov/decomposed/1647860649/gar-lr-[10]-tucker-0.75-dTrue-iNone_bn_128_sgd_l0.0001_g0.0_sTrue\n"
     ]
    },
    {
     "name": "stderr",
     "output_type": "stream",
     "text": [
      "100%|██████████| 20/20 [00:00<00:00, 32.82it/s]\n",
      " 34%|███▎      | 84/250 [01:00<01:55,  1.44it/s]"
     ]
    },
    {
     "name": "stdout",
     "output_type": "stream",
     "text": [
      "/bigdata/cifar10/logs/garipov/decomposed/1647863465/gar-lr-[2]-tucker-0.9-dTrue-iNone_bn_128_sgd_l0.0001_g0.0_sTrue\n"
     ]
    },
    {
     "name": "stderr",
     "output_type": "stream",
     "text": [
      "100%|██████████| 20/20 [00:00<00:00, 32.18it/s]\n",
      " 34%|███▍      | 85/250 [01:01<01:54,  1.44it/s]"
     ]
    },
    {
     "name": "stdout",
     "output_type": "stream",
     "text": [
      "/bigdata/cifar10/logs/garipov/decomposed/1647773697/gar-lr-[6]-cp-0.5-dTrue-iNone_bn_128_sgd_l0.0001_g0.0_sTrue\n"
     ]
    },
    {
     "name": "stderr",
     "output_type": "stream",
     "text": [
      "100%|██████████| 20/20 [00:00<00:00, 32.45it/s]\n",
      " 34%|███▍      | 86/250 [01:01<01:53,  1.45it/s]"
     ]
    },
    {
     "name": "stdout",
     "output_type": "stream",
     "text": [
      "/bigdata/cifar10/logs/garipov/decomposed/1647861464/gar-lr-[4]-tucker-0.5-dTrue-iNone_bn_128_sgd_l0.0001_g0.0_sTrue\n"
     ]
    },
    {
     "name": "stderr",
     "output_type": "stream",
     "text": [
      "100%|██████████| 20/20 [00:00<00:00, 30.88it/s]\n",
      " 35%|███▍      | 87/250 [01:02<01:56,  1.40it/s]"
     ]
    },
    {
     "name": "stdout",
     "output_type": "stream",
     "text": [
      "/bigdata/cifar10/logs/garipov/decomposed/1647858107/gar-lr-[10]-tucker-0.1-dTrue-iNone_bn_128_sgd_l0.0001_g0.0_sTrue\n"
     ]
    },
    {
     "name": "stderr",
     "output_type": "stream",
     "text": [
      "100%|██████████| 20/20 [00:00<00:00, 31.47it/s]\n",
      " 35%|███▌      | 88/250 [01:03<01:55,  1.40it/s]"
     ]
    },
    {
     "name": "stdout",
     "output_type": "stream",
     "text": [
      "/bigdata/cifar10/logs/garipov/decomposed/1647784131/gar-lr-[8]-cp-0.25-dTrue-iNone_bn_128_sgd_l0.0001_g0.0_sTrue\n"
     ]
    },
    {
     "name": "stderr",
     "output_type": "stream",
     "text": [
      "100%|██████████| 20/20 [00:00<00:00, 33.07it/s]\n",
      " 36%|███▌      | 89/250 [01:03<01:52,  1.43it/s]"
     ]
    },
    {
     "name": "stdout",
     "output_type": "stream",
     "text": [
      "/bigdata/cifar10/logs/garipov/decomposed/1647775005/gar-lr-[2]-cp-0.1-dTrue-iNone_bn_128_sgd_l0.0001_g0.0_sTrue\n"
     ]
    },
    {
     "name": "stderr",
     "output_type": "stream",
     "text": [
      "100%|██████████| 20/20 [00:00<00:00, 30.37it/s]\n",
      " 36%|███▌      | 90/250 [01:04<01:52,  1.42it/s]"
     ]
    },
    {
     "name": "stdout",
     "output_type": "stream",
     "text": [
      "/bigdata/cifar10/logs/garipov/decomposed/1647854747/gar-lr-[4]-tucker-0.75-dTrue-iNone_bn_128_sgd_l0.0001_g0.0_sTrue\n"
     ]
    },
    {
     "name": "stderr",
     "output_type": "stream",
     "text": [
      "100%|██████████| 20/20 [00:00<00:00, 31.51it/s]\n",
      " 36%|███▋      | 91/250 [01:05<01:52,  1.41it/s]"
     ]
    },
    {
     "name": "stdout",
     "output_type": "stream",
     "text": [
      "/bigdata/cifar10/logs/garipov/decomposed/1647782318/gar-lr-[10]-cp-0.75-dTrue-iNone_bn_128_sgd_l0.0001_g0.0_sTrue\n"
     ]
    },
    {
     "name": "stderr",
     "output_type": "stream",
     "text": [
      "100%|██████████| 20/20 [00:00<00:00, 30.84it/s]\n",
      " 37%|███▋      | 92/250 [01:06<01:52,  1.41it/s]"
     ]
    },
    {
     "name": "stdout",
     "output_type": "stream",
     "text": [
      "/bigdata/cifar10/logs/garipov/decomposed/1647774098/gar-lr-[8]-cp-0.25-dTrue-iNone_bn_128_sgd_l0.0001_g0.0_sTrue\n"
     ]
    },
    {
     "name": "stderr",
     "output_type": "stream",
     "text": [
      "100%|██████████| 20/20 [00:00<00:00, 31.48it/s]\n",
      " 37%|███▋      | 93/250 [01:06<01:51,  1.41it/s]"
     ]
    },
    {
     "name": "stdout",
     "output_type": "stream",
     "text": [
      "/bigdata/cifar10/logs/garipov/decomposed/1647775476/gar-lr-[4]-cp-0.1-dTrue-iNone_bn_128_sgd_l0.0001_g0.0_sTrue\n"
     ]
    },
    {
     "name": "stderr",
     "output_type": "stream",
     "text": [
      "100%|██████████| 20/20 [00:00<00:00, 32.26it/s]\n",
      " 38%|███▊      | 94/250 [01:07<01:50,  1.42it/s]"
     ]
    },
    {
     "name": "stdout",
     "output_type": "stream",
     "text": [
      "/bigdata/cifar10/logs/garipov/decomposed/1647775566/gar-lr-[4]-cp-0.25-dTrue-iNone_bn_128_sgd_l0.0001_g0.0_sTrue\n"
     ]
    },
    {
     "name": "stderr",
     "output_type": "stream",
     "text": [
      "100%|██████████| 20/20 [00:00<00:00, 32.42it/s]\n",
      " 38%|███▊      | 95/250 [01:08<01:50,  1.41it/s]"
     ]
    },
    {
     "name": "stdout",
     "output_type": "stream",
     "text": [
      "/bigdata/cifar10/logs/garipov/decomposed/1647865287/gar-lr-[10]-tucker-0.9-dTrue-iNone_bn_128_sgd_l0.0001_g0.0_sTrue\n"
     ]
    },
    {
     "name": "stderr",
     "output_type": "stream",
     "text": [
      "100%|██████████| 20/20 [00:00<00:00, 32.94it/s]\n",
      " 38%|███▊      | 96/250 [01:09<01:56,  1.33it/s]"
     ]
    },
    {
     "name": "stdout",
     "output_type": "stream",
     "text": [
      "/bigdata/cifar10/logs/garipov/decomposed/1647774791/gar-lr-[10]-cp-0.75-dTrue-iNone_bn_128_sgd_l0.0001_g0.0_sTrue\n"
     ]
    },
    {
     "name": "stderr",
     "output_type": "stream",
     "text": [
      "100%|██████████| 20/20 [00:00<00:00, 31.20it/s]\n",
      " 39%|███▉      | 97/250 [01:09<01:53,  1.35it/s]"
     ]
    },
    {
     "name": "stdout",
     "output_type": "stream",
     "text": [
      "/bigdata/cifar10/logs/garipov/decomposed/1647862372/gar-lr-[8]-tucker-0.5-dTrue-iNone_bn_128_sgd_l0.0001_g0.0_sTrue\n"
     ]
    },
    {
     "name": "stderr",
     "output_type": "stream",
     "text": [
      "100%|██████████| 20/20 [00:00<00:00, 31.96it/s]\n",
      " 39%|███▉      | 98/250 [01:10<01:49,  1.39it/s]"
     ]
    },
    {
     "name": "stdout",
     "output_type": "stream",
     "text": [
      "/bigdata/cifar10/logs/garipov/decomposed/1647776352/gar-lr-[6]-cp-0.9-dTrue-iNone_bn_128_sgd_l0.0001_g0.0_sTrue\n"
     ]
    },
    {
     "name": "stderr",
     "output_type": "stream",
     "text": [
      "100%|██████████| 20/20 [00:00<00:00, 32.09it/s]\n",
      " 40%|███▉      | 99/250 [01:11<01:48,  1.39it/s]"
     ]
    },
    {
     "name": "stdout",
     "output_type": "stream",
     "text": [
      "/bigdata/cifar10/logs/garipov/decomposed/1647784440/gar-lr-[8]-cp-0.9-dTrue-iNone_bn_128_sgd_l0.0001_g0.0_sTrue\n"
     ]
    },
    {
     "name": "stderr",
     "output_type": "stream",
     "text": [
      "100%|██████████| 20/20 [00:00<00:00, 31.29it/s]\n",
      " 40%|████      | 100/250 [01:11<01:50,  1.36it/s]"
     ]
    },
    {
     "name": "stdout",
     "output_type": "stream",
     "text": [
      "/bigdata/cifar10/logs/garipov/decomposed/1647784553/gar-lr-[10]-cp-0.1-dTrue-iNone_bn_128_sgd_l0.0001_g0.0_sTrue\n"
     ]
    },
    {
     "name": "stderr",
     "output_type": "stream",
     "text": [
      "100%|██████████| 20/20 [00:00<00:00, 32.53it/s]\n",
      " 40%|████      | 101/250 [01:12<01:47,  1.39it/s]"
     ]
    },
    {
     "name": "stdout",
     "output_type": "stream",
     "text": [
      "/bigdata/cifar10/logs/garipov/decomposed/1647781911/gar-lr-[8]-cp-0.9-dTrue-iNone_bn_128_sgd_l0.0001_g0.0_sTrue\n"
     ]
    },
    {
     "name": "stderr",
     "output_type": "stream",
     "text": [
      "100%|██████████| 20/20 [00:00<00:00, 32.44it/s]\n",
      " 41%|████      | 102/250 [01:13<01:48,  1.37it/s]"
     ]
    },
    {
     "name": "stdout",
     "output_type": "stream",
     "text": [
      "/bigdata/cifar10/logs/garipov/decomposed/1647855200/gar-lr-[6]-tucker-0.75-dTrue-iNone_bn_128_sgd_l0.0001_g0.0_sTrue\n"
     ]
    },
    {
     "name": "stderr",
     "output_type": "stream",
     "text": [
      "100%|██████████| 20/20 [00:00<00:00, 31.43it/s]\n",
      " 41%|████      | 103/250 [01:14<01:46,  1.37it/s]"
     ]
    },
    {
     "name": "stdout",
     "output_type": "stream",
     "text": [
      "/bigdata/cifar10/logs/garipov/decomposed/1647854026/gar-lr-[2]-tucker-0.1-dTrue-iNone_bn_128_sgd_l0.0001_g0.0_sTrue\n"
     ]
    },
    {
     "name": "stderr",
     "output_type": "stream",
     "text": [
      "100%|██████████| 20/20 [00:00<00:00, 32.60it/s]\n",
      " 42%|████▏     | 104/250 [01:14<01:44,  1.39it/s]"
     ]
    },
    {
     "name": "stdout",
     "output_type": "stream",
     "text": [
      "/bigdata/cifar10/logs/garipov/decomposed/1647864373/gar-lr-[6]-tucker-0.9-dTrue-iNone_bn_128_sgd_l0.0001_g0.0_sTrue\n"
     ]
    },
    {
     "name": "stderr",
     "output_type": "stream",
     "text": [
      "100%|██████████| 20/20 [00:00<00:00, 31.83it/s]\n",
      " 42%|████▏     | 105/250 [01:15<01:43,  1.40it/s]"
     ]
    },
    {
     "name": "stdout",
     "output_type": "stream",
     "text": [
      "/bigdata/cifar10/logs/garipov/decomposed/1647779384/gar-lr-[8]-cp-0.9-dTrue-iNone_bn_128_sgd_l0.0001_g0.0_sTrue\n"
     ]
    },
    {
     "name": "stderr",
     "output_type": "stream",
     "text": [
      "100%|██████████| 20/20 [00:00<00:00, 29.84it/s]\n",
      " 42%|████▏     | 106/250 [01:16<01:45,  1.36it/s]"
     ]
    },
    {
     "name": "stdout",
     "output_type": "stream",
     "text": [
      "/bigdata/cifar10/logs/garipov/decomposed/1647860377/gar-lr-[10]-tucker-0.1-dTrue-iNone_bn_128_sgd_l0.0001_g0.0_sTrue\n"
     ]
    },
    {
     "name": "stderr",
     "output_type": "stream",
     "text": [
      "100%|██████████| 20/20 [00:00<00:00, 31.84it/s]\n",
      " 43%|████▎     | 107/250 [01:16<01:42,  1.40it/s]"
     ]
    },
    {
     "name": "stdout",
     "output_type": "stream",
     "text": [
      "/bigdata/cifar10/logs/garipov/decomposed/1647781086/gar-lr-[6]-cp-0.25-dTrue-iNone_bn_128_sgd_l0.0001_g0.0_sTrue\n"
     ]
    },
    {
     "name": "stderr",
     "output_type": "stream",
     "text": [
      "100%|██████████| 20/20 [00:00<00:00, 31.92it/s]\n",
      " 43%|████▎     | 108/250 [01:17<01:40,  1.42it/s]"
     ]
    },
    {
     "name": "stdout",
     "output_type": "stream",
     "text": [
      "/bigdata/cifar10/logs/garipov/decomposed/1647862190/gar-lr-[8]-tucker-0.1-dTrue-iNone_bn_128_sgd_l0.0001_g0.0_sTrue\n"
     ]
    },
    {
     "name": "stderr",
     "output_type": "stream",
     "text": [
      "100%|██████████| 20/20 [00:00<00:00, 30.98it/s]\n",
      " 44%|████▎     | 109/250 [01:18<01:39,  1.42it/s]"
     ]
    },
    {
     "name": "stdout",
     "output_type": "stream",
     "text": [
      "/bigdata/cifar10/logs/garipov/decomposed/1647860286/gar-lr-[8]-tucker-0.9-dTrue-iNone_bn_128_sgd_l0.0001_g0.0_sTrue\n"
     ]
    },
    {
     "name": "stderr",
     "output_type": "stream",
     "text": [
      "100%|██████████| 20/20 [00:00<00:00, 30.92it/s]\n",
      " 44%|████▍     | 110/250 [01:19<01:41,  1.37it/s]"
     ]
    },
    {
     "name": "stdout",
     "output_type": "stream",
     "text": [
      "/bigdata/cifar10/logs/garipov/decomposed/1647857924/gar-lr-[8]-tucker-0.75-dTrue-iNone_bn_128_sgd_l0.0001_g0.0_sTrue\n"
     ]
    },
    {
     "name": "stderr",
     "output_type": "stream",
     "text": [
      "100%|██████████| 20/20 [00:00<00:00, 32.84it/s]\n",
      " 44%|████▍     | 111/250 [01:19<01:38,  1.41it/s]"
     ]
    },
    {
     "name": "stdout",
     "output_type": "stream",
     "text": [
      "/bigdata/cifar10/logs/garipov/decomposed/1647778258/gar-lr-[4]-cp-0.75-dTrue-iNone_bn_128_sgd_l0.0001_g0.0_sTrue\n"
     ]
    },
    {
     "name": "stderr",
     "output_type": "stream",
     "text": [
      "100%|██████████| 20/20 [00:00<00:00, 32.81it/s]\n",
      " 45%|████▍     | 112/250 [01:20<01:37,  1.41it/s]"
     ]
    },
    {
     "name": "stdout",
     "output_type": "stream",
     "text": [
      "/bigdata/cifar10/logs/garipov/decomposed/1647776554/gar-lr-[8]-cp-0.25-dTrue-iNone_bn_128_sgd_l0.0001_g0.0_sTrue\n"
     ]
    },
    {
     "name": "stderr",
     "output_type": "stream",
     "text": [
      "100%|██████████| 20/20 [00:00<00:00, 32.58it/s]\n",
      " 45%|████▌     | 113/250 [01:21<01:35,  1.44it/s]"
     ]
    },
    {
     "name": "stdout",
     "output_type": "stream",
     "text": [
      "/bigdata/cifar10/logs/garipov/decomposed/1647863011/gar-lr-[10]-tucker-0.9-dTrue-iNone_bn_128_sgd_l0.0001_g0.0_sTrue\n"
     ]
    },
    {
     "name": "stderr",
     "output_type": "stream",
     "text": [
      "100%|██████████| 20/20 [00:00<00:00, 31.49it/s]\n",
      " 46%|████▌     | 114/250 [01:21<01:34,  1.44it/s]"
     ]
    },
    {
     "name": "stdout",
     "output_type": "stream",
     "text": [
      "/bigdata/cifar10/logs/garipov/decomposed/1647784646/gar-lr-[10]-cp-0.25-dTrue-iNone_bn_128_sgd_l0.0001_g0.0_sTrue\n"
     ]
    },
    {
     "name": "stderr",
     "output_type": "stream",
     "text": [
      "100%|██████████| 20/20 [00:00<00:00, 31.19it/s]\n",
      " 46%|████▌     | 115/250 [01:22<01:34,  1.43it/s]"
     ]
    },
    {
     "name": "stdout",
     "output_type": "stream",
     "text": [
      "/bigdata/cifar10/logs/garipov/decomposed/1647859922/gar-lr-[8]-tucker-0.1-dTrue-iNone_bn_128_sgd_l0.0001_g0.0_sTrue\n"
     ]
    },
    {
     "name": "stderr",
     "output_type": "stream",
     "text": [
      "100%|██████████| 20/20 [00:00<00:00, 33.35it/s]\n",
      " 46%|████▋     | 116/250 [01:23<01:32,  1.44it/s]"
     ]
    },
    {
     "name": "stdout",
     "output_type": "stream",
     "text": [
      "/bigdata/cifar10/logs/garipov/decomposed/1647784956/gar-lr-[10]-cp-0.9-dTrue-iNone_bn_128_sgd_l0.0001_g0.0_sTrue\n"
     ]
    },
    {
     "name": "stderr",
     "output_type": "stream",
     "text": [
      "100%|██████████| 20/20 [00:00<00:00, 32.38it/s]\n",
      " 47%|████▋     | 117/250 [01:23<01:32,  1.44it/s]"
     ]
    },
    {
     "name": "stdout",
     "output_type": "stream",
     "text": [
      "/bigdata/cifar10/logs/garipov/decomposed/1647858743/gar-lr-[2]-tucker-0.5-dTrue-iNone_bn_128_sgd_l0.0001_g0.0_sTrue\n"
     ]
    },
    {
     "name": "stderr",
     "output_type": "stream",
     "text": [
      "100%|██████████| 20/20 [00:00<00:00, 33.12it/s]\n",
      " 47%|████▋     | 118/250 [01:24<01:33,  1.41it/s]"
     ]
    },
    {
     "name": "stdout",
     "output_type": "stream",
     "text": [
      "/bigdata/cifar10/logs/garipov/decomposed/1647858470/gar-lr-[10]-tucker-0.9-dTrue-iNone_bn_128_sgd_l0.0001_g0.0_sTrue\n"
     ]
    },
    {
     "name": "stderr",
     "output_type": "stream",
     "text": [
      "100%|██████████| 20/20 [00:00<00:00, 32.07it/s]\n",
      " 48%|████▊     | 119/250 [01:25<01:33,  1.40it/s]"
     ]
    },
    {
     "name": "stdout",
     "output_type": "stream",
     "text": [
      "/bigdata/cifar10/logs/garipov/decomposed/1647773413/gar-lr-[4]-cp-0.9-dTrue-iNone_bn_128_sgd_l0.0001_g0.0_sTrue\n"
     ]
    },
    {
     "name": "stderr",
     "output_type": "stream",
     "text": [
      "100%|██████████| 20/20 [00:00<00:00, 33.64it/s]\n",
      " 48%|████▊     | 120/250 [01:26<01:30,  1.44it/s]"
     ]
    },
    {
     "name": "stdout",
     "output_type": "stream",
     "text": [
      "/bigdata/cifar10/logs/garipov/decomposed/1647777265/gar-lr-[10]-cp-0.75-dTrue-iNone_bn_128_sgd_l0.0001_g0.0_sTrue\n"
     ]
    },
    {
     "name": "stderr",
     "output_type": "stream",
     "text": [
      "100%|██████████| 20/20 [00:00<00:00, 32.33it/s]\n",
      " 48%|████▊     | 121/250 [01:26<01:28,  1.46it/s]"
     ]
    },
    {
     "name": "stdout",
     "output_type": "stream",
     "text": [
      "/bigdata/cifar10/logs/garipov/decomposed/1647781508/gar-lr-[8]-cp-0.1-dTrue-iNone_bn_128_sgd_l0.0001_g0.0_sTrue\n"
     ]
    },
    {
     "name": "stderr",
     "output_type": "stream",
     "text": [
      "100%|██████████| 20/20 [00:00<00:00, 33.09it/s]\n",
      " 49%|████▉     | 122/250 [01:27<01:26,  1.47it/s]"
     ]
    },
    {
     "name": "stdout",
     "output_type": "stream",
     "text": [
      "/bigdata/cifar10/logs/garipov/decomposed/1647773796/gar-lr-[6]-cp-0.75-dTrue-iNone_bn_128_sgd_l0.0001_g0.0_sTrue\n"
     ]
    },
    {
     "name": "stderr",
     "output_type": "stream",
     "text": [
      "100%|██████████| 20/20 [00:00<00:00, 31.46it/s]\n",
      " 49%|████▉     | 123/250 [01:28<01:27,  1.46it/s]"
     ]
    },
    {
     "name": "stdout",
     "output_type": "stream",
     "text": [
      "/bigdata/cifar10/logs/garipov/decomposed/1647857742/gar-lr-[8]-tucker-0.25-dTrue-iNone_bn_128_sgd_l0.0001_g0.0_sTrue\n"
     ]
    },
    {
     "name": "stderr",
     "output_type": "stream",
     "text": [
      "100%|██████████| 20/20 [00:00<00:00, 32.25it/s]\n",
      " 50%|████▉     | 124/250 [01:28<01:26,  1.46it/s]"
     ]
    },
    {
     "name": "stdout",
     "output_type": "stream",
     "text": [
      "/bigdata/cifar10/logs/garipov/decomposed/1647860831/gar-lr-[2]-tucker-0.1-dTrue-iNone_bn_128_sgd_l0.0001_g0.0_sTrue\n"
     ]
    },
    {
     "name": "stderr",
     "output_type": "stream",
     "text": [
      "100%|██████████| 20/20 [00:00<00:00, 30.99it/s]\n",
      " 50%|█████     | 125/250 [01:29<01:26,  1.44it/s]"
     ]
    },
    {
     "name": "stdout",
     "output_type": "stream",
     "text": [
      "/bigdata/cifar10/logs/garipov/decomposed/1647861373/gar-lr-[4]-tucker-0.25-dTrue-iNone_bn_128_sgd_l0.0001_g0.0_sTrue\n"
     ]
    },
    {
     "name": "stderr",
     "output_type": "stream",
     "text": [
      "100%|██████████| 20/20 [00:00<00:00, 31.85it/s]\n",
      " 50%|█████     | 126/250 [01:30<01:28,  1.41it/s]"
     ]
    },
    {
     "name": "stdout",
     "output_type": "stream",
     "text": [
      "/bigdata/cifar10/logs/garipov/decomposed/1647861283/gar-lr-[4]-tucker-0.1-dTrue-iNone_bn_128_sgd_l0.0001_g0.0_sTrue\n"
     ]
    },
    {
     "name": "stderr",
     "output_type": "stream",
     "text": [
      "100%|██████████| 20/20 [00:00<00:00, 32.82it/s]\n",
      " 51%|█████     | 127/250 [01:30<01:27,  1.41it/s]"
     ]
    },
    {
     "name": "stdout",
     "output_type": "stream",
     "text": [
      "/bigdata/cifar10/logs/garipov/decomposed/1647859468/gar-lr-[6]-tucker-0.1-dTrue-iNone_bn_128_sgd_l0.0001_g0.0_sTrue\n"
     ]
    },
    {
     "name": "stderr",
     "output_type": "stream",
     "text": [
      "100%|██████████| 20/20 [00:00<00:00, 30.33it/s]\n",
      " 51%|█████     | 128/250 [01:31<01:26,  1.41it/s]"
     ]
    },
    {
     "name": "stdout",
     "output_type": "stream",
     "text": [
      "/bigdata/cifar10/logs/garipov/decomposed/1647855746/gar-lr-[8]-tucker-0.9-dTrue-iNone_bn_128_sgd_l0.0001_g0.0_sTrue\n"
     ]
    },
    {
     "name": "stderr",
     "output_type": "stream",
     "text": [
      "100%|██████████| 20/20 [00:00<00:00, 31.29it/s]\n",
      " 52%|█████▏    | 129/250 [01:32<01:27,  1.39it/s]"
     ]
    },
    {
     "name": "stdout",
     "output_type": "stream",
     "text": [
      "/bigdata/cifar10/logs/garipov/decomposed/1647776462/gar-lr-[8]-cp-0.1-dTrue-iNone_bn_128_sgd_l0.0001_g0.0_sTrue\n"
     ]
    },
    {
     "name": "stderr",
     "output_type": "stream",
     "text": [
      "100%|██████████| 20/20 [00:00<00:00, 32.39it/s]\n",
      " 52%|█████▏    | 130/250 [01:33<01:25,  1.40it/s]"
     ]
    },
    {
     "name": "stdout",
     "output_type": "stream",
     "text": [
      "/bigdata/cifar10/logs/garipov/decomposed/1647772943/gar-lr-[2]-cp-0.9-dTrue-iNone_bn_128_sgd_l0.0001_g0.0_sTrue\n"
     ]
    },
    {
     "name": "stderr",
     "output_type": "stream",
     "text": [
      "100%|██████████| 20/20 [00:00<00:00, 30.16it/s]\n",
      " 52%|█████▏    | 131/250 [01:33<01:26,  1.38it/s]"
     ]
    },
    {
     "name": "stdout",
     "output_type": "stream",
     "text": [
      "/bigdata/cifar10/logs/garipov/decomposed/1647855110/gar-lr-[6]-tucker-0.5-dTrue-iNone_bn_128_sgd_l0.0001_g0.0_sTrue\n"
     ]
    },
    {
     "name": "stderr",
     "output_type": "stream",
     "text": [
      "100%|██████████| 20/20 [00:00<00:00, 30.31it/s]\n",
      " 53%|█████▎    | 132/250 [01:34<01:26,  1.37it/s]"
     ]
    },
    {
     "name": "stdout",
     "output_type": "stream",
     "text": [
      "/bigdata/cifar10/logs/garipov/decomposed/1647784228/gar-lr-[8]-cp-0.5-dTrue-iNone_bn_128_sgd_l0.0001_g0.0_sTrue\n"
     ]
    },
    {
     "name": "stderr",
     "output_type": "stream",
     "text": [
      "100%|██████████| 20/20 [00:00<00:00, 30.92it/s]\n",
      " 53%|█████▎    | 133/250 [01:35<01:26,  1.35it/s]"
     ]
    },
    {
     "name": "stdout",
     "output_type": "stream",
     "text": [
      "/bigdata/cifar10/logs/garipov/decomposed/1647780685/gar-lr-[4]-cp-0.5-dTrue-iNone_bn_128_sgd_l0.0001_g0.0_sTrue\n"
     ]
    },
    {
     "name": "stderr",
     "output_type": "stream",
     "text": [
      "100%|██████████| 20/20 [00:00<00:00, 31.45it/s]\n",
      " 54%|█████▎    | 134/250 [01:36<01:25,  1.36it/s]"
     ]
    },
    {
     "name": "stdout",
     "output_type": "stream",
     "text": [
      "/bigdata/cifar10/logs/garipov/decomposed/1647859741/gar-lr-[6]-tucker-0.75-dTrue-iNone_bn_128_sgd_l0.0001_g0.0_sTrue\n"
     ]
    },
    {
     "name": "stderr",
     "output_type": "stream",
     "text": [
      "100%|██████████| 20/20 [00:00<00:00, 32.90it/s]\n",
      " 54%|█████▍    | 135/250 [01:36<01:22,  1.40it/s]"
     ]
    },
    {
     "name": "stdout",
     "output_type": "stream",
     "text": [
      "/bigdata/cifar10/logs/garipov/decomposed/1647780103/gar-lr-[2]-cp-0.25-dTrue-iNone_bn_128_sgd_l0.0001_g0.0_sTrue\n"
     ]
    },
    {
     "name": "stderr",
     "output_type": "stream",
     "text": [
      "100%|██████████| 20/20 [00:00<00:00, 31.91it/s]\n",
      " 54%|█████▍    | 136/250 [01:37<01:21,  1.41it/s]"
     ]
    },
    {
     "name": "stdout",
     "output_type": "stream",
     "text": [
      "/bigdata/cifar10/logs/garipov/decomposed/1647781395/gar-lr-[6]-cp-0.9-dTrue-iNone_bn_128_sgd_l0.0001_g0.0_sTrue\n"
     ]
    },
    {
     "name": "stderr",
     "output_type": "stream",
     "text": [
      "100%|██████████| 20/20 [00:00<00:00, 32.92it/s]\n",
      " 55%|█████▍    | 137/250 [01:38<01:19,  1.43it/s]"
     ]
    },
    {
     "name": "stdout",
     "output_type": "stream",
     "text": [
      "/bigdata/cifar10/logs/garipov/decomposed/1647779172/gar-lr-[8]-cp-0.5-dTrue-iNone_bn_128_sgd_l0.0001_g0.0_sTrue\n"
     ]
    },
    {
     "name": "stderr",
     "output_type": "stream",
     "text": [
      "100%|██████████| 20/20 [00:00<00:00, 32.13it/s]\n",
      " 55%|█████▌    | 138/250 [01:38<01:17,  1.44it/s]"
     ]
    },
    {
     "name": "stdout",
     "output_type": "stream",
     "text": [
      "/bigdata/cifar10/logs/garipov/decomposed/1647783816/gar-lr-[6]-cp-0.75-dTrue-iNone_bn_128_sgd_l0.0001_g0.0_sTrue\n"
     ]
    },
    {
     "name": "stderr",
     "output_type": "stream",
     "text": [
      "100%|██████████| 20/20 [00:00<00:00, 31.67it/s]\n",
      " 56%|█████▌    | 139/250 [01:39<01:17,  1.43it/s]"
     ]
    },
    {
     "name": "stdout",
     "output_type": "stream",
     "text": [
      "/bigdata/cifar10/logs/garipov/decomposed/1647782117/gar-lr-[10]-cp-0.25-dTrue-iNone_bn_128_sgd_l0.0001_g0.0_sTrue\n"
     ]
    },
    {
     "name": "stderr",
     "output_type": "stream",
     "text": [
      "100%|██████████| 20/20 [00:00<00:00, 32.60it/s]\n",
      " 56%|█████▌    | 140/250 [01:40<01:16,  1.44it/s]"
     ]
    },
    {
     "name": "stdout",
     "output_type": "stream",
     "text": [
      "/bigdata/cifar10/logs/garipov/decomposed/1647782925/gar-lr-[2]-cp-0.9-dTrue-iNone_bn_128_sgd_l0.0001_g0.0_sTrue\n"
     ]
    },
    {
     "name": "stderr",
     "output_type": "stream",
     "text": [
      "100%|██████████| 20/20 [00:00<00:00, 30.97it/s]\n",
      " 56%|█████▋    | 141/250 [01:40<01:17,  1.41it/s]"
     ]
    },
    {
     "name": "stdout",
     "output_type": "stream",
     "text": [
      "/bigdata/cifar10/logs/garipov/decomposed/1647864830/gar-lr-[8]-tucker-0.9-dTrue-iNone_bn_128_sgd_l0.0001_g0.0_sTrue\n"
     ]
    },
    {
     "name": "stderr",
     "output_type": "stream",
     "text": [
      "100%|██████████| 20/20 [00:00<00:00, 30.87it/s]\n",
      " 57%|█████▋    | 142/250 [01:41<01:16,  1.41it/s]"
     ]
    },
    {
     "name": "stdout",
     "output_type": "stream",
     "text": [
      "/bigdata/cifar10/logs/garipov/decomposed/1647864281/gar-lr-[6]-tucker-0.75-dTrue-iNone_bn_128_sgd_l0.0001_g0.0_sTrue\n"
     ]
    },
    {
     "name": "stderr",
     "output_type": "stream",
     "text": [
      "100%|██████████| 20/20 [00:00<00:00, 29.54it/s]\n",
      " 57%|█████▋    | 143/250 [01:42<01:18,  1.36it/s]"
     ]
    },
    {
     "name": "stdout",
     "output_type": "stream",
     "text": [
      "/bigdata/cifar10/logs/garipov/decomposed/1647778560/gar-lr-[6]-cp-0.25-dTrue-iNone_bn_128_sgd_l0.0001_g0.0_sTrue\n"
     ]
    },
    {
     "name": "stderr",
     "output_type": "stream",
     "text": [
      "100%|██████████| 20/20 [00:00<00:00, 31.00it/s]\n",
      " 58%|█████▊    | 144/250 [01:43<01:16,  1.38it/s]"
     ]
    },
    {
     "name": "stdout",
     "output_type": "stream",
     "text": [
      "/bigdata/cifar10/logs/garipov/decomposed/1647856200/gar-lr-[10]-tucker-0.9-dTrue-iNone_bn_128_sgd_l0.0001_g0.0_sTrue\n"
     ]
    },
    {
     "name": "stderr",
     "output_type": "stream",
     "text": [
      "100%|██████████| 20/20 [00:00<00:00, 31.17it/s]\n",
      " 58%|█████▊    | 145/250 [01:43<01:14,  1.40it/s]"
     ]
    },
    {
     "name": "stdout",
     "output_type": "stream",
     "text": [
      "/bigdata/cifar10/logs/garipov/decomposed/1647774506/gar-lr-[10]-cp-0.1-dTrue-iNone_bn_128_sgd_l0.0001_g0.0_sTrue\n"
     ]
    },
    {
     "name": "stderr",
     "output_type": "stream",
     "text": [
      "100%|██████████| 20/20 [00:00<00:00, 32.02it/s]\n",
      " 58%|█████▊    | 146/250 [01:44<01:13,  1.42it/s]"
     ]
    },
    {
     "name": "stdout",
     "output_type": "stream",
     "text": [
      "/bigdata/cifar10/logs/garipov/decomposed/1647860558/gar-lr-[10]-tucker-0.5-dTrue-iNone_bn_128_sgd_l0.0001_g0.0_sTrue\n"
     ]
    },
    {
     "name": "stderr",
     "output_type": "stream",
     "text": [
      "100%|██████████| 20/20 [00:00<00:00, 30.87it/s]\n",
      " 59%|█████▉    | 147/250 [01:45<01:12,  1.41it/s]"
     ]
    },
    {
     "name": "stdout",
     "output_type": "stream",
     "text": [
      "/bigdata/cifar10/logs/garipov/decomposed/1647778760/gar-lr-[6]-cp-0.75-dTrue-iNone_bn_128_sgd_l0.0001_g0.0_sTrue\n"
     ]
    },
    {
     "name": "stderr",
     "output_type": "stream",
     "text": [
      "100%|██████████| 20/20 [00:00<00:00, 30.68it/s]\n",
      " 59%|█████▉    | 148/250 [01:46<01:15,  1.35it/s]"
     ]
    },
    {
     "name": "stdout",
     "output_type": "stream",
     "text": [
      "/bigdata/cifar10/logs/garipov/decomposed/1647777971/gar-lr-[4]-cp-0.1-dTrue-iNone_bn_128_sgd_l0.0001_g0.0_sTrue\n"
     ]
    },
    {
     "name": "stderr",
     "output_type": "stream",
     "text": [
      "100%|██████████| 20/20 [00:00<00:00, 31.54it/s]\n",
      " 60%|█████▉    | 149/250 [01:46<01:20,  1.26it/s]"
     ]
    },
    {
     "name": "stdout",
     "output_type": "stream",
     "text": [
      "/bigdata/cifar10/logs/garipov/decomposed/1647777374/gar-lr-[10]-cp-0.9-dTrue-iNone_bn_128_sgd_l0.0001_g0.0_sTrue\n"
     ]
    },
    {
     "name": "stderr",
     "output_type": "stream",
     "text": [
      "100%|██████████| 20/20 [00:00<00:00, 30.09it/s]\n",
      " 60%|██████    | 150/250 [01:48<01:36,  1.03it/s]"
     ]
    },
    {
     "name": "stdout",
     "output_type": "stream",
     "text": [
      "/bigdata/cifar10/logs/garipov/decomposed/1647861645/gar-lr-[4]-tucker-0.9-dTrue-iNone_bn_128_sgd_l0.0001_g0.0_sTrue\n"
     ]
    },
    {
     "name": "stderr",
     "output_type": "stream",
     "text": [
      "100%|██████████| 20/20 [00:00<00:00, 31.71it/s]\n",
      " 60%|██████    | 151/250 [01:49<01:30,  1.09it/s]"
     ]
    },
    {
     "name": "stdout",
     "output_type": "stream",
     "text": [
      "/bigdata/cifar10/logs/garipov/decomposed/1647855655/gar-lr-[8]-tucker-0.75-dTrue-iNone_bn_128_sgd_l0.0001_g0.0_sTrue\n"
     ]
    },
    {
     "name": "stderr",
     "output_type": "stream",
     "text": [
      "100%|██████████| 20/20 [00:00<00:00, 31.33it/s]\n",
      " 61%|██████    | 152/250 [01:49<01:23,  1.18it/s]"
     ]
    },
    {
     "name": "stdout",
     "output_type": "stream",
     "text": [
      "/bigdata/cifar10/logs/garipov/decomposed/1647782539/gar-lr-[2]-cp-0.1-dTrue-iNone_bn_128_sgd_l0.0001_g0.0_sTrue\n"
     ]
    },
    {
     "name": "stderr",
     "output_type": "stream",
     "text": [
      "100%|██████████| 20/20 [00:00<00:00, 31.80it/s]\n",
      " 61%|██████    | 153/250 [01:50<01:17,  1.24it/s]"
     ]
    },
    {
     "name": "stdout",
     "output_type": "stream",
     "text": [
      "/bigdata/cifar10/logs/garipov/decomposed/1647775855/gar-lr-[4]-cp-0.9-dTrue-iNone_bn_128_sgd_l0.0001_g0.0_sTrue\n"
     ]
    },
    {
     "name": "stderr",
     "output_type": "stream",
     "text": [
      "100%|██████████| 20/20 [00:00<00:00, 32.03it/s]\n",
      " 62%|██████▏   | 154/250 [01:51<01:15,  1.27it/s]"
     ]
    },
    {
     "name": "stdout",
     "output_type": "stream",
     "text": [
      "/bigdata/cifar10/logs/garipov/decomposed/1647861193/gar-lr-[2]-tucker-0.9-dTrue-iNone_bn_128_sgd_l0.0001_g0.0_sTrue\n"
     ]
    },
    {
     "name": "stderr",
     "output_type": "stream",
     "text": [
      "100%|██████████| 20/20 [00:00<00:00, 30.96it/s]\n",
      " 62%|██████▏   | 155/250 [01:51<01:13,  1.29it/s]"
     ]
    },
    {
     "name": "stdout",
     "output_type": "stream",
     "text": [
      "/bigdata/cifar10/logs/garipov/decomposed/1647780887/gar-lr-[4]-cp-0.9-dTrue-iNone_bn_128_sgd_l0.0001_g0.0_sTrue\n"
     ]
    },
    {
     "name": "stderr",
     "output_type": "stream",
     "text": [
      "100%|██████████| 20/20 [00:00<00:00, 31.65it/s]\n",
      " 62%|██████▏   | 156/250 [01:52<01:11,  1.32it/s]"
     ]
    },
    {
     "name": "stdout",
     "output_type": "stream",
     "text": [
      "/bigdata/cifar10/logs/garipov/decomposed/1647862737/gar-lr-[10]-tucker-0.25-dTrue-iNone_bn_128_sgd_l0.0001_g0.0_sTrue\n"
     ]
    },
    {
     "name": "stderr",
     "output_type": "stream",
     "text": [
      "100%|██████████| 20/20 [00:00<00:00, 30.32it/s]\n",
      " 63%|██████▎   | 157/250 [01:53<01:09,  1.34it/s]"
     ]
    },
    {
     "name": "stdout",
     "output_type": "stream",
     "text": [
      "/bigdata/cifar10/logs/garipov/decomposed/1647856834/gar-lr-[4]-tucker-0.25-dTrue-iNone_bn_128_sgd_l0.0001_g0.0_sTrue\n"
     ]
    },
    {
     "name": "stderr",
     "output_type": "stream",
     "text": [
      "100%|██████████| 20/20 [00:00<00:00, 33.75it/s]\n",
      " 63%|██████▎   | 158/250 [01:54<01:06,  1.38it/s]"
     ]
    },
    {
     "name": "stdout",
     "output_type": "stream",
     "text": [
      "/bigdata/cifar10/logs/garipov/decomposed/1647782023/gar-lr-[10]-cp-0.1-dTrue-iNone_bn_128_sgd_l0.0001_g0.0_sTrue\n"
     ]
    },
    {
     "name": "stderr",
     "output_type": "stream",
     "text": [
      "100%|██████████| 20/20 [00:00<00:00, 30.48it/s]\n",
      " 64%|██████▎   | 159/250 [01:54<01:05,  1.38it/s]"
     ]
    },
    {
     "name": "stdout",
     "output_type": "stream",
     "text": [
      "/bigdata/cifar10/logs/garipov/decomposed/1647784038/gar-lr-[8]-cp-0.1-dTrue-iNone_bn_128_sgd_l0.0001_g0.0_sTrue\n"
     ]
    },
    {
     "name": "stderr",
     "output_type": "stream",
     "text": [
      "100%|██████████| 20/20 [00:00<00:00, 30.43it/s]\n",
      " 64%|██████▍   | 160/250 [01:55<01:04,  1.39it/s]"
     ]
    },
    {
     "name": "stdout",
     "output_type": "stream",
     "text": [
      "/bigdata/cifar10/logs/garipov/decomposed/1647857196/gar-lr-[6]-tucker-0.1-dTrue-iNone_bn_128_sgd_l0.0001_g0.0_sTrue\n"
     ]
    },
    {
     "name": "stderr",
     "output_type": "stream",
     "text": [
      "100%|██████████| 20/20 [00:00<00:00, 31.77it/s]\n",
      " 64%|██████▍   | 161/250 [01:56<01:04,  1.39it/s]"
     ]
    },
    {
     "name": "stdout",
     "output_type": "stream",
     "text": [
      "/bigdata/cifar10/logs/garipov/decomposed/1647774292/gar-lr-[8]-cp-0.75-dTrue-iNone_bn_128_sgd_l0.0001_g0.0_sTrue\n"
     ]
    },
    {
     "name": "stderr",
     "output_type": "stream",
     "text": [
      "100%|██████████| 20/20 [00:00<00:00, 32.38it/s]\n",
      " 65%|██████▍   | 162/250 [01:56<01:03,  1.39it/s]"
     ]
    },
    {
     "name": "stdout",
     "output_type": "stream",
     "text": [
      "/bigdata/cifar10/logs/garipov/decomposed/1647781602/gar-lr-[8]-cp-0.25-dTrue-iNone_bn_128_sgd_l0.0001_g0.0_sTrue\n"
     ]
    },
    {
     "name": "stderr",
     "output_type": "stream",
     "text": [
      "100%|██████████| 20/20 [00:00<00:00, 31.33it/s]\n",
      " 65%|██████▌   | 163/250 [01:57<01:02,  1.39it/s]"
     ]
    },
    {
     "name": "stdout",
     "output_type": "stream",
     "text": [
      "/bigdata/cifar10/logs/garipov/decomposed/1647856743/gar-lr-[4]-tucker-0.1-dTrue-iNone_bn_128_sgd_l0.0001_g0.0_sTrue\n"
     ]
    },
    {
     "name": "stderr",
     "output_type": "stream",
     "text": [
      "100%|██████████| 20/20 [00:00<00:00, 32.64it/s]\n",
      " 66%|██████▌   | 164/250 [01:58<01:01,  1.40it/s]"
     ]
    },
    {
     "name": "stdout",
     "output_type": "stream",
     "text": [
      "/bigdata/cifar10/logs/garipov/decomposed/1647773514/gar-lr-[6]-cp-0.1-dTrue-iNone_bn_128_sgd_l0.0001_g0.0_sTrue\n"
     ]
    },
    {
     "name": "stderr",
     "output_type": "stream",
     "text": [
      "100%|██████████| 20/20 [00:00<00:00, 31.23it/s]\n",
      " 66%|██████▌   | 165/250 [01:59<01:00,  1.40it/s]"
     ]
    },
    {
     "name": "stdout",
     "output_type": "stream",
     "text": [
      "/bigdata/cifar10/logs/garipov/decomposed/1647859286/gar-lr-[4]-tucker-0.75-dTrue-iNone_bn_128_sgd_l0.0001_g0.0_sTrue\n"
     ]
    },
    {
     "name": "stderr",
     "output_type": "stream",
     "text": [
      "100%|██████████| 20/20 [00:00<00:00, 31.86it/s]\n",
      " 66%|██████▋   | 166/250 [01:59<00:59,  1.41it/s]"
     ]
    },
    {
     "name": "stdout",
     "output_type": "stream",
     "text": [
      "/bigdata/cifar10/logs/garipov/decomposed/1647855291/gar-lr-[6]-tucker-0.9-dTrue-iNone_bn_128_sgd_l0.0001_g0.0_sTrue\n"
     ]
    },
    {
     "name": "stderr",
     "output_type": "stream",
     "text": [
      "100%|██████████| 20/20 [00:00<00:00, 30.24it/s]\n",
      " 67%|██████▋   | 167/250 [02:00<01:01,  1.34it/s]"
     ]
    },
    {
     "name": "stdout",
     "output_type": "stream",
     "text": [
      "/bigdata/cifar10/logs/garipov/decomposed/1647784331/gar-lr-[8]-cp-0.75-dTrue-iNone_bn_128_sgd_l0.0001_g0.0_sTrue\n"
     ]
    },
    {
     "name": "stderr",
     "output_type": "stream",
     "text": [
      "100%|██████████| 20/20 [00:00<00:00, 31.67it/s]\n",
      " 67%|██████▋   | 168/250 [02:01<01:01,  1.33it/s]"
     ]
    },
    {
     "name": "stdout",
     "output_type": "stream",
     "text": [
      "/bigdata/cifar10/logs/garipov/decomposed/1647864921/gar-lr-[10]-tucker-0.1-dTrue-iNone_bn_128_sgd_l0.0001_g0.0_sTrue\n"
     ]
    },
    {
     "name": "stderr",
     "output_type": "stream",
     "text": [
      "100%|██████████| 20/20 [00:00<00:00, 31.79it/s]\n",
      " 68%|██████▊   | 169/250 [02:02<01:00,  1.34it/s]"
     ]
    },
    {
     "name": "stdout",
     "output_type": "stream",
     "text": [
      "/bigdata/cifar10/logs/garipov/decomposed/1647856018/gar-lr-[10]-tucker-0.5-dTrue-iNone_bn_128_sgd_l0.0001_g0.0_sTrue\n"
     ]
    },
    {
     "name": "stderr",
     "output_type": "stream",
     "text": [
      "100%|██████████| 20/20 [00:00<00:00, 32.18it/s]\n",
      " 68%|██████▊   | 170/250 [02:02<00:57,  1.38it/s]"
     ]
    },
    {
     "name": "stdout",
     "output_type": "stream",
     "text": [
      "/bigdata/cifar10/logs/garipov/decomposed/1647775658/gar-lr-[4]-cp-0.5-dTrue-iNone_bn_128_sgd_l0.0001_g0.0_sTrue\n"
     ]
    },
    {
     "name": "stderr",
     "output_type": "stream",
     "text": [
      "100%|██████████| 20/20 [00:00<00:00, 31.95it/s]\n",
      " 68%|██████▊   | 171/250 [02:03<00:56,  1.40it/s]"
     ]
    },
    {
     "name": "stdout",
     "output_type": "stream",
     "text": [
      "/bigdata/cifar10/logs/garipov/decomposed/1647779686/gar-lr-[10]-cp-0.5-dTrue-iNone_bn_128_sgd_l0.0001_g0.0_sTrue\n"
     ]
    },
    {
     "name": "stderr",
     "output_type": "stream",
     "text": [
      "100%|██████████| 20/20 [00:00<00:00, 31.01it/s]\n",
      " 69%|██████▉   | 172/250 [02:04<00:55,  1.40it/s]"
     ]
    },
    {
     "name": "stdout",
     "output_type": "stream",
     "text": [
      "/bigdata/cifar10/logs/garipov/decomposed/1647855927/gar-lr-[10]-tucker-0.25-dTrue-iNone_bn_128_sgd_l0.0001_g0.0_sTrue\n"
     ]
    },
    {
     "name": "stderr",
     "output_type": "stream",
     "text": [
      "100%|██████████| 20/20 [00:00<00:00, 33.75it/s]\n",
      " 69%|██████▉   | 173/250 [02:04<00:53,  1.44it/s]"
     ]
    },
    {
     "name": "stdout",
     "output_type": "stream",
     "text": [
      "/bigdata/cifar10/logs/garipov/decomposed/1647783214/gar-lr-[4]-cp-0.5-dTrue-iNone_bn_128_sgd_l0.0001_g0.0_sTrue\n"
     ]
    },
    {
     "name": "stderr",
     "output_type": "stream",
     "text": [
      "100%|██████████| 20/20 [00:00<00:00, 30.70it/s]\n",
      " 70%|██████▉   | 174/250 [02:05<00:53,  1.43it/s]"
     ]
    },
    {
     "name": "stdout",
     "output_type": "stream",
     "text": [
      "/bigdata/cifar10/logs/garipov/decomposed/1647774596/gar-lr-[10]-cp-0.25-dTrue-iNone_bn_128_sgd_l0.0001_g0.0_sTrue\n"
     ]
    },
    {
     "name": "stderr",
     "output_type": "stream",
     "text": [
      "100%|██████████| 20/20 [00:00<00:00, 32.03it/s]\n",
      " 70%|███████   | 175/250 [02:06<00:51,  1.45it/s]"
     ]
    },
    {
     "name": "stdout",
     "output_type": "stream",
     "text": [
      "/bigdata/cifar10/logs/garipov/decomposed/1647857469/gar-lr-[6]-tucker-0.75-dTrue-iNone_bn_128_sgd_l0.0001_g0.0_sTrue\n"
     ]
    },
    {
     "name": "stderr",
     "output_type": "stream",
     "text": [
      "100%|██████████| 20/20 [00:00<00:00, 33.01it/s]\n",
      " 70%|███████   | 176/250 [02:06<00:51,  1.45it/s]"
     ]
    },
    {
     "name": "stdout",
     "output_type": "stream",
     "text": [
      "/bigdata/cifar10/logs/garipov/decomposed/1647776751/gar-lr-[8]-cp-0.75-dTrue-iNone_bn_128_sgd_l0.0001_g0.0_sTrue\n"
     ]
    },
    {
     "name": "stderr",
     "output_type": "stream",
     "text": [
      "100%|██████████| 20/20 [00:00<00:00, 32.14it/s]\n",
      " 71%|███████   | 177/250 [02:07<00:50,  1.44it/s]"
     ]
    },
    {
     "name": "stdout",
     "output_type": "stream",
     "text": [
      "/bigdata/cifar10/logs/garipov/decomposed/1647862281/gar-lr-[8]-tucker-0.25-dTrue-iNone_bn_128_sgd_l0.0001_g0.0_sTrue\n"
     ]
    },
    {
     "name": "stderr",
     "output_type": "stream",
     "text": [
      "100%|██████████| 20/20 [00:00<00:00, 31.62it/s]\n",
      " 71%|███████   | 178/250 [02:08<00:49,  1.44it/s]"
     ]
    },
    {
     "name": "stdout",
     "output_type": "stream",
     "text": [
      "/bigdata/cifar10/logs/garipov/decomposed/1647778159/gar-lr-[4]-cp-0.5-dTrue-iNone_bn_128_sgd_l0.0001_g0.0_sTrue\n"
     ]
    },
    {
     "name": "stderr",
     "output_type": "stream",
     "text": [
      "100%|██████████| 20/20 [00:00<00:00, 30.20it/s]\n",
      " 72%|███████▏  | 179/250 [02:09<00:50,  1.41it/s]"
     ]
    },
    {
     "name": "stdout",
     "output_type": "stream",
     "text": [
      "/bigdata/cifar10/logs/garipov/decomposed/1647857560/gar-lr-[6]-tucker-0.9-dTrue-iNone_bn_128_sgd_l0.0001_g0.0_sTrue\n"
     ]
    },
    {
     "name": "stderr",
     "output_type": "stream",
     "text": [
      "100%|██████████| 20/20 [00:00<00:00, 30.71it/s]\n",
      " 72%|███████▏  | 180/250 [02:09<00:50,  1.39it/s]"
     ]
    },
    {
     "name": "stdout",
     "output_type": "stream",
     "text": [
      "/bigdata/cifar10/logs/garipov/decomposed/1647860013/gar-lr-[8]-tucker-0.25-dTrue-iNone_bn_128_sgd_l0.0001_g0.0_sTrue\n"
     ]
    },
    {
     "name": "stderr",
     "output_type": "stream",
     "text": [
      "100%|██████████| 20/20 [00:00<00:00, 32.35it/s]\n",
      " 72%|███████▏  | 181/250 [02:10<00:48,  1.42it/s]"
     ]
    },
    {
     "name": "stdout",
     "output_type": "stream",
     "text": [
      "/bigdata/cifar10/logs/garipov/decomposed/1647856381/gar-lr-[2]-tucker-0.25-dTrue-iNone_bn_128_sgd_l0.0001_g0.0_sTrue\n"
     ]
    },
    {
     "name": "stderr",
     "output_type": "stream",
     "text": [
      "100%|██████████| 20/20 [00:00<00:00, 32.68it/s]\n",
      " 73%|███████▎  | 182/250 [02:11<00:47,  1.43it/s]"
     ]
    },
    {
     "name": "stdout",
     "output_type": "stream",
     "text": [
      "/bigdata/cifar10/logs/garipov/decomposed/1647854928/gar-lr-[6]-tucker-0.1-dTrue-iNone_bn_128_sgd_l0.0001_g0.0_sTrue\n"
     ]
    },
    {
     "name": "stderr",
     "output_type": "stream",
     "text": [
      "100%|██████████| 20/20 [00:00<00:00, 31.07it/s]\n",
      " 73%|███████▎  | 183/250 [02:11<00:47,  1.42it/s]"
     ]
    },
    {
     "name": "stdout",
     "output_type": "stream",
     "text": [
      "/bigdata/cifar10/logs/garipov/decomposed/1647783713/gar-lr-[6]-cp-0.5-dTrue-iNone_bn_128_sgd_l0.0001_g0.0_sTrue\n"
     ]
    },
    {
     "name": "stderr",
     "output_type": "stream",
     "text": [
      "100%|██████████| 20/20 [00:00<00:00, 33.46it/s]\n",
      " 74%|███████▎  | 184/250 [02:12<00:46,  1.41it/s]"
     ]
    },
    {
     "name": "stdout",
     "output_type": "stream",
     "text": [
      "/bigdata/cifar10/logs/garipov/decomposed/1647862828/gar-lr-[10]-tucker-0.5-dTrue-iNone_bn_128_sgd_l0.0001_g0.0_sTrue\n"
     ]
    },
    {
     "name": "stderr",
     "output_type": "stream",
     "text": [
      "100%|██████████| 20/20 [00:00<00:00, 31.27it/s]\n",
      " 74%|███████▍  | 185/250 [02:13<00:46,  1.39it/s]"
     ]
    },
    {
     "name": "stdout",
     "output_type": "stream",
     "text": [
      "/bigdata/cifar10/logs/garipov/decomposed/1647864190/gar-lr-[6]-tucker-0.5-dTrue-iNone_bn_128_sgd_l0.0001_g0.0_sTrue\n"
     ]
    },
    {
     "name": "stderr",
     "output_type": "stream",
     "text": [
      "100%|██████████| 20/20 [00:00<00:00, 30.91it/s]\n",
      " 74%|███████▍  | 186/250 [02:14<00:46,  1.38it/s]"
     ]
    },
    {
     "name": "stdout",
     "output_type": "stream",
     "text": [
      "/bigdata/cifar10/logs/garipov/decomposed/1647854115/gar-lr-[2]-tucker-0.25-dTrue-iNone_bn_128_sgd_l0.0001_g0.0_sTrue\n"
     ]
    },
    {
     "name": "stderr",
     "output_type": "stream",
     "text": [
      "100%|██████████| 20/20 [00:00<00:00, 31.87it/s]\n",
      " 75%|███████▍  | 187/250 [02:14<00:45,  1.39it/s]"
     ]
    },
    {
     "name": "stdout",
     "output_type": "stream",
     "text": [
      "/bigdata/cifar10/logs/garipov/decomposed/1647781699/gar-lr-[8]-cp-0.5-dTrue-iNone_bn_128_sgd_l0.0001_g0.0_sTrue\n"
     ]
    },
    {
     "name": "stderr",
     "output_type": "stream",
     "text": [
      "100%|██████████| 20/20 [00:00<00:00, 32.40it/s]\n",
      " 75%|███████▌  | 188/250 [02:15<00:44,  1.39it/s]"
     ]
    },
    {
     "name": "stdout",
     "output_type": "stream",
     "text": [
      "/bigdata/cifar10/logs/garipov/decomposed/1647783314/gar-lr-[4]-cp-0.75-dTrue-iNone_bn_128_sgd_l0.0001_g0.0_sTrue\n"
     ]
    },
    {
     "name": "stderr",
     "output_type": "stream",
     "text": [
      "100%|██████████| 20/20 [00:00<00:00, 32.07it/s]\n",
      " 76%|███████▌  | 189/250 [02:16<00:43,  1.41it/s]"
     ]
    },
    {
     "name": "stdout",
     "output_type": "stream",
     "text": [
      "/bigdata/cifar10/logs/garipov/decomposed/1647855836/gar-lr-[10]-tucker-0.1-dTrue-iNone_bn_128_sgd_l0.0001_g0.0_sTrue\n"
     ]
    },
    {
     "name": "stderr",
     "output_type": "stream",
     "text": [
      "100%|██████████| 20/20 [00:00<00:00, 31.75it/s]\n",
      " 76%|███████▌  | 190/250 [02:16<00:41,  1.45it/s]"
     ]
    },
    {
     "name": "stdout",
     "output_type": "stream",
     "text": [
      "/bigdata/cifar10/logs/garipov/decomposed/1647855473/gar-lr-[8]-tucker-0.25-dTrue-iNone_bn_128_sgd_l0.0001_g0.0_sTrue\n"
     ]
    },
    {
     "name": "stderr",
     "output_type": "stream",
     "text": [
      "100%|██████████| 20/20 [00:00<00:00, 30.68it/s]\n",
      " 76%|███████▋  | 191/250 [02:17<00:41,  1.44it/s]"
     ]
    },
    {
     "name": "stdout",
     "output_type": "stream",
     "text": [
      "/bigdata/cifar10/logs/garipov/decomposed/1647860921/gar-lr-[2]-tucker-0.25-dTrue-iNone_bn_128_sgd_l0.0001_g0.0_sTrue\n"
     ]
    },
    {
     "name": "stderr",
     "output_type": "stream",
     "text": [
      "100%|██████████| 20/20 [00:00<00:00, 30.42it/s]\n",
      " 77%|███████▋  | 192/250 [02:18<00:42,  1.37it/s]"
     ]
    },
    {
     "name": "stdout",
     "output_type": "stream",
     "text": [
      "/bigdata/cifar10/logs/garipov/decomposed/1647784744/gar-lr-[10]-cp-0.5-dTrue-iNone_bn_128_sgd_l0.0001_g0.0_sTrue\n"
     ]
    },
    {
     "name": "stderr",
     "output_type": "stream",
     "text": [
      "100%|██████████| 20/20 [00:00<00:00, 32.03it/s]\n",
      " 77%|███████▋  | 193/250 [02:19<00:41,  1.36it/s]"
     ]
    },
    {
     "name": "stdout",
     "output_type": "stream",
     "text": [
      "/bigdata/cifar10/logs/garipov/decomposed/1647782632/gar-lr-[2]-cp-0.25-dTrue-iNone_bn_128_sgd_l0.0001_g0.0_sTrue\n"
     ]
    },
    {
     "name": "stderr",
     "output_type": "stream",
     "text": [
      "100%|██████████| 20/20 [00:00<00:00, 34.31it/s]\n",
      " 78%|███████▊  | 194/250 [02:19<00:39,  1.41it/s]"
     ]
    },
    {
     "name": "stdout",
     "output_type": "stream",
     "text": [
      "/bigdata/cifar10/logs/garipov/decomposed/1647863646/gar-lr-[4]-tucker-0.25-dTrue-iNone_bn_128_sgd_l0.0001_g0.0_sTrue\n"
     ]
    },
    {
     "name": "stderr",
     "output_type": "stream",
     "text": [
      "100%|██████████| 20/20 [00:00<00:00, 32.34it/s]\n",
      " 78%|███████▊  | 195/250 [02:20<00:39,  1.41it/s]"
     ]
    },
    {
     "name": "stdout",
     "output_type": "stream",
     "text": [
      "/bigdata/cifar10/logs/garipov/decomposed/1647782427/gar-lr-[10]-cp-0.9-dTrue-iNone_bn_128_sgd_l0.0001_g0.0_sTrue\n"
     ]
    },
    {
     "name": "stderr",
     "output_type": "stream",
     "text": [
      "100%|██████████| 20/20 [00:00<00:00, 31.34it/s]\n",
      " 78%|███████▊  | 196/250 [02:21<00:38,  1.41it/s]"
     ]
    },
    {
     "name": "stdout",
     "output_type": "stream",
     "text": [
      "/bigdata/cifar10/logs/garipov/decomposed/1647860104/gar-lr-[8]-tucker-0.5-dTrue-iNone_bn_128_sgd_l0.0001_g0.0_sTrue\n"
     ]
    },
    {
     "name": "stderr",
     "output_type": "stream",
     "text": [
      "100%|██████████| 20/20 [00:00<00:00, 32.82it/s]\n",
      " 79%|███████▉  | 197/250 [02:21<00:37,  1.43it/s]"
     ]
    },
    {
     "name": "stdout",
     "output_type": "stream",
     "text": [
      "/bigdata/cifar10/logs/garipov/decomposed/1647861555/gar-lr-[4]-tucker-0.75-dTrue-iNone_bn_128_sgd_l0.0001_g0.0_sTrue\n"
     ]
    },
    {
     "name": "stderr",
     "output_type": "stream",
     "text": [
      "100%|██████████| 20/20 [00:00<00:00, 31.85it/s]\n",
      " 79%|███████▉  | 198/250 [02:22<00:37,  1.38it/s]"
     ]
    },
    {
     "name": "stdout",
     "output_type": "stream",
     "text": [
      "/bigdata/cifar10/logs/garipov/decomposed/1647861012/gar-lr-[2]-tucker-0.5-dTrue-iNone_bn_128_sgd_l0.0001_g0.0_sTrue\n"
     ]
    },
    {
     "name": "stderr",
     "output_type": "stream",
     "text": [
      "100%|██████████| 20/20 [00:00<00:00, 30.97it/s]\n",
      " 80%|███████▉  | 199/250 [02:23<00:41,  1.23it/s]"
     ]
    },
    {
     "name": "stdout",
     "output_type": "stream",
     "text": [
      "/bigdata/cifar10/logs/garipov/decomposed/1647856472/gar-lr-[2]-tucker-0.5-dTrue-iNone_bn_128_sgd_l0.0001_g0.0_sTrue\n"
     ]
    },
    {
     "name": "stderr",
     "output_type": "stream",
     "text": [
      "100%|██████████| 20/20 [00:00<00:00, 32.97it/s]\n",
      " 80%|████████  | 200/250 [02:24<00:38,  1.31it/s]"
     ]
    },
    {
     "name": "stdout",
     "output_type": "stream",
     "text": [
      "/bigdata/cifar10/logs/garipov/decomposed/1647854476/gar-lr-[4]-tucker-0.1-dTrue-iNone_bn_128_sgd_l0.0001_g0.0_sTrue\n"
     ]
    },
    {
     "name": "stderr",
     "output_type": "stream",
     "text": [
      "100%|██████████| 20/20 [00:00<00:00, 31.09it/s]\n",
      " 80%|████████  | 201/250 [02:25<00:36,  1.33it/s]"
     ]
    },
    {
     "name": "stdout",
     "output_type": "stream",
     "text": [
      "/bigdata/cifar10/logs/garipov/decomposed/1647777578/gar-lr-[2]-cp-0.25-dTrue-iNone_bn_128_sgd_l0.0001_g0.0_sTrue\n"
     ]
    },
    {
     "name": "stderr",
     "output_type": "stream",
     "text": [
      "100%|██████████| 20/20 [00:00<00:00, 33.41it/s]\n",
      " 81%|████████  | 202/250 [02:25<00:34,  1.38it/s]"
     ]
    },
    {
     "name": "stdout",
     "output_type": "stream",
     "text": [
      "/bigdata/cifar10/logs/garipov/decomposed/1647855019/gar-lr-[6]-tucker-0.25-dTrue-iNone_bn_128_sgd_l0.0001_g0.0_sTrue\n"
     ]
    },
    {
     "name": "stderr",
     "output_type": "stream",
     "text": [
      "100%|██████████| 20/20 [00:00<00:00, 30.07it/s]\n",
      " 81%|████████  | 203/250 [02:26<00:34,  1.38it/s]"
     ]
    },
    {
     "name": "stdout",
     "output_type": "stream",
     "text": [
      "/bigdata/cifar10/logs/garipov/decomposed/1647776145/gar-lr-[6]-cp-0.5-dTrue-iNone_bn_128_sgd_l0.0001_g0.0_sTrue\n"
     ]
    },
    {
     "name": "stderr",
     "output_type": "stream",
     "text": [
      "100%|██████████| 20/20 [00:00<00:00, 32.69it/s]\n",
      " 82%|████████▏ | 204/250 [02:27<00:32,  1.40it/s]"
     ]
    },
    {
     "name": "stdout",
     "output_type": "stream",
     "text": [
      "/bigdata/cifar10/logs/garipov/decomposed/1647857015/gar-lr-[4]-tucker-0.75-dTrue-iNone_bn_128_sgd_l0.0001_g0.0_sTrue\n"
     ]
    },
    {
     "name": "stderr",
     "output_type": "stream",
     "text": [
      "100%|██████████| 20/20 [00:00<00:00, 30.74it/s]\n",
      " 82%|████████▏ | 205/250 [02:27<00:33,  1.36it/s]"
     ]
    },
    {
     "name": "stdout",
     "output_type": "stream",
     "text": [
      "/bigdata/cifar10/logs/garipov/decomposed/1647779899/gar-lr-[10]-cp-0.9-dTrue-iNone_bn_128_sgd_l0.0001_g0.0_sTrue\n"
     ]
    },
    {
     "name": "stderr",
     "output_type": "stream",
     "text": [
      "100%|██████████| 20/20 [00:00<00:00, 32.36it/s]\n",
      " 82%|████████▏ | 206/250 [02:28<00:31,  1.38it/s]"
     ]
    },
    {
     "name": "stdout",
     "output_type": "stream",
     "text": [
      "/bigdata/cifar10/logs/garipov/decomposed/1647863828/gar-lr-[4]-tucker-0.75-dTrue-iNone_bn_128_sgd_l0.0001_g0.0_sTrue\n"
     ]
    },
    {
     "name": "stderr",
     "output_type": "stream",
     "text": [
      "100%|██████████| 20/20 [00:00<00:00, 32.52it/s]\n",
      " 83%|████████▎ | 207/250 [02:29<00:30,  1.40it/s]"
     ]
    },
    {
     "name": "stdout",
     "output_type": "stream",
     "text": [
      "/bigdata/cifar10/logs/garipov/decomposed/1647775095/gar-lr-[2]-cp-0.25-dTrue-iNone_bn_128_sgd_l0.0001_g0.0_sTrue\n"
     ]
    },
    {
     "name": "stderr",
     "output_type": "stream",
     "text": [
      "100%|██████████| 20/20 [00:00<00:00, 30.91it/s]\n",
      " 83%|████████▎ | 208/250 [02:29<00:29,  1.41it/s]"
     ]
    },
    {
     "name": "stdout",
     "output_type": "stream",
     "text": [
      "/bigdata/cifar10/logs/garipov/decomposed/1647780295/gar-lr-[2]-cp-0.75-dTrue-iNone_bn_128_sgd_l0.0001_g0.0_sTrue\n"
     ]
    },
    {
     "name": "stderr",
     "output_type": "stream",
     "text": [
      "100%|██████████| 20/20 [00:00<00:00, 30.06it/s]\n",
      " 84%|████████▎ | 209/250 [02:30<00:29,  1.39it/s]"
     ]
    },
    {
     "name": "stdout",
     "output_type": "stream",
     "text": [
      "/bigdata/cifar10/logs/garipov/decomposed/1647862555/gar-lr-[8]-tucker-0.9-dTrue-iNone_bn_128_sgd_l0.0001_g0.0_sTrue\n"
     ]
    },
    {
     "name": "stderr",
     "output_type": "stream",
     "text": [
      "100%|██████████| 20/20 [00:00<00:00, 31.54it/s]\n",
      " 84%|████████▍ | 210/250 [02:31<00:28,  1.39it/s]"
     ]
    },
    {
     "name": "stdout",
     "output_type": "stream",
     "text": [
      "/bigdata/cifar10/logs/garipov/decomposed/1647862008/gar-lr-[6]-tucker-0.75-dTrue-iNone_bn_128_sgd_l0.0001_g0.0_sTrue\n"
     ]
    },
    {
     "name": "stderr",
     "output_type": "stream",
     "text": [
      "100%|██████████| 20/20 [00:00<00:00, 31.07it/s]\n",
      " 84%|████████▍ | 211/250 [02:32<00:27,  1.39it/s]"
     ]
    },
    {
     "name": "stdout",
     "output_type": "stream",
     "text": [
      "/bigdata/cifar10/logs/garipov/decomposed/1647783522/gar-lr-[6]-cp-0.1-dTrue-iNone_bn_128_sgd_l0.0001_g0.0_sTrue\n"
     ]
    },
    {
     "name": "stderr",
     "output_type": "stream",
     "text": [
      "100%|██████████| 20/20 [00:00<00:00, 32.57it/s]\n",
      " 85%|████████▍ | 212/250 [02:32<00:26,  1.43it/s]"
     ]
    },
    {
     "name": "stdout",
     "output_type": "stream",
     "text": [
      "/bigdata/cifar10/logs/garipov/decomposed/1647857287/gar-lr-[6]-tucker-0.25-dTrue-iNone_bn_128_sgd_l0.0001_g0.0_sTrue\n"
     ]
    },
    {
     "name": "stderr",
     "output_type": "stream",
     "text": [
      "100%|██████████| 20/20 [00:00<00:00, 30.47it/s]\n",
      " 85%|████████▌ | 213/250 [02:33<00:26,  1.39it/s]"
     ]
    },
    {
     "name": "stdout",
     "output_type": "stream",
     "text": [
      "/bigdata/cifar10/logs/garipov/decomposed/1647775186/gar-lr-[2]-cp-0.5-dTrue-iNone_bn_128_sgd_l0.0001_g0.0_sTrue\n"
     ]
    },
    {
     "name": "stderr",
     "output_type": "stream",
     "text": [
      "100%|██████████| 20/20 [00:00<00:00, 32.49it/s]\n",
      " 86%|████████▌ | 214/250 [02:34<00:25,  1.39it/s]"
     ]
    },
    {
     "name": "stdout",
     "output_type": "stream",
     "text": [
      "/bigdata/cifar10/logs/garipov/decomposed/1647783417/gar-lr-[4]-cp-0.9-dTrue-iNone_bn_128_sgd_l0.0001_g0.0_sTrue\n"
     ]
    },
    {
     "name": "stderr",
     "output_type": "stream",
     "text": [
      "100%|██████████| 20/20 [00:00<00:00, 30.01it/s]\n",
      " 86%|████████▌ | 215/250 [02:35<00:25,  1.37it/s]"
     ]
    },
    {
     "name": "stdout",
     "output_type": "stream",
     "text": [
      "/bigdata/cifar10/logs/garipov/decomposed/1647858924/gar-lr-[2]-tucker-0.9-dTrue-iNone_bn_128_sgd_l0.0001_g0.0_sTrue\n"
     ]
    },
    {
     "name": "stderr",
     "output_type": "stream",
     "text": [
      "100%|██████████| 20/20 [00:00<00:00, 32.83it/s]\n",
      " 86%|████████▋ | 216/250 [02:35<00:24,  1.41it/s]"
     ]
    },
    {
     "name": "stdout",
     "output_type": "stream",
     "text": [
      "/bigdata/cifar10/logs/garipov/decomposed/1647858562/gar-lr-[2]-tucker-0.1-dTrue-iNone_bn_128_sgd_l0.0001_g0.0_sTrue\n"
     ]
    },
    {
     "name": "stderr",
     "output_type": "stream",
     "text": [
      "100%|██████████| 20/20 [00:00<00:00, 31.73it/s]\n",
      " 87%|████████▋ | 217/250 [02:36<00:23,  1.40it/s]"
     ]
    },
    {
     "name": "stdout",
     "output_type": "stream",
     "text": [
      "/bigdata/cifar10/logs/garipov/decomposed/1647783616/gar-lr-[6]-cp-0.25-dTrue-iNone_bn_128_sgd_l0.0001_g0.0_sTrue\n"
     ]
    },
    {
     "name": "stderr",
     "output_type": "stream",
     "text": [
      "100%|██████████| 20/20 [00:00<00:00, 31.16it/s]\n",
      " 87%|████████▋ | 218/250 [02:37<00:22,  1.40it/s]"
     ]
    },
    {
     "name": "stdout",
     "output_type": "stream",
     "text": [
      "/bigdata/cifar10/logs/garipov/decomposed/1647864738/gar-lr-[8]-tucker-0.75-dTrue-iNone_bn_128_sgd_l0.0001_g0.0_sTrue\n"
     ]
    },
    {
     "name": "stderr",
     "output_type": "stream",
     "text": [
      "100%|██████████| 20/20 [00:00<00:00, 32.30it/s]\n",
      " 88%|████████▊ | 219/250 [02:37<00:21,  1.42it/s]"
     ]
    },
    {
     "name": "stdout",
     "output_type": "stream",
     "text": [
      "/bigdata/cifar10/logs/garipov/decomposed/1647859196/gar-lr-[4]-tucker-0.5-dTrue-iNone_bn_128_sgd_l0.0001_g0.0_sTrue\n"
     ]
    },
    {
     "name": "stderr",
     "output_type": "stream",
     "text": [
      "100%|██████████| 20/20 [00:00<00:00, 31.86it/s]\n",
      " 88%|████████▊ | 220/250 [02:38<00:21,  1.39it/s]"
     ]
    },
    {
     "name": "stdout",
     "output_type": "stream",
     "text": [
      "/bigdata/cifar10/logs/garipov/decomposed/1647859014/gar-lr-[4]-tucker-0.1-dTrue-iNone_bn_128_sgd_l0.0001_g0.0_sTrue\n"
     ]
    },
    {
     "name": "stderr",
     "output_type": "stream",
     "text": [
      "100%|██████████| 20/20 [00:00<00:00, 31.62it/s]\n",
      " 88%|████████▊ | 221/250 [02:39<00:20,  1.38it/s]"
     ]
    },
    {
     "name": "stdout",
     "output_type": "stream",
     "text": [
      "/bigdata/cifar10/logs/garipov/decomposed/1647858379/gar-lr-[10]-tucker-0.75-dTrue-iNone_bn_128_sgd_l0.0001_g0.0_sTrue\n"
     ]
    },
    {
     "name": "stderr",
     "output_type": "stream",
     "text": [
      "100%|██████████| 20/20 [00:00<00:00, 32.29it/s]\n",
      " 89%|████████▉ | 222/250 [02:40<00:19,  1.41it/s]"
     ]
    },
    {
     "name": "stdout",
     "output_type": "stream",
     "text": [
      "/bigdata/cifar10/logs/garipov/decomposed/1647777769/gar-lr-[2]-cp-0.75-dTrue-iNone_bn_128_sgd_l0.0001_g0.0_sTrue\n"
     ]
    },
    {
     "name": "stderr",
     "output_type": "stream",
     "text": [
      "100%|██████████| 20/20 [00:00<00:00, 31.00it/s]\n",
      " 89%|████████▉ | 223/250 [02:40<00:19,  1.41it/s]"
     ]
    },
    {
     "name": "stdout",
     "output_type": "stream",
     "text": [
      "/bigdata/cifar10/logs/garipov/decomposed/1647776859/gar-lr-[8]-cp-0.9-dTrue-iNone_bn_128_sgd_l0.0001_g0.0_sTrue\n"
     ]
    },
    {
     "name": "stderr",
     "output_type": "stream",
     "text": [
      "100%|██████████| 20/20 [00:00<00:00, 32.10it/s]\n",
      " 90%|████████▉ | 224/250 [02:41<00:18,  1.41it/s]"
     ]
    },
    {
     "name": "stdout",
     "output_type": "stream",
     "text": [
      "/bigdata/cifar10/logs/garipov/decomposed/1647864556/gar-lr-[8]-tucker-0.25-dTrue-iNone_bn_128_sgd_l0.0001_g0.0_sTrue\n"
     ]
    },
    {
     "name": "stderr",
     "output_type": "stream",
     "text": [
      "100%|██████████| 20/20 [00:00<00:00, 32.09it/s]\n",
      " 90%|█████████ | 225/250 [02:42<00:17,  1.43it/s]"
     ]
    },
    {
     "name": "stdout",
     "output_type": "stream",
     "text": [
      "/bigdata/cifar10/logs/garipov/decomposed/1647776650/gar-lr-[8]-cp-0.5-dTrue-iNone_bn_128_sgd_l0.0001_g0.0_sTrue\n"
     ]
    },
    {
     "name": "stderr",
     "output_type": "stream",
     "text": [
      "100%|██████████| 20/20 [00:00<00:00, 32.76it/s]\n",
      " 90%|█████████ | 226/250 [02:42<00:16,  1.43it/s]"
     ]
    },
    {
     "name": "stdout",
     "output_type": "stream",
     "text": [
      "/bigdata/cifar10/logs/garipov/decomposed/1647774397/gar-lr-[8]-cp-0.9-dTrue-iNone_bn_128_sgd_l0.0001_g0.0_sTrue\n"
     ]
    },
    {
     "name": "stderr",
     "output_type": "stream",
     "text": [
      "100%|██████████| 20/20 [00:00<00:00, 31.48it/s]\n",
      " 91%|█████████ | 227/250 [02:43<00:16,  1.42it/s]"
     ]
    },
    {
     "name": "stdout",
     "output_type": "stream",
     "text": [
      "/bigdata/cifar10/logs/garipov/decomposed/1647774896/gar-lr-[10]-cp-0.9-dTrue-iNone_bn_128_sgd_l0.0001_g0.0_sTrue\n"
     ]
    },
    {
     "name": "stderr",
     "output_type": "stream",
     "text": [
      "100%|██████████| 20/20 [00:00<00:00, 30.49it/s]\n",
      " 91%|█████████ | 228/250 [02:44<00:15,  1.39it/s]"
     ]
    },
    {
     "name": "stdout",
     "output_type": "stream",
     "text": [
      "/bigdata/cifar10/logs/garipov/decomposed/1647773219/gar-lr-[4]-cp-0.5-dTrue-iNone_bn_128_sgd_l0.0001_g0.0_sTrue\n"
     ]
    },
    {
     "name": "stderr",
     "output_type": "stream",
     "text": [
      "100%|██████████| 20/20 [00:00<00:00, 32.01it/s]\n",
      " 92%|█████████▏| 229/250 [02:44<00:15,  1.39it/s]"
     ]
    },
    {
     "name": "stdout",
     "output_type": "stream",
     "text": [
      "/bigdata/cifar10/logs/garipov/decomposed/1647862646/gar-lr-[10]-tucker-0.1-dTrue-iNone_bn_128_sgd_l0.0001_g0.0_sTrue\n"
     ]
    },
    {
     "name": "stderr",
     "output_type": "stream",
     "text": [
      "100%|██████████| 20/20 [00:00<00:00, 31.49it/s]\n",
      " 92%|█████████▏| 230/250 [02:45<00:14,  1.41it/s]"
     ]
    },
    {
     "name": "stdout",
     "output_type": "stream",
     "text": [
      "/bigdata/cifar10/logs/garipov/decomposed/1647856562/gar-lr-[2]-tucker-0.75-dTrue-iNone_bn_128_sgd_l0.0001_g0.0_sTrue\n"
     ]
    },
    {
     "name": "stderr",
     "output_type": "stream",
     "text": [
      "100%|██████████| 20/20 [00:00<00:00, 29.75it/s]\n",
      " 92%|█████████▏| 231/250 [02:46<00:13,  1.39it/s]"
     ]
    },
    {
     "name": "stdout",
     "output_type": "stream",
     "text": [
      "/bigdata/cifar10/logs/garipov/decomposed/1647773040/gar-lr-[4]-cp-0.1-dTrue-iNone_bn_128_sgd_l0.0001_g0.0_sTrue\n"
     ]
    },
    {
     "name": "stderr",
     "output_type": "stream",
     "text": [
      "100%|██████████| 20/20 [00:00<00:00, 32.42it/s]\n",
      " 93%|█████████▎| 232/250 [02:47<00:12,  1.39it/s]"
     ]
    },
    {
     "name": "stdout",
     "output_type": "stream",
     "text": [
      "/bigdata/cifar10/logs/garipov/decomposed/1647863102/gar-lr-[2]-tucker-0.1-dTrue-iNone_bn_128_sgd_l0.0001_g0.0_sTrue\n"
     ]
    },
    {
     "name": "stderr",
     "output_type": "stream",
     "text": [
      "100%|██████████| 20/20 [00:00<00:00, 32.05it/s]\n",
      " 93%|█████████▎| 233/250 [02:47<00:12,  1.41it/s]"
     ]
    },
    {
     "name": "stdout",
     "output_type": "stream",
     "text": [
      "/bigdata/cifar10/logs/garipov/decomposed/1647856109/gar-lr-[10]-tucker-0.75-dTrue-iNone_bn_128_sgd_l0.0001_g0.0_sTrue\n"
     ]
    },
    {
     "name": "stderr",
     "output_type": "stream",
     "text": [
      "100%|██████████| 20/20 [00:00<00:00, 32.68it/s]\n",
      " 94%|█████████▎| 234/250 [02:48<00:11,  1.44it/s]"
     ]
    },
    {
     "name": "stdout",
     "output_type": "stream",
     "text": [
      "/bigdata/cifar10/logs/garipov/decomposed/1647772578/gar-lr-[2]-cp-0.1-dTrue-iNone_bn_128_sgd_l0.0001_g0.0_sTrue\n"
     ]
    },
    {
     "name": "stderr",
     "output_type": "stream",
     "text": [
      "100%|██████████| 20/20 [00:00<00:00, 31.44it/s]\n",
      " 94%|█████████▍| 235/250 [02:49<00:10,  1.43it/s]"
     ]
    },
    {
     "name": "stdout",
     "output_type": "stream",
     "text": [
      "/bigdata/cifar10/logs/garipov/decomposed/1647778466/gar-lr-[6]-cp-0.1-dTrue-iNone_bn_128_sgd_l0.0001_g0.0_sTrue\n"
     ]
    },
    {
     "name": "stderr",
     "output_type": "stream",
     "text": [
      "100%|██████████| 20/20 [00:00<00:00, 31.28it/s]\n",
      " 94%|█████████▍| 236/250 [02:49<00:09,  1.41it/s]"
     ]
    },
    {
     "name": "stdout",
     "output_type": "stream",
     "text": [
      "/bigdata/cifar10/logs/garipov/decomposed/1647864647/gar-lr-[8]-tucker-0.5-dTrue-iNone_bn_128_sgd_l0.0001_g0.0_sTrue\n"
     ]
    },
    {
     "name": "stderr",
     "output_type": "stream",
     "text": [
      "100%|██████████| 20/20 [00:00<00:00, 31.00it/s]\n",
      " 95%|█████████▍| 237/250 [02:50<00:09,  1.41it/s]"
     ]
    },
    {
     "name": "stdout",
     "output_type": "stream",
     "text": [
      "/bigdata/cifar10/logs/garipov/decomposed/1647858016/gar-lr-[8]-tucker-0.9-dTrue-iNone_bn_128_sgd_l0.0001_g0.0_sTrue\n"
     ]
    },
    {
     "name": "stderr",
     "output_type": "stream",
     "text": [
      "100%|██████████| 20/20 [00:00<00:00, 31.68it/s]\n",
      " 95%|█████████▌| 238/250 [02:51<00:08,  1.41it/s]"
     ]
    },
    {
     "name": "stdout",
     "output_type": "stream",
     "text": [
      "/bigdata/cifar10/logs/garipov/decomposed/1647780590/gar-lr-[4]-cp-0.25-dTrue-iNone_bn_128_sgd_l0.0001_g0.0_sTrue\n"
     ]
    },
    {
     "name": "stderr",
     "output_type": "stream",
     "text": [
      "100%|██████████| 20/20 [00:00<00:00, 32.23it/s]\n",
      " 96%|█████████▌| 239/250 [02:52<00:07,  1.43it/s]"
     ]
    },
    {
     "name": "stdout",
     "output_type": "stream",
     "text": [
      "/bigdata/cifar10/logs/garipov/decomposed/1647779495/gar-lr-[10]-cp-0.1-dTrue-iNone_bn_128_sgd_l0.0001_g0.0_sTrue\n"
     ]
    },
    {
     "name": "stderr",
     "output_type": "stream",
     "text": [
      "100%|██████████| 20/20 [00:00<00:00, 31.42it/s]\n",
      " 96%|█████████▌| 240/250 [02:52<00:07,  1.43it/s]"
     ]
    },
    {
     "name": "stdout",
     "output_type": "stream",
     "text": [
      "/bigdata/cifar10/logs/garipov/decomposed/1647777870/gar-lr-[2]-cp-0.9-dTrue-iNone_bn_128_sgd_l0.0001_g0.0_sTrue\n"
     ]
    },
    {
     "name": "stderr",
     "output_type": "stream",
     "text": [
      "100%|██████████| 20/20 [00:00<00:00, 32.00it/s]\n",
      " 96%|█████████▋| 241/250 [02:53<00:06,  1.43it/s]"
     ]
    },
    {
     "name": "stdout",
     "output_type": "stream",
     "text": [
      "/bigdata/cifar10/logs/garipov/decomposed/1647858652/gar-lr-[2]-tucker-0.25-dTrue-iNone_bn_128_sgd_l0.0001_g0.0_sTrue\n"
     ]
    },
    {
     "name": "stderr",
     "output_type": "stream",
     "text": [
      "100%|██████████| 20/20 [00:00<00:00, 30.99it/s]\n",
      " 97%|█████████▋| 242/250 [02:54<00:05,  1.42it/s]"
     ]
    },
    {
     "name": "stdout",
     "output_type": "stream",
     "text": [
      "/bigdata/cifar10/logs/garipov/decomposed/1647862919/gar-lr-[10]-tucker-0.75-dTrue-iNone_bn_128_sgd_l0.0001_g0.0_sTrue\n"
     ]
    },
    {
     "name": "stderr",
     "output_type": "stream",
     "text": [
      "100%|██████████| 20/20 [00:00<00:00, 31.61it/s]\n",
      " 97%|█████████▋| 243/250 [02:54<00:04,  1.42it/s]"
     ]
    },
    {
     "name": "stdout",
     "output_type": "stream",
     "text": [
      "/bigdata/cifar10/logs/garipov/decomposed/1647856924/gar-lr-[4]-tucker-0.5-dTrue-iNone_bn_128_sgd_l0.0001_g0.0_sTrue\n"
     ]
    },
    {
     "name": "stderr",
     "output_type": "stream",
     "text": [
      "100%|██████████| 20/20 [00:00<00:00, 30.99it/s]\n",
      " 98%|█████████▊| 244/250 [02:55<00:04,  1.38it/s]"
     ]
    },
    {
     "name": "stdout",
     "output_type": "stream",
     "text": [
      "/bigdata/cifar10/logs/garipov/decomposed/1647859105/gar-lr-[4]-tucker-0.25-dTrue-iNone_bn_128_sgd_l0.0001_g0.0_sTrue\n"
     ]
    },
    {
     "name": "stderr",
     "output_type": "stream",
     "text": [
      "100%|██████████| 20/20 [00:00<00:00, 31.48it/s]\n",
      " 98%|█████████▊| 245/250 [02:56<00:03,  1.27it/s]"
     ]
    },
    {
     "name": "stdout",
     "output_type": "stream",
     "text": [
      "/bigdata/cifar10/logs/garipov/decomposed/1647778657/gar-lr-[6]-cp-0.5-dTrue-iNone_bn_128_sgd_l0.0001_g0.0_sTrue\n"
     ]
    },
    {
     "name": "stderr",
     "output_type": "stream",
     "text": [
      "100%|██████████| 20/20 [00:00<00:00, 33.51it/s]\n",
      " 98%|█████████▊| 246/250 [02:57<00:03,  1.25it/s]"
     ]
    },
    {
     "name": "stdout",
     "output_type": "stream",
     "text": [
      "/bigdata/cifar10/logs/garipov/decomposed/1647782824/gar-lr-[2]-cp-0.75-dTrue-iNone_bn_128_sgd_l0.0001_g0.0_sTrue\n"
     ]
    },
    {
     "name": "stderr",
     "output_type": "stream",
     "text": [
      "100%|██████████| 20/20 [00:00<00:00, 29.84it/s]\n",
      " 99%|█████████▉| 247/250 [02:58<00:02,  1.25it/s]"
     ]
    },
    {
     "name": "stdout",
     "output_type": "stream",
     "text": [
      "/bigdata/cifar10/logs/garipov/decomposed/1647860195/gar-lr-[8]-tucker-0.75-dTrue-iNone_bn_128_sgd_l0.0001_g0.0_sTrue\n"
     ]
    },
    {
     "name": "stderr",
     "output_type": "stream",
     "text": [
      "100%|██████████| 20/20 [00:00<00:00, 33.43it/s]\n",
      " 99%|█████████▉| 248/250 [02:58<00:01,  1.31it/s]"
     ]
    },
    {
     "name": "stdout",
     "output_type": "stream",
     "text": [
      "/bigdata/cifar10/logs/garipov/decomposed/1647859377/gar-lr-[4]-tucker-0.9-dTrue-iNone_bn_128_sgd_l0.0001_g0.0_sTrue\n"
     ]
    },
    {
     "name": "stderr",
     "output_type": "stream",
     "text": [
      "100%|██████████| 20/20 [00:00<00:00, 32.01it/s]\n",
      "100%|█████████▉| 249/250 [02:59<00:00,  1.35it/s]"
     ]
    },
    {
     "name": "stdout",
     "output_type": "stream",
     "text": [
      "/bigdata/cifar10/logs/garipov/decomposed/1647777065/gar-lr-[10]-cp-0.25-dTrue-iNone_bn_128_sgd_l0.0001_g0.0_sTrue\n"
     ]
    },
    {
     "name": "stderr",
     "output_type": "stream",
     "text": [
      "100%|██████████| 20/20 [00:00<00:00, 31.47it/s]\n",
      "100%|██████████| 250/250 [03:00<00:00,  1.39it/s]\n"
     ]
    }
   ],
   "source": [
    "from tddl.post_processing.path_utils import logdir_to_paths\n",
    "\n",
    "logdir = Path(\"/bigdata/f_mnist/logs/garipov/decomposed\")\n",
    "folders = os.listdir(logdir)\n",
    "paths = logdir_to_paths(logdir)\n",
    "\n",
    "print(len(paths))\n",
    "\n",
    "dataset = 'cifar10'\n",
    "data_dir = \"/bigdata/cifar10\"\n",
    "\n",
    "add_test_before_ft(paths, dataset, data_dir)"
   ]
  },
  {
   "cell_type": "code",
   "execution_count": 21,
   "metadata": {},
   "outputs": [
    {
     "name": "stdout",
     "output_type": "stream",
     "text": [
      "250\n"
     ]
    },
    {
     "name": "stderr",
     "output_type": "stream",
     "text": [
      "  0%|          | 0/250 [00:00<?, ?it/s]"
     ]
    },
    {
     "name": "stdout",
     "output_type": "stream",
     "text": [
      "/bigdata/f_mnist/logs/garipov/decomposed/1647969903/gar-lr-[8]-cp-0.75-dTrue-iNone_bn_128_sgd_l0.0001_g0.0_sTrue\n"
     ]
    },
    {
     "name": "stderr",
     "output_type": "stream",
     "text": [
      "100%|██████████| 20/20 [00:00<00:00, 36.59it/s]\n",
      "  0%|          | 1/250 [00:00<02:47,  1.49it/s]"
     ]
    },
    {
     "name": "stdout",
     "output_type": "stream",
     "text": [
      "/bigdata/f_mnist/logs/garipov/decomposed/1647966199/gar-lr-[10]-cp-0.75-dTrue-iNone_bn_128_sgd_l0.0001_g0.0_sTrue\n"
     ]
    },
    {
     "name": "stderr",
     "output_type": "stream",
     "text": [
      "100%|██████████| 20/20 [00:00<00:00, 35.32it/s]\n",
      "  1%|          | 2/250 [00:01<02:41,  1.53it/s]"
     ]
    },
    {
     "name": "stdout",
     "output_type": "stream",
     "text": [
      "/bigdata/f_mnist/logs/garipov/decomposed/1647981145/gar-lr-[2]-tucker-0.5-dTrue-iNone_bn_128_sgd_l0.0001_g0.0_sTrue\n"
     ]
    },
    {
     "name": "stderr",
     "output_type": "stream",
     "text": [
      "100%|██████████| 20/20 [00:00<00:00, 36.30it/s]\n",
      "  1%|          | 3/250 [00:01<02:39,  1.55it/s]"
     ]
    },
    {
     "name": "stdout",
     "output_type": "stream",
     "text": [
      "/bigdata/f_mnist/logs/garipov/decomposed/1647973670/gar-lr-[6]-cp-0.75-dTrue-iNone_bn_128_sgd_l0.0001_g0.0_sTrue\n"
     ]
    },
    {
     "name": "stderr",
     "output_type": "stream",
     "text": [
      "100%|██████████| 20/20 [00:00<00:00, 35.35it/s]\n",
      "  2%|▏         | 4/250 [00:02<02:40,  1.53it/s]"
     ]
    },
    {
     "name": "stdout",
     "output_type": "stream",
     "text": [
      "/bigdata/f_mnist/logs/garipov/decomposed/1647980688/gar-lr-[2]-cp-0.1-dTrue-iNone_bn_128_sgd_l0.0001_g0.0_sTrue\n"
     ]
    },
    {
     "name": "stderr",
     "output_type": "stream",
     "text": [
      "100%|██████████| 20/20 [00:00<00:00, 37.81it/s]\n",
      "  2%|▏         | 5/250 [00:03<02:35,  1.58it/s]"
     ]
    },
    {
     "name": "stdout",
     "output_type": "stream",
     "text": [
      "/bigdata/f_mnist/logs/garipov/decomposed/1647970391/gar-lr-[10]-tucker-0.1-dTrue-iNone_bn_128_sgd_l0.0001_g0.0_sTrue\n"
     ]
    },
    {
     "name": "stderr",
     "output_type": "stream",
     "text": [
      "100%|██████████| 20/20 [00:00<00:00, 35.72it/s]\n",
      "  2%|▏         | 6/250 [00:03<02:31,  1.61it/s]"
     ]
    },
    {
     "name": "stdout",
     "output_type": "stream",
     "text": [
      "/bigdata/f_mnist/logs/garipov/decomposed/1647964835/gar-lr-[8]-tucker-0.1-dTrue-iNone_bn_128_sgd_l0.0001_g0.0_sTrue\n"
     ]
    },
    {
     "name": "stderr",
     "output_type": "stream",
     "text": [
      "100%|██████████| 20/20 [00:00<00:00, 37.97it/s]\n",
      "  3%|▎         | 7/250 [00:04<02:26,  1.65it/s]"
     ]
    },
    {
     "name": "stdout",
     "output_type": "stream",
     "text": [
      "/bigdata/f_mnist/logs/garipov/decomposed/1647980291/gar-lr-[10]-cp-0.75-dTrue-iNone_bn_128_sgd_l0.0001_g0.0_sTrue\n"
     ]
    },
    {
     "name": "stderr",
     "output_type": "stream",
     "text": [
      "100%|██████████| 20/20 [00:00<00:00, 35.77it/s]\n",
      "  3%|▎         | 8/250 [00:04<02:26,  1.65it/s]"
     ]
    },
    {
     "name": "stdout",
     "output_type": "stream",
     "text": [
      "/bigdata/f_mnist/logs/garipov/decomposed/1647983497/gar-lr-[8]-cp-0.1-dTrue-iNone_bn_128_sgd_l0.0001_g0.0_sTrue\n"
     ]
    },
    {
     "name": "stderr",
     "output_type": "stream",
     "text": [
      "100%|██████████| 20/20 [00:00<00:00, 36.31it/s]\n",
      "  4%|▎         | 9/250 [00:05<02:25,  1.66it/s]"
     ]
    },
    {
     "name": "stdout",
     "output_type": "stream",
     "text": [
      "/bigdata/f_mnist/logs/garipov/decomposed/1647982912/gar-lr-[6]-cp-0.5-dTrue-iNone_bn_128_sgd_l0.0001_g0.0_sTrue\n"
     ]
    },
    {
     "name": "stderr",
     "output_type": "stream",
     "text": [
      "100%|██████████| 20/20 [00:00<00:00, 36.12it/s]\n",
      "  4%|▍         | 10/250 [00:06<02:26,  1.64it/s]"
     ]
    },
    {
     "name": "stdout",
     "output_type": "stream",
     "text": [
      "/bigdata/f_mnist/logs/garipov/decomposed/1647965013/gar-lr-[8]-tucker-0.25-dTrue-iNone_bn_128_sgd_l0.0001_g0.0_sTrue\n"
     ]
    },
    {
     "name": "stderr",
     "output_type": "stream",
     "text": [
      "100%|██████████| 20/20 [00:00<00:00, 36.62it/s]\n",
      "  4%|▍         | 11/250 [00:06<02:25,  1.65it/s]"
     ]
    },
    {
     "name": "stdout",
     "output_type": "stream",
     "text": [
      "/bigdata/f_mnist/logs/garipov/decomposed/1647963833/gar-lr-[6]-cp-0.1-dTrue-iNone_bn_128_sgd_l0.0001_g0.0_sTrue\n"
     ]
    },
    {
     "name": "stderr",
     "output_type": "stream",
     "text": [
      "100%|██████████| 20/20 [00:00<00:00, 35.58it/s]\n",
      "  5%|▍         | 12/250 [00:07<02:25,  1.64it/s]"
     ]
    },
    {
     "name": "stdout",
     "output_type": "stream",
     "text": [
      "/bigdata/f_mnist/logs/garipov/decomposed/1647973866/gar-lr-[6]-cp-0.9-dTrue-iNone_bn_128_sgd_l0.0001_g0.0_sTrue\n"
     ]
    },
    {
     "name": "stderr",
     "output_type": "stream",
     "text": [
      "100%|██████████| 20/20 [00:00<00:00, 35.31it/s]\n",
      "  5%|▌         | 13/250 [00:08<02:27,  1.60it/s]"
     ]
    },
    {
     "name": "stdout",
     "output_type": "stream",
     "text": [
      "/bigdata/f_mnist/logs/garipov/decomposed/1647975108/gar-lr-[10]-tucker-0.1-dTrue-iNone_bn_128_sgd_l0.0001_g0.0_sTrue\n"
     ]
    },
    {
     "name": "stderr",
     "output_type": "stream",
     "text": [
      "100%|██████████| 20/20 [00:00<00:00, 35.26it/s]\n",
      "  6%|▌         | 14/250 [00:08<02:28,  1.59it/s]"
     ]
    },
    {
     "name": "stdout",
     "output_type": "stream",
     "text": [
      "/bigdata/f_mnist/logs/garipov/decomposed/1647982822/gar-lr-[6]-tucker-0.25-dTrue-iNone_bn_128_sgd_l0.0001_g0.0_sTrue\n"
     ]
    },
    {
     "name": "stderr",
     "output_type": "stream",
     "text": [
      "100%|██████████| 20/20 [00:00<00:00, 37.10it/s]\n",
      "  6%|▌         | 15/250 [00:09<02:24,  1.62it/s]"
     ]
    },
    {
     "name": "stdout",
     "output_type": "stream",
     "text": [
      "/bigdata/f_mnist/logs/garipov/decomposed/1647974728/gar-lr-[8]-tucker-0.75-dTrue-iNone_bn_128_sgd_l0.0001_g0.0_sTrue\n"
     ]
    },
    {
     "name": "stderr",
     "output_type": "stream",
     "text": [
      "100%|██████████| 20/20 [00:00<00:00, 36.80it/s]\n",
      "  6%|▋         | 16/250 [00:09<02:23,  1.63it/s]"
     ]
    },
    {
     "name": "stdout",
     "output_type": "stream",
     "text": [
      "/bigdata/f_mnist/logs/garipov/decomposed/1647973021/gar-lr-[4]-tucker-0.9-dTrue-iNone_bn_128_sgd_l0.0001_g0.0_sTrue\n"
     ]
    },
    {
     "name": "stderr",
     "output_type": "stream",
     "text": [
      "100%|██████████| 20/20 [00:00<00:00, 37.80it/s]\n",
      "  7%|▋         | 17/250 [00:10<02:21,  1.65it/s]"
     ]
    },
    {
     "name": "stdout",
     "output_type": "stream",
     "text": [
      "/bigdata/f_mnist/logs/garipov/decomposed/1647977738/gar-lr-[4]-tucker-0.9-dTrue-iNone_bn_128_sgd_l0.0001_g0.0_sTrue\n"
     ]
    },
    {
     "name": "stderr",
     "output_type": "stream",
     "text": [
      "100%|██████████| 20/20 [00:00<00:00, 35.61it/s]\n",
      "  7%|▋         | 18/250 [00:11<02:21,  1.64it/s]"
     ]
    },
    {
     "name": "stdout",
     "output_type": "stream",
     "text": [
      "/bigdata/f_mnist/logs/garipov/decomposed/1647974927/gar-lr-[8]-tucker-0.9-dTrue-iNone_bn_128_sgd_l0.0001_g0.0_sTrue\n"
     ]
    },
    {
     "name": "stderr",
     "output_type": "stream",
     "text": [
      "100%|██████████| 20/20 [00:00<00:00, 37.46it/s]\n",
      "  8%|▊         | 19/250 [00:11<02:19,  1.66it/s]"
     ]
    },
    {
     "name": "stdout",
     "output_type": "stream",
     "text": [
      "/bigdata/f_mnist/logs/garipov/decomposed/1647981521/gar-lr-[2]-tucker-0.9-dTrue-iNone_bn_128_sgd_l0.0001_g0.0_sTrue\n"
     ]
    },
    {
     "name": "stderr",
     "output_type": "stream",
     "text": [
      "100%|██████████| 20/20 [00:00<00:00, 35.83it/s]\n",
      "  8%|▊         | 20/250 [00:12<02:19,  1.65it/s]"
     ]
    },
    {
     "name": "stdout",
     "output_type": "stream",
     "text": [
      "/bigdata/f_mnist/logs/garipov/decomposed/1647978583/gar-lr-[6]-cp-0.9-dTrue-iNone_bn_128_sgd_l0.0001_g0.0_sTrue\n"
     ]
    },
    {
     "name": "stderr",
     "output_type": "stream",
     "text": [
      "100%|██████████| 20/20 [00:00<00:00, 35.17it/s]\n",
      "  8%|▊         | 21/250 [00:12<02:20,  1.63it/s]"
     ]
    },
    {
     "name": "stdout",
     "output_type": "stream",
     "text": [
      "/bigdata/f_mnist/logs/garipov/decomposed/1647984055/gar-lr-[8]-cp-0.75-dTrue-iNone_bn_128_sgd_l0.0001_g0.0_sTrue\n"
     ]
    },
    {
     "name": "stderr",
     "output_type": "stream",
     "text": [
      "100%|██████████| 20/20 [00:00<00:00, 36.57it/s]\n",
      "  9%|▉         | 22/250 [00:13<02:21,  1.61it/s]"
     ]
    },
    {
     "name": "stdout",
     "output_type": "stream",
     "text": [
      "/bigdata/f_mnist/logs/garipov/decomposed/1647962136/gar-lr-[2]-tucker-0.1-dTrue-iNone_bn_128_sgd_l0.0001_g0.0_sTrue\n"
     ]
    },
    {
     "name": "stderr",
     "output_type": "stream",
     "text": [
      "100%|██████████| 20/20 [00:00<00:00, 35.04it/s]\n",
      "  9%|▉         | 23/250 [00:14<02:26,  1.55it/s]"
     ]
    },
    {
     "name": "stdout",
     "output_type": "stream",
     "text": [
      "/bigdata/f_mnist/logs/garipov/decomposed/1647971053/gar-lr-[10]-cp-0.9-dTrue-iNone_bn_128_sgd_l0.0001_g0.0_sTrue\n"
     ]
    },
    {
     "name": "stderr",
     "output_type": "stream",
     "text": [
      "100%|██████████| 20/20 [00:00<00:00, 35.66it/s]\n",
      " 10%|▉         | 24/250 [00:14<02:23,  1.58it/s]"
     ]
    },
    {
     "name": "stdout",
     "output_type": "stream",
     "text": [
      "/bigdata/f_mnist/logs/garipov/decomposed/1647966836/gar-lr-[2]-tucker-0.25-dTrue-iNone_bn_128_sgd_l0.0001_g0.0_sTrue\n"
     ]
    },
    {
     "name": "stderr",
     "output_type": "stream",
     "text": [
      "100%|██████████| 20/20 [00:00<00:00, 36.60it/s]\n",
      " 10%|█         | 25/250 [00:15<02:24,  1.56it/s]"
     ]
    },
    {
     "name": "stdout",
     "output_type": "stream",
     "text": [
      "/bigdata/f_mnist/logs/garipov/decomposed/1647963562/gar-lr-[4]-tucker-0.75-dTrue-iNone_bn_128_sgd_l0.0001_g0.0_sTrue\n"
     ]
    },
    {
     "name": "stderr",
     "output_type": "stream",
     "text": [
      "100%|██████████| 20/20 [00:00<00:00, 35.81it/s]\n",
      " 10%|█         | 26/250 [00:16<02:22,  1.57it/s]"
     ]
    },
    {
     "name": "stdout",
     "output_type": "stream",
     "text": [
      "/bigdata/f_mnist/logs/garipov/decomposed/1647964183/gar-lr-[6]-cp-0.5-dTrue-iNone_bn_128_sgd_l0.0001_g0.0_sTrue\n"
     ]
    },
    {
     "name": "stderr",
     "output_type": "stream",
     "text": [
      "100%|██████████| 20/20 [00:00<00:00, 35.88it/s]\n",
      " 11%|█         | 27/250 [00:16<02:21,  1.58it/s]"
     ]
    },
    {
     "name": "stdout",
     "output_type": "stream",
     "text": [
      "/bigdata/f_mnist/logs/garipov/decomposed/1647980868/gar-lr-[2]-cp-0.25-dTrue-iNone_bn_128_sgd_l0.0001_g0.0_sTrue\n"
     ]
    },
    {
     "name": "stderr",
     "output_type": "stream",
     "text": [
      "100%|██████████| 20/20 [00:00<00:00, 36.51it/s]\n",
      " 11%|█         | 28/250 [00:17<02:18,  1.61it/s]"
     ]
    },
    {
     "name": "stdout",
     "output_type": "stream",
     "text": [
      "/bigdata/f_mnist/logs/garipov/decomposed/1647985204/gar-lr-[10]-cp-0.9-dTrue-iNone_bn_128_sgd_l0.0001_g0.0_sTrue\n"
     ]
    },
    {
     "name": "stderr",
     "output_type": "stream",
     "text": [
      "100%|██████████| 20/20 [00:00<00:00, 34.98it/s]\n",
      " 12%|█▏        | 29/250 [00:18<02:17,  1.60it/s]"
     ]
    },
    {
     "name": "stdout",
     "output_type": "stream",
     "text": [
      "/bigdata/f_mnist/logs/garipov/decomposed/1647966015/gar-lr-[10]-cp-0.5-dTrue-iNone_bn_128_sgd_l0.0001_g0.0_sTrue\n"
     ]
    },
    {
     "name": "stderr",
     "output_type": "stream",
     "text": [
      "100%|██████████| 20/20 [00:00<00:00, 36.53it/s]\n",
      " 12%|█▏        | 30/250 [00:18<02:19,  1.57it/s]"
     ]
    },
    {
     "name": "stdout",
     "output_type": "stream",
     "text": [
      "/bigdata/f_mnist/logs/garipov/decomposed/1647977828/gar-lr-[6]-cp-0.1-dTrue-iNone_bn_128_sgd_l0.0001_g0.0_sTrue\n"
     ]
    },
    {
     "name": "stderr",
     "output_type": "stream",
     "text": [
      "100%|██████████| 20/20 [00:00<00:00, 35.28it/s]\n",
      " 12%|█▏        | 31/250 [00:19<02:20,  1.56it/s]"
     ]
    },
    {
     "name": "stdout",
     "output_type": "stream",
     "text": [
      "/bigdata/f_mnist/logs/garipov/decomposed/1647969057/gar-lr-[6]-tucker-0.75-dTrue-iNone_bn_128_sgd_l0.0001_g0.0_sTrue\n"
     ]
    },
    {
     "name": "stderr",
     "output_type": "stream",
     "text": [
      "100%|██████████| 20/20 [00:00<00:00, 36.28it/s]\n",
      " 13%|█▎        | 32/250 [00:19<02:17,  1.59it/s]"
     ]
    },
    {
     "name": "stdout",
     "output_type": "stream",
     "text": [
      "/bigdata/f_mnist/logs/garipov/decomposed/1647981973/gar-lr-[4]-cp-0.5-dTrue-iNone_bn_128_sgd_l0.0001_g0.0_sTrue\n"
     ]
    },
    {
     "name": "stderr",
     "output_type": "stream",
     "text": [
      "100%|██████████| 20/20 [00:00<00:00, 37.29it/s]\n",
      " 13%|█▎        | 33/250 [00:20<02:14,  1.61it/s]"
     ]
    },
    {
     "name": "stdout",
     "output_type": "stream",
     "text": [
      "/bigdata/f_mnist/logs/garipov/decomposed/1647984361/gar-lr-[8]-tucker-0.9-dTrue-iNone_bn_128_sgd_l0.0001_g0.0_sTrue\n"
     ]
    },
    {
     "name": "stderr",
     "output_type": "stream",
     "text": [
      "100%|██████████| 20/20 [00:00<00:00, 36.19it/s]\n",
      " 14%|█▎        | 34/250 [00:21<02:13,  1.62it/s]"
     ]
    },
    {
     "name": "stdout",
     "output_type": "stream",
     "text": [
      "/bigdata/f_mnist/logs/garipov/decomposed/1647965196/gar-lr-[8]-tucker-0.5-dTrue-iNone_bn_128_sgd_l0.0001_g0.0_sTrue\n"
     ]
    },
    {
     "name": "stderr",
     "output_type": "stream",
     "text": [
      "100%|██████████| 20/20 [00:00<00:00, 35.71it/s]\n",
      " 14%|█▍        | 35/250 [00:21<02:14,  1.60it/s]"
     ]
    },
    {
     "name": "stdout",
     "output_type": "stream",
     "text": [
      "/bigdata/f_mnist/logs/garipov/decomposed/1647970480/gar-lr-[10]-cp-0.25-dTrue-iNone_bn_128_sgd_l0.0001_g0.0_sTrue\n"
     ]
    },
    {
     "name": "stderr",
     "output_type": "stream",
     "text": [
      "100%|██████████| 20/20 [00:00<00:00, 34.73it/s]\n",
      " 14%|█▍        | 36/250 [00:22<02:14,  1.59it/s]"
     ]
    },
    {
     "name": "stdout",
     "output_type": "stream",
     "text": [
      "/bigdata/f_mnist/logs/garipov/decomposed/1647979646/gar-lr-[8]-tucker-0.9-dTrue-iNone_bn_128_sgd_l0.0001_g0.0_sTrue\n"
     ]
    },
    {
     "name": "stderr",
     "output_type": "stream",
     "text": [
      "100%|██████████| 20/20 [00:00<00:00, 35.96it/s]\n",
      " 15%|█▍        | 37/250 [00:23<02:12,  1.60it/s]"
     ]
    },
    {
     "name": "stdout",
     "output_type": "stream",
     "text": [
      "/bigdata/f_mnist/logs/garipov/decomposed/1647965469/gar-lr-[8]-cp-0.9-dTrue-iNone_bn_128_sgd_l0.0001_g0.0_sTrue\n"
     ]
    },
    {
     "name": "stderr",
     "output_type": "stream",
     "text": [
      "100%|██████████| 20/20 [00:00<00:00, 33.56it/s]\n",
      " 15%|█▌        | 38/250 [00:23<02:16,  1.55it/s]"
     ]
    },
    {
     "name": "stdout",
     "output_type": "stream",
     "text": [
      "/bigdata/f_mnist/logs/garipov/decomposed/1647974342/gar-lr-[8]-tucker-0.25-dTrue-iNone_bn_128_sgd_l0.0001_g0.0_sTrue\n"
     ]
    },
    {
     "name": "stderr",
     "output_type": "stream",
     "text": [
      "100%|██████████| 20/20 [00:00<00:00, 36.65it/s]\n",
      " 16%|█▌        | 39/250 [00:24<02:14,  1.57it/s]"
     ]
    },
    {
     "name": "stdout",
     "output_type": "stream",
     "text": [
      "/bigdata/f_mnist/logs/garipov/decomposed/1647979060/gar-lr-[8]-tucker-0.25-dTrue-iNone_bn_128_sgd_l0.0001_g0.0_sTrue\n"
     ]
    },
    {
     "name": "stderr",
     "output_type": "stream",
     "text": [
      "100%|██████████| 20/20 [00:00<00:00, 36.67it/s]\n",
      " 16%|█▌        | 40/250 [00:24<02:11,  1.59it/s]"
     ]
    },
    {
     "name": "stdout",
     "output_type": "stream",
     "text": [
      "/bigdata/f_mnist/logs/garipov/decomposed/1647980101/gar-lr-[10]-cp-0.5-dTrue-iNone_bn_128_sgd_l0.0001_g0.0_sTrue\n"
     ]
    },
    {
     "name": "stderr",
     "output_type": "stream",
     "text": [
      "100%|██████████| 20/20 [00:00<00:00, 36.26it/s]\n",
      " 16%|█▋        | 41/250 [00:25<02:10,  1.60it/s]"
     ]
    },
    {
     "name": "stdout",
     "output_type": "stream",
     "text": [
      "/bigdata/f_mnist/logs/garipov/decomposed/1647981422/gar-lr-[2]-cp-0.9-dTrue-iNone_bn_128_sgd_l0.0001_g0.0_sTrue\n"
     ]
    },
    {
     "name": "stderr",
     "output_type": "stream",
     "text": [
      "100%|██████████| 20/20 [00:00<00:00, 33.66it/s]\n",
      " 17%|█▋        | 42/250 [00:26<02:13,  1.55it/s]"
     ]
    },
    {
     "name": "stdout",
     "output_type": "stream",
     "text": [
      "/bigdata/f_mnist/logs/garipov/decomposed/1647983208/gar-lr-[6]-tucker-0.75-dTrue-iNone_bn_128_sgd_l0.0001_g0.0_sTrue\n"
     ]
    },
    {
     "name": "stderr",
     "output_type": "stream",
     "text": [
      "100%|██████████| 20/20 [00:00<00:00, 35.86it/s]\n",
      " 17%|█▋        | 43/250 [00:26<02:12,  1.57it/s]"
     ]
    },
    {
     "name": "stdout",
     "output_type": "stream",
     "text": [
      "/bigdata/f_mnist/logs/garipov/decomposed/1647975574/gar-lr-[10]-cp-0.75-dTrue-iNone_bn_128_sgd_l0.0001_g0.0_sTrue\n"
     ]
    },
    {
     "name": "stderr",
     "output_type": "stream",
     "text": [
      "100%|██████████| 20/20 [00:00<00:00, 35.60it/s]\n",
      " 18%|█▊        | 44/250 [00:27<02:09,  1.59it/s]"
     ]
    },
    {
     "name": "stdout",
     "output_type": "stream",
     "text": [
      "/bigdata/f_mnist/logs/garipov/decomposed/1647966576/gar-lr-[2]-cp-0.1-dTrue-iNone_bn_128_sgd_l0.0001_g0.0_sTrue\n"
     ]
    },
    {
     "name": "stderr",
     "output_type": "stream",
     "text": [
      "100%|██████████| 20/20 [00:00<00:00, 36.54it/s]\n",
      " 18%|█▊        | 45/250 [00:28<02:08,  1.59it/s]"
     ]
    },
    {
     "name": "stdout",
     "output_type": "stream",
     "text": [
      "/bigdata/f_mnist/logs/garipov/decomposed/1647965281/gar-lr-[8]-cp-0.75-dTrue-iNone_bn_128_sgd_l0.0001_g0.0_sTrue\n"
     ]
    },
    {
     "name": "stderr",
     "output_type": "stream",
     "text": [
      "100%|██████████| 20/20 [00:00<00:00, 35.08it/s]\n",
      " 18%|█▊        | 46/250 [00:28<02:10,  1.57it/s]"
     ]
    },
    {
     "name": "stdout",
     "output_type": "stream",
     "text": [
      "/bigdata/f_mnist/logs/garipov/decomposed/1647972637/gar-lr-[4]-tucker-0.5-dTrue-iNone_bn_128_sgd_l0.0001_g0.0_sTrue\n"
     ]
    },
    {
     "name": "stderr",
     "output_type": "stream",
     "text": [
      "100%|██████████| 20/20 [00:00<00:00, 36.23it/s]\n",
      " 19%|█▉        | 47/250 [00:29<02:08,  1.57it/s]"
     ]
    },
    {
     "name": "stdout",
     "output_type": "stream",
     "text": [
      "/bigdata/f_mnist/logs/garipov/decomposed/1647962847/gar-lr-[2]-tucker-0.9-dTrue-iNone_bn_128_sgd_l0.0001_g0.0_sTrue\n"
     ]
    },
    {
     "name": "stderr",
     "output_type": "stream",
     "text": [
      "100%|██████████| 20/20 [00:00<00:00, 37.39it/s]\n",
      " 19%|█▉        | 48/250 [00:30<02:06,  1.59it/s]"
     ]
    },
    {
     "name": "stdout",
     "output_type": "stream",
     "text": [
      "/bigdata/f_mnist/logs/garipov/decomposed/1647967734/gar-lr-[4]-tucker-0.25-dTrue-iNone_bn_128_sgd_l0.0001_g0.0_sTrue\n"
     ]
    },
    {
     "name": "stderr",
     "output_type": "stream",
     "text": [
      "100%|██████████| 20/20 [00:00<00:00, 36.73it/s]\n",
      " 20%|█▉        | 49/250 [00:30<02:05,  1.60it/s]"
     ]
    },
    {
     "name": "stdout",
     "output_type": "stream",
     "text": [
      "/bigdata/f_mnist/logs/garipov/decomposed/1647984817/gar-lr-[10]-cp-0.5-dTrue-iNone_bn_128_sgd_l0.0001_g0.0_sTrue\n"
     ]
    },
    {
     "name": "stderr",
     "output_type": "stream",
     "text": [
      "100%|██████████| 20/20 [00:00<00:00, 37.42it/s]\n",
      " 20%|██        | 50/250 [00:31<02:02,  1.63it/s]"
     ]
    },
    {
     "name": "stdout",
     "output_type": "stream",
     "text": [
      "/bigdata/f_mnist/logs/garipov/decomposed/1647965749/gar-lr-[10]-tucker-0.1-dTrue-iNone_bn_128_sgd_l0.0001_g0.0_sTrue\n"
     ]
    },
    {
     "name": "stderr",
     "output_type": "stream",
     "text": [
      "100%|██████████| 20/20 [00:00<00:00, 36.81it/s]\n",
      " 20%|██        | 51/250 [00:31<02:01,  1.64it/s]"
     ]
    },
    {
     "name": "stdout",
     "output_type": "stream",
     "text": [
      "/bigdata/f_mnist/logs/garipov/decomposed/1647966491/gar-lr-[10]-tucker-0.9-dTrue-iNone_bn_128_sgd_l0.0001_g0.0_sTrue\n"
     ]
    },
    {
     "name": "stderr",
     "output_type": "stream",
     "text": [
      "100%|██████████| 20/20 [00:00<00:00, 37.17it/s]\n",
      " 21%|██        | 52/250 [00:32<01:59,  1.66it/s]"
     ]
    },
    {
     "name": "stdout",
     "output_type": "stream",
     "text": [
      "/bigdata/f_mnist/logs/garipov/decomposed/1647970766/gar-lr-[10]-tucker-0.5-dTrue-iNone_bn_128_sgd_l0.0001_g0.0_sTrue\n"
     ]
    },
    {
     "name": "stderr",
     "output_type": "stream",
     "text": [
      "100%|██████████| 20/20 [00:00<00:00, 36.50it/s]\n",
      " 21%|██        | 53/250 [00:33<01:59,  1.65it/s]"
     ]
    },
    {
     "name": "stdout",
     "output_type": "stream",
     "text": [
      "/bigdata/f_mnist/logs/garipov/decomposed/1647981884/gar-lr-[4]-tucker-0.25-dTrue-iNone_bn_128_sgd_l0.0001_g0.0_sTrue\n"
     ]
    },
    {
     "name": "stderr",
     "output_type": "stream",
     "text": [
      "100%|██████████| 20/20 [00:00<00:00, 35.39it/s]\n",
      " 22%|██▏       | 54/250 [00:33<01:59,  1.64it/s]"
     ]
    },
    {
     "name": "stdout",
     "output_type": "stream",
     "text": [
      "/bigdata/f_mnist/logs/garipov/decomposed/1647972085/gar-lr-[2]-tucker-0.9-dTrue-iNone_bn_128_sgd_l0.0001_g0.0_sTrue\n"
     ]
    },
    {
     "name": "stderr",
     "output_type": "stream",
     "text": [
      "100%|██████████| 20/20 [00:00<00:00, 35.46it/s]\n",
      " 22%|██▏       | 55/250 [00:34<01:59,  1.63it/s]"
     ]
    },
    {
     "name": "stdout",
     "output_type": "stream",
     "text": [
      "/bigdata/f_mnist/logs/garipov/decomposed/1647976149/gar-lr-[2]-cp-0.25-dTrue-iNone_bn_128_sgd_l0.0001_g0.0_sTrue\n"
     ]
    },
    {
     "name": "stderr",
     "output_type": "stream",
     "text": [
      "100%|██████████| 20/20 [00:00<00:00, 36.33it/s]\n",
      " 22%|██▏       | 56/250 [00:34<01:57,  1.65it/s]"
     ]
    },
    {
     "name": "stdout",
     "output_type": "stream",
     "text": [
      "/bigdata/f_mnist/logs/garipov/decomposed/1647981234/gar-lr-[2]-cp-0.75-dTrue-iNone_bn_128_sgd_l0.0001_g0.0_sTrue\n"
     ]
    },
    {
     "name": "stderr",
     "output_type": "stream",
     "text": [
      "100%|██████████| 20/20 [00:00<00:00, 36.17it/s]\n",
      " 23%|██▎       | 57/250 [00:35<01:57,  1.64it/s]"
     ]
    },
    {
     "name": "stdout",
     "output_type": "stream",
     "text": [
      "/bigdata/f_mnist/logs/garipov/decomposed/1647982455/gar-lr-[4]-tucker-0.9-dTrue-iNone_bn_128_sgd_l0.0001_g0.0_sTrue\n"
     ]
    },
    {
     "name": "stderr",
     "output_type": "stream",
     "text": [
      "100%|██████████| 20/20 [00:00<00:00, 33.25it/s]\n",
      " 23%|██▎       | 58/250 [00:36<01:59,  1.60it/s]"
     ]
    },
    {
     "name": "stdout",
     "output_type": "stream",
     "text": [
      "/bigdata/f_mnist/logs/garipov/decomposed/1647979916/gar-lr-[10]-cp-0.25-dTrue-iNone_bn_128_sgd_l0.0001_g0.0_sTrue\n"
     ]
    },
    {
     "name": "stderr",
     "output_type": "stream",
     "text": [
      "100%|██████████| 20/20 [00:00<00:00, 36.05it/s]\n",
      " 24%|██▎       | 59/250 [00:36<01:58,  1.61it/s]"
     ]
    },
    {
     "name": "stdout",
     "output_type": "stream",
     "text": [
      "/bigdata/f_mnist/logs/garipov/decomposed/1647980960/gar-lr-[2]-tucker-0.25-dTrue-iNone_bn_128_sgd_l0.0001_g0.0_sTrue\n"
     ]
    },
    {
     "name": "stderr",
     "output_type": "stream",
     "text": [
      "100%|██████████| 20/20 [00:00<00:00, 36.10it/s]\n",
      " 24%|██▍       | 60/250 [00:37<01:58,  1.60it/s]"
     ]
    },
    {
     "name": "stdout",
     "output_type": "stream",
     "text": [
      "/bigdata/f_mnist/logs/garipov/decomposed/1647963108/gar-lr-[4]-cp-0.25-dTrue-iNone_bn_128_sgd_l0.0001_g0.0_sTrue\n"
     ]
    },
    {
     "name": "stderr",
     "output_type": "stream",
     "text": [
      "100%|██████████| 20/20 [00:00<00:00, 35.85it/s]\n",
      " 24%|██▍       | 61/250 [00:38<01:57,  1.61it/s]"
     ]
    },
    {
     "name": "stdout",
     "output_type": "stream",
     "text": [
      "/bigdata/f_mnist/logs/garipov/decomposed/1647980011/gar-lr-[10]-tucker-0.25-dTrue-iNone_bn_128_sgd_l0.0001_g0.0_sTrue\n"
     ]
    },
    {
     "name": "stderr",
     "output_type": "stream",
     "text": [
      "100%|██████████| 20/20 [00:00<00:00, 38.03it/s]\n",
      " 25%|██▍       | 62/250 [00:38<01:54,  1.64it/s]"
     ]
    },
    {
     "name": "stdout",
     "output_type": "stream",
     "text": [
      "/bigdata/f_mnist/logs/garipov/decomposed/1647973776/gar-lr-[6]-tucker-0.75-dTrue-iNone_bn_128_sgd_l0.0001_g0.0_sTrue\n"
     ]
    },
    {
     "name": "stderr",
     "output_type": "stream",
     "text": [
      "100%|██████████| 20/20 [00:00<00:00, 36.25it/s]\n",
      " 25%|██▌       | 63/250 [00:39<01:53,  1.64it/s]"
     ]
    },
    {
     "name": "stdout",
     "output_type": "stream",
     "text": [
      "/bigdata/f_mnist/logs/garipov/decomposed/1647985114/gar-lr-[10]-tucker-0.75-dTrue-iNone_bn_128_sgd_l0.0001_g0.0_sTrue\n"
     ]
    },
    {
     "name": "stderr",
     "output_type": "stream",
     "text": [
      "100%|██████████| 20/20 [00:00<00:00, 36.45it/s]\n",
      " 26%|██▌       | 64/250 [00:39<01:55,  1.62it/s]"
     ]
    },
    {
     "name": "stdout",
     "output_type": "stream",
     "text": [
      "/bigdata/f_mnist/logs/garipov/decomposed/1647982545/gar-lr-[6]-cp-0.1-dTrue-iNone_bn_128_sgd_l0.0001_g0.0_sTrue\n"
     ]
    },
    {
     "name": "stderr",
     "output_type": "stream",
     "text": [
      "100%|██████████| 20/20 [00:00<00:00, 37.04it/s]\n",
      " 26%|██▌       | 65/250 [00:40<01:52,  1.65it/s]"
     ]
    },
    {
     "name": "stdout",
     "output_type": "stream",
     "text": [
      "/bigdata/f_mnist/logs/garipov/decomposed/1647964662/gar-lr-[6]-tucker-0.9-dTrue-iNone_bn_128_sgd_l0.0001_g0.0_sTrue\n"
     ]
    },
    {
     "name": "stderr",
     "output_type": "stream",
     "text": [
      "100%|██████████| 20/20 [00:00<00:00, 36.08it/s]\n",
      " 26%|██▋       | 66/250 [00:41<01:52,  1.63it/s]"
     ]
    },
    {
     "name": "stdout",
     "output_type": "stream",
     "text": [
      "/bigdata/f_mnist/logs/garipov/decomposed/1647973479/gar-lr-[6]-cp-0.5-dTrue-iNone_bn_128_sgd_l0.0001_g0.0_sTrue\n"
     ]
    },
    {
     "name": "stderr",
     "output_type": "stream",
     "text": [
      "100%|██████████| 20/20 [00:00<00:00, 36.62it/s]\n",
      " 27%|██▋       | 67/250 [00:41<01:51,  1.64it/s]"
     ]
    },
    {
     "name": "stdout",
     "output_type": "stream",
     "text": [
      "/bigdata/f_mnist/logs/garipov/decomposed/1647975383/gar-lr-[10]-cp-0.5-dTrue-iNone_bn_128_sgd_l0.0001_g0.0_sTrue\n"
     ]
    },
    {
     "name": "stderr",
     "output_type": "stream",
     "text": [
      "100%|██████████| 20/20 [00:00<00:00, 35.14it/s]\n",
      " 27%|██▋       | 68/250 [00:42<01:51,  1.63it/s]"
     ]
    },
    {
     "name": "stdout",
     "output_type": "stream",
     "text": [
      "/bigdata/f_mnist/logs/garipov/decomposed/1647982261/gar-lr-[4]-tucker-0.75-dTrue-iNone_bn_128_sgd_l0.0001_g0.0_sTrue\n"
     ]
    },
    {
     "name": "stderr",
     "output_type": "stream",
     "text": [
      "100%|██████████| 20/20 [00:00<00:00, 34.82it/s]\n",
      " 28%|██▊       | 69/250 [00:42<01:52,  1.60it/s]"
     ]
    },
    {
     "name": "stdout",
     "output_type": "stream",
     "text": [
      "/bigdata/f_mnist/logs/garipov/decomposed/1647963747/gar-lr-[4]-tucker-0.9-dTrue-iNone_bn_128_sgd_l0.0001_g0.0_sTrue\n"
     ]
    },
    {
     "name": "stderr",
     "output_type": "stream",
     "text": [
      "100%|██████████| 20/20 [00:00<00:00, 35.68it/s]\n",
      " 28%|██▊       | 70/250 [00:43<01:52,  1.60it/s]"
     ]
    },
    {
     "name": "stdout",
     "output_type": "stream",
     "text": [
      "/bigdata/f_mnist/logs/garipov/decomposed/1647975199/gar-lr-[10]-cp-0.25-dTrue-iNone_bn_128_sgd_l0.0001_g0.0_sTrue\n"
     ]
    },
    {
     "name": "stderr",
     "output_type": "stream",
     "text": [
      "100%|██████████| 20/20 [00:00<00:00, 33.57it/s]\n",
      " 28%|██▊       | 71/250 [00:44<01:54,  1.57it/s]"
     ]
    },
    {
     "name": "stdout",
     "output_type": "stream",
     "text": [
      "/bigdata/f_mnist/logs/garipov/decomposed/1647966301/gar-lr-[10]-tucker-0.75-dTrue-iNone_bn_128_sgd_l0.0001_g0.0_sTrue\n"
     ]
    },
    {
     "name": "stderr",
     "output_type": "stream",
     "text": [
      "100%|██████████| 20/20 [00:00<00:00, 38.11it/s]\n",
      " 29%|██▉       | 72/250 [00:44<01:52,  1.58it/s]"
     ]
    },
    {
     "name": "stdout",
     "output_type": "stream",
     "text": [
      "/bigdata/f_mnist/logs/garipov/decomposed/1647984450/gar-lr-[10]-cp-0.1-dTrue-iNone_bn_128_sgd_l0.0001_g0.0_sTrue\n"
     ]
    },
    {
     "name": "stderr",
     "output_type": "stream",
     "text": [
      "100%|██████████| 20/20 [00:00<00:00, 39.07it/s]\n",
      " 29%|██▉       | 73/250 [00:45<01:50,  1.61it/s]"
     ]
    },
    {
     "name": "stdout",
     "output_type": "stream",
     "text": [
      "/bigdata/f_mnist/logs/garipov/decomposed/1647979250/gar-lr-[8]-tucker-0.5-dTrue-iNone_bn_128_sgd_l0.0001_g0.0_sTrue\n"
     ]
    },
    {
     "name": "stderr",
     "output_type": "stream",
     "text": [
      "100%|██████████| 20/20 [00:00<00:00, 37.78it/s]\n",
      " 30%|██▉       | 74/250 [00:46<01:47,  1.63it/s]"
     ]
    },
    {
     "name": "stdout",
     "output_type": "stream",
     "text": [
      "/bigdata/f_mnist/logs/garipov/decomposed/1647971896/gar-lr-[2]-tucker-0.75-dTrue-iNone_bn_128_sgd_l0.0001_g0.0_sTrue\n"
     ]
    },
    {
     "name": "stderr",
     "output_type": "stream",
     "text": [
      "100%|██████████| 20/20 [00:00<00:00, 35.40it/s]\n",
      " 30%|███       | 75/250 [00:46<01:47,  1.63it/s]"
     ]
    },
    {
     "name": "stdout",
     "output_type": "stream",
     "text": [
      "/bigdata/f_mnist/logs/garipov/decomposed/1647978387/gar-lr-[6]-cp-0.75-dTrue-iNone_bn_128_sgd_l0.0001_g0.0_sTrue\n"
     ]
    },
    {
     "name": "stderr",
     "output_type": "stream",
     "text": [
      "100%|██████████| 20/20 [00:00<00:00, 35.18it/s]\n",
      " 30%|███       | 76/250 [00:47<01:48,  1.61it/s]"
     ]
    },
    {
     "name": "stdout",
     "output_type": "stream",
     "text": [
      "/bigdata/f_mnist/logs/garipov/decomposed/1647967191/gar-lr-[2]-tucker-0.75-dTrue-iNone_bn_128_sgd_l0.0001_g0.0_sTrue\n"
     ]
    },
    {
     "name": "stderr",
     "output_type": "stream",
     "text": [
      "100%|██████████| 20/20 [00:00<00:00, 36.83it/s]\n",
      " 31%|███       | 77/250 [00:47<01:46,  1.63it/s]"
     ]
    },
    {
     "name": "stdout",
     "output_type": "stream",
     "text": [
      "/bigdata/f_mnist/logs/garipov/decomposed/1647975017/gar-lr-[10]-cp-0.1-dTrue-iNone_bn_128_sgd_l0.0001_g0.0_sTrue\n"
     ]
    },
    {
     "name": "stderr",
     "output_type": "stream",
     "text": [
      "100%|██████████| 20/20 [00:00<00:00, 36.65it/s]\n",
      " 31%|███       | 78/250 [00:48<01:46,  1.61it/s]"
     ]
    },
    {
     "name": "stdout",
     "output_type": "stream",
     "text": [
      "/bigdata/f_mnist/logs/garipov/decomposed/1647972450/gar-lr-[4]-tucker-0.25-dTrue-iNone_bn_128_sgd_l0.0001_g0.0_sTrue\n"
     ]
    },
    {
     "name": "stderr",
     "output_type": "stream",
     "text": [
      "100%|██████████| 20/20 [00:00<00:00, 35.22it/s]\n",
      " 32%|███▏      | 79/250 [00:49<01:46,  1.61it/s]"
     ]
    },
    {
     "name": "stdout",
     "output_type": "stream",
     "text": [
      "/bigdata/f_mnist/logs/garipov/decomposed/1647971342/gar-lr-[2]-tucker-0.1-dTrue-iNone_bn_128_sgd_l0.0001_g0.0_sTrue\n"
     ]
    },
    {
     "name": "stderr",
     "output_type": "stream",
     "text": [
      "100%|██████████| 20/20 [00:00<00:00, 37.41it/s]\n",
      " 32%|███▏      | 80/250 [00:49<01:44,  1.63it/s]"
     ]
    },
    {
     "name": "stdout",
     "output_type": "stream",
     "text": [
      "/bigdata/f_mnist/logs/garipov/decomposed/1647967553/gar-lr-[4]-tucker-0.1-dTrue-iNone_bn_128_sgd_l0.0001_g0.0_sTrue\n"
     ]
    },
    {
     "name": "stderr",
     "output_type": "stream",
     "text": [
      "100%|██████████| 20/20 [00:00<00:00, 34.96it/s]\n",
      " 32%|███▏      | 81/250 [00:50<01:44,  1.61it/s]"
     ]
    },
    {
     "name": "stdout",
     "output_type": "stream",
     "text": [
      "/bigdata/f_mnist/logs/garipov/decomposed/1647978494/gar-lr-[6]-tucker-0.75-dTrue-iNone_bn_128_sgd_l0.0001_g0.0_sTrue\n"
     ]
    },
    {
     "name": "stderr",
     "output_type": "stream",
     "text": [
      "100%|██████████| 20/20 [00:00<00:00, 38.25it/s]\n",
      " 33%|███▎      | 82/250 [00:50<01:41,  1.65it/s]"
     ]
    },
    {
     "name": "stdout",
     "output_type": "stream",
     "text": [
      "/bigdata/f_mnist/logs/garipov/decomposed/1647965836/gar-lr-[10]-cp-0.25-dTrue-iNone_bn_128_sgd_l0.0001_g0.0_sTrue\n"
     ]
    },
    {
     "name": "stderr",
     "output_type": "stream",
     "text": [
      "100%|██████████| 20/20 [00:00<00:00, 37.84it/s]\n",
      " 33%|███▎      | 83/250 [00:51<01:39,  1.68it/s]"
     ]
    },
    {
     "name": "stdout",
     "output_type": "stream",
     "text": [
      "/bigdata/f_mnist/logs/garipov/decomposed/1647970100/gar-lr-[8]-cp-0.9-dTrue-iNone_bn_128_sgd_l0.0001_g0.0_sTrue\n"
     ]
    },
    {
     "name": "stderr",
     "output_type": "stream",
     "text": [
      "100%|██████████| 20/20 [00:00<00:00, 36.58it/s]\n",
      " 34%|███▎      | 84/250 [00:52<01:38,  1.68it/s]"
     ]
    },
    {
     "name": "stdout",
     "output_type": "stream",
     "text": [
      "/bigdata/f_mnist/logs/garipov/decomposed/1647972918/gar-lr-[4]-cp-0.9-dTrue-iNone_bn_128_sgd_l0.0001_g0.0_sTrue\n"
     ]
    },
    {
     "name": "stderr",
     "output_type": "stream",
     "text": [
      "100%|██████████| 20/20 [00:00<00:00, 36.64it/s]\n",
      " 34%|███▍      | 85/250 [00:52<01:38,  1.67it/s]"
     ]
    },
    {
     "name": "stdout",
     "output_type": "stream",
     "text": [
      "/bigdata/f_mnist/logs/garipov/decomposed/1647962050/gar-lr-[2]-cp-0.1-dTrue-iNone_bn_128_sgd_l0.0001_g0.0_sTrue\n"
     ]
    },
    {
     "name": "stderr",
     "output_type": "stream",
     "text": [
      "100%|██████████| 20/20 [00:00<00:00, 36.98it/s]\n",
      " 34%|███▍      | 86/250 [00:53<01:39,  1.65it/s]"
     ]
    },
    {
     "name": "stdout",
     "output_type": "stream",
     "text": [
      "/bigdata/f_mnist/logs/garipov/decomposed/1647975879/gar-lr-[10]-tucker-0.9-dTrue-iNone_bn_128_sgd_l0.0001_g0.0_sTrue\n"
     ]
    },
    {
     "name": "stderr",
     "output_type": "stream",
     "text": [
      "100%|██████████| 20/20 [00:00<00:00, 36.11it/s]\n",
      " 35%|███▍      | 87/250 [00:53<01:39,  1.63it/s]"
     ]
    },
    {
     "name": "stdout",
     "output_type": "stream",
     "text": [
      "/bigdata/f_mnist/logs/garipov/decomposed/1647982071/gar-lr-[4]-tucker-0.5-dTrue-iNone_bn_128_sgd_l0.0001_g0.0_sTrue\n"
     ]
    },
    {
     "name": "stderr",
     "output_type": "stream",
     "text": [
      "100%|██████████| 20/20 [00:00<00:00, 37.50it/s]\n",
      " 35%|███▌      | 88/250 [00:54<01:38,  1.65it/s]"
     ]
    },
    {
     "name": "stdout",
     "output_type": "stream",
     "text": [
      "/bigdata/f_mnist/logs/garipov/decomposed/1647978874/gar-lr-[8]-tucker-0.1-dTrue-iNone_bn_128_sgd_l0.0001_g0.0_sTrue\n"
     ]
    },
    {
     "name": "stderr",
     "output_type": "stream",
     "text": [
      "100%|██████████| 20/20 [00:00<00:00, 36.51it/s]\n",
      " 36%|███▌      | 89/250 [00:55<01:37,  1.65it/s]"
     ]
    },
    {
     "name": "stdout",
     "output_type": "stream",
     "text": [
      "/bigdata/f_mnist/logs/garipov/decomposed/1647964280/gar-lr-[6]-tucker-0.5-dTrue-iNone_bn_128_sgd_l0.0001_g0.0_sTrue\n"
     ]
    },
    {
     "name": "stderr",
     "output_type": "stream",
     "text": [
      "100%|██████████| 20/20 [00:00<00:00, 37.44it/s]\n",
      " 36%|███▌      | 90/250 [00:55<01:38,  1.62it/s]"
     ]
    },
    {
     "name": "stdout",
     "output_type": "stream",
     "text": [
      "/bigdata/f_mnist/logs/garipov/decomposed/1647968760/gar-lr-[6]-cp-0.5-dTrue-iNone_bn_128_sgd_l0.0001_g0.0_sTrue\n"
     ]
    },
    {
     "name": "stderr",
     "output_type": "stream",
     "text": [
      "100%|██████████| 20/20 [00:00<00:00, 36.10it/s]\n",
      " 36%|███▋      | 91/250 [00:56<01:39,  1.60it/s]"
     ]
    },
    {
     "name": "stdout",
     "output_type": "stream",
     "text": [
      "/bigdata/f_mnist/logs/garipov/decomposed/1647976704/gar-lr-[2]-cp-0.9-dTrue-iNone_bn_128_sgd_l0.0001_g0.0_sTrue\n"
     ]
    },
    {
     "name": "stderr",
     "output_type": "stream",
     "text": [
      "100%|██████████| 20/20 [00:00<00:00, 37.49it/s]\n",
      " 37%|███▋      | 92/250 [00:57<01:37,  1.62it/s]"
     ]
    },
    {
     "name": "stdout",
     "output_type": "stream",
     "text": [
      "/bigdata/f_mnist/logs/garipov/decomposed/1647975770/gar-lr-[10]-cp-0.9-dTrue-iNone_bn_128_sgd_l0.0001_g0.0_sTrue\n"
     ]
    },
    {
     "name": "stderr",
     "output_type": "stream",
     "text": [
      "100%|██████████| 20/20 [00:00<00:00, 34.63it/s]\n",
      " 37%|███▋      | 93/250 [00:57<01:37,  1.61it/s]"
     ]
    },
    {
     "name": "stdout",
     "output_type": "stream",
     "text": [
      "/bigdata/f_mnist/logs/garipov/decomposed/1647984161/gar-lr-[8]-tucker-0.75-dTrue-iNone_bn_128_sgd_l0.0001_g0.0_sTrue\n"
     ]
    },
    {
     "name": "stderr",
     "output_type": "stream",
     "text": [
      "100%|██████████| 20/20 [00:00<00:00, 34.68it/s]\n",
      " 38%|███▊      | 94/250 [00:58<01:38,  1.59it/s]"
     ]
    },
    {
     "name": "stdout",
     "output_type": "stream",
     "text": [
      "/bigdata/f_mnist/logs/garipov/decomposed/1647971613/gar-lr-[2]-cp-0.5-dTrue-iNone_bn_128_sgd_l0.0001_g0.0_sTrue\n"
     ]
    },
    {
     "name": "stderr",
     "output_type": "stream",
     "text": [
      "100%|██████████| 20/20 [00:00<00:00, 37.31it/s]\n",
      " 38%|███▊      | 95/250 [00:58<01:35,  1.62it/s]"
     ]
    },
    {
     "name": "stdout",
     "output_type": "stream",
     "text": [
      "/bigdata/f_mnist/logs/garipov/decomposed/1647970962/gar-lr-[10]-tucker-0.75-dTrue-iNone_bn_128_sgd_l0.0001_g0.0_sTrue\n"
     ]
    },
    {
     "name": "stderr",
     "output_type": "stream",
     "text": [
      "100%|██████████| 20/20 [00:00<00:00, 36.63it/s]\n",
      " 38%|███▊      | 96/250 [00:59<01:34,  1.63it/s]"
     ]
    },
    {
     "name": "stdout",
     "output_type": "stream",
     "text": [
      "/bigdata/f_mnist/logs/garipov/decomposed/1647980488/gar-lr-[10]-cp-0.9-dTrue-iNone_bn_128_sgd_l0.0001_g0.0_sTrue\n"
     ]
    },
    {
     "name": "stderr",
     "output_type": "stream",
     "text": [
      "100%|██████████| 20/20 [00:00<00:00, 37.12it/s]\n",
      " 39%|███▉      | 97/250 [01:00<01:33,  1.64it/s]"
     ]
    },
    {
     "name": "stdout",
     "output_type": "stream",
     "text": [
      "/bigdata/f_mnist/logs/garipov/decomposed/1647968486/gar-lr-[6]-tucker-0.1-dTrue-iNone_bn_128_sgd_l0.0001_g0.0_sTrue\n"
     ]
    },
    {
     "name": "stderr",
     "output_type": "stream",
     "text": [
      "100%|██████████| 20/20 [00:00<00:00, 39.39it/s]\n",
      " 39%|███▉      | 98/250 [01:00<01:30,  1.67it/s]"
     ]
    },
    {
     "name": "stdout",
     "output_type": "stream",
     "text": [
      "/bigdata/f_mnist/logs/garipov/decomposed/1647984632/gar-lr-[10]-cp-0.25-dTrue-iNone_bn_128_sgd_l0.0001_g0.0_sTrue\n"
     ]
    },
    {
     "name": "stderr",
     "output_type": "stream",
     "text": [
      "100%|██████████| 20/20 [00:00<00:00, 37.79it/s]\n",
      " 40%|███▉      | 99/250 [01:01<01:30,  1.68it/s]"
     ]
    },
    {
     "name": "stdout",
     "output_type": "stream",
     "text": [
      "/bigdata/f_mnist/logs/garipov/decomposed/1647965662/gar-lr-[10]-cp-0.1-dTrue-iNone_bn_128_sgd_l0.0001_g0.0_sTrue\n"
     ]
    },
    {
     "name": "stderr",
     "output_type": "stream",
     "text": [
      "100%|██████████| 20/20 [00:00<00:00, 34.40it/s]\n",
      " 40%|████      | 100/250 [01:01<01:31,  1.64it/s]"
     ]
    },
    {
     "name": "stdout",
     "output_type": "stream",
     "text": [
      "/bigdata/f_mnist/logs/garipov/decomposed/1647981049/gar-lr-[2]-cp-0.5-dTrue-iNone_bn_128_sgd_l0.0001_g0.0_sTrue\n"
     ]
    },
    {
     "name": "stderr",
     "output_type": "stream",
     "text": [
      "100%|██████████| 20/20 [00:00<00:00, 37.63it/s]\n",
      " 40%|████      | 101/250 [01:02<01:30,  1.65it/s]"
     ]
    },
    {
     "name": "stdout",
     "output_type": "stream",
     "text": [
      "/bigdata/f_mnist/logs/garipov/decomposed/1647979827/gar-lr-[10]-tucker-0.1-dTrue-iNone_bn_128_sgd_l0.0001_g0.0_sTrue\n"
     ]
    },
    {
     "name": "stderr",
     "output_type": "stream",
     "text": [
      "100%|██████████| 20/20 [00:00<00:00, 36.03it/s]\n",
      " 41%|████      | 102/250 [01:03<01:29,  1.65it/s]"
     ]
    },
    {
     "name": "stdout",
     "output_type": "stream",
     "text": [
      "/bigdata/f_mnist/logs/garipov/decomposed/1647974818/gar-lr-[8]-cp-0.9-dTrue-iNone_bn_128_sgd_l0.0001_g0.0_sTrue\n"
     ]
    },
    {
     "name": "stderr",
     "output_type": "stream",
     "text": [
      "100%|██████████| 20/20 [00:00<00:00, 34.19it/s]\n",
      " 41%|████      | 103/250 [01:03<01:30,  1.62it/s]"
     ]
    },
    {
     "name": "stdout",
     "output_type": "stream",
     "text": [
      "/bigdata/f_mnist/logs/garipov/decomposed/1647969528/gar-lr-[8]-cp-0.25-dTrue-iNone_bn_128_sgd_l0.0001_g0.0_sTrue\n"
     ]
    },
    {
     "name": "stderr",
     "output_type": "stream",
     "text": [
      "100%|██████████| 20/20 [00:00<00:00, 36.65it/s]\n",
      " 42%|████▏     | 104/250 [01:04<01:31,  1.60it/s]"
     ]
    },
    {
     "name": "stdout",
     "output_type": "stream",
     "text": [
      "/bigdata/f_mnist/logs/garipov/decomposed/1647962221/gar-lr-[2]-cp-0.25-dTrue-iNone_bn_128_sgd_l0.0001_g0.0_sTrue\n"
     ]
    },
    {
     "name": "stderr",
     "output_type": "stream",
     "text": [
      "100%|██████████| 20/20 [00:00<00:00, 38.07it/s]\n",
      " 42%|████▏     | 105/250 [01:04<01:28,  1.64it/s]"
     ]
    },
    {
     "name": "stdout",
     "output_type": "stream",
     "text": [
      "/bigdata/f_mnist/logs/garipov/decomposed/1647967097/gar-lr-[2]-cp-0.75-dTrue-iNone_bn_128_sgd_l0.0001_g0.0_sTrue\n"
     ]
    },
    {
     "name": "stderr",
     "output_type": "stream",
     "text": [
      "100%|██████████| 20/20 [00:00<00:00, 35.71it/s]\n",
      " 42%|████▏     | 106/250 [01:05<01:28,  1.63it/s]"
     ]
    },
    {
     "name": "stdout",
     "output_type": "stream",
     "text": [
      "/bigdata/f_mnist/logs/garipov/decomposed/1647977919/gar-lr-[6]-tucker-0.1-dTrue-iNone_bn_128_sgd_l0.0001_g0.0_sTrue\n"
     ]
    },
    {
     "name": "stderr",
     "output_type": "stream",
     "text": [
      "100%|██████████| 20/20 [00:00<00:00, 34.99it/s]\n",
      " 43%|████▎     | 107/250 [01:06<01:28,  1.62it/s]"
     ]
    },
    {
     "name": "stdout",
     "output_type": "stream",
     "text": [
      "/bigdata/f_mnist/logs/garipov/decomposed/1647984728/gar-lr-[10]-tucker-0.25-dTrue-iNone_bn_128_sgd_l0.0001_g0.0_sTrue\n"
     ]
    },
    {
     "name": "stderr",
     "output_type": "stream",
     "text": [
      "100%|██████████| 20/20 [00:00<00:00, 36.02it/s]\n",
      " 43%|████▎     | 108/250 [01:06<01:28,  1.60it/s]"
     ]
    },
    {
     "name": "stdout",
     "output_type": "stream",
     "text": [
      "/bigdata/f_mnist/logs/garipov/decomposed/1647964367/gar-lr-[6]-cp-0.75-dTrue-iNone_bn_128_sgd_l0.0001_g0.0_sTrue\n"
     ]
    },
    {
     "name": "stderr",
     "output_type": "stream",
     "text": [
      "100%|██████████| 20/20 [00:00<00:00, 36.02it/s]\n",
      " 44%|████▎     | 109/250 [01:07<01:28,  1.59it/s]"
     ]
    },
    {
     "name": "stdout",
     "output_type": "stream",
     "text": [
      "/bigdata/f_mnist/logs/garipov/decomposed/1647966748/gar-lr-[2]-cp-0.25-dTrue-iNone_bn_128_sgd_l0.0001_g0.0_sTrue\n"
     ]
    },
    {
     "name": "stderr",
     "output_type": "stream",
     "text": [
      "100%|██████████| 20/20 [00:00<00:00, 35.36it/s]\n",
      " 44%|████▍     | 110/250 [01:08<01:27,  1.60it/s]"
     ]
    },
    {
     "name": "stdout",
     "output_type": "stream",
     "text": [
      "/bigdata/f_mnist/logs/garipov/decomposed/1647982161/gar-lr-[4]-cp-0.75-dTrue-iNone_bn_128_sgd_l0.0001_g0.0_sTrue\n"
     ]
    },
    {
     "name": "stderr",
     "output_type": "stream",
     "text": [
      "100%|██████████| 20/20 [00:00<00:00, 38.53it/s]\n",
      " 44%|████▍     | 111/250 [01:08<01:24,  1.64it/s]"
     ]
    },
    {
     "name": "stdout",
     "output_type": "stream",
     "text": [
      "/bigdata/f_mnist/logs/garipov/decomposed/1647969257/gar-lr-[6]-tucker-0.9-dTrue-iNone_bn_128_sgd_l0.0001_g0.0_sTrue\n"
     ]
    },
    {
     "name": "stderr",
     "output_type": "stream",
     "text": [
      "100%|██████████| 20/20 [00:00<00:00, 35.82it/s]\n",
      " 45%|████▍     | 112/250 [01:09<01:24,  1.62it/s]"
     ]
    },
    {
     "name": "stdout",
     "output_type": "stream",
     "text": [
      "/bigdata/f_mnist/logs/garipov/decomposed/1647968671/gar-lr-[6]-tucker-0.25-dTrue-iNone_bn_128_sgd_l0.0001_g0.0_sTrue\n"
     ]
    },
    {
     "name": "stderr",
     "output_type": "stream",
     "text": [
      "100%|██████████| 20/20 [00:00<00:00, 37.07it/s]\n",
      " 45%|████▌     | 113/250 [01:09<01:23,  1.63it/s]"
     ]
    },
    {
     "name": "stdout",
     "output_type": "stream",
     "text": [
      "/bigdata/f_mnist/logs/garipov/decomposed/1647971432/gar-lr-[2]-cp-0.25-dTrue-iNone_bn_128_sgd_l0.0001_g0.0_sTrue\n"
     ]
    },
    {
     "name": "stderr",
     "output_type": "stream",
     "text": [
      "100%|██████████| 20/20 [00:00<00:00, 38.19it/s]\n",
      " 46%|████▌     | 114/250 [01:10<01:21,  1.67it/s]"
     ]
    },
    {
     "name": "stdout",
     "output_type": "stream",
     "text": [
      "/bigdata/f_mnist/logs/garipov/decomposed/1647964098/gar-lr-[6]-tucker-0.25-dTrue-iNone_bn_128_sgd_l0.0001_g0.0_sTrue\n"
     ]
    },
    {
     "name": "stderr",
     "output_type": "stream",
     "text": [
      "100%|██████████| 20/20 [00:00<00:00, 37.81it/s]\n",
      " 46%|████▌     | 115/250 [01:11<01:20,  1.67it/s]"
     ]
    },
    {
     "name": "stdout",
     "output_type": "stream",
     "text": [
      "/bigdata/f_mnist/logs/garipov/decomposed/1647964470/gar-lr-[6]-tucker-0.75-dTrue-iNone_bn_128_sgd_l0.0001_g0.0_sTrue\n"
     ]
    },
    {
     "name": "stderr",
     "output_type": "stream",
     "text": [
      "100%|██████████| 20/20 [00:00<00:00, 36.33it/s]\n",
      " 46%|████▋     | 116/250 [01:11<01:20,  1.66it/s]"
     ]
    },
    {
     "name": "stdout",
     "output_type": "stream",
     "text": [
      "/bigdata/f_mnist/logs/garipov/decomposed/1647985314/gar-lr-[10]-tucker-0.9-dTrue-iNone_bn_128_sgd_l0.0001_g0.0_sTrue\n"
     ]
    },
    {
     "name": "stderr",
     "output_type": "stream",
     "text": [
      "100%|██████████| 20/20 [00:00<00:00, 36.21it/s]\n",
      " 47%|████▋     | 117/250 [01:12<01:21,  1.64it/s]"
     ]
    },
    {
     "name": "stdout",
     "output_type": "stream",
     "text": [
      "/bigdata/f_mnist/logs/garipov/decomposed/1647973110/gar-lr-[6]-cp-0.1-dTrue-iNone_bn_128_sgd_l0.0001_g0.0_sTrue\n"
     ]
    },
    {
     "name": "stderr",
     "output_type": "stream",
     "text": [
      "100%|██████████| 20/20 [00:00<00:00, 36.34it/s]\n",
      " 47%|████▋     | 118/250 [01:12<01:20,  1.63it/s]"
     ]
    },
    {
     "name": "stdout",
     "output_type": "stream",
     "text": [
      "/bigdata/f_mnist/logs/garipov/decomposed/1647969623/gar-lr-[8]-tucker-0.25-dTrue-iNone_bn_128_sgd_l0.0001_g0.0_sTrue\n"
     ]
    },
    {
     "name": "stderr",
     "output_type": "stream",
     "text": [
      "100%|██████████| 20/20 [00:00<00:00, 34.45it/s]\n",
      " 48%|████▊     | 119/250 [01:13<01:21,  1.61it/s]"
     ]
    },
    {
     "name": "stdout",
     "output_type": "stream",
     "text": [
      "/bigdata/f_mnist/logs/garipov/decomposed/1647976331/gar-lr-[2]-cp-0.5-dTrue-iNone_bn_128_sgd_l0.0001_g0.0_sTrue\n"
     ]
    },
    {
     "name": "stderr",
     "output_type": "stream",
     "text": [
      "100%|██████████| 20/20 [00:00<00:00, 38.44it/s]\n",
      " 48%|████▊     | 120/250 [01:14<01:18,  1.65it/s]"
     ]
    },
    {
     "name": "stdout",
     "output_type": "stream",
     "text": [
      "/bigdata/f_mnist/logs/garipov/decomposed/1647969438/gar-lr-[8]-tucker-0.1-dTrue-iNone_bn_128_sgd_l0.0001_g0.0_sTrue\n"
     ]
    },
    {
     "name": "stderr",
     "output_type": "stream",
     "text": [
      "100%|██████████| 20/20 [00:00<00:00, 38.11it/s]\n",
      " 48%|████▊     | 121/250 [01:14<01:17,  1.67it/s]"
     ]
    },
    {
     "name": "stdout",
     "output_type": "stream",
     "text": [
      "/bigdata/f_mnist/logs/garipov/decomposed/1647972176/gar-lr-[4]-cp-0.1-dTrue-iNone_bn_128_sgd_l0.0001_g0.0_sTrue\n"
     ]
    },
    {
     "name": "stderr",
     "output_type": "stream",
     "text": [
      "100%|██████████| 20/20 [00:00<00:00, 34.97it/s]\n",
      " 49%|████▉     | 122/250 [01:15<01:18,  1.63it/s]"
     ]
    },
    {
     "name": "stdout",
     "output_type": "stream",
     "text": [
      "/bigdata/f_mnist/logs/garipov/decomposed/1647971162/gar-lr-[10]-tucker-0.9-dTrue-iNone_bn_128_sgd_l0.0001_g0.0_sTrue\n"
     ]
    },
    {
     "name": "stderr",
     "output_type": "stream",
     "text": [
      "100%|██████████| 20/20 [00:00<00:00, 37.54it/s]\n",
      " 49%|████▉     | 123/250 [01:15<01:16,  1.66it/s]"
     ]
    },
    {
     "name": "stdout",
     "output_type": "stream",
     "text": [
      "/bigdata/f_mnist/logs/garipov/decomposed/1647962485/gar-lr-[2]-tucker-0.5-dTrue-iNone_bn_128_sgd_l0.0001_g0.0_sTrue\n"
     ]
    },
    {
     "name": "stderr",
     "output_type": "stream",
     "text": [
      "100%|██████████| 20/20 [00:00<00:00, 37.01it/s]\n",
      " 50%|████▉     | 124/250 [01:16<01:16,  1.65it/s]"
     ]
    },
    {
     "name": "stdout",
     "output_type": "stream",
     "text": [
      "/bigdata/f_mnist/logs/garipov/decomposed/1647970665/gar-lr-[10]-cp-0.5-dTrue-iNone_bn_128_sgd_l0.0001_g0.0_sTrue\n"
     ]
    },
    {
     "name": "stderr",
     "output_type": "stream",
     "text": [
      "100%|██████████| 20/20 [00:00<00:00, 34.09it/s]\n",
      " 50%|█████     | 125/250 [01:17<01:17,  1.60it/s]"
     ]
    },
    {
     "name": "stdout",
     "output_type": "stream",
     "text": [
      "/bigdata/f_mnist/logs/garipov/decomposed/1647968951/gar-lr-[6]-cp-0.75-dTrue-iNone_bn_128_sgd_l0.0001_g0.0_sTrue\n"
     ]
    },
    {
     "name": "stderr",
     "output_type": "stream",
     "text": [
      "100%|██████████| 20/20 [00:00<00:00, 36.41it/s]\n",
      " 50%|█████     | 126/250 [01:17<01:18,  1.57it/s]"
     ]
    },
    {
     "name": "stdout",
     "output_type": "stream",
     "text": [
      "/bigdata/f_mnist/logs/garipov/decomposed/1647967642/gar-lr-[4]-cp-0.25-dTrue-iNone_bn_128_sgd_l0.0001_g0.0_sTrue\n"
     ]
    },
    {
     "name": "stderr",
     "output_type": "stream",
     "text": [
      "100%|██████████| 20/20 [00:00<00:00, 35.56it/s]\n",
      " 51%|█████     | 127/250 [01:18<01:18,  1.56it/s]"
     ]
    },
    {
     "name": "stdout",
     "output_type": "stream",
     "text": [
      "/bigdata/f_mnist/logs/garipov/decomposed/1647975969/gar-lr-[2]-cp-0.1-dTrue-iNone_bn_128_sgd_l0.0001_g0.0_sTrue\n"
     ]
    },
    {
     "name": "stderr",
     "output_type": "stream",
     "text": [
      "100%|██████████| 20/20 [00:00<00:00, 37.41it/s]\n",
      " 51%|█████     | 128/250 [01:19<01:16,  1.59it/s]"
     ]
    },
    {
     "name": "stdout",
     "output_type": "stream",
     "text": [
      "/bigdata/f_mnist/logs/garipov/decomposed/1647977635/gar-lr-[4]-cp-0.9-dTrue-iNone_bn_128_sgd_l0.0001_g0.0_sTrue\n"
     ]
    },
    {
     "name": "stderr",
     "output_type": "stream",
     "text": [
      "100%|██████████| 20/20 [00:00<00:00, 37.23it/s]\n",
      " 52%|█████▏    | 129/250 [01:19<01:14,  1.62it/s]"
     ]
    },
    {
     "name": "stdout",
     "output_type": "stream",
     "text": [
      "/bigdata/f_mnist/logs/garipov/decomposed/1647981332/gar-lr-[2]-tucker-0.75-dTrue-iNone_bn_128_sgd_l0.0001_g0.0_sTrue\n"
     ]
    },
    {
     "name": "stderr",
     "output_type": "stream",
     "text": [
      "100%|██████████| 20/20 [00:00<00:00, 35.12it/s]\n",
      " 52%|█████▏    | 130/250 [01:20<01:14,  1.61it/s]"
     ]
    },
    {
     "name": "stdout",
     "output_type": "stream",
     "text": [
      "/bigdata/f_mnist/logs/garipov/decomposed/1647983965/gar-lr-[8]-tucker-0.5-dTrue-iNone_bn_128_sgd_l0.0001_g0.0_sTrue\n"
     ]
    },
    {
     "name": "stderr",
     "output_type": "stream",
     "text": [
      "100%|██████████| 20/20 [00:00<00:00, 36.09it/s]\n",
      " 52%|█████▏    | 131/250 [01:21<01:13,  1.61it/s]"
     ]
    },
    {
     "name": "stdout",
     "output_type": "stream",
     "text": [
      "/bigdata/f_mnist/logs/garipov/decomposed/1647968011/gar-lr-[4]-cp-0.75-dTrue-iNone_bn_128_sgd_l0.0001_g0.0_sTrue\n"
     ]
    },
    {
     "name": "stderr",
     "output_type": "stream",
     "text": [
      "100%|██████████| 20/20 [00:00<00:00, 36.62it/s]\n",
      " 53%|█████▎    | 132/250 [01:21<01:12,  1.62it/s]"
     ]
    },
    {
     "name": "stdout",
     "output_type": "stream",
     "text": [
      "/bigdata/f_mnist/logs/garipov/decomposed/1647983297/gar-lr-[6]-cp-0.9-dTrue-iNone_bn_128_sgd_l0.0001_g0.0_sTrue\n"
     ]
    },
    {
     "name": "stderr",
     "output_type": "stream",
     "text": [
      "100%|██████████| 20/20 [00:00<00:00, 37.89it/s]\n",
      " 53%|█████▎    | 133/250 [01:22<01:11,  1.63it/s]"
     ]
    },
    {
     "name": "stdout",
     "output_type": "stream",
     "text": [
      "/bigdata/f_mnist/logs/garipov/decomposed/1647972727/gar-lr-[4]-cp-0.75-dTrue-iNone_bn_128_sgd_l0.0001_g0.0_sTrue\n"
     ]
    },
    {
     "name": "stderr",
     "output_type": "stream",
     "text": [
      "100%|██████████| 20/20 [00:00<00:00, 37.66it/s]\n",
      " 54%|█████▎    | 134/250 [01:22<01:10,  1.64it/s]"
     ]
    },
    {
     "name": "stdout",
     "output_type": "stream",
     "text": [
      "/bigdata/f_mnist/logs/garipov/decomposed/1647976804/gar-lr-[2]-tucker-0.9-dTrue-iNone_bn_128_sgd_l0.0001_g0.0_sTrue\n"
     ]
    },
    {
     "name": "stderr",
     "output_type": "stream",
     "text": [
      "100%|██████████| 20/20 [00:00<00:00, 38.37it/s]\n",
      " 54%|█████▍    | 135/250 [01:23<01:09,  1.66it/s]"
     ]
    },
    {
     "name": "stdout",
     "output_type": "stream",
     "text": [
      "/bigdata/f_mnist/logs/garipov/decomposed/1647962666/gar-lr-[2]-tucker-0.75-dTrue-iNone_bn_128_sgd_l0.0001_g0.0_sTrue\n"
     ]
    },
    {
     "name": "stderr",
     "output_type": "stream",
     "text": [
      "100%|██████████| 20/20 [00:00<00:00, 36.31it/s]\n",
      " 54%|█████▍    | 136/250 [01:24<01:09,  1.64it/s]"
     ]
    },
    {
     "name": "stdout",
     "output_type": "stream",
     "text": [
      "/bigdata/f_mnist/logs/garipov/decomposed/1647968395/gar-lr-[6]-cp-0.1-dTrue-iNone_bn_128_sgd_l0.0001_g0.0_sTrue\n"
     ]
    },
    {
     "name": "stderr",
     "output_type": "stream",
     "text": [
      "100%|██████████| 20/20 [00:00<00:00, 36.58it/s]\n",
      " 55%|█████▍    | 137/250 [01:24<01:08,  1.64it/s]"
     ]
    },
    {
     "name": "stdout",
     "output_type": "stream",
     "text": [
      "/bigdata/f_mnist/logs/garipov/decomposed/1647983864/gar-lr-[8]-cp-0.5-dTrue-iNone_bn_128_sgd_l0.0001_g0.0_sTrue\n"
     ]
    },
    {
     "name": "stderr",
     "output_type": "stream",
     "text": [
      "100%|██████████| 20/20 [00:00<00:00, 37.08it/s]\n",
      " 55%|█████▌    | 138/250 [01:25<01:07,  1.65it/s]"
     ]
    },
    {
     "name": "stdout",
     "output_type": "stream",
     "text": [
      "/bigdata/f_mnist/logs/garipov/decomposed/1647976894/gar-lr-[4]-cp-0.1-dTrue-iNone_bn_128_sgd_l0.0001_g0.0_sTrue\n"
     ]
    },
    {
     "name": "stderr",
     "output_type": "stream",
     "text": [
      "100%|██████████| 20/20 [00:00<00:00, 34.95it/s]\n",
      " 56%|█████▌    | 139/250 [01:25<01:08,  1.62it/s]"
     ]
    },
    {
     "name": "stdout",
     "output_type": "stream",
     "text": [
      "/bigdata/f_mnist/logs/garipov/decomposed/1647967276/gar-lr-[2]-cp-0.9-dTrue-iNone_bn_128_sgd_l0.0001_g0.0_sTrue\n"
     ]
    },
    {
     "name": "stderr",
     "output_type": "stream",
     "text": [
      "100%|██████████| 20/20 [00:00<00:00, 38.03it/s]\n",
      " 56%|█████▌    | 140/250 [01:26<01:07,  1.63it/s]"
     ]
    },
    {
     "name": "stdout",
     "output_type": "stream",
     "text": [
      "/bigdata/f_mnist/logs/garipov/decomposed/1647973202/gar-lr-[6]-tucker-0.1-dTrue-iNone_bn_128_sgd_l0.0001_g0.0_sTrue\n"
     ]
    },
    {
     "name": "stderr",
     "output_type": "stream",
     "text": [
      "100%|██████████| 20/20 [00:00<00:00, 37.66it/s]\n",
      " 56%|█████▋    | 141/250 [01:27<01:05,  1.66it/s]"
     ]
    },
    {
     "name": "stdout",
     "output_type": "stream",
     "text": [
      "/bigdata/f_mnist/logs/garipov/decomposed/1647976059/gar-lr-[2]-tucker-0.1-dTrue-iNone_bn_128_sgd_l0.0001_g0.0_sTrue\n"
     ]
    },
    {
     "name": "stderr",
     "output_type": "stream",
     "text": [
      "100%|██████████| 20/20 [00:00<00:00, 35.37it/s]\n",
      " 57%|█████▋    | 142/250 [01:27<01:05,  1.65it/s]"
     ]
    },
    {
     "name": "stdout",
     "output_type": "stream",
     "text": [
      "/bigdata/f_mnist/logs/garipov/decomposed/1647973388/gar-lr-[6]-tucker-0.25-dTrue-iNone_bn_128_sgd_l0.0001_g0.0_sTrue\n"
     ]
    },
    {
     "name": "stderr",
     "output_type": "stream",
     "text": [
      "100%|██████████| 20/20 [00:00<00:00, 34.66it/s]\n",
      " 57%|█████▋    | 143/250 [01:28<01:06,  1.62it/s]"
     ]
    },
    {
     "name": "stdout",
     "output_type": "stream",
     "text": [
      "/bigdata/f_mnist/logs/garipov/decomposed/1647973580/gar-lr-[6]-tucker-0.5-dTrue-iNone_bn_128_sgd_l0.0001_g0.0_sTrue\n"
     ]
    },
    {
     "name": "stderr",
     "output_type": "stream",
     "text": [
      "100%|██████████| 20/20 [00:00<00:00, 35.97it/s]\n",
      " 58%|█████▊    | 144/250 [01:28<01:06,  1.59it/s]"
     ]
    },
    {
     "name": "stdout",
     "output_type": "stream",
     "text": [
      "/bigdata/f_mnist/logs/garipov/decomposed/1647977167/gar-lr-[4]-tucker-0.25-dTrue-iNone_bn_128_sgd_l0.0001_g0.0_sTrue\n"
     ]
    },
    {
     "name": "stderr",
     "output_type": "stream",
     "text": [
      "100%|██████████| 20/20 [00:00<00:00, 37.47it/s]\n",
      " 58%|█████▊    | 145/250 [01:29<01:05,  1.60it/s]"
     ]
    },
    {
     "name": "stdout",
     "output_type": "stream",
     "text": [
      "/bigdata/f_mnist/logs/garipov/decomposed/1647983407/gar-lr-[6]-tucker-0.9-dTrue-iNone_bn_128_sgd_l0.0001_g0.0_sTrue\n"
     ]
    },
    {
     "name": "stderr",
     "output_type": "stream",
     "text": [
      "100%|██████████| 20/20 [00:00<00:00, 38.59it/s]\n",
      " 58%|█████▊    | 146/250 [01:30<01:03,  1.64it/s]"
     ]
    },
    {
     "name": "stdout",
     "output_type": "stream",
     "text": [
      "/bigdata/f_mnist/logs/garipov/decomposed/1647970209/gar-lr-[8]-tucker-0.9-dTrue-iNone_bn_128_sgd_l0.0001_g0.0_sTrue\n"
     ]
    },
    {
     "name": "stderr",
     "output_type": "stream",
     "text": [
      "100%|██████████| 20/20 [00:00<00:00, 37.20it/s]\n",
      " 59%|█████▉    | 147/250 [01:30<01:02,  1.65it/s]"
     ]
    },
    {
     "name": "stdout",
     "output_type": "stream",
     "text": [
      "/bigdata/f_mnist/logs/garipov/decomposed/1647963197/gar-lr-[4]-tucker-0.25-dTrue-iNone_bn_128_sgd_l0.0001_g0.0_sTrue\n"
     ]
    },
    {
     "name": "stderr",
     "output_type": "stream",
     "text": [
      "100%|██████████| 20/20 [00:00<00:00, 36.90it/s]\n",
      " 59%|█████▉    | 148/250 [01:31<01:02,  1.63it/s]"
     ]
    },
    {
     "name": "stdout",
     "output_type": "stream",
     "text": [
      "/bigdata/f_mnist/logs/garipov/decomposed/1647964555/gar-lr-[6]-cp-0.9-dTrue-iNone_bn_128_sgd_l0.0001_g0.0_sTrue\n"
     ]
    },
    {
     "name": "stderr",
     "output_type": "stream",
     "text": [
      "100%|██████████| 20/20 [00:00<00:00, 34.05it/s]\n",
      " 60%|█████▉    | 149/250 [01:32<01:03,  1.58it/s]"
     ]
    },
    {
     "name": "stdout",
     "output_type": "stream",
     "text": [
      "/bigdata/f_mnist/logs/garipov/decomposed/1647962572/gar-lr-[2]-cp-0.75-dTrue-iNone_bn_128_sgd_l0.0001_g0.0_sTrue\n"
     ]
    },
    {
     "name": "stderr",
     "output_type": "stream",
     "text": [
      "100%|██████████| 20/20 [00:00<00:00, 37.15it/s]\n",
      " 60%|██████    | 150/250 [01:32<01:03,  1.58it/s]"
     ]
    },
    {
     "name": "stdout",
     "output_type": "stream",
     "text": [
      "/bigdata/f_mnist/logs/garipov/decomposed/1647971986/gar-lr-[2]-cp-0.9-dTrue-iNone_bn_128_sgd_l0.0001_g0.0_sTrue\n"
     ]
    },
    {
     "name": "stderr",
     "output_type": "stream",
     "text": [
      "100%|██████████| 20/20 [00:00<00:00, 38.47it/s]\n",
      " 60%|██████    | 151/250 [01:33<01:01,  1.61it/s]"
     ]
    },
    {
     "name": "stdout",
     "output_type": "stream",
     "text": [
      "/bigdata/f_mnist/logs/garipov/decomposed/1647970856/gar-lr-[10]-cp-0.75-dTrue-iNone_bn_128_sgd_l0.0001_g0.0_sTrue\n"
     ]
    },
    {
     "name": "stderr",
     "output_type": "stream",
     "text": [
      "100%|██████████| 20/20 [00:00<00:00, 35.89it/s]\n",
      " 61%|██████    | 152/250 [01:33<01:00,  1.62it/s]"
     ]
    },
    {
     "name": "stdout",
     "output_type": "stream",
     "text": [
      "/bigdata/f_mnist/logs/garipov/decomposed/1647973976/gar-lr-[6]-tucker-0.9-dTrue-iNone_bn_128_sgd_l0.0001_g0.0_sTrue\n"
     ]
    },
    {
     "name": "stderr",
     "output_type": "stream",
     "text": [
      "100%|██████████| 20/20 [00:00<00:00, 37.13it/s]\n",
      " 61%|██████    | 153/250 [01:34<00:59,  1.63it/s]"
     ]
    },
    {
     "name": "stdout",
     "output_type": "stream",
     "text": [
      "/bigdata/f_mnist/logs/garipov/decomposed/1647962752/gar-lr-[2]-cp-0.9-dTrue-iNone_bn_128_sgd_l0.0001_g0.0_sTrue\n"
     ]
    },
    {
     "name": "stderr",
     "output_type": "stream",
     "text": [
      "100%|██████████| 20/20 [00:00<00:00, 35.52it/s]\n",
      " 62%|██████▏   | 154/250 [01:35<00:58,  1.64it/s]"
     ]
    },
    {
     "name": "stdout",
     "output_type": "stream",
     "text": [
      "/bigdata/f_mnist/logs/garipov/decomposed/1647980202/gar-lr-[10]-tucker-0.5-dTrue-iNone_bn_128_sgd_l0.0001_g0.0_sTrue\n"
     ]
    },
    {
     "name": "stderr",
     "output_type": "stream",
     "text": [
      "100%|██████████| 20/20 [00:00<00:00, 34.94it/s]\n",
      " 62%|██████▏   | 155/250 [01:35<00:59,  1.59it/s]"
     ]
    },
    {
     "name": "stdout",
     "output_type": "stream",
     "text": [
      "/bigdata/f_mnist/logs/garipov/decomposed/1647976516/gar-lr-[2]-cp-0.75-dTrue-iNone_bn_128_sgd_l0.0001_g0.0_sTrue\n"
     ]
    },
    {
     "name": "stderr",
     "output_type": "stream",
     "text": [
      "100%|██████████| 20/20 [00:00<00:00, 36.08it/s]\n",
      " 62%|██████▏   | 156/250 [01:36<00:58,  1.60it/s]"
     ]
    },
    {
     "name": "stdout",
     "output_type": "stream",
     "text": [
      "/bigdata/f_mnist/logs/garipov/decomposed/1647968112/gar-lr-[4]-tucker-0.75-dTrue-iNone_bn_128_sgd_l0.0001_g0.0_sTrue\n"
     ]
    },
    {
     "name": "stderr",
     "output_type": "stream",
     "text": [
      "100%|██████████| 20/20 [00:00<00:00, 38.93it/s]\n",
      " 63%|██████▎   | 157/250 [01:37<00:56,  1.64it/s]"
     ]
    },
    {
     "name": "stdout",
     "output_type": "stream",
     "text": [
      "/bigdata/f_mnist/logs/garipov/decomposed/1647964006/gar-lr-[6]-cp-0.25-dTrue-iNone_bn_128_sgd_l0.0001_g0.0_sTrue\n"
     ]
    },
    {
     "name": "stderr",
     "output_type": "stream",
     "text": [
      "100%|██████████| 20/20 [00:00<00:00, 35.67it/s]\n",
      " 63%|██████▎   | 158/250 [01:37<00:55,  1.64it/s]"
     ]
    },
    {
     "name": "stdout",
     "output_type": "stream",
     "text": [
      "/bigdata/f_mnist/logs/garipov/decomposed/1647981610/gar-lr-[4]-cp-0.1-dTrue-iNone_bn_128_sgd_l0.0001_g0.0_sTrue\n"
     ]
    },
    {
     "name": "stderr",
     "output_type": "stream",
     "text": [
      "100%|██████████| 20/20 [00:00<00:00, 34.31it/s]\n",
      " 64%|██████▎   | 159/250 [01:38<00:56,  1.62it/s]"
     ]
    },
    {
     "name": "stdout",
     "output_type": "stream",
     "text": [
      "/bigdata/f_mnist/logs/garipov/decomposed/1647977074/gar-lr-[4]-cp-0.25-dTrue-iNone_bn_128_sgd_l0.0001_g0.0_sTrue\n"
     ]
    },
    {
     "name": "stderr",
     "output_type": "stream",
     "text": [
      "100%|██████████| 20/20 [00:00<00:00, 37.17it/s]\n",
      " 64%|██████▍   | 160/250 [01:38<00:54,  1.64it/s]"
     ]
    },
    {
     "name": "stdout",
     "output_type": "stream",
     "text": [
      "/bigdata/f_mnist/logs/garipov/decomposed/1647977354/gar-lr-[4]-tucker-0.5-dTrue-iNone_bn_128_sgd_l0.0001_g0.0_sTrue\n"
     ]
    },
    {
     "name": "stderr",
     "output_type": "stream",
     "text": [
      "100%|██████████| 20/20 [00:00<00:00, 35.98it/s]\n",
      " 64%|██████▍   | 161/250 [01:39<00:54,  1.63it/s]"
     ]
    },
    {
     "name": "stdout",
     "output_type": "stream",
     "text": [
      "/bigdata/f_mnist/logs/garipov/decomposed/1647981701/gar-lr-[4]-tucker-0.1-dTrue-iNone_bn_128_sgd_l0.0001_g0.0_sTrue\n"
     ]
    },
    {
     "name": "stderr",
     "output_type": "stream",
     "text": [
      "100%|██████████| 20/20 [00:00<00:00, 36.18it/s]\n",
      " 65%|██████▍   | 162/250 [01:40<00:55,  1.60it/s]"
     ]
    },
    {
     "name": "stdout",
     "output_type": "stream",
     "text": [
      "/bigdata/f_mnist/logs/garipov/decomposed/1647985008/gar-lr-[10]-cp-0.75-dTrue-iNone_bn_128_sgd_l0.0001_g0.0_sTrue\n"
     ]
    },
    {
     "name": "stderr",
     "output_type": "stream",
     "text": [
      "100%|██████████| 20/20 [00:00<00:00, 38.10it/s]\n",
      " 65%|██████▌   | 163/250 [01:40<00:54,  1.61it/s]"
     ]
    },
    {
     "name": "stdout",
     "output_type": "stream",
     "text": [
      "/bigdata/f_mnist/logs/garipov/decomposed/1647962933/gar-lr-[4]-cp-0.1-dTrue-iNone_bn_128_sgd_l0.0001_g0.0_sTrue\n"
     ]
    },
    {
     "name": "stderr",
     "output_type": "stream",
     "text": [
      "100%|██████████| 20/20 [00:00<00:00, 39.09it/s]\n",
      " 66%|██████▌   | 164/250 [01:41<00:52,  1.62it/s]"
     ]
    },
    {
     "name": "stdout",
     "output_type": "stream",
     "text": [
      "/bigdata/f_mnist/logs/garipov/decomposed/1647980398/gar-lr-[10]-tucker-0.75-dTrue-iNone_bn_128_sgd_l0.0001_g0.0_sTrue\n"
     ]
    },
    {
     "name": "stderr",
     "output_type": "stream",
     "text": [
      "100%|██████████| 20/20 [00:00<00:00, 37.17it/s]\n",
      " 66%|██████▌   | 165/250 [01:41<00:52,  1.62it/s]"
     ]
    },
    {
     "name": "stdout",
     "output_type": "stream",
     "text": [
      "/bigdata/f_mnist/logs/garipov/decomposed/1647969714/gar-lr-[8]-cp-0.5-dTrue-iNone_bn_128_sgd_l0.0001_g0.0_sTrue\n"
     ]
    },
    {
     "name": "stderr",
     "output_type": "stream",
     "text": [
      "100%|██████████| 20/20 [00:00<00:00, 34.67it/s]\n",
      " 66%|██████▋   | 166/250 [01:42<00:52,  1.61it/s]"
     ]
    },
    {
     "name": "stdout",
     "output_type": "stream",
     "text": [
      "/bigdata/f_mnist/logs/garipov/decomposed/1647983679/gar-lr-[8]-cp-0.25-dTrue-iNone_bn_128_sgd_l0.0001_g0.0_sTrue\n"
     ]
    },
    {
     "name": "stderr",
     "output_type": "stream",
     "text": [
      "100%|██████████| 20/20 [00:00<00:00, 37.43it/s]\n",
      " 67%|██████▋   | 167/250 [01:43<00:50,  1.63it/s]"
     ]
    },
    {
     "name": "stdout",
     "output_type": "stream",
     "text": [
      "/bigdata/f_mnist/logs/garipov/decomposed/1647971252/gar-lr-[2]-cp-0.1-dTrue-iNone_bn_128_sgd_l0.0001_g0.0_sTrue\n"
     ]
    },
    {
     "name": "stderr",
     "output_type": "stream",
     "text": [
      "100%|██████████| 20/20 [00:00<00:00, 38.92it/s]\n",
      " 67%|██████▋   | 168/250 [01:43<00:49,  1.67it/s]"
     ]
    },
    {
     "name": "stdout",
     "output_type": "stream",
     "text": [
      "/bigdata/f_mnist/logs/garipov/decomposed/1647969347/gar-lr-[8]-cp-0.1-dTrue-iNone_bn_128_sgd_l0.0001_g0.0_sTrue\n"
     ]
    },
    {
     "name": "stderr",
     "output_type": "stream",
     "text": [
      "100%|██████████| 20/20 [00:00<00:00, 34.68it/s]\n",
      " 68%|██████▊   | 169/250 [01:44<00:49,  1.64it/s]"
     ]
    },
    {
     "name": "stdout",
     "output_type": "stream",
     "text": [
      "/bigdata/f_mnist/logs/garipov/decomposed/1647963648/gar-lr-[4]-cp-0.9-dTrue-iNone_bn_128_sgd_l0.0001_g0.0_sTrue\n"
     ]
    },
    {
     "name": "stderr",
     "output_type": "stream",
     "text": [
      "100%|██████████| 20/20 [00:00<00:00, 37.38it/s]\n",
      " 68%|██████▊   | 170/250 [01:44<00:48,  1.64it/s]"
     ]
    },
    {
     "name": "stdout",
     "output_type": "stream",
     "text": [
      "/bigdata/f_mnist/logs/garipov/decomposed/1647968576/gar-lr-[6]-cp-0.25-dTrue-iNone_bn_128_sgd_l0.0001_g0.0_sTrue\n"
     ]
    },
    {
     "name": "stderr",
     "output_type": "stream",
     "text": [
      "100%|██████████| 20/20 [00:00<00:00, 36.20it/s]\n",
      " 68%|██████▊   | 171/250 [01:45<00:49,  1.58it/s]"
     ]
    },
    {
     "name": "stdout",
     "output_type": "stream",
     "text": [
      "/bigdata/f_mnist/logs/garipov/decomposed/1647979736/gar-lr-[10]-cp-0.1-dTrue-iNone_bn_128_sgd_l0.0001_g0.0_sTrue\n"
     ]
    },
    {
     "name": "stderr",
     "output_type": "stream",
     "text": [
      "100%|██████████| 20/20 [00:00<00:00, 35.78it/s]\n",
      " 69%|██████▉   | 172/250 [01:46<00:49,  1.57it/s]"
     ]
    },
    {
     "name": "stdout",
     "output_type": "stream",
     "text": [
      "/bigdata/f_mnist/logs/garipov/decomposed/1647974532/gar-lr-[8]-tucker-0.5-dTrue-iNone_bn_128_sgd_l0.0001_g0.0_sTrue\n"
     ]
    },
    {
     "name": "stderr",
     "output_type": "stream",
     "text": [
      "100%|██████████| 20/20 [00:00<00:00, 37.76it/s]\n",
      " 69%|██████▉   | 173/250 [01:46<00:48,  1.60it/s]"
     ]
    },
    {
     "name": "stdout",
     "output_type": "stream",
     "text": [
      "/bigdata/f_mnist/logs/garipov/decomposed/1647972357/gar-lr-[4]-cp-0.25-dTrue-iNone_bn_128_sgd_l0.0001_g0.0_sTrue\n"
     ]
    },
    {
     "name": "stderr",
     "output_type": "stream",
     "text": [
      "100%|██████████| 20/20 [00:00<00:00, 37.46it/s]\n",
      " 70%|██████▉   | 174/250 [01:47<00:46,  1.63it/s]"
     ]
    },
    {
     "name": "stdout",
     "output_type": "stream",
     "text": [
      "/bigdata/f_mnist/logs/garipov/decomposed/1647978105/gar-lr-[6]-tucker-0.25-dTrue-iNone_bn_128_sgd_l0.0001_g0.0_sTrue\n"
     ]
    },
    {
     "name": "stderr",
     "output_type": "stream",
     "text": [
      "100%|██████████| 20/20 [00:00<00:00, 37.08it/s]\n",
      " 70%|███████   | 175/250 [01:48<00:45,  1.63it/s]"
     ]
    },
    {
     "name": "stdout",
     "output_type": "stream",
     "text": [
      "/bigdata/f_mnist/logs/garipov/decomposed/1647964922/gar-lr-[8]-cp-0.25-dTrue-iNone_bn_128_sgd_l0.0001_g0.0_sTrue\n"
     ]
    },
    {
     "name": "stderr",
     "output_type": "stream",
     "text": [
      "100%|██████████| 20/20 [00:00<00:00, 36.16it/s]\n",
      " 70%|███████   | 176/250 [01:48<00:45,  1.63it/s]"
     ]
    },
    {
     "name": "stdout",
     "output_type": "stream",
     "text": [
      "/bigdata/f_mnist/logs/garipov/decomposed/1647984918/gar-lr-[10]-tucker-0.5-dTrue-iNone_bn_128_sgd_l0.0001_g0.0_sTrue\n"
     ]
    },
    {
     "name": "stderr",
     "output_type": "stream",
     "text": [
      "100%|██████████| 20/20 [00:00<00:00, 37.47it/s]\n",
      " 71%|███████   | 177/250 [01:49<00:44,  1.64it/s]"
     ]
    },
    {
     "name": "stdout",
     "output_type": "stream",
     "text": [
      "/bigdata/f_mnist/logs/garipov/decomposed/1647962394/gar-lr-[2]-cp-0.5-dTrue-iNone_bn_128_sgd_l0.0001_g0.0_sTrue\n"
     ]
    },
    {
     "name": "stderr",
     "output_type": "stream",
     "text": [
      "100%|██████████| 20/20 [00:00<00:00, 35.61it/s]\n",
      " 71%|███████   | 178/250 [01:49<00:44,  1.62it/s]"
     ]
    },
    {
     "name": "stdout",
     "output_type": "stream",
     "text": [
      "/bigdata/f_mnist/logs/garipov/decomposed/1647977257/gar-lr-[4]-cp-0.5-dTrue-iNone_bn_128_sgd_l0.0001_g0.0_sTrue\n"
     ]
    },
    {
     "name": "stderr",
     "output_type": "stream",
     "text": [
      "100%|██████████| 20/20 [00:00<00:00, 35.34it/s]\n",
      " 72%|███████▏  | 179/250 [01:50<00:44,  1.60it/s]"
     ]
    },
    {
     "name": "stdout",
     "output_type": "stream",
     "text": [
      "/bigdata/f_mnist/logs/garipov/decomposed/1647984251/gar-lr-[8]-cp-0.9-dTrue-iNone_bn_128_sgd_l0.0001_g0.0_sTrue\n"
     ]
    },
    {
     "name": "stderr",
     "output_type": "stream",
     "text": [
      "100%|██████████| 20/20 [00:00<00:00, 36.44it/s]\n",
      " 72%|███████▏  | 180/250 [01:51<00:43,  1.60it/s]"
     ]
    },
    {
     "name": "stdout",
     "output_type": "stream",
     "text": [
      "/bigdata/f_mnist/logs/garipov/decomposed/1647979340/gar-lr-[8]-cp-0.75-dTrue-iNone_bn_128_sgd_l0.0001_g0.0_sTrue\n"
     ]
    },
    {
     "name": "stderr",
     "output_type": "stream",
     "text": [
      "100%|██████████| 20/20 [00:00<00:00, 34.44it/s]\n",
      " 72%|███████▏  | 181/250 [01:51<00:43,  1.59it/s]"
     ]
    },
    {
     "name": "stdout",
     "output_type": "stream",
     "text": [
      "/bigdata/f_mnist/logs/garipov/decomposed/1647971798/gar-lr-[2]-cp-0.75-dTrue-iNone_bn_128_sgd_l0.0001_g0.0_sTrue\n"
     ]
    },
    {
     "name": "stderr",
     "output_type": "stream",
     "text": [
      "100%|██████████| 20/20 [00:00<00:00, 36.28it/s]\n",
      " 73%|███████▎  | 182/250 [01:52<00:42,  1.61it/s]"
     ]
    },
    {
     "name": "stdout",
     "output_type": "stream",
     "text": [
      "/bigdata/f_mnist/logs/garipov/decomposed/1647972828/gar-lr-[4]-tucker-0.75-dTrue-iNone_bn_128_sgd_l0.0001_g0.0_sTrue\n"
     ]
    },
    {
     "name": "stderr",
     "output_type": "stream",
     "text": [
      "100%|██████████| 20/20 [00:00<00:00, 35.09it/s]\n",
      " 73%|███████▎  | 183/250 [01:53<00:41,  1.60it/s]"
     ]
    },
    {
     "name": "stdout",
     "output_type": "stream",
     "text": [
      "/bigdata/f_mnist/logs/garipov/decomposed/1647974157/gar-lr-[8]-tucker-0.1-dTrue-iNone_bn_128_sgd_l0.0001_g0.0_sTrue\n"
     ]
    },
    {
     "name": "stderr",
     "output_type": "stream",
     "text": [
      "100%|██████████| 20/20 [00:00<00:00, 38.49it/s]\n",
      " 74%|███████▎  | 184/250 [01:53<00:39,  1.66it/s]"
     ]
    },
    {
     "name": "stdout",
     "output_type": "stream",
     "text": [
      "/bigdata/f_mnist/logs/garipov/decomposed/1647980598/gar-lr-[10]-tucker-0.9-dTrue-iNone_bn_128_sgd_l0.0001_g0.0_sTrue\n"
     ]
    },
    {
     "name": "stderr",
     "output_type": "stream",
     "text": [
      "100%|██████████| 20/20 [00:00<00:00, 35.04it/s]\n",
      " 74%|███████▍  | 185/250 [01:54<00:39,  1.64it/s]"
     ]
    },
    {
     "name": "stdout",
     "output_type": "stream",
     "text": [
      "/bigdata/f_mnist/logs/garipov/decomposed/1647963021/gar-lr-[4]-tucker-0.1-dTrue-iNone_bn_128_sgd_l0.0001_g0.0_sTrue\n"
     ]
    },
    {
     "name": "stderr",
     "output_type": "stream",
     "text": [
      "100%|██████████| 20/20 [00:00<00:00, 36.72it/s]\n",
      " 74%|███████▍  | 186/250 [01:54<00:39,  1.64it/s]"
     ]
    },
    {
     "name": "stdout",
     "output_type": "stream",
     "text": [
      "/bigdata/f_mnist/logs/garipov/decomposed/1647969147/gar-lr-[6]-cp-0.9-dTrue-iNone_bn_128_sgd_l0.0001_g0.0_sTrue\n"
     ]
    },
    {
     "name": "stderr",
     "output_type": "stream",
     "text": [
      "100%|██████████| 20/20 [00:00<00:00, 35.52it/s]\n",
      " 75%|███████▍  | 187/250 [01:55<00:39,  1.60it/s]"
     ]
    },
    {
     "name": "stdout",
     "output_type": "stream",
     "text": [
      "/bigdata/f_mnist/logs/garipov/decomposed/1647982636/gar-lr-[6]-tucker-0.1-dTrue-iNone_bn_128_sgd_l0.0001_g0.0_sTrue\n"
     ]
    },
    {
     "name": "stderr",
     "output_type": "stream",
     "text": [
      "100%|██████████| 20/20 [00:00<00:00, 37.67it/s]\n",
      " 75%|███████▌  | 188/250 [01:56<00:37,  1.63it/s]"
     ]
    },
    {
     "name": "stdout",
     "output_type": "stream",
     "text": [
      "/bigdata/f_mnist/logs/garipov/decomposed/1647970576/gar-lr-[10]-tucker-0.25-dTrue-iNone_bn_128_sgd_l0.0001_g0.0_sTrue\n"
     ]
    },
    {
     "name": "stderr",
     "output_type": "stream",
     "text": [
      "100%|██████████| 20/20 [00:00<00:00, 34.97it/s]\n",
      " 76%|███████▌  | 189/250 [01:56<00:38,  1.59it/s]"
     ]
    },
    {
     "name": "stdout",
     "output_type": "stream",
     "text": [
      "/bigdata/f_mnist/logs/garipov/decomposed/1647969814/gar-lr-[8]-tucker-0.5-dTrue-iNone_bn_128_sgd_l0.0001_g0.0_sTrue\n"
     ]
    },
    {
     "name": "stderr",
     "output_type": "stream",
     "text": [
      "100%|██████████| 20/20 [00:00<00:00, 36.42it/s]\n",
      " 76%|███████▌  | 190/250 [01:57<00:37,  1.60it/s]"
     ]
    },
    {
     "name": "stdout",
     "output_type": "stream",
     "text": [
      "/bigdata/f_mnist/logs/garipov/decomposed/1647966386/gar-lr-[10]-cp-0.9-dTrue-iNone_bn_128_sgd_l0.0001_g0.0_sTrue\n"
     ]
    },
    {
     "name": "stderr",
     "output_type": "stream",
     "text": [
      "100%|██████████| 20/20 [00:00<00:00, 33.24it/s]\n",
      " 76%|███████▋  | 191/250 [01:58<00:37,  1.57it/s]"
     ]
    },
    {
     "name": "stdout",
     "output_type": "stream",
     "text": [
      "/bigdata/f_mnist/logs/garipov/decomposed/1647976426/gar-lr-[2]-tucker-0.5-dTrue-iNone_bn_128_sgd_l0.0001_g0.0_sTrue\n"
     ]
    },
    {
     "name": "stderr",
     "output_type": "stream",
     "text": [
      "100%|██████████| 20/20 [00:00<00:00, 37.69it/s]\n",
      " 77%|███████▋  | 192/250 [01:58<00:36,  1.60it/s]"
     ]
    },
    {
     "name": "stdout",
     "output_type": "stream",
     "text": [
      "/bigdata/f_mnist/logs/garipov/decomposed/1647970299/gar-lr-[10]-cp-0.1-dTrue-iNone_bn_128_sgd_l0.0001_g0.0_sTrue\n"
     ]
    },
    {
     "name": "stderr",
     "output_type": "stream",
     "text": [
      "100%|██████████| 20/20 [00:00<00:00, 38.08it/s]\n",
      " 77%|███████▋  | 193/250 [01:59<00:35,  1.63it/s]"
     ]
    },
    {
     "name": "stdout",
     "output_type": "stream",
     "text": [
      "/bigdata/f_mnist/logs/garipov/decomposed/1647974247/gar-lr-[8]-cp-0.25-dTrue-iNone_bn_128_sgd_l0.0001_g0.0_sTrue\n"
     ]
    },
    {
     "name": "stderr",
     "output_type": "stream",
     "text": [
      "100%|██████████| 20/20 [00:00<00:00, 37.57it/s]\n",
      " 78%|███████▊  | 194/250 [01:59<00:34,  1.65it/s]"
     ]
    },
    {
     "name": "stdout",
     "output_type": "stream",
     "text": [
      "/bigdata/f_mnist/logs/garipov/decomposed/1647968861/gar-lr-[6]-tucker-0.5-dTrue-iNone_bn_128_sgd_l0.0001_g0.0_sTrue\n"
     ]
    },
    {
     "name": "stderr",
     "output_type": "stream",
     "text": [
      "100%|██████████| 20/20 [00:00<00:00, 36.99it/s]\n",
      " 78%|███████▊  | 195/250 [02:00<00:33,  1.65it/s]"
     ]
    },
    {
     "name": "stdout",
     "output_type": "stream",
     "text": [
      "/bigdata/f_mnist/logs/garipov/decomposed/1647983774/gar-lr-[8]-tucker-0.25-dTrue-iNone_bn_128_sgd_l0.0001_g0.0_sTrue\n"
     ]
    },
    {
     "name": "stderr",
     "output_type": "stream",
     "text": [
      "100%|██████████| 20/20 [00:00<00:00, 35.54it/s]\n",
      " 78%|███████▊  | 196/250 [02:01<00:33,  1.63it/s]"
     ]
    },
    {
     "name": "stdout",
     "output_type": "stream",
     "text": [
      "/bigdata/f_mnist/logs/garipov/decomposed/1647983012/gar-lr-[6]-tucker-0.5-dTrue-iNone_bn_128_sgd_l0.0001_g0.0_sTrue\n"
     ]
    },
    {
     "name": "stderr",
     "output_type": "stream",
     "text": [
      "100%|██████████| 20/20 [00:00<00:00, 36.84it/s]\n",
      " 79%|███████▉  | 197/250 [02:01<00:32,  1.62it/s]"
     ]
    },
    {
     "name": "stdout",
     "output_type": "stream",
     "text": [
      "/bigdata/f_mnist/logs/garipov/decomposed/1647973293/gar-lr-[6]-cp-0.25-dTrue-iNone_bn_128_sgd_l0.0001_g0.0_sTrue\n"
     ]
    },
    {
     "name": "stderr",
     "output_type": "stream",
     "text": [
      "100%|██████████| 20/20 [00:00<00:00, 35.35it/s]\n",
      " 79%|███████▉  | 198/250 [02:02<00:32,  1.61it/s]"
     ]
    },
    {
     "name": "stdout",
     "output_type": "stream",
     "text": [
      "/bigdata/f_mnist/logs/garipov/decomposed/1647983102/gar-lr-[6]-cp-0.75-dTrue-iNone_bn_128_sgd_l0.0001_g0.0_sTrue\n"
     ]
    },
    {
     "name": "stderr",
     "output_type": "stream",
     "text": [
      "100%|██████████| 20/20 [00:00<00:00, 37.75it/s]\n",
      " 80%|███████▉  | 199/250 [02:02<00:30,  1.66it/s]"
     ]
    },
    {
     "name": "stdout",
     "output_type": "stream",
     "text": [
      "/bigdata/f_mnist/logs/garipov/decomposed/1647979536/gar-lr-[8]-cp-0.9-dTrue-iNone_bn_128_sgd_l0.0001_g0.0_sTrue\n"
     ]
    },
    {
     "name": "stderr",
     "output_type": "stream",
     "text": [
      "100%|██████████| 20/20 [00:00<00:00, 36.05it/s]\n",
      " 80%|████████  | 200/250 [02:03<00:30,  1.65it/s]"
     ]
    },
    {
     "name": "stdout",
     "output_type": "stream",
     "text": [
      "/bigdata/f_mnist/logs/garipov/decomposed/1647965099/gar-lr-[8]-cp-0.5-dTrue-iNone_bn_128_sgd_l0.0001_g0.0_sTrue\n"
     ]
    },
    {
     "name": "stderr",
     "output_type": "stream",
     "text": [
      "100%|██████████| 20/20 [00:00<00:00, 33.19it/s]\n",
      " 80%|████████  | 201/250 [02:04<00:30,  1.60it/s]"
     ]
    },
    {
     "name": "stdout",
     "output_type": "stream",
     "text": [
      "/bigdata/f_mnist/logs/garipov/decomposed/1647982351/gar-lr-[4]-cp-0.9-dTrue-iNone_bn_128_sgd_l0.0001_g0.0_sTrue\n"
     ]
    },
    {
     "name": "stderr",
     "output_type": "stream",
     "text": [
      "100%|██████████| 20/20 [00:00<00:00, 35.17it/s]\n",
      " 81%|████████  | 202/250 [02:04<00:30,  1.60it/s]"
     ]
    },
    {
     "name": "stdout",
     "output_type": "stream",
     "text": [
      "/bigdata/f_mnist/logs/garipov/decomposed/1647967824/gar-lr-[4]-cp-0.5-dTrue-iNone_bn_128_sgd_l0.0001_g0.0_sTrue\n"
     ]
    },
    {
     "name": "stderr",
     "output_type": "stream",
     "text": [
      "100%|██████████| 20/20 [00:00<00:00, 34.12it/s]\n",
      " 81%|████████  | 203/250 [02:05<00:29,  1.58it/s]"
     ]
    },
    {
     "name": "stdout",
     "output_type": "stream",
     "text": [
      "/bigdata/f_mnist/logs/garipov/decomposed/1647975294/gar-lr-[10]-tucker-0.25-dTrue-iNone_bn_128_sgd_l0.0001_g0.0_sTrue\n"
     ]
    },
    {
     "name": "stderr",
     "output_type": "stream",
     "text": [
      "100%|██████████| 20/20 [00:00<00:00, 36.85it/s]\n",
      " 82%|████████▏ | 204/250 [02:06<00:28,  1.60it/s]"
     ]
    },
    {
     "name": "stdout",
     "output_type": "stream",
     "text": [
      "/bigdata/f_mnist/logs/garipov/decomposed/1647974622/gar-lr-[8]-cp-0.75-dTrue-iNone_bn_128_sgd_l0.0001_g0.0_sTrue\n"
     ]
    },
    {
     "name": "stderr",
     "output_type": "stream",
     "text": [
      "100%|██████████| 20/20 [00:00<00:00, 35.10it/s]\n",
      " 82%|████████▏ | 205/250 [02:06<00:28,  1.60it/s]"
     ]
    },
    {
     "name": "stdout",
     "output_type": "stream",
     "text": [
      "/bigdata/f_mnist/logs/garipov/decomposed/1647977444/gar-lr-[4]-cp-0.75-dTrue-iNone_bn_128_sgd_l0.0001_g0.0_sTrue\n"
     ]
    },
    {
     "name": "stderr",
     "output_type": "stream",
     "text": [
      "100%|██████████| 20/20 [00:00<00:00, 36.47it/s]\n",
      " 82%|████████▏ | 206/250 [02:07<00:27,  1.62it/s]"
     ]
    },
    {
     "name": "stdout",
     "output_type": "stream",
     "text": [
      "/bigdata/f_mnist/logs/garipov/decomposed/1647975484/gar-lr-[10]-tucker-0.5-dTrue-iNone_bn_128_sgd_l0.0001_g0.0_sTrue\n"
     ]
    },
    {
     "name": "stderr",
     "output_type": "stream",
     "text": [
      "100%|██████████| 20/20 [00:00<00:00, 34.85it/s]\n",
      " 83%|████████▎ | 207/250 [02:07<00:27,  1.59it/s]"
     ]
    },
    {
     "name": "stdout",
     "output_type": "stream",
     "text": [
      "/bigdata/f_mnist/logs/garipov/decomposed/1647983589/gar-lr-[8]-tucker-0.1-dTrue-iNone_bn_128_sgd_l0.0001_g0.0_sTrue\n"
     ]
    },
    {
     "name": "stderr",
     "output_type": "stream",
     "text": [
      "100%|██████████| 20/20 [00:00<00:00, 35.75it/s]\n",
      " 83%|████████▎ | 208/250 [02:08<00:26,  1.58it/s]"
     ]
    },
    {
     "name": "stdout",
     "output_type": "stream",
     "text": [
      "/bigdata/f_mnist/logs/garipov/decomposed/1647978196/gar-lr-[6]-cp-0.5-dTrue-iNone_bn_128_sgd_l0.0001_g0.0_sTrue\n"
     ]
    },
    {
     "name": "stderr",
     "output_type": "stream",
     "text": [
      "100%|██████████| 20/20 [00:00<00:00, 36.36it/s]\n",
      " 84%|████████▎ | 209/250 [02:09<00:25,  1.59it/s]"
     ]
    },
    {
     "name": "stdout",
     "output_type": "stream",
     "text": [
      "/bigdata/f_mnist/logs/garipov/decomposed/1647972267/gar-lr-[4]-tucker-0.1-dTrue-iNone_bn_128_sgd_l0.0001_g0.0_sTrue\n"
     ]
    },
    {
     "name": "stderr",
     "output_type": "stream",
     "text": [
      "100%|██████████| 20/20 [00:00<00:00, 38.03it/s]\n",
      " 84%|████████▍ | 210/250 [02:09<00:24,  1.62it/s]"
     ]
    },
    {
     "name": "stdout",
     "output_type": "stream",
     "text": [
      "/bigdata/f_mnist/logs/garipov/decomposed/1647972540/gar-lr-[4]-cp-0.5-dTrue-iNone_bn_128_sgd_l0.0001_g0.0_sTrue\n"
     ]
    },
    {
     "name": "stderr",
     "output_type": "stream",
     "text": [
      "100%|██████████| 20/20 [00:00<00:00, 36.25it/s]\n",
      " 84%|████████▍ | 211/250 [02:10<00:23,  1.64it/s]"
     ]
    },
    {
     "name": "stdout",
     "output_type": "stream",
     "text": [
      "/bigdata/f_mnist/logs/garipov/decomposed/1647966113/gar-lr-[10]-tucker-0.5-dTrue-iNone_bn_128_sgd_l0.0001_g0.0_sTrue\n"
     ]
    },
    {
     "name": "stderr",
     "output_type": "stream",
     "text": [
      "100%|██████████| 20/20 [00:00<00:00, 37.52it/s]\n",
      " 85%|████████▍ | 212/250 [02:10<00:23,  1.65it/s]"
     ]
    },
    {
     "name": "stdout",
     "output_type": "stream",
     "text": [
      "/bigdata/f_mnist/logs/garipov/decomposed/1647984542/gar-lr-[10]-tucker-0.1-dTrue-iNone_bn_128_sgd_l0.0001_g0.0_sTrue\n"
     ]
    },
    {
     "name": "stderr",
     "output_type": "stream",
     "text": [
      "100%|██████████| 20/20 [00:00<00:00, 37.15it/s]\n",
      " 85%|████████▌ | 213/250 [02:11<00:22,  1.67it/s]"
     ]
    },
    {
     "name": "stdout",
     "output_type": "stream",
     "text": [
      "/bigdata/f_mnist/logs/garipov/decomposed/1647978693/gar-lr-[6]-tucker-0.9-dTrue-iNone_bn_128_sgd_l0.0001_g0.0_sTrue\n"
     ]
    },
    {
     "name": "stderr",
     "output_type": "stream",
     "text": [
      "100%|██████████| 20/20 [00:00<00:00, 36.17it/s]\n",
      " 86%|████████▌ | 214/250 [02:12<00:21,  1.65it/s]"
     ]
    },
    {
     "name": "stdout",
     "output_type": "stream",
     "text": [
      "/bigdata/f_mnist/logs/garipov/decomposed/1647976614/gar-lr-[2]-tucker-0.75-dTrue-iNone_bn_128_sgd_l0.0001_g0.0_sTrue\n"
     ]
    },
    {
     "name": "stderr",
     "output_type": "stream",
     "text": [
      "100%|██████████| 20/20 [00:00<00:00, 36.53it/s]\n",
      " 86%|████████▌ | 215/250 [02:12<00:21,  1.65it/s]"
     ]
    },
    {
     "name": "stdout",
     "output_type": "stream",
     "text": [
      "/bigdata/f_mnist/logs/garipov/decomposed/1647971708/gar-lr-[2]-tucker-0.5-dTrue-iNone_bn_128_sgd_l0.0001_g0.0_sTrue\n"
     ]
    },
    {
     "name": "stderr",
     "output_type": "stream",
     "text": [
      "100%|██████████| 20/20 [00:00<00:00, 36.95it/s]\n",
      " 86%|████████▋ | 216/250 [02:13<00:20,  1.66it/s]"
     ]
    },
    {
     "name": "stdout",
     "output_type": "stream",
     "text": [
      "/bigdata/f_mnist/logs/garipov/decomposed/1647964748/gar-lr-[8]-cp-0.1-dTrue-iNone_bn_128_sgd_l0.0001_g0.0_sTrue\n"
     ]
    },
    {
     "name": "stderr",
     "output_type": "stream",
     "text": [
      "100%|██████████| 20/20 [00:00<00:00, 37.77it/s]\n",
      " 87%|████████▋ | 217/250 [02:13<00:19,  1.69it/s]"
     ]
    },
    {
     "name": "stdout",
     "output_type": "stream",
     "text": [
      "/bigdata/f_mnist/logs/garipov/decomposed/1647967373/gar-lr-[2]-tucker-0.9-dTrue-iNone_bn_128_sgd_l0.0001_g0.0_sTrue\n"
     ]
    },
    {
     "name": "stderr",
     "output_type": "stream",
     "text": [
      "100%|██████████| 20/20 [00:00<00:00, 37.76it/s]\n",
      " 87%|████████▋ | 218/250 [02:14<00:18,  1.69it/s]"
     ]
    },
    {
     "name": "stdout",
     "output_type": "stream",
     "text": [
      "/bigdata/f_mnist/logs/garipov/decomposed/1647978298/gar-lr-[6]-tucker-0.5-dTrue-iNone_bn_128_sgd_l0.0001_g0.0_sTrue\n"
     ]
    },
    {
     "name": "stderr",
     "output_type": "stream",
     "text": [
      "100%|██████████| 20/20 [00:00<00:00, 36.84it/s]\n",
      " 88%|████████▊ | 219/250 [02:15<00:18,  1.69it/s]"
     ]
    },
    {
     "name": "stdout",
     "output_type": "stream",
     "text": [
      "/bigdata/f_mnist/logs/garipov/decomposed/1647968202/gar-lr-[4]-cp-0.9-dTrue-iNone_bn_128_sgd_l0.0001_g0.0_sTrue\n"
     ]
    },
    {
     "name": "stderr",
     "output_type": "stream",
     "text": [
      "100%|██████████| 20/20 [00:00<00:00, 35.09it/s]\n",
      " 88%|████████▊ | 220/250 [02:15<00:18,  1.65it/s]"
     ]
    },
    {
     "name": "stdout",
     "output_type": "stream",
     "text": [
      "/bigdata/f_mnist/logs/garipov/decomposed/1647963464/gar-lr-[4]-cp-0.75-dTrue-iNone_bn_128_sgd_l0.0001_g0.0_sTrue\n"
     ]
    },
    {
     "name": "stderr",
     "output_type": "stream",
     "text": [
      "100%|██████████| 20/20 [00:00<00:00, 35.01it/s]\n",
      " 88%|████████▊ | 221/250 [02:16<00:17,  1.62it/s]"
     ]
    },
    {
     "name": "stdout",
     "output_type": "stream",
     "text": [
      "/bigdata/f_mnist/logs/garipov/decomposed/1647977545/gar-lr-[4]-tucker-0.75-dTrue-iNone_bn_128_sgd_l0.0001_g0.0_sTrue\n"
     ]
    },
    {
     "name": "stderr",
     "output_type": "stream",
     "text": [
      "100%|██████████| 20/20 [00:00<00:00, 34.13it/s]\n",
      " 89%|████████▉ | 222/250 [02:17<00:17,  1.59it/s]"
     ]
    },
    {
     "name": "stdout",
     "output_type": "stream",
     "text": [
      "/bigdata/f_mnist/logs/garipov/decomposed/1647967011/gar-lr-[2]-tucker-0.5-dTrue-iNone_bn_128_sgd_l0.0001_g0.0_sTrue\n"
     ]
    },
    {
     "name": "stderr",
     "output_type": "stream",
     "text": [
      "100%|██████████| 20/20 [00:00<00:00, 38.21it/s]\n",
      " 89%|████████▉ | 223/250 [02:17<00:16,  1.61it/s]"
     ]
    },
    {
     "name": "stdout",
     "output_type": "stream",
     "text": [
      "/bigdata/f_mnist/logs/garipov/decomposed/1647982727/gar-lr-[6]-cp-0.25-dTrue-iNone_bn_128_sgd_l0.0001_g0.0_sTrue\n"
     ]
    },
    {
     "name": "stderr",
     "output_type": "stream",
     "text": [
      "100%|██████████| 20/20 [00:00<00:00, 36.61it/s]\n",
      " 90%|████████▉ | 224/250 [02:18<00:16,  1.62it/s]"
     ]
    },
    {
     "name": "stdout",
     "output_type": "stream",
     "text": [
      "/bigdata/f_mnist/logs/garipov/decomposed/1647978782/gar-lr-[8]-cp-0.1-dTrue-iNone_bn_128_sgd_l0.0001_g0.0_sTrue\n"
     ]
    },
    {
     "name": "stderr",
     "output_type": "stream",
     "text": [
      "100%|██████████| 20/20 [00:00<00:00, 37.46it/s]\n",
      " 90%|█████████ | 225/250 [02:18<00:15,  1.57it/s]"
     ]
    },
    {
     "name": "stdout",
     "output_type": "stream",
     "text": [
      "/bigdata/f_mnist/logs/garipov/decomposed/1647968305/gar-lr-[4]-tucker-0.9-dTrue-iNone_bn_128_sgd_l0.0001_g0.0_sTrue\n"
     ]
    },
    {
     "name": "stderr",
     "output_type": "stream",
     "text": [
      "100%|██████████| 20/20 [00:00<00:00, 38.11it/s]\n",
      " 90%|█████████ | 226/250 [02:19<00:15,  1.60it/s]"
     ]
    },
    {
     "name": "stdout",
     "output_type": "stream",
     "text": [
      "/bigdata/f_mnist/logs/garipov/decomposed/1647976984/gar-lr-[4]-tucker-0.1-dTrue-iNone_bn_128_sgd_l0.0001_g0.0_sTrue\n"
     ]
    },
    {
     "name": "stderr",
     "output_type": "stream",
     "text": [
      "100%|██████████| 20/20 [00:00<00:00, 34.34it/s]\n",
      " 91%|█████████ | 227/250 [02:20<00:14,  1.60it/s]"
     ]
    },
    {
     "name": "stdout",
     "output_type": "stream",
     "text": [
      "/bigdata/f_mnist/logs/garipov/decomposed/1647965928/gar-lr-[10]-tucker-0.25-dTrue-iNone_bn_128_sgd_l0.0001_g0.0_sTrue\n"
     ]
    },
    {
     "name": "stderr",
     "output_type": "stream",
     "text": [
      "100%|██████████| 20/20 [00:00<00:00, 36.54it/s]\n",
      " 91%|█████████ | 228/250 [02:20<00:13,  1.61it/s]"
     ]
    },
    {
     "name": "stdout",
     "output_type": "stream",
     "text": [
      "/bigdata/f_mnist/logs/garipov/decomposed/1647980779/gar-lr-[2]-tucker-0.1-dTrue-iNone_bn_128_sgd_l0.0001_g0.0_sTrue\n"
     ]
    },
    {
     "name": "stderr",
     "output_type": "stream",
     "text": [
      "100%|██████████| 20/20 [00:00<00:00, 36.18it/s]\n",
      " 92%|█████████▏| 229/250 [02:21<00:12,  1.63it/s]"
     ]
    },
    {
     "name": "stdout",
     "output_type": "stream",
     "text": [
      "/bigdata/f_mnist/logs/garipov/decomposed/1647967921/gar-lr-[4]-tucker-0.5-dTrue-iNone_bn_128_sgd_l0.0001_g0.0_sTrue\n"
     ]
    },
    {
     "name": "stderr",
     "output_type": "stream",
     "text": [
      "100%|██████████| 20/20 [00:00<00:00, 35.24it/s]\n",
      " 92%|█████████▏| 230/250 [02:22<00:12,  1.61it/s]"
     ]
    },
    {
     "name": "stdout",
     "output_type": "stream",
     "text": [
      "/bigdata/f_mnist/logs/garipov/decomposed/1647970010/gar-lr-[8]-tucker-0.75-dTrue-iNone_bn_128_sgd_l0.0001_g0.0_sTrue\n"
     ]
    },
    {
     "name": "stderr",
     "output_type": "stream",
     "text": [
      "100%|██████████| 20/20 [00:00<00:00, 36.18it/s]\n",
      " 92%|█████████▏| 231/250 [02:22<00:11,  1.61it/s]"
     ]
    },
    {
     "name": "stdout",
     "output_type": "stream",
     "text": [
      "/bigdata/f_mnist/logs/garipov/decomposed/1647965575/gar-lr-[8]-tucker-0.9-dTrue-iNone_bn_128_sgd_l0.0001_g0.0_sTrue\n"
     ]
    },
    {
     "name": "stderr",
     "output_type": "stream",
     "text": [
      "100%|██████████| 20/20 [00:00<00:00, 35.91it/s]\n",
      " 93%|█████████▎| 232/250 [02:23<00:11,  1.61it/s]"
     ]
    },
    {
     "name": "stdout",
     "output_type": "stream",
     "text": [
      "/bigdata/f_mnist/logs/garipov/decomposed/1647971524/gar-lr-[2]-tucker-0.25-dTrue-iNone_bn_128_sgd_l0.0001_g0.0_sTrue\n"
     ]
    },
    {
     "name": "stderr",
     "output_type": "stream",
     "text": [
      "100%|██████████| 20/20 [00:00<00:00, 37.67it/s]\n",
      " 93%|█████████▎| 233/250 [02:23<00:10,  1.64it/s]"
     ]
    },
    {
     "name": "stdout",
     "output_type": "stream",
     "text": [
      "/bigdata/f_mnist/logs/garipov/decomposed/1647965383/gar-lr-[8]-tucker-0.75-dTrue-iNone_bn_128_sgd_l0.0001_g0.0_sTrue\n"
     ]
    },
    {
     "name": "stderr",
     "output_type": "stream",
     "text": [
      "100%|██████████| 20/20 [00:00<00:00, 34.93it/s]\n",
      " 94%|█████████▎| 234/250 [02:24<00:10,  1.56it/s]"
     ]
    },
    {
     "name": "stdout",
     "output_type": "stream",
     "text": [
      "/bigdata/f_mnist/logs/garipov/decomposed/1647979446/gar-lr-[8]-tucker-0.75-dTrue-iNone_bn_128_sgd_l0.0001_g0.0_sTrue\n"
     ]
    },
    {
     "name": "stderr",
     "output_type": "stream",
     "text": [
      "100%|██████████| 20/20 [00:00<00:00, 35.40it/s]\n",
      " 94%|█████████▍| 235/250 [02:25<00:09,  1.57it/s]"
     ]
    },
    {
     "name": "stdout",
     "output_type": "stream",
     "text": [
      "/bigdata/f_mnist/logs/garipov/decomposed/1647967462/gar-lr-[4]-cp-0.1-dTrue-iNone_bn_128_sgd_l0.0001_g0.0_sTrue\n"
     ]
    },
    {
     "name": "stderr",
     "output_type": "stream",
     "text": [
      "100%|██████████| 20/20 [00:00<00:00, 37.74it/s]\n",
      " 94%|█████████▍| 236/250 [02:25<00:08,  1.62it/s]"
     ]
    },
    {
     "name": "stdout",
     "output_type": "stream",
     "text": [
      "/bigdata/f_mnist/logs/garipov/decomposed/1647981791/gar-lr-[4]-cp-0.25-dTrue-iNone_bn_128_sgd_l0.0001_g0.0_sTrue\n"
     ]
    },
    {
     "name": "stderr",
     "output_type": "stream",
     "text": [
      "100%|██████████| 20/20 [00:00<00:00, 35.78it/s]\n",
      " 95%|█████████▍| 237/250 [02:26<00:08,  1.61it/s]"
     ]
    },
    {
     "name": "stdout",
     "output_type": "stream",
     "text": [
      "/bigdata/f_mnist/logs/garipov/decomposed/1647974432/gar-lr-[8]-cp-0.5-dTrue-iNone_bn_128_sgd_l0.0001_g0.0_sTrue\n"
     ]
    },
    {
     "name": "stderr",
     "output_type": "stream",
     "text": [
      "100%|██████████| 20/20 [00:00<00:00, 36.35it/s]\n",
      " 95%|█████████▌| 238/250 [02:27<00:07,  1.61it/s]"
     ]
    },
    {
     "name": "stdout",
     "output_type": "stream",
     "text": [
      "/bigdata/f_mnist/logs/garipov/decomposed/1647976241/gar-lr-[2]-tucker-0.25-dTrue-iNone_bn_128_sgd_l0.0001_g0.0_sTrue\n"
     ]
    },
    {
     "name": "stderr",
     "output_type": "stream",
     "text": [
      "100%|██████████| 20/20 [00:00<00:00, 35.61it/s]\n",
      " 96%|█████████▌| 239/250 [02:27<00:06,  1.60it/s]"
     ]
    },
    {
     "name": "stdout",
     "output_type": "stream",
     "text": [
      "/bigdata/f_mnist/logs/garipov/decomposed/1647963378/gar-lr-[4]-tucker-0.5-dTrue-iNone_bn_128_sgd_l0.0001_g0.0_sTrue\n"
     ]
    },
    {
     "name": "stderr",
     "output_type": "stream",
     "text": [
      "100%|██████████| 20/20 [00:00<00:00, 37.05it/s]\n",
      " 96%|█████████▌| 240/250 [02:28<00:06,  1.58it/s]"
     ]
    },
    {
     "name": "stdout",
     "output_type": "stream",
     "text": [
      "/bigdata/f_mnist/logs/garipov/decomposed/1647975680/gar-lr-[10]-tucker-0.75-dTrue-iNone_bn_128_sgd_l0.0001_g0.0_sTrue\n"
     ]
    },
    {
     "name": "stderr",
     "output_type": "stream",
     "text": [
      "100%|██████████| 20/20 [00:00<00:00, 36.53it/s]\n",
      " 96%|█████████▋| 241/250 [02:28<00:05,  1.57it/s]"
     ]
    },
    {
     "name": "stdout",
     "output_type": "stream",
     "text": [
      "/bigdata/f_mnist/logs/garipov/decomposed/1647963921/gar-lr-[6]-tucker-0.1-dTrue-iNone_bn_128_sgd_l0.0001_g0.0_sTrue\n"
     ]
    },
    {
     "name": "stderr",
     "output_type": "stream",
     "text": [
      "100%|██████████| 20/20 [00:00<00:00, 35.26it/s]\n",
      " 97%|█████████▋| 242/250 [02:29<00:05,  1.55it/s]"
     ]
    },
    {
     "name": "stdout",
     "output_type": "stream",
     "text": [
      "/bigdata/f_mnist/logs/garipov/decomposed/1647963284/gar-lr-[4]-cp-0.5-dTrue-iNone_bn_128_sgd_l0.0001_g0.0_sTrue\n"
     ]
    },
    {
     "name": "stderr",
     "output_type": "stream",
     "text": [
      "100%|██████████| 20/20 [00:00<00:00, 39.92it/s]\n",
      " 97%|█████████▋| 243/250 [02:30<00:04,  1.60it/s]"
     ]
    },
    {
     "name": "stdout",
     "output_type": "stream",
     "text": [
      "/bigdata/f_mnist/logs/garipov/decomposed/1647974065/gar-lr-[8]-cp-0.1-dTrue-iNone_bn_128_sgd_l0.0001_g0.0_sTrue\n"
     ]
    },
    {
     "name": "stderr",
     "output_type": "stream",
     "text": [
      "100%|██████████| 20/20 [00:00<00:00, 37.13it/s]\n",
      " 98%|█████████▊| 244/250 [02:30<00:03,  1.60it/s]"
     ]
    },
    {
     "name": "stdout",
     "output_type": "stream",
     "text": [
      "/bigdata/f_mnist/logs/garipov/decomposed/1647979150/gar-lr-[8]-cp-0.5-dTrue-iNone_bn_128_sgd_l0.0001_g0.0_sTrue\n"
     ]
    },
    {
     "name": "stderr",
     "output_type": "stream",
     "text": [
      "100%|██████████| 20/20 [00:00<00:00, 36.01it/s]\n",
      " 98%|█████████▊| 245/250 [02:31<00:03,  1.61it/s]"
     ]
    },
    {
     "name": "stdout",
     "output_type": "stream",
     "text": [
      "/bigdata/f_mnist/logs/garipov/decomposed/1647966663/gar-lr-[2]-tucker-0.1-dTrue-iNone_bn_128_sgd_l0.0001_g0.0_sTrue\n"
     ]
    },
    {
     "name": "stderr",
     "output_type": "stream",
     "text": [
      "100%|██████████| 20/20 [00:00<00:00, 34.88it/s]\n",
      " 98%|█████████▊| 246/250 [02:32<00:02,  1.58it/s]"
     ]
    },
    {
     "name": "stdout",
     "output_type": "stream",
     "text": [
      "/bigdata/f_mnist/logs/garipov/decomposed/1647966921/gar-lr-[2]-cp-0.5-dTrue-iNone_bn_128_sgd_l0.0001_g0.0_sTrue\n"
     ]
    },
    {
     "name": "stderr",
     "output_type": "stream",
     "text": [
      "100%|██████████| 20/20 [00:00<00:00, 36.67it/s]\n",
      " 99%|█████████▉| 247/250 [02:32<00:01,  1.60it/s]"
     ]
    },
    {
     "name": "stdout",
     "output_type": "stream",
     "text": [
      "/bigdata/f_mnist/logs/garipov/decomposed/1647962309/gar-lr-[2]-tucker-0.25-dTrue-iNone_bn_128_sgd_l0.0001_g0.0_sTrue\n"
     ]
    },
    {
     "name": "stderr",
     "output_type": "stream",
     "text": [
      "100%|██████████| 20/20 [00:00<00:00, 35.86it/s]\n",
      " 99%|█████████▉| 248/250 [02:33<00:01,  1.60it/s]"
     ]
    },
    {
     "name": "stdout",
     "output_type": "stream",
     "text": [
      "/bigdata/f_mnist/logs/garipov/decomposed/1647978009/gar-lr-[6]-cp-0.25-dTrue-iNone_bn_128_sgd_l0.0001_g0.0_sTrue\n"
     ]
    },
    {
     "name": "stderr",
     "output_type": "stream",
     "text": [
      "100%|██████████| 20/20 [00:00<00:00, 36.58it/s]\n",
      "100%|█████████▉| 249/250 [02:33<00:00,  1.58it/s]"
     ]
    },
    {
     "name": "stdout",
     "output_type": "stream",
     "text": [
      "/bigdata/f_mnist/logs/garipov/decomposed/1647978964/gar-lr-[8]-cp-0.25-dTrue-iNone_bn_128_sgd_l0.0001_g0.0_sTrue\n"
     ]
    },
    {
     "name": "stderr",
     "output_type": "stream",
     "text": [
      "100%|██████████| 20/20 [00:00<00:00, 34.13it/s]\n",
      "100%|██████████| 250/250 [02:34<00:00,  1.62it/s]\n"
     ]
    }
   ],
   "source": [
    "logdir = Path(\"/bigdata/f_mnist/logs/garipov/decomposed\")\n",
    "folders = os.listdir(logdir)\n",
    "paths = logdir_to_paths(logdir)\n",
    "\n",
    "print(len(paths))\n",
    "\n",
    "dataset = 'fmnist'\n",
    "data_dir = \"/bigdata/f_mnist\"\n",
    "\n",
    "add_test_before_ft(paths, dataset, data_dir)"
   ]
  },
  {
   "cell_type": "code",
   "execution_count": null,
   "metadata": {},
   "outputs": [],
   "source": []
  }
 ],
 "metadata": {
  "kernelspec": {
   "display_name": "Python 3.8.10 ('venv': venv)",
   "language": "python",
   "name": "python3"
  },
  "language_info": {
   "codemirror_mode": {
    "name": "ipython",
    "version": 3
   },
   "file_extension": ".py",
   "mimetype": "text/x-python",
   "name": "python",
   "nbconvert_exporter": "python",
   "pygments_lexer": "ipython3",
   "version": "3.8.10"
  },
  "orig_nbformat": 4,
  "vscode": {
   "interpreter": {
    "hash": "56ddcafc5f4a65ffc1eba06f4696d06fbf43c848b7a2cf81f3fe8a9e81fc5ea1"
   }
  }
 },
 "nbformat": 4,
 "nbformat_minor": 2
}
